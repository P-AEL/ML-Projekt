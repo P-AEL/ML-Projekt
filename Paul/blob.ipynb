{
 "cells": [
  {
   "cell_type": "code",
   "execution_count": 79,
   "metadata": {},
   "outputs": [],
   "source": [
    "import pandas as pd\n",
    "import numpy as np\n",
    "import plotly.express as px \n",
    "import datetime"
   ]
  },
  {
   "cell_type": "code",
   "execution_count": 80,
   "metadata": {},
   "outputs": [],
   "source": [
    "df = pd.read_csv(\"retouren.csv\")"
   ]
  },
  {
   "cell_type": "code",
   "execution_count": 83,
   "metadata": {},
   "outputs": [
    {
     "data": {
      "text/html": [
       "<div>\n",
       "<style scoped>\n",
       "    .dataframe tbody tr th:only-of-type {\n",
       "        vertical-align: middle;\n",
       "    }\n",
       "\n",
       "    .dataframe tbody tr th {\n",
       "        vertical-align: top;\n",
       "    }\n",
       "\n",
       "    .dataframe thead th {\n",
       "        text-align: right;\n",
       "    }\n",
       "</style>\n",
       "<table border=\"1\" class=\"dataframe\">\n",
       "  <thead>\n",
       "    <tr style=\"text-align: right;\">\n",
       "      <th></th>\n",
       "      <th>order_item_id</th>\n",
       "      <th>order_date</th>\n",
       "      <th>delivery_date</th>\n",
       "      <th>item_id</th>\n",
       "      <th>item_size</th>\n",
       "      <th>item_color</th>\n",
       "      <th>brand_id</th>\n",
       "      <th>item_price</th>\n",
       "      <th>user_id</th>\n",
       "      <th>user_title</th>\n",
       "      <th>user_dob</th>\n",
       "      <th>user_state</th>\n",
       "      <th>user_reg_date</th>\n",
       "      <th>return</th>\n",
       "      <th>age</th>\n",
       "    </tr>\n",
       "  </thead>\n",
       "  <tbody>\n",
       "    <tr>\n",
       "      <th>0</th>\n",
       "      <td>1</td>\n",
       "      <td>2016-06-22</td>\n",
       "      <td>2016-06-27</td>\n",
       "      <td>643</td>\n",
       "      <td>38</td>\n",
       "      <td>navy</td>\n",
       "      <td>30</td>\n",
       "      <td>49.90</td>\n",
       "      <td>30822</td>\n",
       "      <td>Mrs</td>\n",
       "      <td>1969-04-17</td>\n",
       "      <td>Saxony</td>\n",
       "      <td>2016-06-23</td>\n",
       "      <td>0</td>\n",
       "      <td>47.0</td>\n",
       "    </tr>\n",
       "    <tr>\n",
       "      <th>1</th>\n",
       "      <td>2</td>\n",
       "      <td>2016-06-22</td>\n",
       "      <td>NaT</td>\n",
       "      <td>337</td>\n",
       "      <td>152</td>\n",
       "      <td>grey</td>\n",
       "      <td>30</td>\n",
       "      <td>19.95</td>\n",
       "      <td>30822</td>\n",
       "      <td>Mrs</td>\n",
       "      <td>1969-04-17</td>\n",
       "      <td>Saxony</td>\n",
       "      <td>2016-06-23</td>\n",
       "      <td>0</td>\n",
       "      <td>47.0</td>\n",
       "    </tr>\n",
       "    <tr>\n",
       "      <th>2</th>\n",
       "      <td>3</td>\n",
       "      <td>2016-06-22</td>\n",
       "      <td>2016-06-27</td>\n",
       "      <td>270</td>\n",
       "      <td>xxl</td>\n",
       "      <td>grey</td>\n",
       "      <td>49</td>\n",
       "      <td>79.90</td>\n",
       "      <td>30823</td>\n",
       "      <td>Mrs</td>\n",
       "      <td>1970-04-22</td>\n",
       "      <td>Baden-Wuerttemberg</td>\n",
       "      <td>2015-03-15</td>\n",
       "      <td>1</td>\n",
       "      <td>46.0</td>\n",
       "    </tr>\n",
       "    <tr>\n",
       "      <th>3</th>\n",
       "      <td>4</td>\n",
       "      <td>2016-06-22</td>\n",
       "      <td>2016-06-27</td>\n",
       "      <td>142</td>\n",
       "      <td>xxl</td>\n",
       "      <td>grey</td>\n",
       "      <td>49</td>\n",
       "      <td>99.90</td>\n",
       "      <td>30823</td>\n",
       "      <td>Mrs</td>\n",
       "      <td>1970-04-22</td>\n",
       "      <td>Baden-Wuerttemberg</td>\n",
       "      <td>2015-03-15</td>\n",
       "      <td>0</td>\n",
       "      <td>46.0</td>\n",
       "    </tr>\n",
       "    <tr>\n",
       "      <th>4</th>\n",
       "      <td>5</td>\n",
       "      <td>2016-06-22</td>\n",
       "      <td>2016-06-27</td>\n",
       "      <td>561</td>\n",
       "      <td>xxl</td>\n",
       "      <td>grey</td>\n",
       "      <td>3</td>\n",
       "      <td>14.90</td>\n",
       "      <td>30823</td>\n",
       "      <td>Mrs</td>\n",
       "      <td>1970-04-22</td>\n",
       "      <td>Baden-Wuerttemberg</td>\n",
       "      <td>2015-03-15</td>\n",
       "      <td>1</td>\n",
       "      <td>46.0</td>\n",
       "    </tr>\n",
       "    <tr>\n",
       "      <th>...</th>\n",
       "      <td>...</td>\n",
       "      <td>...</td>\n",
       "      <td>...</td>\n",
       "      <td>...</td>\n",
       "      <td>...</td>\n",
       "      <td>...</td>\n",
       "      <td>...</td>\n",
       "      <td>...</td>\n",
       "      <td>...</td>\n",
       "      <td>...</td>\n",
       "      <td>...</td>\n",
       "      <td>...</td>\n",
       "      <td>...</td>\n",
       "      <td>...</td>\n",
       "      <td>...</td>\n",
       "    </tr>\n",
       "    <tr>\n",
       "      <th>75002</th>\n",
       "      <td>75003</td>\n",
       "      <td>2016-08-20</td>\n",
       "      <td>2016-08-21</td>\n",
       "      <td>1447</td>\n",
       "      <td>39</td>\n",
       "      <td>brown</td>\n",
       "      <td>27</td>\n",
       "      <td>6.95</td>\n",
       "      <td>43801</td>\n",
       "      <td>Mrs</td>\n",
       "      <td>1961-11-25</td>\n",
       "      <td>Mecklenburg-Western Pomerania</td>\n",
       "      <td>2016-08-21</td>\n",
       "      <td>0</td>\n",
       "      <td>55.0</td>\n",
       "    </tr>\n",
       "    <tr>\n",
       "      <th>75003</th>\n",
       "      <td>75004</td>\n",
       "      <td>2016-08-20</td>\n",
       "      <td>2016-08-21</td>\n",
       "      <td>2155</td>\n",
       "      <td>39</td>\n",
       "      <td>white</td>\n",
       "      <td>27</td>\n",
       "      <td>14.95</td>\n",
       "      <td>43801</td>\n",
       "      <td>Mrs</td>\n",
       "      <td>1961-11-25</td>\n",
       "      <td>Mecklenburg-Western Pomerania</td>\n",
       "      <td>2016-08-21</td>\n",
       "      <td>1</td>\n",
       "      <td>55.0</td>\n",
       "    </tr>\n",
       "    <tr>\n",
       "      <th>75004</th>\n",
       "      <td>75005</td>\n",
       "      <td>2016-08-20</td>\n",
       "      <td>2016-08-23</td>\n",
       "      <td>1473</td>\n",
       "      <td>44</td>\n",
       "      <td>black</td>\n",
       "      <td>7</td>\n",
       "      <td>19.90</td>\n",
       "      <td>43801</td>\n",
       "      <td>Mrs</td>\n",
       "      <td>1961-11-25</td>\n",
       "      <td>Mecklenburg-Western Pomerania</td>\n",
       "      <td>2016-08-21</td>\n",
       "      <td>1</td>\n",
       "      <td>55.0</td>\n",
       "    </tr>\n",
       "    <tr>\n",
       "      <th>75005</th>\n",
       "      <td>75006</td>\n",
       "      <td>2016-08-20</td>\n",
       "      <td>2016-09-07</td>\n",
       "      <td>1784</td>\n",
       "      <td>unsized</td>\n",
       "      <td>olive</td>\n",
       "      <td>41</td>\n",
       "      <td>19.90</td>\n",
       "      <td>43801</td>\n",
       "      <td>Mrs</td>\n",
       "      <td>1961-11-25</td>\n",
       "      <td>Mecklenburg-Western Pomerania</td>\n",
       "      <td>2016-08-21</td>\n",
       "      <td>0</td>\n",
       "      <td>55.0</td>\n",
       "    </tr>\n",
       "    <tr>\n",
       "      <th>75006</th>\n",
       "      <td>75007</td>\n",
       "      <td>2016-08-20</td>\n",
       "      <td>2016-09-07</td>\n",
       "      <td>1427</td>\n",
       "      <td>39</td>\n",
       "      <td>black</td>\n",
       "      <td>27</td>\n",
       "      <td>14.95</td>\n",
       "      <td>43801</td>\n",
       "      <td>Mrs</td>\n",
       "      <td>1961-11-25</td>\n",
       "      <td>Mecklenburg-Western Pomerania</td>\n",
       "      <td>2016-08-21</td>\n",
       "      <td>0</td>\n",
       "      <td>55.0</td>\n",
       "    </tr>\n",
       "  </tbody>\n",
       "</table>\n",
       "<p>75007 rows × 15 columns</p>\n",
       "</div>"
      ],
      "text/plain": [
       "       order_item_id order_date delivery_date  item_id item_size item_color  \\\n",
       "0                  1 2016-06-22    2016-06-27      643        38       navy   \n",
       "1                  2 2016-06-22           NaT      337       152       grey   \n",
       "2                  3 2016-06-22    2016-06-27      270       xxl       grey   \n",
       "3                  4 2016-06-22    2016-06-27      142       xxl       grey   \n",
       "4                  5 2016-06-22    2016-06-27      561       xxl       grey   \n",
       "...              ...        ...           ...      ...       ...        ...   \n",
       "75002          75003 2016-08-20    2016-08-21     1447        39      brown   \n",
       "75003          75004 2016-08-20    2016-08-21     2155        39      white   \n",
       "75004          75005 2016-08-20    2016-08-23     1473        44      black   \n",
       "75005          75006 2016-08-20    2016-09-07     1784   unsized      olive   \n",
       "75006          75007 2016-08-20    2016-09-07     1427        39      black   \n",
       "\n",
       "       brand_id  item_price  user_id user_title   user_dob  \\\n",
       "0            30       49.90    30822        Mrs 1969-04-17   \n",
       "1            30       19.95    30822        Mrs 1969-04-17   \n",
       "2            49       79.90    30823        Mrs 1970-04-22   \n",
       "3            49       99.90    30823        Mrs 1970-04-22   \n",
       "4             3       14.90    30823        Mrs 1970-04-22   \n",
       "...         ...         ...      ...        ...        ...   \n",
       "75002        27        6.95    43801        Mrs 1961-11-25   \n",
       "75003        27       14.95    43801        Mrs 1961-11-25   \n",
       "75004         7       19.90    43801        Mrs 1961-11-25   \n",
       "75005        41       19.90    43801        Mrs 1961-11-25   \n",
       "75006        27       14.95    43801        Mrs 1961-11-25   \n",
       "\n",
       "                          user_state user_reg_date  return   age  \n",
       "0                             Saxony    2016-06-23       0  47.0  \n",
       "1                             Saxony    2016-06-23       0  47.0  \n",
       "2                 Baden-Wuerttemberg    2015-03-15       1  46.0  \n",
       "3                 Baden-Wuerttemberg    2015-03-15       0  46.0  \n",
       "4                 Baden-Wuerttemberg    2015-03-15       1  46.0  \n",
       "...                              ...           ...     ...   ...  \n",
       "75002  Mecklenburg-Western Pomerania    2016-08-21       0  55.0  \n",
       "75003  Mecklenburg-Western Pomerania    2016-08-21       1  55.0  \n",
       "75004  Mecklenburg-Western Pomerania    2016-08-21       1  55.0  \n",
       "75005  Mecklenburg-Western Pomerania    2016-08-21       0  55.0  \n",
       "75006  Mecklenburg-Western Pomerania    2016-08-21       0  55.0  \n",
       "\n",
       "[75007 rows x 15 columns]"
      ]
     },
     "execution_count": 83,
     "metadata": {},
     "output_type": "execute_result"
    }
   ],
   "source": [
    "df"
   ]
  },
  {
   "cell_type": "code",
   "execution_count": 115,
   "metadata": {},
   "outputs": [
    {
     "data": {
      "text/plain": [
       "order_item_id             int64\n",
       "order_date       datetime64[ns]\n",
       "delivery_date    datetime64[ns]\n",
       "item_id                   int64\n",
       "item_size                object\n",
       "item_color               object\n",
       "brand_id                  int64\n",
       "item_price              float64\n",
       "user_id                   int64\n",
       "user_title               object\n",
       "user_dob         datetime64[ns]\n",
       "user_state               object\n",
       "user_reg_date    datetime64[ns]\n",
       "return                    int64\n",
       "Age                     float64\n",
       "age                     float64\n",
       "dtype: object"
      ]
     },
     "execution_count": 115,
     "metadata": {},
     "output_type": "execute_result"
    }
   ],
   "source": [
    "df.dtypes"
   ]
  },
  {
   "cell_type": "markdown",
   "metadata": {},
   "source": [
    "Object to datetime"
   ]
  },
  {
   "cell_type": "code",
   "execution_count": 81,
   "metadata": {},
   "outputs": [],
   "source": [
    "df[\"user_dob\"] = pd.to_datetime(df.user_dob)\n",
    "df[\"user_reg_date\"] = pd.to_datetime(df.user_reg_date)\n",
    "df[\"order_date\"] = pd.to_datetime(df.order_date)\n",
    "df[\"delivery_date\"] = pd.to_datetime(df.delivery_date)"
   ]
  },
  {
   "cell_type": "markdown",
   "metadata": {},
   "source": [
    "Attribut age"
   ]
  },
  {
   "cell_type": "code",
   "execution_count": 82,
   "metadata": {},
   "outputs": [],
   "source": [
    "df [\"age\"] = df.order_date.dt.year - df.user_dob.dt.year -((df.order_date.dt.date)<(df.user_dob.dt.date))"
   ]
  },
  {
   "cell_type": "markdown",
   "metadata": {},
   "source": [
    "Problem age"
   ]
  },
  {
   "cell_type": "code",
   "execution_count": 73,
   "metadata": {},
   "outputs": [],
   "source": [
    "df_4 = df.groupby(\"age\")[[\"age\"]].count()"
   ]
  },
  {
   "cell_type": "code",
   "execution_count": 74,
   "metadata": {},
   "outputs": [
    {
     "data": {
      "text/html": [
       "<div>\n",
       "<style scoped>\n",
       "    .dataframe tbody tr th:only-of-type {\n",
       "        vertical-align: middle;\n",
       "    }\n",
       "\n",
       "    .dataframe tbody tr th {\n",
       "        vertical-align: top;\n",
       "    }\n",
       "\n",
       "    .dataframe thead th {\n",
       "        text-align: right;\n",
       "    }\n",
       "</style>\n",
       "<table border=\"1\" class=\"dataframe\">\n",
       "  <thead>\n",
       "    <tr style=\"text-align: right;\">\n",
       "      <th></th>\n",
       "      <th>age</th>\n",
       "    </tr>\n",
       "    <tr>\n",
       "      <th>age</th>\n",
       "      <th></th>\n",
       "    </tr>\n",
       "  </thead>\n",
       "  <tbody>\n",
       "    <tr>\n",
       "      <th>5.0</th>\n",
       "      <td>16</td>\n",
       "    </tr>\n",
       "    <tr>\n",
       "      <th>6.0</th>\n",
       "      <td>18</td>\n",
       "    </tr>\n",
       "    <tr>\n",
       "      <th>11.0</th>\n",
       "      <td>3</td>\n",
       "    </tr>\n",
       "    <tr>\n",
       "      <th>17.0</th>\n",
       "      <td>3</td>\n",
       "    </tr>\n",
       "    <tr>\n",
       "      <th>18.0</th>\n",
       "      <td>5</td>\n",
       "    </tr>\n",
       "    <tr>\n",
       "      <th>...</th>\n",
       "      <td>...</td>\n",
       "    </tr>\n",
       "    <tr>\n",
       "      <th>109.0</th>\n",
       "      <td>8</td>\n",
       "    </tr>\n",
       "    <tr>\n",
       "      <th>110.0</th>\n",
       "      <td>7</td>\n",
       "    </tr>\n",
       "    <tr>\n",
       "      <th>113.0</th>\n",
       "      <td>1</td>\n",
       "    </tr>\n",
       "    <tr>\n",
       "      <th>115.0</th>\n",
       "      <td>214</td>\n",
       "    </tr>\n",
       "    <tr>\n",
       "      <th>116.0</th>\n",
       "      <td>739</td>\n",
       "    </tr>\n",
       "  </tbody>\n",
       "</table>\n",
       "<p>77 rows × 1 columns</p>\n",
       "</div>"
      ],
      "text/plain": [
       "       age\n",
       "age       \n",
       "5.0     16\n",
       "6.0     18\n",
       "11.0     3\n",
       "17.0     3\n",
       "18.0     5\n",
       "...    ...\n",
       "109.0    8\n",
       "110.0    7\n",
       "113.0    1\n",
       "115.0  214\n",
       "116.0  739\n",
       "\n",
       "[77 rows x 1 columns]"
      ]
     },
     "execution_count": 74,
     "metadata": {},
     "output_type": "execute_result"
    }
   ],
   "source": [
    "df_4"
   ]
  },
  {
   "cell_type": "code",
   "execution_count": 21,
   "metadata": {},
   "outputs": [
    {
     "data": {
      "application/vnd.plotly.v1+json": {
       "config": {
        "plotlyServerURL": "https://plot.ly"
       },
       "data": [
        {
         "hovertemplate": "variable=age<br>index=%{x}<br>value=%{y}<extra></extra>",
         "legendgroup": "age",
         "marker": {
          "color": "#636efa",
          "symbol": "circle"
         },
         "mode": "markers",
         "name": "age",
         "orientation": "v",
         "showlegend": true,
         "type": "scatter",
         "x": [
          5,
          6,
          11,
          17,
          18,
          20,
          21,
          22,
          23,
          24,
          25,
          26,
          27,
          28,
          29,
          30,
          31,
          32,
          33,
          34,
          35,
          36,
          37,
          38,
          39,
          40,
          41,
          42,
          43,
          44,
          45,
          46,
          47,
          48,
          49,
          50,
          51,
          52,
          53,
          54,
          55,
          56,
          57,
          58,
          59,
          60,
          61,
          62,
          63,
          64,
          65,
          66,
          67,
          68,
          69,
          70,
          71,
          72,
          73,
          74,
          75,
          76,
          77,
          78,
          79,
          80,
          81,
          82,
          83,
          85,
          87,
          91,
          105,
          109,
          110,
          113,
          115,
          116
         ],
         "xaxis": "x",
         "y": [
          16,
          18,
          3,
          3,
          5,
          1,
          6,
          10,
          29,
          38,
          28,
          53,
          86,
          97,
          94,
          142,
          147,
          244,
          325,
          360,
          542,
          697,
          756,
          838,
          985,
          1097,
          1167,
          1395,
          1555,
          2276,
          2210,
          2705,
          2996,
          3152,
          3305,
          3422,
          3173,
          3217,
          3107,
          3300,
          3026,
          2646,
          2643,
          2158,
          2099,
          1760,
          1733,
          1415,
          1180,
          1120,
          813,
          783,
          902,
          354,
          347,
          182,
          181,
          132,
          137,
          65,
          49,
          54,
          86,
          57,
          30,
          16,
          14,
          20,
          25,
          9,
          1,
          19,
          7,
          8,
          7,
          1,
          215,
          739
         ],
         "yaxis": "y"
        }
       ],
       "layout": {
        "legend": {
         "title": {
          "text": "variable"
         },
         "tracegroupgap": 0
        },
        "margin": {
         "t": 60
        },
        "template": {
         "data": {
          "bar": [
           {
            "error_x": {
             "color": "#2a3f5f"
            },
            "error_y": {
             "color": "#2a3f5f"
            },
            "marker": {
             "line": {
              "color": "#E5ECF6",
              "width": 0.5
             },
             "pattern": {
              "fillmode": "overlay",
              "size": 10,
              "solidity": 0.2
             }
            },
            "type": "bar"
           }
          ],
          "barpolar": [
           {
            "marker": {
             "line": {
              "color": "#E5ECF6",
              "width": 0.5
             },
             "pattern": {
              "fillmode": "overlay",
              "size": 10,
              "solidity": 0.2
             }
            },
            "type": "barpolar"
           }
          ],
          "carpet": [
           {
            "aaxis": {
             "endlinecolor": "#2a3f5f",
             "gridcolor": "white",
             "linecolor": "white",
             "minorgridcolor": "white",
             "startlinecolor": "#2a3f5f"
            },
            "baxis": {
             "endlinecolor": "#2a3f5f",
             "gridcolor": "white",
             "linecolor": "white",
             "minorgridcolor": "white",
             "startlinecolor": "#2a3f5f"
            },
            "type": "carpet"
           }
          ],
          "choropleth": [
           {
            "colorbar": {
             "outlinewidth": 0,
             "ticks": ""
            },
            "type": "choropleth"
           }
          ],
          "contour": [
           {
            "colorbar": {
             "outlinewidth": 0,
             "ticks": ""
            },
            "colorscale": [
             [
              0,
              "#0d0887"
             ],
             [
              0.1111111111111111,
              "#46039f"
             ],
             [
              0.2222222222222222,
              "#7201a8"
             ],
             [
              0.3333333333333333,
              "#9c179e"
             ],
             [
              0.4444444444444444,
              "#bd3786"
             ],
             [
              0.5555555555555556,
              "#d8576b"
             ],
             [
              0.6666666666666666,
              "#ed7953"
             ],
             [
              0.7777777777777778,
              "#fb9f3a"
             ],
             [
              0.8888888888888888,
              "#fdca26"
             ],
             [
              1,
              "#f0f921"
             ]
            ],
            "type": "contour"
           }
          ],
          "contourcarpet": [
           {
            "colorbar": {
             "outlinewidth": 0,
             "ticks": ""
            },
            "type": "contourcarpet"
           }
          ],
          "heatmap": [
           {
            "colorbar": {
             "outlinewidth": 0,
             "ticks": ""
            },
            "colorscale": [
             [
              0,
              "#0d0887"
             ],
             [
              0.1111111111111111,
              "#46039f"
             ],
             [
              0.2222222222222222,
              "#7201a8"
             ],
             [
              0.3333333333333333,
              "#9c179e"
             ],
             [
              0.4444444444444444,
              "#bd3786"
             ],
             [
              0.5555555555555556,
              "#d8576b"
             ],
             [
              0.6666666666666666,
              "#ed7953"
             ],
             [
              0.7777777777777778,
              "#fb9f3a"
             ],
             [
              0.8888888888888888,
              "#fdca26"
             ],
             [
              1,
              "#f0f921"
             ]
            ],
            "type": "heatmap"
           }
          ],
          "heatmapgl": [
           {
            "colorbar": {
             "outlinewidth": 0,
             "ticks": ""
            },
            "colorscale": [
             [
              0,
              "#0d0887"
             ],
             [
              0.1111111111111111,
              "#46039f"
             ],
             [
              0.2222222222222222,
              "#7201a8"
             ],
             [
              0.3333333333333333,
              "#9c179e"
             ],
             [
              0.4444444444444444,
              "#bd3786"
             ],
             [
              0.5555555555555556,
              "#d8576b"
             ],
             [
              0.6666666666666666,
              "#ed7953"
             ],
             [
              0.7777777777777778,
              "#fb9f3a"
             ],
             [
              0.8888888888888888,
              "#fdca26"
             ],
             [
              1,
              "#f0f921"
             ]
            ],
            "type": "heatmapgl"
           }
          ],
          "histogram": [
           {
            "marker": {
             "pattern": {
              "fillmode": "overlay",
              "size": 10,
              "solidity": 0.2
             }
            },
            "type": "histogram"
           }
          ],
          "histogram2d": [
           {
            "colorbar": {
             "outlinewidth": 0,
             "ticks": ""
            },
            "colorscale": [
             [
              0,
              "#0d0887"
             ],
             [
              0.1111111111111111,
              "#46039f"
             ],
             [
              0.2222222222222222,
              "#7201a8"
             ],
             [
              0.3333333333333333,
              "#9c179e"
             ],
             [
              0.4444444444444444,
              "#bd3786"
             ],
             [
              0.5555555555555556,
              "#d8576b"
             ],
             [
              0.6666666666666666,
              "#ed7953"
             ],
             [
              0.7777777777777778,
              "#fb9f3a"
             ],
             [
              0.8888888888888888,
              "#fdca26"
             ],
             [
              1,
              "#f0f921"
             ]
            ],
            "type": "histogram2d"
           }
          ],
          "histogram2dcontour": [
           {
            "colorbar": {
             "outlinewidth": 0,
             "ticks": ""
            },
            "colorscale": [
             [
              0,
              "#0d0887"
             ],
             [
              0.1111111111111111,
              "#46039f"
             ],
             [
              0.2222222222222222,
              "#7201a8"
             ],
             [
              0.3333333333333333,
              "#9c179e"
             ],
             [
              0.4444444444444444,
              "#bd3786"
             ],
             [
              0.5555555555555556,
              "#d8576b"
             ],
             [
              0.6666666666666666,
              "#ed7953"
             ],
             [
              0.7777777777777778,
              "#fb9f3a"
             ],
             [
              0.8888888888888888,
              "#fdca26"
             ],
             [
              1,
              "#f0f921"
             ]
            ],
            "type": "histogram2dcontour"
           }
          ],
          "mesh3d": [
           {
            "colorbar": {
             "outlinewidth": 0,
             "ticks": ""
            },
            "type": "mesh3d"
           }
          ],
          "parcoords": [
           {
            "line": {
             "colorbar": {
              "outlinewidth": 0,
              "ticks": ""
             }
            },
            "type": "parcoords"
           }
          ],
          "pie": [
           {
            "automargin": true,
            "type": "pie"
           }
          ],
          "scatter": [
           {
            "fillpattern": {
             "fillmode": "overlay",
             "size": 10,
             "solidity": 0.2
            },
            "type": "scatter"
           }
          ],
          "scatter3d": [
           {
            "line": {
             "colorbar": {
              "outlinewidth": 0,
              "ticks": ""
             }
            },
            "marker": {
             "colorbar": {
              "outlinewidth": 0,
              "ticks": ""
             }
            },
            "type": "scatter3d"
           }
          ],
          "scattercarpet": [
           {
            "marker": {
             "colorbar": {
              "outlinewidth": 0,
              "ticks": ""
             }
            },
            "type": "scattercarpet"
           }
          ],
          "scattergeo": [
           {
            "marker": {
             "colorbar": {
              "outlinewidth": 0,
              "ticks": ""
             }
            },
            "type": "scattergeo"
           }
          ],
          "scattergl": [
           {
            "marker": {
             "colorbar": {
              "outlinewidth": 0,
              "ticks": ""
             }
            },
            "type": "scattergl"
           }
          ],
          "scattermapbox": [
           {
            "marker": {
             "colorbar": {
              "outlinewidth": 0,
              "ticks": ""
             }
            },
            "type": "scattermapbox"
           }
          ],
          "scatterpolar": [
           {
            "marker": {
             "colorbar": {
              "outlinewidth": 0,
              "ticks": ""
             }
            },
            "type": "scatterpolar"
           }
          ],
          "scatterpolargl": [
           {
            "marker": {
             "colorbar": {
              "outlinewidth": 0,
              "ticks": ""
             }
            },
            "type": "scatterpolargl"
           }
          ],
          "scatterternary": [
           {
            "marker": {
             "colorbar": {
              "outlinewidth": 0,
              "ticks": ""
             }
            },
            "type": "scatterternary"
           }
          ],
          "surface": [
           {
            "colorbar": {
             "outlinewidth": 0,
             "ticks": ""
            },
            "colorscale": [
             [
              0,
              "#0d0887"
             ],
             [
              0.1111111111111111,
              "#46039f"
             ],
             [
              0.2222222222222222,
              "#7201a8"
             ],
             [
              0.3333333333333333,
              "#9c179e"
             ],
             [
              0.4444444444444444,
              "#bd3786"
             ],
             [
              0.5555555555555556,
              "#d8576b"
             ],
             [
              0.6666666666666666,
              "#ed7953"
             ],
             [
              0.7777777777777778,
              "#fb9f3a"
             ],
             [
              0.8888888888888888,
              "#fdca26"
             ],
             [
              1,
              "#f0f921"
             ]
            ],
            "type": "surface"
           }
          ],
          "table": [
           {
            "cells": {
             "fill": {
              "color": "#EBF0F8"
             },
             "line": {
              "color": "white"
             }
            },
            "header": {
             "fill": {
              "color": "#C8D4E3"
             },
             "line": {
              "color": "white"
             }
            },
            "type": "table"
           }
          ]
         },
         "layout": {
          "annotationdefaults": {
           "arrowcolor": "#2a3f5f",
           "arrowhead": 0,
           "arrowwidth": 1
          },
          "autotypenumbers": "strict",
          "coloraxis": {
           "colorbar": {
            "outlinewidth": 0,
            "ticks": ""
           }
          },
          "colorscale": {
           "diverging": [
            [
             0,
             "#8e0152"
            ],
            [
             0.1,
             "#c51b7d"
            ],
            [
             0.2,
             "#de77ae"
            ],
            [
             0.3,
             "#f1b6da"
            ],
            [
             0.4,
             "#fde0ef"
            ],
            [
             0.5,
             "#f7f7f7"
            ],
            [
             0.6,
             "#e6f5d0"
            ],
            [
             0.7,
             "#b8e186"
            ],
            [
             0.8,
             "#7fbc41"
            ],
            [
             0.9,
             "#4d9221"
            ],
            [
             1,
             "#276419"
            ]
           ],
           "sequential": [
            [
             0,
             "#0d0887"
            ],
            [
             0.1111111111111111,
             "#46039f"
            ],
            [
             0.2222222222222222,
             "#7201a8"
            ],
            [
             0.3333333333333333,
             "#9c179e"
            ],
            [
             0.4444444444444444,
             "#bd3786"
            ],
            [
             0.5555555555555556,
             "#d8576b"
            ],
            [
             0.6666666666666666,
             "#ed7953"
            ],
            [
             0.7777777777777778,
             "#fb9f3a"
            ],
            [
             0.8888888888888888,
             "#fdca26"
            ],
            [
             1,
             "#f0f921"
            ]
           ],
           "sequentialminus": [
            [
             0,
             "#0d0887"
            ],
            [
             0.1111111111111111,
             "#46039f"
            ],
            [
             0.2222222222222222,
             "#7201a8"
            ],
            [
             0.3333333333333333,
             "#9c179e"
            ],
            [
             0.4444444444444444,
             "#bd3786"
            ],
            [
             0.5555555555555556,
             "#d8576b"
            ],
            [
             0.6666666666666666,
             "#ed7953"
            ],
            [
             0.7777777777777778,
             "#fb9f3a"
            ],
            [
             0.8888888888888888,
             "#fdca26"
            ],
            [
             1,
             "#f0f921"
            ]
           ]
          },
          "colorway": [
           "#636efa",
           "#EF553B",
           "#00cc96",
           "#ab63fa",
           "#FFA15A",
           "#19d3f3",
           "#FF6692",
           "#B6E880",
           "#FF97FF",
           "#FECB52"
          ],
          "font": {
           "color": "#2a3f5f"
          },
          "geo": {
           "bgcolor": "white",
           "lakecolor": "white",
           "landcolor": "#E5ECF6",
           "showlakes": true,
           "showland": true,
           "subunitcolor": "white"
          },
          "hoverlabel": {
           "align": "left"
          },
          "hovermode": "closest",
          "mapbox": {
           "style": "light"
          },
          "paper_bgcolor": "white",
          "plot_bgcolor": "#E5ECF6",
          "polar": {
           "angularaxis": {
            "gridcolor": "white",
            "linecolor": "white",
            "ticks": ""
           },
           "bgcolor": "#E5ECF6",
           "radialaxis": {
            "gridcolor": "white",
            "linecolor": "white",
            "ticks": ""
           }
          },
          "scene": {
           "xaxis": {
            "backgroundcolor": "#E5ECF6",
            "gridcolor": "white",
            "gridwidth": 2,
            "linecolor": "white",
            "showbackground": true,
            "ticks": "",
            "zerolinecolor": "white"
           },
           "yaxis": {
            "backgroundcolor": "#E5ECF6",
            "gridcolor": "white",
            "gridwidth": 2,
            "linecolor": "white",
            "showbackground": true,
            "ticks": "",
            "zerolinecolor": "white"
           },
           "zaxis": {
            "backgroundcolor": "#E5ECF6",
            "gridcolor": "white",
            "gridwidth": 2,
            "linecolor": "white",
            "showbackground": true,
            "ticks": "",
            "zerolinecolor": "white"
           }
          },
          "shapedefaults": {
           "line": {
            "color": "#2a3f5f"
           }
          },
          "ternary": {
           "aaxis": {
            "gridcolor": "white",
            "linecolor": "white",
            "ticks": ""
           },
           "baxis": {
            "gridcolor": "white",
            "linecolor": "white",
            "ticks": ""
           },
           "bgcolor": "#E5ECF6",
           "caxis": {
            "gridcolor": "white",
            "linecolor": "white",
            "ticks": ""
           }
          },
          "title": {
           "x": 0.05
          },
          "xaxis": {
           "automargin": true,
           "gridcolor": "white",
           "linecolor": "white",
           "ticks": "",
           "title": {
            "standoff": 15
           },
           "zerolinecolor": "white",
           "zerolinewidth": 2
          },
          "yaxis": {
           "automargin": true,
           "gridcolor": "white",
           "linecolor": "white",
           "ticks": "",
           "title": {
            "standoff": 15
           },
           "zerolinecolor": "white",
           "zerolinewidth": 2
          }
         }
        },
        "xaxis": {
         "anchor": "y",
         "domain": [
          0,
          1
         ],
         "title": {
          "text": "index"
         }
        },
        "yaxis": {
         "anchor": "x",
         "domain": [
          0,
          1
         ],
         "title": {
          "text": "value"
         }
        }
       }
      }
     },
     "metadata": {},
     "output_type": "display_data"
    }
   ],
   "source": [
    "px.scatter(df_4)"
   ]
  },
  {
   "cell_type": "code",
   "execution_count": 55,
   "metadata": {},
   "outputs": [
    {
     "data": {
      "text/plain": [
       "age\n",
       "5.0       16\n",
       "6.0       18\n",
       "11.0       3\n",
       "17.0       3\n",
       "18.0       5\n",
       "        ... \n",
       "109.0      8\n",
       "110.0      7\n",
       "113.0      1\n",
       "115.0    215\n",
       "116.0    739\n",
       "Name: age, Length: 78, dtype: int64"
      ]
     },
     "execution_count": 55,
     "metadata": {},
     "output_type": "execute_result"
    }
   ],
   "source": [
    "df_4.reindex()"
   ]
  },
  {
   "cell_type": "code",
   "execution_count": 78,
   "metadata": {},
   "outputs": [
    {
     "ename": "AttributeError",
     "evalue": "'function' object has no attribute 'quantile'",
     "output_type": "error",
     "traceback": [
      "\u001b[1;31m---------------------------------------------------------------------------\u001b[0m",
      "\u001b[1;31mAttributeError\u001b[0m                            Traceback (most recent call last)",
      "\u001b[1;32mc:\\Users\\paulh\\Desktop\\ML-Projekt\\ML-Projekt\\Paul\\blob.ipynb Zelle 12\u001b[0m in \u001b[0;36m<cell line: 1>\u001b[1;34m()\u001b[0m\n\u001b[1;32m----> <a href='vscode-notebook-cell:/c%3A/Users/paulh/Desktop/ML-Projekt/ML-Projekt/Paul/blob.ipynb#X50sZmlsZQ%3D%3D?line=0'>1</a>\u001b[0m df_4\u001b[39m.\u001b[39;49mindex\u001b[39m.\u001b[39;49mto_list\u001b[39m.\u001b[39;49mquantile(\u001b[39m0.1\u001b[39m)\n",
      "\u001b[1;31mAttributeError\u001b[0m: 'function' object has no attribute 'quantile'"
     ]
    }
   ],
   "source": [
    "df_4.index.to_list.quantile(0.1)"
   ]
  },
  {
   "cell_type": "code",
   "execution_count": 25,
   "metadata": {},
   "outputs": [
    {
     "data": {
      "text/html": [
       "<div>\n",
       "<style scoped>\n",
       "    .dataframe tbody tr th:only-of-type {\n",
       "        vertical-align: middle;\n",
       "    }\n",
       "\n",
       "    .dataframe tbody tr th {\n",
       "        vertical-align: top;\n",
       "    }\n",
       "\n",
       "    .dataframe thead th {\n",
       "        text-align: right;\n",
       "    }\n",
       "</style>\n",
       "<table border=\"1\" class=\"dataframe\">\n",
       "  <thead>\n",
       "    <tr style=\"text-align: right;\">\n",
       "      <th></th>\n",
       "      <th>order_item_id</th>\n",
       "      <th>order_date</th>\n",
       "      <th>delivery_date</th>\n",
       "      <th>item_id</th>\n",
       "      <th>item_size</th>\n",
       "      <th>item_color</th>\n",
       "      <th>brand_id</th>\n",
       "      <th>item_price</th>\n",
       "      <th>user_id</th>\n",
       "      <th>user_title</th>\n",
       "      <th>user_dob</th>\n",
       "      <th>user_state</th>\n",
       "      <th>user_reg_date</th>\n",
       "      <th>return</th>\n",
       "      <th>age</th>\n",
       "    </tr>\n",
       "  </thead>\n",
       "  <tbody>\n",
       "    <tr>\n",
       "      <th>4716</th>\n",
       "      <td>4717</td>\n",
       "      <td>2016-06-26</td>\n",
       "      <td>2016-06-28</td>\n",
       "      <td>50</td>\n",
       "      <td>3</td>\n",
       "      <td>brown</td>\n",
       "      <td>21</td>\n",
       "      <td>29.95</td>\n",
       "      <td>27981</td>\n",
       "      <td>Mrs</td>\n",
       "      <td>2011-07-17</td>\n",
       "      <td>Saarland</td>\n",
       "      <td>2015-08-27</td>\n",
       "      <td>0</td>\n",
       "      <td>5.0</td>\n",
       "    </tr>\n",
       "    <tr>\n",
       "      <th>4717</th>\n",
       "      <td>4718</td>\n",
       "      <td>2016-06-26</td>\n",
       "      <td>2016-06-28</td>\n",
       "      <td>50</td>\n",
       "      <td>5</td>\n",
       "      <td>grey</td>\n",
       "      <td>21</td>\n",
       "      <td>29.95</td>\n",
       "      <td>27981</td>\n",
       "      <td>Mrs</td>\n",
       "      <td>2011-07-17</td>\n",
       "      <td>Saarland</td>\n",
       "      <td>2015-08-27</td>\n",
       "      <td>0</td>\n",
       "      <td>5.0</td>\n",
       "    </tr>\n",
       "    <tr>\n",
       "      <th>4718</th>\n",
       "      <td>4719</td>\n",
       "      <td>2016-06-26</td>\n",
       "      <td>NaT</td>\n",
       "      <td>614</td>\n",
       "      <td>34</td>\n",
       "      <td>grey</td>\n",
       "      <td>48</td>\n",
       "      <td>27.45</td>\n",
       "      <td>27981</td>\n",
       "      <td>Mrs</td>\n",
       "      <td>2011-07-17</td>\n",
       "      <td>Saarland</td>\n",
       "      <td>2015-08-27</td>\n",
       "      <td>0</td>\n",
       "      <td>5.0</td>\n",
       "    </tr>\n",
       "    <tr>\n",
       "      <th>36780</th>\n",
       "      <td>36781</td>\n",
       "      <td>2016-07-15</td>\n",
       "      <td>2016-07-19</td>\n",
       "      <td>707</td>\n",
       "      <td>39</td>\n",
       "      <td>black</td>\n",
       "      <td>1</td>\n",
       "      <td>79.90</td>\n",
       "      <td>37018</td>\n",
       "      <td>Mrs</td>\n",
       "      <td>2011-02-10</td>\n",
       "      <td>Schleswig-Holstein</td>\n",
       "      <td>2015-03-23</td>\n",
       "      <td>0</td>\n",
       "      <td>5.0</td>\n",
       "    </tr>\n",
       "    <tr>\n",
       "      <th>53023</th>\n",
       "      <td>53024</td>\n",
       "      <td>2016-08-05</td>\n",
       "      <td>2016-08-08</td>\n",
       "      <td>399</td>\n",
       "      <td>41</td>\n",
       "      <td>grey</td>\n",
       "      <td>17</td>\n",
       "      <td>89.90</td>\n",
       "      <td>39789</td>\n",
       "      <td>Mrs</td>\n",
       "      <td>2011-01-19</td>\n",
       "      <td>Lower Saxony</td>\n",
       "      <td>2015-03-01</td>\n",
       "      <td>1</td>\n",
       "      <td>5.0</td>\n",
       "    </tr>\n",
       "    <tr>\n",
       "      <th>53024</th>\n",
       "      <td>53025</td>\n",
       "      <td>2016-08-05</td>\n",
       "      <td>2016-08-08</td>\n",
       "      <td>1723</td>\n",
       "      <td>unsized</td>\n",
       "      <td>pallid</td>\n",
       "      <td>114</td>\n",
       "      <td>9.95</td>\n",
       "      <td>39789</td>\n",
       "      <td>Mrs</td>\n",
       "      <td>2011-01-19</td>\n",
       "      <td>Lower Saxony</td>\n",
       "      <td>2015-03-01</td>\n",
       "      <td>0</td>\n",
       "      <td>5.0</td>\n",
       "    </tr>\n",
       "    <tr>\n",
       "      <th>53025</th>\n",
       "      <td>53026</td>\n",
       "      <td>2016-08-05</td>\n",
       "      <td>2016-08-08</td>\n",
       "      <td>1436</td>\n",
       "      <td>unsized</td>\n",
       "      <td>pallid</td>\n",
       "      <td>111</td>\n",
       "      <td>8.95</td>\n",
       "      <td>39789</td>\n",
       "      <td>Mrs</td>\n",
       "      <td>2011-01-19</td>\n",
       "      <td>Lower Saxony</td>\n",
       "      <td>2015-03-01</td>\n",
       "      <td>0</td>\n",
       "      <td>5.0</td>\n",
       "    </tr>\n",
       "    <tr>\n",
       "      <th>59043</th>\n",
       "      <td>59044</td>\n",
       "      <td>2016-08-08</td>\n",
       "      <td>2016-08-10</td>\n",
       "      <td>708</td>\n",
       "      <td>42</td>\n",
       "      <td>mocca</td>\n",
       "      <td>45</td>\n",
       "      <td>39.90</td>\n",
       "      <td>27981</td>\n",
       "      <td>Mrs</td>\n",
       "      <td>2011-07-17</td>\n",
       "      <td>Saarland</td>\n",
       "      <td>2015-08-27</td>\n",
       "      <td>0</td>\n",
       "      <td>5.0</td>\n",
       "    </tr>\n",
       "    <tr>\n",
       "      <th>59044</th>\n",
       "      <td>59045</td>\n",
       "      <td>2016-08-08</td>\n",
       "      <td>2016-08-10</td>\n",
       "      <td>441</td>\n",
       "      <td>41</td>\n",
       "      <td>black</td>\n",
       "      <td>53</td>\n",
       "      <td>29.90</td>\n",
       "      <td>27981</td>\n",
       "      <td>Mrs</td>\n",
       "      <td>2011-07-17</td>\n",
       "      <td>Saarland</td>\n",
       "      <td>2015-08-27</td>\n",
       "      <td>0</td>\n",
       "      <td>5.0</td>\n",
       "    </tr>\n",
       "    <tr>\n",
       "      <th>59045</th>\n",
       "      <td>59046</td>\n",
       "      <td>2016-08-08</td>\n",
       "      <td>2016-08-10</td>\n",
       "      <td>520</td>\n",
       "      <td>41</td>\n",
       "      <td>brown</td>\n",
       "      <td>23</td>\n",
       "      <td>59.90</td>\n",
       "      <td>27981</td>\n",
       "      <td>Mrs</td>\n",
       "      <td>2011-07-17</td>\n",
       "      <td>Saarland</td>\n",
       "      <td>2015-08-27</td>\n",
       "      <td>0</td>\n",
       "      <td>5.0</td>\n",
       "    </tr>\n",
       "    <tr>\n",
       "      <th>64220</th>\n",
       "      <td>64221</td>\n",
       "      <td>2016-08-11</td>\n",
       "      <td>2016-08-13</td>\n",
       "      <td>1487</td>\n",
       "      <td>xl</td>\n",
       "      <td>anthracite</td>\n",
       "      <td>97</td>\n",
       "      <td>59.90</td>\n",
       "      <td>41931</td>\n",
       "      <td>Mrs</td>\n",
       "      <td>2011-03-08</td>\n",
       "      <td>Saxony</td>\n",
       "      <td>2015-04-18</td>\n",
       "      <td>1</td>\n",
       "      <td>5.0</td>\n",
       "    </tr>\n",
       "    <tr>\n",
       "      <th>64221</th>\n",
       "      <td>64222</td>\n",
       "      <td>2016-08-11</td>\n",
       "      <td>2016-08-13</td>\n",
       "      <td>1683</td>\n",
       "      <td>xl</td>\n",
       "      <td>blue</td>\n",
       "      <td>97</td>\n",
       "      <td>39.90</td>\n",
       "      <td>41931</td>\n",
       "      <td>Mrs</td>\n",
       "      <td>2011-03-08</td>\n",
       "      <td>Saxony</td>\n",
       "      <td>2015-04-18</td>\n",
       "      <td>1</td>\n",
       "      <td>5.0</td>\n",
       "    </tr>\n",
       "    <tr>\n",
       "      <th>64222</th>\n",
       "      <td>64223</td>\n",
       "      <td>2016-08-11</td>\n",
       "      <td>2016-08-13</td>\n",
       "      <td>1470</td>\n",
       "      <td>xl</td>\n",
       "      <td>red</td>\n",
       "      <td>3</td>\n",
       "      <td>39.90</td>\n",
       "      <td>41931</td>\n",
       "      <td>Mrs</td>\n",
       "      <td>2011-03-08</td>\n",
       "      <td>Saxony</td>\n",
       "      <td>2015-04-18</td>\n",
       "      <td>1</td>\n",
       "      <td>5.0</td>\n",
       "    </tr>\n",
       "    <tr>\n",
       "      <th>64223</th>\n",
       "      <td>64224</td>\n",
       "      <td>2016-08-11</td>\n",
       "      <td>2016-08-13</td>\n",
       "      <td>1470</td>\n",
       "      <td>xl</td>\n",
       "      <td>black</td>\n",
       "      <td>3</td>\n",
       "      <td>39.90</td>\n",
       "      <td>41931</td>\n",
       "      <td>Mrs</td>\n",
       "      <td>2011-03-08</td>\n",
       "      <td>Saxony</td>\n",
       "      <td>2015-04-18</td>\n",
       "      <td>0</td>\n",
       "      <td>5.0</td>\n",
       "    </tr>\n",
       "    <tr>\n",
       "      <th>69068</th>\n",
       "      <td>69069</td>\n",
       "      <td>2016-08-14</td>\n",
       "      <td>2016-08-16</td>\n",
       "      <td>1682</td>\n",
       "      <td>39</td>\n",
       "      <td>black</td>\n",
       "      <td>8</td>\n",
       "      <td>49.90</td>\n",
       "      <td>42724</td>\n",
       "      <td>Mrs</td>\n",
       "      <td>2011-03-04</td>\n",
       "      <td>Lower Saxony</td>\n",
       "      <td>2015-04-14</td>\n",
       "      <td>0</td>\n",
       "      <td>5.0</td>\n",
       "    </tr>\n",
       "    <tr>\n",
       "      <th>69069</th>\n",
       "      <td>69070</td>\n",
       "      <td>2016-08-14</td>\n",
       "      <td>2016-09-14</td>\n",
       "      <td>1859</td>\n",
       "      <td>xxl</td>\n",
       "      <td>petrol</td>\n",
       "      <td>49</td>\n",
       "      <td>249.90</td>\n",
       "      <td>42724</td>\n",
       "      <td>Mrs</td>\n",
       "      <td>2011-03-04</td>\n",
       "      <td>Lower Saxony</td>\n",
       "      <td>2015-04-14</td>\n",
       "      <td>1</td>\n",
       "      <td>5.0</td>\n",
       "    </tr>\n",
       "  </tbody>\n",
       "</table>\n",
       "</div>"
      ],
      "text/plain": [
       "       order_item_id order_date delivery_date  item_id item_size  item_color  \\\n",
       "4716            4717 2016-06-26    2016-06-28       50         3       brown   \n",
       "4717            4718 2016-06-26    2016-06-28       50         5        grey   \n",
       "4718            4719 2016-06-26           NaT      614        34        grey   \n",
       "36780          36781 2016-07-15    2016-07-19      707        39       black   \n",
       "53023          53024 2016-08-05    2016-08-08      399        41        grey   \n",
       "53024          53025 2016-08-05    2016-08-08     1723   unsized      pallid   \n",
       "53025          53026 2016-08-05    2016-08-08     1436   unsized      pallid   \n",
       "59043          59044 2016-08-08    2016-08-10      708        42       mocca   \n",
       "59044          59045 2016-08-08    2016-08-10      441        41       black   \n",
       "59045          59046 2016-08-08    2016-08-10      520        41       brown   \n",
       "64220          64221 2016-08-11    2016-08-13     1487        xl  anthracite   \n",
       "64221          64222 2016-08-11    2016-08-13     1683        xl        blue   \n",
       "64222          64223 2016-08-11    2016-08-13     1470        xl         red   \n",
       "64223          64224 2016-08-11    2016-08-13     1470        xl       black   \n",
       "69068          69069 2016-08-14    2016-08-16     1682        39       black   \n",
       "69069          69070 2016-08-14    2016-09-14     1859       xxl      petrol   \n",
       "\n",
       "       brand_id  item_price  user_id user_title   user_dob  \\\n",
       "4716         21       29.95    27981        Mrs 2011-07-17   \n",
       "4717         21       29.95    27981        Mrs 2011-07-17   \n",
       "4718         48       27.45    27981        Mrs 2011-07-17   \n",
       "36780         1       79.90    37018        Mrs 2011-02-10   \n",
       "53023        17       89.90    39789        Mrs 2011-01-19   \n",
       "53024       114        9.95    39789        Mrs 2011-01-19   \n",
       "53025       111        8.95    39789        Mrs 2011-01-19   \n",
       "59043        45       39.90    27981        Mrs 2011-07-17   \n",
       "59044        53       29.90    27981        Mrs 2011-07-17   \n",
       "59045        23       59.90    27981        Mrs 2011-07-17   \n",
       "64220        97       59.90    41931        Mrs 2011-03-08   \n",
       "64221        97       39.90    41931        Mrs 2011-03-08   \n",
       "64222         3       39.90    41931        Mrs 2011-03-08   \n",
       "64223         3       39.90    41931        Mrs 2011-03-08   \n",
       "69068         8       49.90    42724        Mrs 2011-03-04   \n",
       "69069        49      249.90    42724        Mrs 2011-03-04   \n",
       "\n",
       "               user_state user_reg_date  return  age  \n",
       "4716             Saarland    2015-08-27       0  5.0  \n",
       "4717             Saarland    2015-08-27       0  5.0  \n",
       "4718             Saarland    2015-08-27       0  5.0  \n",
       "36780  Schleswig-Holstein    2015-03-23       0  5.0  \n",
       "53023        Lower Saxony    2015-03-01       1  5.0  \n",
       "53024        Lower Saxony    2015-03-01       0  5.0  \n",
       "53025        Lower Saxony    2015-03-01       0  5.0  \n",
       "59043            Saarland    2015-08-27       0  5.0  \n",
       "59044            Saarland    2015-08-27       0  5.0  \n",
       "59045            Saarland    2015-08-27       0  5.0  \n",
       "64220              Saxony    2015-04-18       1  5.0  \n",
       "64221              Saxony    2015-04-18       1  5.0  \n",
       "64222              Saxony    2015-04-18       1  5.0  \n",
       "64223              Saxony    2015-04-18       0  5.0  \n",
       "69068        Lower Saxony    2015-04-14       0  5.0  \n",
       "69069        Lower Saxony    2015-04-14       1  5.0  "
      ]
     },
     "execution_count": 25,
     "metadata": {},
     "output_type": "execute_result"
    }
   ],
   "source": [
    "df[df.age == 5]"
   ]
  },
  {
   "cell_type": "markdown",
   "metadata": {},
   "source": [
    "Problem item price 999"
   ]
  },
  {
   "cell_type": "code",
   "execution_count": 28,
   "metadata": {},
   "outputs": [
    {
     "data": {
      "text/html": [
       "<div>\n",
       "<style scoped>\n",
       "    .dataframe tbody tr th:only-of-type {\n",
       "        vertical-align: middle;\n",
       "    }\n",
       "\n",
       "    .dataframe tbody tr th {\n",
       "        vertical-align: top;\n",
       "    }\n",
       "\n",
       "    .dataframe thead th {\n",
       "        text-align: right;\n",
       "    }\n",
       "</style>\n",
       "<table border=\"1\" class=\"dataframe\">\n",
       "  <thead>\n",
       "    <tr style=\"text-align: right;\">\n",
       "      <th></th>\n",
       "      <th>order_item_id</th>\n",
       "      <th>order_date</th>\n",
       "      <th>delivery_date</th>\n",
       "      <th>item_id</th>\n",
       "      <th>item_size</th>\n",
       "      <th>item_color</th>\n",
       "      <th>brand_id</th>\n",
       "      <th>item_price</th>\n",
       "      <th>user_id</th>\n",
       "      <th>user_title</th>\n",
       "      <th>user_dob</th>\n",
       "      <th>user_state</th>\n",
       "      <th>user_reg_date</th>\n",
       "      <th>return</th>\n",
       "      <th>age</th>\n",
       "    </tr>\n",
       "  </thead>\n",
       "  <tbody>\n",
       "    <tr>\n",
       "      <th>48479</th>\n",
       "      <td>48480</td>\n",
       "      <td>2016-08-02</td>\n",
       "      <td>NaT</td>\n",
       "      <td>2120</td>\n",
       "      <td>unsized</td>\n",
       "      <td>black</td>\n",
       "      <td>133</td>\n",
       "      <td>999.0</td>\n",
       "      <td>38928</td>\n",
       "      <td>Mr</td>\n",
       "      <td>1971-11-17</td>\n",
       "      <td>North Rhine-Westphalia</td>\n",
       "      <td>2016-08-03</td>\n",
       "      <td>0</td>\n",
       "      <td>45.0</td>\n",
       "    </tr>\n",
       "    <tr>\n",
       "      <th>49210</th>\n",
       "      <td>49211</td>\n",
       "      <td>2016-08-03</td>\n",
       "      <td>1994-12-31</td>\n",
       "      <td>2120</td>\n",
       "      <td>unsized</td>\n",
       "      <td>black</td>\n",
       "      <td>133</td>\n",
       "      <td>999.0</td>\n",
       "      <td>39066</td>\n",
       "      <td>Mr</td>\n",
       "      <td>1949-03-17</td>\n",
       "      <td>Baden-Wuerttemberg</td>\n",
       "      <td>2016-08-04</td>\n",
       "      <td>1</td>\n",
       "      <td>67.0</td>\n",
       "    </tr>\n",
       "    <tr>\n",
       "      <th>65019</th>\n",
       "      <td>65020</td>\n",
       "      <td>2016-08-11</td>\n",
       "      <td>1994-12-31</td>\n",
       "      <td>2120</td>\n",
       "      <td>unsized</td>\n",
       "      <td>black</td>\n",
       "      <td>133</td>\n",
       "      <td>999.0</td>\n",
       "      <td>4323</td>\n",
       "      <td>Mrs</td>\n",
       "      <td>1971-12-24</td>\n",
       "      <td>Baden-Wuerttemberg</td>\n",
       "      <td>2016-04-08</td>\n",
       "      <td>1</td>\n",
       "      <td>45.0</td>\n",
       "    </tr>\n",
       "    <tr>\n",
       "      <th>70148</th>\n",
       "      <td>70149</td>\n",
       "      <td>2016-08-15</td>\n",
       "      <td>2016-08-15</td>\n",
       "      <td>2120</td>\n",
       "      <td>unsized</td>\n",
       "      <td>black</td>\n",
       "      <td>133</td>\n",
       "      <td>999.0</td>\n",
       "      <td>4323</td>\n",
       "      <td>Mrs</td>\n",
       "      <td>1971-12-24</td>\n",
       "      <td>Baden-Wuerttemberg</td>\n",
       "      <td>2016-04-08</td>\n",
       "      <td>0</td>\n",
       "      <td>45.0</td>\n",
       "    </tr>\n",
       "  </tbody>\n",
       "</table>\n",
       "</div>"
      ],
      "text/plain": [
       "       order_item_id order_date delivery_date  item_id item_size item_color  \\\n",
       "48479          48480 2016-08-02           NaT     2120   unsized      black   \n",
       "49210          49211 2016-08-03    1994-12-31     2120   unsized      black   \n",
       "65019          65020 2016-08-11    1994-12-31     2120   unsized      black   \n",
       "70148          70149 2016-08-15    2016-08-15     2120   unsized      black   \n",
       "\n",
       "       brand_id  item_price  user_id user_title   user_dob  \\\n",
       "48479       133       999.0    38928         Mr 1971-11-17   \n",
       "49210       133       999.0    39066         Mr 1949-03-17   \n",
       "65019       133       999.0     4323        Mrs 1971-12-24   \n",
       "70148       133       999.0     4323        Mrs 1971-12-24   \n",
       "\n",
       "                   user_state user_reg_date  return   age  \n",
       "48479  North Rhine-Westphalia    2016-08-03       0  45.0  \n",
       "49210      Baden-Wuerttemberg    2016-08-04       1  67.0  \n",
       "65019      Baden-Wuerttemberg    2016-04-08       1  45.0  \n",
       "70148      Baden-Wuerttemberg    2016-04-08       0  45.0  "
      ]
     },
     "execution_count": 28,
     "metadata": {},
     "output_type": "execute_result"
    }
   ],
   "source": [
    "df[df.item_price==999]"
   ]
  },
  {
   "cell_type": "code",
   "execution_count": 88,
   "metadata": {},
   "outputs": [],
   "source": [
    "df_3 = df.groupby(\"item_price\")[\"item_price\"].count()"
   ]
  },
  {
   "cell_type": "code",
   "execution_count": 89,
   "metadata": {},
   "outputs": [
    {
     "data": {
      "application/vnd.plotly.v1+json": {
       "config": {
        "plotlyServerURL": "https://plot.ly"
       },
       "data": [
        {
         "hovertemplate": "variable=item_price<br>index=%{x}<br>value=%{y}<extra></extra>",
         "legendgroup": "item_price",
         "marker": {
          "color": "#636efa",
          "symbol": "circle"
         },
         "mode": "markers",
         "name": "item_price",
         "orientation": "v",
         "showlegend": true,
         "type": "scatter",
         "x": [
          0,
          3.4,
          3.95,
          4.4,
          4.5,
          4.9,
          4.95,
          5.5,
          5.95,
          6.45,
          6.9,
          6.95,
          7.4,
          7.45,
          7.9,
          8.9,
          8.95,
          9.4,
          9.9,
          9.95,
          10.95,
          11.9,
          12.4,
          12.45,
          12.9,
          12.95,
          13.45,
          13.9,
          13.95,
          14.9,
          14.95,
          15.9,
          15.95,
          16.4,
          16.9,
          16.95,
          17.4,
          17.45,
          17.9,
          19,
          19.9,
          19.95,
          20,
          20.95,
          21.9,
          22.4,
          22.45,
          22.95,
          23.03,
          23.9,
          24.9,
          24.95,
          25,
          25.45,
          25.9,
          25.95,
          26.25,
          26.9,
          27.45,
          27.48,
          27.66,
          27.9,
          29.9,
          29.95,
          30.48,
          31.95,
          32.45,
          32.48,
          32.9,
          32.95,
          34.9,
          34.95,
          35,
          35.45,
          37.4,
          37.45,
          37.9,
          37.95,
          39.9,
          39.95,
          39.98,
          40,
          40.95,
          42.4,
          42.9,
          42.95,
          44.9,
          44.95,
          45,
          45.9,
          46.16,
          47.4,
          47.9,
          47.95,
          49.9,
          49.95,
          50,
          52.95,
          53.95,
          54.9,
          54.95,
          55.41,
          55.9,
          56.95,
          57.5,
          57.95,
          58.95,
          59.9,
          59.95,
          60,
          60.95,
          62.45,
          62.95,
          64.66,
          64.9,
          64.95,
          65,
          65.85,
          65.95,
          67.95,
          69.9,
          69.95,
          70,
          71.95,
          72.5,
          72.95,
          73.91,
          74.9,
          74.95,
          75,
          75.95,
          77.5,
          79.9,
          79.95,
          80,
          82.5,
          83.16,
          84.9,
          85,
          85.95,
          87.9,
          89.9,
          89.95,
          90,
          92.41,
          94.5,
          94.9,
          94.95,
          95.95,
          97.95,
          99.9,
          99.95,
          100,
          102.95,
          104.9,
          105,
          109.9,
          109.95,
          110,
          114.9,
          119.9,
          119.95,
          120,
          120.16,
          124,
          124.9,
          125,
          125.9,
          129.41,
          129.9,
          129.95,
          130,
          134,
          134.9,
          135,
          139,
          139.9,
          139.95,
          140,
          144,
          144.9,
          145,
          149.9,
          149.95,
          150,
          154,
          155,
          159,
          159.9,
          159.95,
          160,
          165,
          169,
          169.9,
          169.95,
          170,
          175,
          179,
          179.9,
          179.95,
          180,
          184,
          189,
          189.9,
          189.95,
          190,
          194.9,
          199,
          199.9,
          199.95,
          200,
          209.9,
          210,
          219.9,
          219.95,
          220,
          229.9,
          229.95,
          239.9,
          249.9,
          249.95,
          259.9,
          259.95,
          269.9,
          269.95,
          279.9,
          279.95,
          289.9,
          299.9,
          299.95,
          319.95,
          329.9,
          359.95,
          399.95
         ],
         "xaxis": "x",
         "y": [
          328,
          2,
          8,
          18,
          5,
          124,
          70,
          36,
          59,
          1,
          126,
          5,
          52,
          69,
          135,
          69,
          54,
          124,
          1028,
          49,
          1,
          40,
          553,
          4,
          331,
          3,
          48,
          36,
          14,
          1437,
          9,
          81,
          17,
          83,
          661,
          34,
          211,
          11,
          242,
          7,
          4092,
          49,
          1,
          3,
          1299,
          19,
          35,
          21,
          1,
          18,
          3308,
          72,
          26,
          13,
          18,
          5,
          1,
          820,
          69,
          19,
          1,
          24,
          4088,
          39,
          2,
          80,
          17,
          44,
          10,
          199,
          2367,
          552,
          53,
          7,
          1,
          2,
          2,
          17,
          7024,
          660,
          5,
          4,
          4,
          67,
          113,
          33,
          2433,
          176,
          31,
          24,
          2,
          28,
          41,
          2,
          6923,
          310,
          3,
          18,
          1,
          653,
          46,
          1,
          27,
          8,
          21,
          7,
          2,
          6389,
          155,
          46,
          1,
          1,
          10,
          4,
          1771,
          18,
          113,
          1,
          70,
          2,
          5134,
          148,
          42,
          1,
          63,
          1,
          1,
          427,
          3,
          60,
          2,
          24,
          3466,
          128,
          12,
          105,
          1,
          359,
          14,
          10,
          56,
          2504,
          174,
          70,
          3,
          7,
          92,
          4,
          10,
          1,
          2016,
          281,
          70,
          1,
          37,
          8,
          360,
          90,
          18,
          153,
          1454,
          35,
          64,
          2,
          14,
          67,
          2,
          27,
          1,
          631,
          16,
          93,
          13,
          187,
          12,
          5,
          634,
          7,
          54,
          80,
          38,
          7,
          986,
          108,
          3,
          53,
          3,
          15,
          750,
          11,
          123,
          13,
          2,
          439,
          22,
          56,
          12,
          20,
          294,
          11,
          23,
          22,
          38,
          164,
          26,
          1,
          40,
          36,
          629,
          11,
          3,
          52,
          10,
          250,
          6,
          28,
          52,
          4,
          5,
          92,
          28,
          21,
          41,
          3,
          1,
          82,
          28,
          18,
          41,
          62,
          11,
          10,
          7,
          11
         ],
         "yaxis": "y"
        }
       ],
       "layout": {
        "legend": {
         "title": {
          "text": "variable"
         },
         "tracegroupgap": 0
        },
        "margin": {
         "t": 60
        },
        "template": {
         "data": {
          "bar": [
           {
            "error_x": {
             "color": "#2a3f5f"
            },
            "error_y": {
             "color": "#2a3f5f"
            },
            "marker": {
             "line": {
              "color": "#E5ECF6",
              "width": 0.5
             },
             "pattern": {
              "fillmode": "overlay",
              "size": 10,
              "solidity": 0.2
             }
            },
            "type": "bar"
           }
          ],
          "barpolar": [
           {
            "marker": {
             "line": {
              "color": "#E5ECF6",
              "width": 0.5
             },
             "pattern": {
              "fillmode": "overlay",
              "size": 10,
              "solidity": 0.2
             }
            },
            "type": "barpolar"
           }
          ],
          "carpet": [
           {
            "aaxis": {
             "endlinecolor": "#2a3f5f",
             "gridcolor": "white",
             "linecolor": "white",
             "minorgridcolor": "white",
             "startlinecolor": "#2a3f5f"
            },
            "baxis": {
             "endlinecolor": "#2a3f5f",
             "gridcolor": "white",
             "linecolor": "white",
             "minorgridcolor": "white",
             "startlinecolor": "#2a3f5f"
            },
            "type": "carpet"
           }
          ],
          "choropleth": [
           {
            "colorbar": {
             "outlinewidth": 0,
             "ticks": ""
            },
            "type": "choropleth"
           }
          ],
          "contour": [
           {
            "colorbar": {
             "outlinewidth": 0,
             "ticks": ""
            },
            "colorscale": [
             [
              0,
              "#0d0887"
             ],
             [
              0.1111111111111111,
              "#46039f"
             ],
             [
              0.2222222222222222,
              "#7201a8"
             ],
             [
              0.3333333333333333,
              "#9c179e"
             ],
             [
              0.4444444444444444,
              "#bd3786"
             ],
             [
              0.5555555555555556,
              "#d8576b"
             ],
             [
              0.6666666666666666,
              "#ed7953"
             ],
             [
              0.7777777777777778,
              "#fb9f3a"
             ],
             [
              0.8888888888888888,
              "#fdca26"
             ],
             [
              1,
              "#f0f921"
             ]
            ],
            "type": "contour"
           }
          ],
          "contourcarpet": [
           {
            "colorbar": {
             "outlinewidth": 0,
             "ticks": ""
            },
            "type": "contourcarpet"
           }
          ],
          "heatmap": [
           {
            "colorbar": {
             "outlinewidth": 0,
             "ticks": ""
            },
            "colorscale": [
             [
              0,
              "#0d0887"
             ],
             [
              0.1111111111111111,
              "#46039f"
             ],
             [
              0.2222222222222222,
              "#7201a8"
             ],
             [
              0.3333333333333333,
              "#9c179e"
             ],
             [
              0.4444444444444444,
              "#bd3786"
             ],
             [
              0.5555555555555556,
              "#d8576b"
             ],
             [
              0.6666666666666666,
              "#ed7953"
             ],
             [
              0.7777777777777778,
              "#fb9f3a"
             ],
             [
              0.8888888888888888,
              "#fdca26"
             ],
             [
              1,
              "#f0f921"
             ]
            ],
            "type": "heatmap"
           }
          ],
          "heatmapgl": [
           {
            "colorbar": {
             "outlinewidth": 0,
             "ticks": ""
            },
            "colorscale": [
             [
              0,
              "#0d0887"
             ],
             [
              0.1111111111111111,
              "#46039f"
             ],
             [
              0.2222222222222222,
              "#7201a8"
             ],
             [
              0.3333333333333333,
              "#9c179e"
             ],
             [
              0.4444444444444444,
              "#bd3786"
             ],
             [
              0.5555555555555556,
              "#d8576b"
             ],
             [
              0.6666666666666666,
              "#ed7953"
             ],
             [
              0.7777777777777778,
              "#fb9f3a"
             ],
             [
              0.8888888888888888,
              "#fdca26"
             ],
             [
              1,
              "#f0f921"
             ]
            ],
            "type": "heatmapgl"
           }
          ],
          "histogram": [
           {
            "marker": {
             "pattern": {
              "fillmode": "overlay",
              "size": 10,
              "solidity": 0.2
             }
            },
            "type": "histogram"
           }
          ],
          "histogram2d": [
           {
            "colorbar": {
             "outlinewidth": 0,
             "ticks": ""
            },
            "colorscale": [
             [
              0,
              "#0d0887"
             ],
             [
              0.1111111111111111,
              "#46039f"
             ],
             [
              0.2222222222222222,
              "#7201a8"
             ],
             [
              0.3333333333333333,
              "#9c179e"
             ],
             [
              0.4444444444444444,
              "#bd3786"
             ],
             [
              0.5555555555555556,
              "#d8576b"
             ],
             [
              0.6666666666666666,
              "#ed7953"
             ],
             [
              0.7777777777777778,
              "#fb9f3a"
             ],
             [
              0.8888888888888888,
              "#fdca26"
             ],
             [
              1,
              "#f0f921"
             ]
            ],
            "type": "histogram2d"
           }
          ],
          "histogram2dcontour": [
           {
            "colorbar": {
             "outlinewidth": 0,
             "ticks": ""
            },
            "colorscale": [
             [
              0,
              "#0d0887"
             ],
             [
              0.1111111111111111,
              "#46039f"
             ],
             [
              0.2222222222222222,
              "#7201a8"
             ],
             [
              0.3333333333333333,
              "#9c179e"
             ],
             [
              0.4444444444444444,
              "#bd3786"
             ],
             [
              0.5555555555555556,
              "#d8576b"
             ],
             [
              0.6666666666666666,
              "#ed7953"
             ],
             [
              0.7777777777777778,
              "#fb9f3a"
             ],
             [
              0.8888888888888888,
              "#fdca26"
             ],
             [
              1,
              "#f0f921"
             ]
            ],
            "type": "histogram2dcontour"
           }
          ],
          "mesh3d": [
           {
            "colorbar": {
             "outlinewidth": 0,
             "ticks": ""
            },
            "type": "mesh3d"
           }
          ],
          "parcoords": [
           {
            "line": {
             "colorbar": {
              "outlinewidth": 0,
              "ticks": ""
             }
            },
            "type": "parcoords"
           }
          ],
          "pie": [
           {
            "automargin": true,
            "type": "pie"
           }
          ],
          "scatter": [
           {
            "fillpattern": {
             "fillmode": "overlay",
             "size": 10,
             "solidity": 0.2
            },
            "type": "scatter"
           }
          ],
          "scatter3d": [
           {
            "line": {
             "colorbar": {
              "outlinewidth": 0,
              "ticks": ""
             }
            },
            "marker": {
             "colorbar": {
              "outlinewidth": 0,
              "ticks": ""
             }
            },
            "type": "scatter3d"
           }
          ],
          "scattercarpet": [
           {
            "marker": {
             "colorbar": {
              "outlinewidth": 0,
              "ticks": ""
             }
            },
            "type": "scattercarpet"
           }
          ],
          "scattergeo": [
           {
            "marker": {
             "colorbar": {
              "outlinewidth": 0,
              "ticks": ""
             }
            },
            "type": "scattergeo"
           }
          ],
          "scattergl": [
           {
            "marker": {
             "colorbar": {
              "outlinewidth": 0,
              "ticks": ""
             }
            },
            "type": "scattergl"
           }
          ],
          "scattermapbox": [
           {
            "marker": {
             "colorbar": {
              "outlinewidth": 0,
              "ticks": ""
             }
            },
            "type": "scattermapbox"
           }
          ],
          "scatterpolar": [
           {
            "marker": {
             "colorbar": {
              "outlinewidth": 0,
              "ticks": ""
             }
            },
            "type": "scatterpolar"
           }
          ],
          "scatterpolargl": [
           {
            "marker": {
             "colorbar": {
              "outlinewidth": 0,
              "ticks": ""
             }
            },
            "type": "scatterpolargl"
           }
          ],
          "scatterternary": [
           {
            "marker": {
             "colorbar": {
              "outlinewidth": 0,
              "ticks": ""
             }
            },
            "type": "scatterternary"
           }
          ],
          "surface": [
           {
            "colorbar": {
             "outlinewidth": 0,
             "ticks": ""
            },
            "colorscale": [
             [
              0,
              "#0d0887"
             ],
             [
              0.1111111111111111,
              "#46039f"
             ],
             [
              0.2222222222222222,
              "#7201a8"
             ],
             [
              0.3333333333333333,
              "#9c179e"
             ],
             [
              0.4444444444444444,
              "#bd3786"
             ],
             [
              0.5555555555555556,
              "#d8576b"
             ],
             [
              0.6666666666666666,
              "#ed7953"
             ],
             [
              0.7777777777777778,
              "#fb9f3a"
             ],
             [
              0.8888888888888888,
              "#fdca26"
             ],
             [
              1,
              "#f0f921"
             ]
            ],
            "type": "surface"
           }
          ],
          "table": [
           {
            "cells": {
             "fill": {
              "color": "#EBF0F8"
             },
             "line": {
              "color": "white"
             }
            },
            "header": {
             "fill": {
              "color": "#C8D4E3"
             },
             "line": {
              "color": "white"
             }
            },
            "type": "table"
           }
          ]
         },
         "layout": {
          "annotationdefaults": {
           "arrowcolor": "#2a3f5f",
           "arrowhead": 0,
           "arrowwidth": 1
          },
          "autotypenumbers": "strict",
          "coloraxis": {
           "colorbar": {
            "outlinewidth": 0,
            "ticks": ""
           }
          },
          "colorscale": {
           "diverging": [
            [
             0,
             "#8e0152"
            ],
            [
             0.1,
             "#c51b7d"
            ],
            [
             0.2,
             "#de77ae"
            ],
            [
             0.3,
             "#f1b6da"
            ],
            [
             0.4,
             "#fde0ef"
            ],
            [
             0.5,
             "#f7f7f7"
            ],
            [
             0.6,
             "#e6f5d0"
            ],
            [
             0.7,
             "#b8e186"
            ],
            [
             0.8,
             "#7fbc41"
            ],
            [
             0.9,
             "#4d9221"
            ],
            [
             1,
             "#276419"
            ]
           ],
           "sequential": [
            [
             0,
             "#0d0887"
            ],
            [
             0.1111111111111111,
             "#46039f"
            ],
            [
             0.2222222222222222,
             "#7201a8"
            ],
            [
             0.3333333333333333,
             "#9c179e"
            ],
            [
             0.4444444444444444,
             "#bd3786"
            ],
            [
             0.5555555555555556,
             "#d8576b"
            ],
            [
             0.6666666666666666,
             "#ed7953"
            ],
            [
             0.7777777777777778,
             "#fb9f3a"
            ],
            [
             0.8888888888888888,
             "#fdca26"
            ],
            [
             1,
             "#f0f921"
            ]
           ],
           "sequentialminus": [
            [
             0,
             "#0d0887"
            ],
            [
             0.1111111111111111,
             "#46039f"
            ],
            [
             0.2222222222222222,
             "#7201a8"
            ],
            [
             0.3333333333333333,
             "#9c179e"
            ],
            [
             0.4444444444444444,
             "#bd3786"
            ],
            [
             0.5555555555555556,
             "#d8576b"
            ],
            [
             0.6666666666666666,
             "#ed7953"
            ],
            [
             0.7777777777777778,
             "#fb9f3a"
            ],
            [
             0.8888888888888888,
             "#fdca26"
            ],
            [
             1,
             "#f0f921"
            ]
           ]
          },
          "colorway": [
           "#636efa",
           "#EF553B",
           "#00cc96",
           "#ab63fa",
           "#FFA15A",
           "#19d3f3",
           "#FF6692",
           "#B6E880",
           "#FF97FF",
           "#FECB52"
          ],
          "font": {
           "color": "#2a3f5f"
          },
          "geo": {
           "bgcolor": "white",
           "lakecolor": "white",
           "landcolor": "#E5ECF6",
           "showlakes": true,
           "showland": true,
           "subunitcolor": "white"
          },
          "hoverlabel": {
           "align": "left"
          },
          "hovermode": "closest",
          "mapbox": {
           "style": "light"
          },
          "paper_bgcolor": "white",
          "plot_bgcolor": "#E5ECF6",
          "polar": {
           "angularaxis": {
            "gridcolor": "white",
            "linecolor": "white",
            "ticks": ""
           },
           "bgcolor": "#E5ECF6",
           "radialaxis": {
            "gridcolor": "white",
            "linecolor": "white",
            "ticks": ""
           }
          },
          "scene": {
           "xaxis": {
            "backgroundcolor": "#E5ECF6",
            "gridcolor": "white",
            "gridwidth": 2,
            "linecolor": "white",
            "showbackground": true,
            "ticks": "",
            "zerolinecolor": "white"
           },
           "yaxis": {
            "backgroundcolor": "#E5ECF6",
            "gridcolor": "white",
            "gridwidth": 2,
            "linecolor": "white",
            "showbackground": true,
            "ticks": "",
            "zerolinecolor": "white"
           },
           "zaxis": {
            "backgroundcolor": "#E5ECF6",
            "gridcolor": "white",
            "gridwidth": 2,
            "linecolor": "white",
            "showbackground": true,
            "ticks": "",
            "zerolinecolor": "white"
           }
          },
          "shapedefaults": {
           "line": {
            "color": "#2a3f5f"
           }
          },
          "ternary": {
           "aaxis": {
            "gridcolor": "white",
            "linecolor": "white",
            "ticks": ""
           },
           "baxis": {
            "gridcolor": "white",
            "linecolor": "white",
            "ticks": ""
           },
           "bgcolor": "#E5ECF6",
           "caxis": {
            "gridcolor": "white",
            "linecolor": "white",
            "ticks": ""
           }
          },
          "title": {
           "x": 0.05
          },
          "xaxis": {
           "automargin": true,
           "gridcolor": "white",
           "linecolor": "white",
           "ticks": "",
           "title": {
            "standoff": 15
           },
           "zerolinecolor": "white",
           "zerolinewidth": 2
          },
          "yaxis": {
           "automargin": true,
           "gridcolor": "white",
           "linecolor": "white",
           "ticks": "",
           "title": {
            "standoff": 15
           },
           "zerolinecolor": "white",
           "zerolinewidth": 2
          }
         }
        },
        "xaxis": {
         "anchor": "y",
         "domain": [
          0,
          1
         ],
         "title": {
          "text": "index"
         }
        },
        "yaxis": {
         "anchor": "x",
         "domain": [
          0,
          1
         ],
         "title": {
          "text": "value"
         }
        }
       }
      }
     },
     "metadata": {},
     "output_type": "display_data"
    }
   ],
   "source": [
    "px.scatter(df_3)"
   ]
  },
  {
   "cell_type": "markdown",
   "metadata": {},
   "source": [
    "lösung: sind nur vier werte davon 3 mit nicht verwertbarer datetime also einfach rauslöschen"
   ]
  },
  {
   "cell_type": "code",
   "execution_count": 87,
   "metadata": {},
   "outputs": [],
   "source": [
    "df = df.drop(df[df.item_price == 999].index)"
   ]
  },
  {
   "cell_type": "markdown",
   "metadata": {},
   "source": [
    "Porblem delivery date before order date"
   ]
  },
  {
   "cell_type": "code",
   "execution_count": 38,
   "metadata": {},
   "outputs": [
    {
     "data": {
      "text/plain": [
       "delivery_date\n",
       "1994-12-31     888\n",
       "2016-06-26    1534\n",
       "2016-06-27    1454\n",
       "2016-06-28    2636\n",
       "2016-06-29    2129\n",
       "              ... \n",
       "2016-12-05      11\n",
       "2016-12-06       1\n",
       "2016-12-10       5\n",
       "2016-12-21       3\n",
       "2017-01-23       1\n",
       "Name: delivery_date, Length: 113, dtype: int64"
      ]
     },
     "execution_count": 38,
     "metadata": {},
     "output_type": "execute_result"
    }
   ],
   "source": [
    "df.groupby(\"delivery_date\")[\"delivery_date\"].count()"
   ]
  },
  {
   "cell_type": "code",
   "execution_count": 39,
   "metadata": {},
   "outputs": [
    {
     "data": {
      "application/vnd.plotly.v1+json": {
       "config": {
        "plotlyServerURL": "https://plot.ly"
       },
       "data": [
        {
         "hovertemplate": "variable=delivery_date<br>index=%{x}<br>value=%{y}<extra></extra>",
         "legendgroup": "delivery_date",
         "marker": {
          "color": "#636efa",
          "symbol": "circle"
         },
         "mode": "markers",
         "name": "delivery_date",
         "orientation": "v",
         "showlegend": true,
         "type": "scatter",
         "x": [
          "1994-12-31T00:00:00",
          "2016-06-26T00:00:00",
          "2016-06-27T00:00:00",
          "2016-06-28T00:00:00",
          "2016-06-29T00:00:00",
          "2016-07-02T00:00:00",
          "2016-07-03T00:00:00",
          "2016-07-04T00:00:00",
          "2016-07-05T00:00:00",
          "2016-07-06T00:00:00",
          "2016-07-16T00:00:00",
          "2016-07-17T00:00:00",
          "2016-07-18T00:00:00",
          "2016-07-19T00:00:00",
          "2016-07-20T00:00:00",
          "2016-07-23T00:00:00",
          "2016-07-24T00:00:00",
          "2016-07-25T00:00:00",
          "2016-07-26T00:00:00",
          "2016-07-27T00:00:00",
          "2016-07-30T00:00:00",
          "2016-07-31T00:00:00",
          "2016-08-01T00:00:00",
          "2016-08-02T00:00:00",
          "2016-08-03T00:00:00",
          "2016-08-06T00:00:00",
          "2016-08-07T00:00:00",
          "2016-08-08T00:00:00",
          "2016-08-09T00:00:00",
          "2016-08-10T00:00:00",
          "2016-08-11T00:00:00",
          "2016-08-13T00:00:00",
          "2016-08-14T00:00:00",
          "2016-08-15T00:00:00",
          "2016-08-16T00:00:00",
          "2016-08-17T00:00:00",
          "2016-08-20T00:00:00",
          "2016-08-21T00:00:00",
          "2016-08-22T00:00:00",
          "2016-08-23T00:00:00",
          "2016-08-24T00:00:00",
          "2016-08-27T00:00:00",
          "2016-08-28T00:00:00",
          "2016-08-29T00:00:00",
          "2016-08-30T00:00:00",
          "2016-08-31T00:00:00",
          "2016-09-03T00:00:00",
          "2016-09-04T00:00:00",
          "2016-09-05T00:00:00",
          "2016-09-06T00:00:00",
          "2016-09-07T00:00:00",
          "2016-09-08T00:00:00",
          "2016-09-10T00:00:00",
          "2016-09-11T00:00:00",
          "2016-09-12T00:00:00",
          "2016-09-13T00:00:00",
          "2016-09-14T00:00:00",
          "2016-09-17T00:00:00",
          "2016-09-18T00:00:00",
          "2016-09-19T00:00:00",
          "2016-09-20T00:00:00",
          "2016-09-21T00:00:00",
          "2016-09-24T00:00:00",
          "2016-09-25T00:00:00",
          "2016-09-26T00:00:00",
          "2016-09-27T00:00:00",
          "2016-09-28T00:00:00",
          "2016-10-02T00:00:00",
          "2016-10-03T00:00:00",
          "2016-10-04T00:00:00",
          "2016-10-05T00:00:00",
          "2016-10-08T00:00:00",
          "2016-10-09T00:00:00",
          "2016-10-11T00:00:00",
          "2016-10-12T00:00:00",
          "2016-10-15T00:00:00",
          "2016-10-16T00:00:00",
          "2016-10-17T00:00:00",
          "2016-10-18T00:00:00",
          "2016-10-19T00:00:00",
          "2016-10-22T00:00:00",
          "2016-10-23T00:00:00",
          "2016-10-24T00:00:00",
          "2016-10-25T00:00:00",
          "2016-10-26T00:00:00",
          "2016-10-27T00:00:00",
          "2016-10-29T00:00:00",
          "2016-10-30T00:00:00",
          "2016-10-31T00:00:00",
          "2016-11-01T00:00:00",
          "2016-11-02T00:00:00",
          "2016-11-03T00:00:00",
          "2016-11-05T00:00:00",
          "2016-11-06T00:00:00",
          "2016-11-07T00:00:00",
          "2016-11-08T00:00:00",
          "2016-11-09T00:00:00",
          "2016-11-12T00:00:00",
          "2016-11-13T00:00:00",
          "2016-11-14T00:00:00",
          "2016-11-15T00:00:00",
          "2016-11-16T00:00:00",
          "2016-11-19T00:00:00",
          "2016-11-22T00:00:00",
          "2016-11-23T00:00:00",
          "2016-11-26T00:00:00",
          "2016-11-27T00:00:00",
          "2016-12-03T00:00:00",
          "2016-12-05T00:00:00",
          "2016-12-06T00:00:00",
          "2016-12-10T00:00:00",
          "2016-12-21T00:00:00",
          "2017-01-23T00:00:00"
         ],
         "xaxis": "x",
         "y": [
          888,
          1534,
          1454,
          2636,
          2129,
          2150,
          5061,
          2899,
          1378,
          1345,
          1691,
          1678,
          2587,
          1724,
          544,
          1482,
          1229,
          673,
          687,
          842,
          1283,
          1239,
          799,
          863,
          1107,
          1612,
          2495,
          2082,
          1587,
          2389,
          305,
          2075,
          2283,
          1885,
          1067,
          1099,
          1561,
          1391,
          471,
          1026,
          515,
          126,
          60,
          178,
          139,
          105,
          239,
          4,
          172,
          96,
          27,
          1,
          74,
          3,
          181,
          71,
          49,
          285,
          1,
          42,
          107,
          40,
          152,
          21,
          40,
          18,
          48,
          105,
          27,
          21,
          30,
          72,
          20,
          14,
          15,
          50,
          21,
          15,
          3,
          60,
          18,
          11,
          15,
          1,
          75,
          28,
          68,
          43,
          30,
          26,
          42,
          5,
          37,
          34,
          2,
          1,
          1,
          20,
          9,
          18,
          1,
          11,
          18,
          4,
          6,
          1,
          13,
          1,
          11,
          1,
          5,
          3,
          1
         ],
         "yaxis": "y"
        }
       ],
       "layout": {
        "legend": {
         "title": {
          "text": "variable"
         },
         "tracegroupgap": 0
        },
        "margin": {
         "t": 60
        },
        "template": {
         "data": {
          "bar": [
           {
            "error_x": {
             "color": "#2a3f5f"
            },
            "error_y": {
             "color": "#2a3f5f"
            },
            "marker": {
             "line": {
              "color": "#E5ECF6",
              "width": 0.5
             },
             "pattern": {
              "fillmode": "overlay",
              "size": 10,
              "solidity": 0.2
             }
            },
            "type": "bar"
           }
          ],
          "barpolar": [
           {
            "marker": {
             "line": {
              "color": "#E5ECF6",
              "width": 0.5
             },
             "pattern": {
              "fillmode": "overlay",
              "size": 10,
              "solidity": 0.2
             }
            },
            "type": "barpolar"
           }
          ],
          "carpet": [
           {
            "aaxis": {
             "endlinecolor": "#2a3f5f",
             "gridcolor": "white",
             "linecolor": "white",
             "minorgridcolor": "white",
             "startlinecolor": "#2a3f5f"
            },
            "baxis": {
             "endlinecolor": "#2a3f5f",
             "gridcolor": "white",
             "linecolor": "white",
             "minorgridcolor": "white",
             "startlinecolor": "#2a3f5f"
            },
            "type": "carpet"
           }
          ],
          "choropleth": [
           {
            "colorbar": {
             "outlinewidth": 0,
             "ticks": ""
            },
            "type": "choropleth"
           }
          ],
          "contour": [
           {
            "colorbar": {
             "outlinewidth": 0,
             "ticks": ""
            },
            "colorscale": [
             [
              0,
              "#0d0887"
             ],
             [
              0.1111111111111111,
              "#46039f"
             ],
             [
              0.2222222222222222,
              "#7201a8"
             ],
             [
              0.3333333333333333,
              "#9c179e"
             ],
             [
              0.4444444444444444,
              "#bd3786"
             ],
             [
              0.5555555555555556,
              "#d8576b"
             ],
             [
              0.6666666666666666,
              "#ed7953"
             ],
             [
              0.7777777777777778,
              "#fb9f3a"
             ],
             [
              0.8888888888888888,
              "#fdca26"
             ],
             [
              1,
              "#f0f921"
             ]
            ],
            "type": "contour"
           }
          ],
          "contourcarpet": [
           {
            "colorbar": {
             "outlinewidth": 0,
             "ticks": ""
            },
            "type": "contourcarpet"
           }
          ],
          "heatmap": [
           {
            "colorbar": {
             "outlinewidth": 0,
             "ticks": ""
            },
            "colorscale": [
             [
              0,
              "#0d0887"
             ],
             [
              0.1111111111111111,
              "#46039f"
             ],
             [
              0.2222222222222222,
              "#7201a8"
             ],
             [
              0.3333333333333333,
              "#9c179e"
             ],
             [
              0.4444444444444444,
              "#bd3786"
             ],
             [
              0.5555555555555556,
              "#d8576b"
             ],
             [
              0.6666666666666666,
              "#ed7953"
             ],
             [
              0.7777777777777778,
              "#fb9f3a"
             ],
             [
              0.8888888888888888,
              "#fdca26"
             ],
             [
              1,
              "#f0f921"
             ]
            ],
            "type": "heatmap"
           }
          ],
          "heatmapgl": [
           {
            "colorbar": {
             "outlinewidth": 0,
             "ticks": ""
            },
            "colorscale": [
             [
              0,
              "#0d0887"
             ],
             [
              0.1111111111111111,
              "#46039f"
             ],
             [
              0.2222222222222222,
              "#7201a8"
             ],
             [
              0.3333333333333333,
              "#9c179e"
             ],
             [
              0.4444444444444444,
              "#bd3786"
             ],
             [
              0.5555555555555556,
              "#d8576b"
             ],
             [
              0.6666666666666666,
              "#ed7953"
             ],
             [
              0.7777777777777778,
              "#fb9f3a"
             ],
             [
              0.8888888888888888,
              "#fdca26"
             ],
             [
              1,
              "#f0f921"
             ]
            ],
            "type": "heatmapgl"
           }
          ],
          "histogram": [
           {
            "marker": {
             "pattern": {
              "fillmode": "overlay",
              "size": 10,
              "solidity": 0.2
             }
            },
            "type": "histogram"
           }
          ],
          "histogram2d": [
           {
            "colorbar": {
             "outlinewidth": 0,
             "ticks": ""
            },
            "colorscale": [
             [
              0,
              "#0d0887"
             ],
             [
              0.1111111111111111,
              "#46039f"
             ],
             [
              0.2222222222222222,
              "#7201a8"
             ],
             [
              0.3333333333333333,
              "#9c179e"
             ],
             [
              0.4444444444444444,
              "#bd3786"
             ],
             [
              0.5555555555555556,
              "#d8576b"
             ],
             [
              0.6666666666666666,
              "#ed7953"
             ],
             [
              0.7777777777777778,
              "#fb9f3a"
             ],
             [
              0.8888888888888888,
              "#fdca26"
             ],
             [
              1,
              "#f0f921"
             ]
            ],
            "type": "histogram2d"
           }
          ],
          "histogram2dcontour": [
           {
            "colorbar": {
             "outlinewidth": 0,
             "ticks": ""
            },
            "colorscale": [
             [
              0,
              "#0d0887"
             ],
             [
              0.1111111111111111,
              "#46039f"
             ],
             [
              0.2222222222222222,
              "#7201a8"
             ],
             [
              0.3333333333333333,
              "#9c179e"
             ],
             [
              0.4444444444444444,
              "#bd3786"
             ],
             [
              0.5555555555555556,
              "#d8576b"
             ],
             [
              0.6666666666666666,
              "#ed7953"
             ],
             [
              0.7777777777777778,
              "#fb9f3a"
             ],
             [
              0.8888888888888888,
              "#fdca26"
             ],
             [
              1,
              "#f0f921"
             ]
            ],
            "type": "histogram2dcontour"
           }
          ],
          "mesh3d": [
           {
            "colorbar": {
             "outlinewidth": 0,
             "ticks": ""
            },
            "type": "mesh3d"
           }
          ],
          "parcoords": [
           {
            "line": {
             "colorbar": {
              "outlinewidth": 0,
              "ticks": ""
             }
            },
            "type": "parcoords"
           }
          ],
          "pie": [
           {
            "automargin": true,
            "type": "pie"
           }
          ],
          "scatter": [
           {
            "fillpattern": {
             "fillmode": "overlay",
             "size": 10,
             "solidity": 0.2
            },
            "type": "scatter"
           }
          ],
          "scatter3d": [
           {
            "line": {
             "colorbar": {
              "outlinewidth": 0,
              "ticks": ""
             }
            },
            "marker": {
             "colorbar": {
              "outlinewidth": 0,
              "ticks": ""
             }
            },
            "type": "scatter3d"
           }
          ],
          "scattercarpet": [
           {
            "marker": {
             "colorbar": {
              "outlinewidth": 0,
              "ticks": ""
             }
            },
            "type": "scattercarpet"
           }
          ],
          "scattergeo": [
           {
            "marker": {
             "colorbar": {
              "outlinewidth": 0,
              "ticks": ""
             }
            },
            "type": "scattergeo"
           }
          ],
          "scattergl": [
           {
            "marker": {
             "colorbar": {
              "outlinewidth": 0,
              "ticks": ""
             }
            },
            "type": "scattergl"
           }
          ],
          "scattermapbox": [
           {
            "marker": {
             "colorbar": {
              "outlinewidth": 0,
              "ticks": ""
             }
            },
            "type": "scattermapbox"
           }
          ],
          "scatterpolar": [
           {
            "marker": {
             "colorbar": {
              "outlinewidth": 0,
              "ticks": ""
             }
            },
            "type": "scatterpolar"
           }
          ],
          "scatterpolargl": [
           {
            "marker": {
             "colorbar": {
              "outlinewidth": 0,
              "ticks": ""
             }
            },
            "type": "scatterpolargl"
           }
          ],
          "scatterternary": [
           {
            "marker": {
             "colorbar": {
              "outlinewidth": 0,
              "ticks": ""
             }
            },
            "type": "scatterternary"
           }
          ],
          "surface": [
           {
            "colorbar": {
             "outlinewidth": 0,
             "ticks": ""
            },
            "colorscale": [
             [
              0,
              "#0d0887"
             ],
             [
              0.1111111111111111,
              "#46039f"
             ],
             [
              0.2222222222222222,
              "#7201a8"
             ],
             [
              0.3333333333333333,
              "#9c179e"
             ],
             [
              0.4444444444444444,
              "#bd3786"
             ],
             [
              0.5555555555555556,
              "#d8576b"
             ],
             [
              0.6666666666666666,
              "#ed7953"
             ],
             [
              0.7777777777777778,
              "#fb9f3a"
             ],
             [
              0.8888888888888888,
              "#fdca26"
             ],
             [
              1,
              "#f0f921"
             ]
            ],
            "type": "surface"
           }
          ],
          "table": [
           {
            "cells": {
             "fill": {
              "color": "#EBF0F8"
             },
             "line": {
              "color": "white"
             }
            },
            "header": {
             "fill": {
              "color": "#C8D4E3"
             },
             "line": {
              "color": "white"
             }
            },
            "type": "table"
           }
          ]
         },
         "layout": {
          "annotationdefaults": {
           "arrowcolor": "#2a3f5f",
           "arrowhead": 0,
           "arrowwidth": 1
          },
          "autotypenumbers": "strict",
          "coloraxis": {
           "colorbar": {
            "outlinewidth": 0,
            "ticks": ""
           }
          },
          "colorscale": {
           "diverging": [
            [
             0,
             "#8e0152"
            ],
            [
             0.1,
             "#c51b7d"
            ],
            [
             0.2,
             "#de77ae"
            ],
            [
             0.3,
             "#f1b6da"
            ],
            [
             0.4,
             "#fde0ef"
            ],
            [
             0.5,
             "#f7f7f7"
            ],
            [
             0.6,
             "#e6f5d0"
            ],
            [
             0.7,
             "#b8e186"
            ],
            [
             0.8,
             "#7fbc41"
            ],
            [
             0.9,
             "#4d9221"
            ],
            [
             1,
             "#276419"
            ]
           ],
           "sequential": [
            [
             0,
             "#0d0887"
            ],
            [
             0.1111111111111111,
             "#46039f"
            ],
            [
             0.2222222222222222,
             "#7201a8"
            ],
            [
             0.3333333333333333,
             "#9c179e"
            ],
            [
             0.4444444444444444,
             "#bd3786"
            ],
            [
             0.5555555555555556,
             "#d8576b"
            ],
            [
             0.6666666666666666,
             "#ed7953"
            ],
            [
             0.7777777777777778,
             "#fb9f3a"
            ],
            [
             0.8888888888888888,
             "#fdca26"
            ],
            [
             1,
             "#f0f921"
            ]
           ],
           "sequentialminus": [
            [
             0,
             "#0d0887"
            ],
            [
             0.1111111111111111,
             "#46039f"
            ],
            [
             0.2222222222222222,
             "#7201a8"
            ],
            [
             0.3333333333333333,
             "#9c179e"
            ],
            [
             0.4444444444444444,
             "#bd3786"
            ],
            [
             0.5555555555555556,
             "#d8576b"
            ],
            [
             0.6666666666666666,
             "#ed7953"
            ],
            [
             0.7777777777777778,
             "#fb9f3a"
            ],
            [
             0.8888888888888888,
             "#fdca26"
            ],
            [
             1,
             "#f0f921"
            ]
           ]
          },
          "colorway": [
           "#636efa",
           "#EF553B",
           "#00cc96",
           "#ab63fa",
           "#FFA15A",
           "#19d3f3",
           "#FF6692",
           "#B6E880",
           "#FF97FF",
           "#FECB52"
          ],
          "font": {
           "color": "#2a3f5f"
          },
          "geo": {
           "bgcolor": "white",
           "lakecolor": "white",
           "landcolor": "#E5ECF6",
           "showlakes": true,
           "showland": true,
           "subunitcolor": "white"
          },
          "hoverlabel": {
           "align": "left"
          },
          "hovermode": "closest",
          "mapbox": {
           "style": "light"
          },
          "paper_bgcolor": "white",
          "plot_bgcolor": "#E5ECF6",
          "polar": {
           "angularaxis": {
            "gridcolor": "white",
            "linecolor": "white",
            "ticks": ""
           },
           "bgcolor": "#E5ECF6",
           "radialaxis": {
            "gridcolor": "white",
            "linecolor": "white",
            "ticks": ""
           }
          },
          "scene": {
           "xaxis": {
            "backgroundcolor": "#E5ECF6",
            "gridcolor": "white",
            "gridwidth": 2,
            "linecolor": "white",
            "showbackground": true,
            "ticks": "",
            "zerolinecolor": "white"
           },
           "yaxis": {
            "backgroundcolor": "#E5ECF6",
            "gridcolor": "white",
            "gridwidth": 2,
            "linecolor": "white",
            "showbackground": true,
            "ticks": "",
            "zerolinecolor": "white"
           },
           "zaxis": {
            "backgroundcolor": "#E5ECF6",
            "gridcolor": "white",
            "gridwidth": 2,
            "linecolor": "white",
            "showbackground": true,
            "ticks": "",
            "zerolinecolor": "white"
           }
          },
          "shapedefaults": {
           "line": {
            "color": "#2a3f5f"
           }
          },
          "ternary": {
           "aaxis": {
            "gridcolor": "white",
            "linecolor": "white",
            "ticks": ""
           },
           "baxis": {
            "gridcolor": "white",
            "linecolor": "white",
            "ticks": ""
           },
           "bgcolor": "#E5ECF6",
           "caxis": {
            "gridcolor": "white",
            "linecolor": "white",
            "ticks": ""
           }
          },
          "title": {
           "x": 0.05
          },
          "xaxis": {
           "automargin": true,
           "gridcolor": "white",
           "linecolor": "white",
           "ticks": "",
           "title": {
            "standoff": 15
           },
           "zerolinecolor": "white",
           "zerolinewidth": 2
          },
          "yaxis": {
           "automargin": true,
           "gridcolor": "white",
           "linecolor": "white",
           "ticks": "",
           "title": {
            "standoff": 15
           },
           "zerolinecolor": "white",
           "zerolinewidth": 2
          }
         }
        },
        "xaxis": {
         "anchor": "y",
         "domain": [
          0,
          1
         ],
         "title": {
          "text": "index"
         }
        },
        "yaxis": {
         "anchor": "x",
         "domain": [
          0,
          1
         ],
         "title": {
          "text": "value"
         }
        }
       }
      }
     },
     "metadata": {},
     "output_type": "display_data"
    }
   ],
   "source": [
    "px.scatter(df.groupby(\"delivery_date\")[\"delivery_date\"].count())"
   ]
  },
  {
   "cell_type": "code",
   "execution_count": null,
   "metadata": {},
   "outputs": [],
   "source": [
    "df = df.drop(df[df.delivery_date < df.order_date].index)"
   ]
  },
  {
   "cell_type": "code",
   "execution_count": null,
   "metadata": {},
   "outputs": [],
   "source": [
    "df[df.delivery_date < df.order_date]"
   ]
  },
  {
   "cell_type": "markdown",
   "metadata": {},
   "source": [
    "Problem dob null"
   ]
  },
  {
   "cell_type": "code",
   "execution_count": null,
   "metadata": {},
   "outputs": [],
   "source": [
    "df[df.user_dob.isnull()]#[\"item_id\"].nunique()"
   ]
  },
  {
   "cell_type": "markdown",
   "metadata": {},
   "source": [
    "Problem delivery date null"
   ]
  },
  {
   "cell_type": "code",
   "execution_count": 86,
   "metadata": {},
   "outputs": [
    {
     "data": {
      "text/html": [
       "<div>\n",
       "<style scoped>\n",
       "    .dataframe tbody tr th:only-of-type {\n",
       "        vertical-align: middle;\n",
       "    }\n",
       "\n",
       "    .dataframe tbody tr th {\n",
       "        vertical-align: top;\n",
       "    }\n",
       "\n",
       "    .dataframe thead th {\n",
       "        text-align: right;\n",
       "    }\n",
       "</style>\n",
       "<table border=\"1\" class=\"dataframe\">\n",
       "  <thead>\n",
       "    <tr style=\"text-align: right;\">\n",
       "      <th></th>\n",
       "      <th>order_item_id</th>\n",
       "      <th>order_date</th>\n",
       "      <th>delivery_date</th>\n",
       "      <th>item_id</th>\n",
       "      <th>item_size</th>\n",
       "      <th>item_color</th>\n",
       "      <th>brand_id</th>\n",
       "      <th>item_price</th>\n",
       "      <th>user_id</th>\n",
       "      <th>user_title</th>\n",
       "      <th>user_dob</th>\n",
       "      <th>user_state</th>\n",
       "      <th>user_reg_date</th>\n",
       "      <th>return</th>\n",
       "      <th>age</th>\n",
       "    </tr>\n",
       "  </thead>\n",
       "  <tbody>\n",
       "    <tr>\n",
       "      <th>1</th>\n",
       "      <td>2</td>\n",
       "      <td>2016-06-22</td>\n",
       "      <td>NaT</td>\n",
       "      <td>337</td>\n",
       "      <td>152</td>\n",
       "      <td>grey</td>\n",
       "      <td>30</td>\n",
       "      <td>19.95</td>\n",
       "      <td>30822</td>\n",
       "      <td>Mrs</td>\n",
       "      <td>1969-04-17</td>\n",
       "      <td>Saxony</td>\n",
       "      <td>2016-06-23</td>\n",
       "      <td>0</td>\n",
       "      <td>47.0</td>\n",
       "    </tr>\n",
       "    <tr>\n",
       "      <th>55</th>\n",
       "      <td>56</td>\n",
       "      <td>2016-06-23</td>\n",
       "      <td>NaT</td>\n",
       "      <td>5</td>\n",
       "      <td>l</td>\n",
       "      <td>white</td>\n",
       "      <td>5</td>\n",
       "      <td>69.90</td>\n",
       "      <td>30828</td>\n",
       "      <td>Mrs</td>\n",
       "      <td>1966-05-13</td>\n",
       "      <td>Lower Saxony</td>\n",
       "      <td>2016-01-21</td>\n",
       "      <td>0</td>\n",
       "      <td>50.0</td>\n",
       "    </tr>\n",
       "    <tr>\n",
       "      <th>63</th>\n",
       "      <td>64</td>\n",
       "      <td>2016-06-23</td>\n",
       "      <td>NaT</td>\n",
       "      <td>211</td>\n",
       "      <td>40</td>\n",
       "      <td>turquoise</td>\n",
       "      <td>1</td>\n",
       "      <td>69.90</td>\n",
       "      <td>22948</td>\n",
       "      <td>Mrs</td>\n",
       "      <td>1957-03-11</td>\n",
       "      <td>Baden-Wuerttemberg</td>\n",
       "      <td>2015-02-17</td>\n",
       "      <td>0</td>\n",
       "      <td>59.0</td>\n",
       "    </tr>\n",
       "    <tr>\n",
       "      <th>64</th>\n",
       "      <td>65</td>\n",
       "      <td>2016-06-23</td>\n",
       "      <td>NaT</td>\n",
       "      <td>55</td>\n",
       "      <td>40</td>\n",
       "      <td>purple</td>\n",
       "      <td>1</td>\n",
       "      <td>89.90</td>\n",
       "      <td>22948</td>\n",
       "      <td>Mrs</td>\n",
       "      <td>1957-03-11</td>\n",
       "      <td>Baden-Wuerttemberg</td>\n",
       "      <td>2015-02-17</td>\n",
       "      <td>0</td>\n",
       "      <td>59.0</td>\n",
       "    </tr>\n",
       "    <tr>\n",
       "      <th>65</th>\n",
       "      <td>66</td>\n",
       "      <td>2016-06-23</td>\n",
       "      <td>NaT</td>\n",
       "      <td>74</td>\n",
       "      <td>40</td>\n",
       "      <td>pink</td>\n",
       "      <td>24</td>\n",
       "      <td>69.90</td>\n",
       "      <td>22948</td>\n",
       "      <td>Mrs</td>\n",
       "      <td>1957-03-11</td>\n",
       "      <td>Baden-Wuerttemberg</td>\n",
       "      <td>2015-02-17</td>\n",
       "      <td>0</td>\n",
       "      <td>59.0</td>\n",
       "    </tr>\n",
       "    <tr>\n",
       "      <th>...</th>\n",
       "      <td>...</td>\n",
       "      <td>...</td>\n",
       "      <td>...</td>\n",
       "      <td>...</td>\n",
       "      <td>...</td>\n",
       "      <td>...</td>\n",
       "      <td>...</td>\n",
       "      <td>...</td>\n",
       "      <td>...</td>\n",
       "      <td>...</td>\n",
       "      <td>...</td>\n",
       "      <td>...</td>\n",
       "      <td>...</td>\n",
       "      <td>...</td>\n",
       "      <td>...</td>\n",
       "    </tr>\n",
       "    <tr>\n",
       "      <th>74831</th>\n",
       "      <td>74832</td>\n",
       "      <td>2016-08-20</td>\n",
       "      <td>NaT</td>\n",
       "      <td>1560</td>\n",
       "      <td>41</td>\n",
       "      <td>brown</td>\n",
       "      <td>17</td>\n",
       "      <td>169.90</td>\n",
       "      <td>43763</td>\n",
       "      <td>Mrs</td>\n",
       "      <td>1965-04-28</td>\n",
       "      <td>Lower Saxony</td>\n",
       "      <td>2016-08-21</td>\n",
       "      <td>0</td>\n",
       "      <td>51.0</td>\n",
       "    </tr>\n",
       "    <tr>\n",
       "      <th>74839</th>\n",
       "      <td>74840</td>\n",
       "      <td>2016-08-20</td>\n",
       "      <td>NaT</td>\n",
       "      <td>1881</td>\n",
       "      <td>6</td>\n",
       "      <td>black</td>\n",
       "      <td>19</td>\n",
       "      <td>99.90</td>\n",
       "      <td>38972</td>\n",
       "      <td>Mrs</td>\n",
       "      <td>1953-04-06</td>\n",
       "      <td>Hesse</td>\n",
       "      <td>2015-02-17</td>\n",
       "      <td>0</td>\n",
       "      <td>63.0</td>\n",
       "    </tr>\n",
       "    <tr>\n",
       "      <th>74924</th>\n",
       "      <td>74925</td>\n",
       "      <td>2016-08-20</td>\n",
       "      <td>NaT</td>\n",
       "      <td>1876</td>\n",
       "      <td>116</td>\n",
       "      <td>pink</td>\n",
       "      <td>30</td>\n",
       "      <td>24.95</td>\n",
       "      <td>19160</td>\n",
       "      <td>Mrs</td>\n",
       "      <td>1948-05-08</td>\n",
       "      <td>North Rhine-Westphalia</td>\n",
       "      <td>2015-02-27</td>\n",
       "      <td>0</td>\n",
       "      <td>68.0</td>\n",
       "    </tr>\n",
       "    <tr>\n",
       "      <th>74925</th>\n",
       "      <td>74926</td>\n",
       "      <td>2016-08-20</td>\n",
       "      <td>NaT</td>\n",
       "      <td>1876</td>\n",
       "      <td>128</td>\n",
       "      <td>pink</td>\n",
       "      <td>30</td>\n",
       "      <td>24.95</td>\n",
       "      <td>19160</td>\n",
       "      <td>Mrs</td>\n",
       "      <td>1948-05-08</td>\n",
       "      <td>North Rhine-Westphalia</td>\n",
       "      <td>2015-02-27</td>\n",
       "      <td>0</td>\n",
       "      <td>68.0</td>\n",
       "    </tr>\n",
       "    <tr>\n",
       "      <th>74926</th>\n",
       "      <td>74927</td>\n",
       "      <td>2016-08-20</td>\n",
       "      <td>NaT</td>\n",
       "      <td>1704</td>\n",
       "      <td>42</td>\n",
       "      <td>ocher</td>\n",
       "      <td>6</td>\n",
       "      <td>59.90</td>\n",
       "      <td>19160</td>\n",
       "      <td>Mrs</td>\n",
       "      <td>1948-05-08</td>\n",
       "      <td>North Rhine-Westphalia</td>\n",
       "      <td>2015-02-27</td>\n",
       "      <td>0</td>\n",
       "      <td>68.0</td>\n",
       "    </tr>\n",
       "  </tbody>\n",
       "</table>\n",
       "<p>7970 rows × 15 columns</p>\n",
       "</div>"
      ],
      "text/plain": [
       "       order_item_id order_date delivery_date  item_id item_size item_color  \\\n",
       "1                  2 2016-06-22           NaT      337       152       grey   \n",
       "55                56 2016-06-23           NaT        5         l      white   \n",
       "63                64 2016-06-23           NaT      211        40  turquoise   \n",
       "64                65 2016-06-23           NaT       55        40     purple   \n",
       "65                66 2016-06-23           NaT       74        40       pink   \n",
       "...              ...        ...           ...      ...       ...        ...   \n",
       "74831          74832 2016-08-20           NaT     1560        41      brown   \n",
       "74839          74840 2016-08-20           NaT     1881         6      black   \n",
       "74924          74925 2016-08-20           NaT     1876       116       pink   \n",
       "74925          74926 2016-08-20           NaT     1876       128       pink   \n",
       "74926          74927 2016-08-20           NaT     1704        42      ocher   \n",
       "\n",
       "       brand_id  item_price  user_id user_title   user_dob  \\\n",
       "1            30       19.95    30822        Mrs 1969-04-17   \n",
       "55            5       69.90    30828        Mrs 1966-05-13   \n",
       "63            1       69.90    22948        Mrs 1957-03-11   \n",
       "64            1       89.90    22948        Mrs 1957-03-11   \n",
       "65           24       69.90    22948        Mrs 1957-03-11   \n",
       "...         ...         ...      ...        ...        ...   \n",
       "74831        17      169.90    43763        Mrs 1965-04-28   \n",
       "74839        19       99.90    38972        Mrs 1953-04-06   \n",
       "74924        30       24.95    19160        Mrs 1948-05-08   \n",
       "74925        30       24.95    19160        Mrs 1948-05-08   \n",
       "74926         6       59.90    19160        Mrs 1948-05-08   \n",
       "\n",
       "                   user_state user_reg_date  return   age  \n",
       "1                      Saxony    2016-06-23       0  47.0  \n",
       "55               Lower Saxony    2016-01-21       0  50.0  \n",
       "63         Baden-Wuerttemberg    2015-02-17       0  59.0  \n",
       "64         Baden-Wuerttemberg    2015-02-17       0  59.0  \n",
       "65         Baden-Wuerttemberg    2015-02-17       0  59.0  \n",
       "...                       ...           ...     ...   ...  \n",
       "74831            Lower Saxony    2016-08-21       0  51.0  \n",
       "74839                   Hesse    2015-02-17       0  63.0  \n",
       "74924  North Rhine-Westphalia    2015-02-27       0  68.0  \n",
       "74925  North Rhine-Westphalia    2015-02-27       0  68.0  \n",
       "74926  North Rhine-Westphalia    2015-02-27       0  68.0  \n",
       "\n",
       "[7970 rows x 15 columns]"
      ]
     },
     "execution_count": 86,
     "metadata": {},
     "output_type": "execute_result"
    }
   ],
   "source": [
    "#df[df.delivery_date.isnull()][\"item_id\"].nunique()\n",
    "df[df.delivery_date.isnull()]"
   ]
  },
  {
   "cell_type": "code",
   "execution_count": 94,
   "metadata": {},
   "outputs": [
    {
     "data": {
      "text/plain": [
       "77"
      ]
     },
     "execution_count": 94,
     "metadata": {},
     "output_type": "execute_result"
    }
   ],
   "source": [
    "df.item_color.nunique()"
   ]
  },
  {
   "cell_type": "code",
   "execution_count": 92,
   "metadata": {},
   "outputs": [
    {
     "data": {
      "application/vnd.plotly.v1+json": {
       "config": {
        "plotlyServerURL": "https://plot.ly"
       },
       "data": [
        {
         "hovertemplate": "variable=user_state<br>index=%{x}<br>value=%{y}<extra></extra>",
         "legendgroup": "user_state",
         "marker": {
          "color": "#636efa",
          "symbol": "circle"
         },
         "mode": "markers",
         "name": "user_state",
         "orientation": "v",
         "showlegend": true,
         "type": "scatter",
         "x": [
          "Baden-Wuerttemberg",
          "Bavaria",
          "Berlin",
          "Brandenburg",
          "Bremen",
          "Hamburg",
          "Hesse",
          "Lower Saxony",
          "Mecklenburg-Western Pomerania",
          "North Rhine-Westphalia",
          "Rhineland-Palatinate",
          "Saarland",
          "Saxony",
          "Saxony-Anhalt",
          "Schleswig-Holstein",
          "Thuringia"
         ],
         "xaxis": "x",
         "y": [
          9198,
          10473,
          2956,
          1689,
          932,
          1940,
          5523,
          11306,
          1169,
          17005,
          3644,
          659,
          2348,
          875,
          4179,
          1107
         ],
         "yaxis": "y"
        }
       ],
       "layout": {
        "legend": {
         "title": {
          "text": "variable"
         },
         "tracegroupgap": 0
        },
        "margin": {
         "t": 60
        },
        "template": {
         "data": {
          "bar": [
           {
            "error_x": {
             "color": "#2a3f5f"
            },
            "error_y": {
             "color": "#2a3f5f"
            },
            "marker": {
             "line": {
              "color": "#E5ECF6",
              "width": 0.5
             },
             "pattern": {
              "fillmode": "overlay",
              "size": 10,
              "solidity": 0.2
             }
            },
            "type": "bar"
           }
          ],
          "barpolar": [
           {
            "marker": {
             "line": {
              "color": "#E5ECF6",
              "width": 0.5
             },
             "pattern": {
              "fillmode": "overlay",
              "size": 10,
              "solidity": 0.2
             }
            },
            "type": "barpolar"
           }
          ],
          "carpet": [
           {
            "aaxis": {
             "endlinecolor": "#2a3f5f",
             "gridcolor": "white",
             "linecolor": "white",
             "minorgridcolor": "white",
             "startlinecolor": "#2a3f5f"
            },
            "baxis": {
             "endlinecolor": "#2a3f5f",
             "gridcolor": "white",
             "linecolor": "white",
             "minorgridcolor": "white",
             "startlinecolor": "#2a3f5f"
            },
            "type": "carpet"
           }
          ],
          "choropleth": [
           {
            "colorbar": {
             "outlinewidth": 0,
             "ticks": ""
            },
            "type": "choropleth"
           }
          ],
          "contour": [
           {
            "colorbar": {
             "outlinewidth": 0,
             "ticks": ""
            },
            "colorscale": [
             [
              0,
              "#0d0887"
             ],
             [
              0.1111111111111111,
              "#46039f"
             ],
             [
              0.2222222222222222,
              "#7201a8"
             ],
             [
              0.3333333333333333,
              "#9c179e"
             ],
             [
              0.4444444444444444,
              "#bd3786"
             ],
             [
              0.5555555555555556,
              "#d8576b"
             ],
             [
              0.6666666666666666,
              "#ed7953"
             ],
             [
              0.7777777777777778,
              "#fb9f3a"
             ],
             [
              0.8888888888888888,
              "#fdca26"
             ],
             [
              1,
              "#f0f921"
             ]
            ],
            "type": "contour"
           }
          ],
          "contourcarpet": [
           {
            "colorbar": {
             "outlinewidth": 0,
             "ticks": ""
            },
            "type": "contourcarpet"
           }
          ],
          "heatmap": [
           {
            "colorbar": {
             "outlinewidth": 0,
             "ticks": ""
            },
            "colorscale": [
             [
              0,
              "#0d0887"
             ],
             [
              0.1111111111111111,
              "#46039f"
             ],
             [
              0.2222222222222222,
              "#7201a8"
             ],
             [
              0.3333333333333333,
              "#9c179e"
             ],
             [
              0.4444444444444444,
              "#bd3786"
             ],
             [
              0.5555555555555556,
              "#d8576b"
             ],
             [
              0.6666666666666666,
              "#ed7953"
             ],
             [
              0.7777777777777778,
              "#fb9f3a"
             ],
             [
              0.8888888888888888,
              "#fdca26"
             ],
             [
              1,
              "#f0f921"
             ]
            ],
            "type": "heatmap"
           }
          ],
          "heatmapgl": [
           {
            "colorbar": {
             "outlinewidth": 0,
             "ticks": ""
            },
            "colorscale": [
             [
              0,
              "#0d0887"
             ],
             [
              0.1111111111111111,
              "#46039f"
             ],
             [
              0.2222222222222222,
              "#7201a8"
             ],
             [
              0.3333333333333333,
              "#9c179e"
             ],
             [
              0.4444444444444444,
              "#bd3786"
             ],
             [
              0.5555555555555556,
              "#d8576b"
             ],
             [
              0.6666666666666666,
              "#ed7953"
             ],
             [
              0.7777777777777778,
              "#fb9f3a"
             ],
             [
              0.8888888888888888,
              "#fdca26"
             ],
             [
              1,
              "#f0f921"
             ]
            ],
            "type": "heatmapgl"
           }
          ],
          "histogram": [
           {
            "marker": {
             "pattern": {
              "fillmode": "overlay",
              "size": 10,
              "solidity": 0.2
             }
            },
            "type": "histogram"
           }
          ],
          "histogram2d": [
           {
            "colorbar": {
             "outlinewidth": 0,
             "ticks": ""
            },
            "colorscale": [
             [
              0,
              "#0d0887"
             ],
             [
              0.1111111111111111,
              "#46039f"
             ],
             [
              0.2222222222222222,
              "#7201a8"
             ],
             [
              0.3333333333333333,
              "#9c179e"
             ],
             [
              0.4444444444444444,
              "#bd3786"
             ],
             [
              0.5555555555555556,
              "#d8576b"
             ],
             [
              0.6666666666666666,
              "#ed7953"
             ],
             [
              0.7777777777777778,
              "#fb9f3a"
             ],
             [
              0.8888888888888888,
              "#fdca26"
             ],
             [
              1,
              "#f0f921"
             ]
            ],
            "type": "histogram2d"
           }
          ],
          "histogram2dcontour": [
           {
            "colorbar": {
             "outlinewidth": 0,
             "ticks": ""
            },
            "colorscale": [
             [
              0,
              "#0d0887"
             ],
             [
              0.1111111111111111,
              "#46039f"
             ],
             [
              0.2222222222222222,
              "#7201a8"
             ],
             [
              0.3333333333333333,
              "#9c179e"
             ],
             [
              0.4444444444444444,
              "#bd3786"
             ],
             [
              0.5555555555555556,
              "#d8576b"
             ],
             [
              0.6666666666666666,
              "#ed7953"
             ],
             [
              0.7777777777777778,
              "#fb9f3a"
             ],
             [
              0.8888888888888888,
              "#fdca26"
             ],
             [
              1,
              "#f0f921"
             ]
            ],
            "type": "histogram2dcontour"
           }
          ],
          "mesh3d": [
           {
            "colorbar": {
             "outlinewidth": 0,
             "ticks": ""
            },
            "type": "mesh3d"
           }
          ],
          "parcoords": [
           {
            "line": {
             "colorbar": {
              "outlinewidth": 0,
              "ticks": ""
             }
            },
            "type": "parcoords"
           }
          ],
          "pie": [
           {
            "automargin": true,
            "type": "pie"
           }
          ],
          "scatter": [
           {
            "fillpattern": {
             "fillmode": "overlay",
             "size": 10,
             "solidity": 0.2
            },
            "type": "scatter"
           }
          ],
          "scatter3d": [
           {
            "line": {
             "colorbar": {
              "outlinewidth": 0,
              "ticks": ""
             }
            },
            "marker": {
             "colorbar": {
              "outlinewidth": 0,
              "ticks": ""
             }
            },
            "type": "scatter3d"
           }
          ],
          "scattercarpet": [
           {
            "marker": {
             "colorbar": {
              "outlinewidth": 0,
              "ticks": ""
             }
            },
            "type": "scattercarpet"
           }
          ],
          "scattergeo": [
           {
            "marker": {
             "colorbar": {
              "outlinewidth": 0,
              "ticks": ""
             }
            },
            "type": "scattergeo"
           }
          ],
          "scattergl": [
           {
            "marker": {
             "colorbar": {
              "outlinewidth": 0,
              "ticks": ""
             }
            },
            "type": "scattergl"
           }
          ],
          "scattermapbox": [
           {
            "marker": {
             "colorbar": {
              "outlinewidth": 0,
              "ticks": ""
             }
            },
            "type": "scattermapbox"
           }
          ],
          "scatterpolar": [
           {
            "marker": {
             "colorbar": {
              "outlinewidth": 0,
              "ticks": ""
             }
            },
            "type": "scatterpolar"
           }
          ],
          "scatterpolargl": [
           {
            "marker": {
             "colorbar": {
              "outlinewidth": 0,
              "ticks": ""
             }
            },
            "type": "scatterpolargl"
           }
          ],
          "scatterternary": [
           {
            "marker": {
             "colorbar": {
              "outlinewidth": 0,
              "ticks": ""
             }
            },
            "type": "scatterternary"
           }
          ],
          "surface": [
           {
            "colorbar": {
             "outlinewidth": 0,
             "ticks": ""
            },
            "colorscale": [
             [
              0,
              "#0d0887"
             ],
             [
              0.1111111111111111,
              "#46039f"
             ],
             [
              0.2222222222222222,
              "#7201a8"
             ],
             [
              0.3333333333333333,
              "#9c179e"
             ],
             [
              0.4444444444444444,
              "#bd3786"
             ],
             [
              0.5555555555555556,
              "#d8576b"
             ],
             [
              0.6666666666666666,
              "#ed7953"
             ],
             [
              0.7777777777777778,
              "#fb9f3a"
             ],
             [
              0.8888888888888888,
              "#fdca26"
             ],
             [
              1,
              "#f0f921"
             ]
            ],
            "type": "surface"
           }
          ],
          "table": [
           {
            "cells": {
             "fill": {
              "color": "#EBF0F8"
             },
             "line": {
              "color": "white"
             }
            },
            "header": {
             "fill": {
              "color": "#C8D4E3"
             },
             "line": {
              "color": "white"
             }
            },
            "type": "table"
           }
          ]
         },
         "layout": {
          "annotationdefaults": {
           "arrowcolor": "#2a3f5f",
           "arrowhead": 0,
           "arrowwidth": 1
          },
          "autotypenumbers": "strict",
          "coloraxis": {
           "colorbar": {
            "outlinewidth": 0,
            "ticks": ""
           }
          },
          "colorscale": {
           "diverging": [
            [
             0,
             "#8e0152"
            ],
            [
             0.1,
             "#c51b7d"
            ],
            [
             0.2,
             "#de77ae"
            ],
            [
             0.3,
             "#f1b6da"
            ],
            [
             0.4,
             "#fde0ef"
            ],
            [
             0.5,
             "#f7f7f7"
            ],
            [
             0.6,
             "#e6f5d0"
            ],
            [
             0.7,
             "#b8e186"
            ],
            [
             0.8,
             "#7fbc41"
            ],
            [
             0.9,
             "#4d9221"
            ],
            [
             1,
             "#276419"
            ]
           ],
           "sequential": [
            [
             0,
             "#0d0887"
            ],
            [
             0.1111111111111111,
             "#46039f"
            ],
            [
             0.2222222222222222,
             "#7201a8"
            ],
            [
             0.3333333333333333,
             "#9c179e"
            ],
            [
             0.4444444444444444,
             "#bd3786"
            ],
            [
             0.5555555555555556,
             "#d8576b"
            ],
            [
             0.6666666666666666,
             "#ed7953"
            ],
            [
             0.7777777777777778,
             "#fb9f3a"
            ],
            [
             0.8888888888888888,
             "#fdca26"
            ],
            [
             1,
             "#f0f921"
            ]
           ],
           "sequentialminus": [
            [
             0,
             "#0d0887"
            ],
            [
             0.1111111111111111,
             "#46039f"
            ],
            [
             0.2222222222222222,
             "#7201a8"
            ],
            [
             0.3333333333333333,
             "#9c179e"
            ],
            [
             0.4444444444444444,
             "#bd3786"
            ],
            [
             0.5555555555555556,
             "#d8576b"
            ],
            [
             0.6666666666666666,
             "#ed7953"
            ],
            [
             0.7777777777777778,
             "#fb9f3a"
            ],
            [
             0.8888888888888888,
             "#fdca26"
            ],
            [
             1,
             "#f0f921"
            ]
           ]
          },
          "colorway": [
           "#636efa",
           "#EF553B",
           "#00cc96",
           "#ab63fa",
           "#FFA15A",
           "#19d3f3",
           "#FF6692",
           "#B6E880",
           "#FF97FF",
           "#FECB52"
          ],
          "font": {
           "color": "#2a3f5f"
          },
          "geo": {
           "bgcolor": "white",
           "lakecolor": "white",
           "landcolor": "#E5ECF6",
           "showlakes": true,
           "showland": true,
           "subunitcolor": "white"
          },
          "hoverlabel": {
           "align": "left"
          },
          "hovermode": "closest",
          "mapbox": {
           "style": "light"
          },
          "paper_bgcolor": "white",
          "plot_bgcolor": "#E5ECF6",
          "polar": {
           "angularaxis": {
            "gridcolor": "white",
            "linecolor": "white",
            "ticks": ""
           },
           "bgcolor": "#E5ECF6",
           "radialaxis": {
            "gridcolor": "white",
            "linecolor": "white",
            "ticks": ""
           }
          },
          "scene": {
           "xaxis": {
            "backgroundcolor": "#E5ECF6",
            "gridcolor": "white",
            "gridwidth": 2,
            "linecolor": "white",
            "showbackground": true,
            "ticks": "",
            "zerolinecolor": "white"
           },
           "yaxis": {
            "backgroundcolor": "#E5ECF6",
            "gridcolor": "white",
            "gridwidth": 2,
            "linecolor": "white",
            "showbackground": true,
            "ticks": "",
            "zerolinecolor": "white"
           },
           "zaxis": {
            "backgroundcolor": "#E5ECF6",
            "gridcolor": "white",
            "gridwidth": 2,
            "linecolor": "white",
            "showbackground": true,
            "ticks": "",
            "zerolinecolor": "white"
           }
          },
          "shapedefaults": {
           "line": {
            "color": "#2a3f5f"
           }
          },
          "ternary": {
           "aaxis": {
            "gridcolor": "white",
            "linecolor": "white",
            "ticks": ""
           },
           "baxis": {
            "gridcolor": "white",
            "linecolor": "white",
            "ticks": ""
           },
           "bgcolor": "#E5ECF6",
           "caxis": {
            "gridcolor": "white",
            "linecolor": "white",
            "ticks": ""
           }
          },
          "title": {
           "x": 0.05
          },
          "xaxis": {
           "automargin": true,
           "gridcolor": "white",
           "linecolor": "white",
           "ticks": "",
           "title": {
            "standoff": 15
           },
           "zerolinecolor": "white",
           "zerolinewidth": 2
          },
          "yaxis": {
           "automargin": true,
           "gridcolor": "white",
           "linecolor": "white",
           "ticks": "",
           "title": {
            "standoff": 15
           },
           "zerolinecolor": "white",
           "zerolinewidth": 2
          }
         }
        },
        "xaxis": {
         "anchor": "y",
         "domain": [
          0,
          1
         ],
         "title": {
          "text": "index"
         }
        },
        "yaxis": {
         "anchor": "x",
         "domain": [
          0,
          1
         ],
         "title": {
          "text": "value"
         }
        }
       }
      }
     },
     "metadata": {},
     "output_type": "display_data"
    }
   ],
   "source": [
    "px.scatter(df.groupby(\"user_state\")[\"user_state\"].count())"
   ]
  },
  {
   "cell_type": "code",
   "execution_count": 109,
   "metadata": {},
   "outputs": [
    {
     "data": {
      "application/vnd.plotly.v1+json": {
       "config": {
        "plotlyServerURL": "https://plot.ly"
       },
       "data": [
        {
         "hovertemplate": "variable=item_color<br>index=%{x}<br>value=%{y}<extra></extra>",
         "legendgroup": "item_color",
         "marker": {
          "color": "#636efa",
          "symbol": "circle"
         },
         "mode": "markers",
         "name": "item_color",
         "orientation": "v",
         "showlegend": true,
         "type": "scatter",
         "x": [
          "?",
          "almond",
          "amethyst",
          "ancient",
          "anthracite",
          "antique pink",
          "apricot",
          "aqua",
          "aquamarine",
          "ash",
          "aubergine",
          "aviator",
          "avocado",
          "azure",
          "baltic blue",
          "basalt",
          "beige",
          "berry",
          "black",
          "blau",
          "blue",
          "bordeaux",
          "brown",
          "caramel",
          "champagner",
          "cobalt blue",
          "cognac",
          "copper coin",
          "coral",
          "creme",
          "curled",
          "currant purple",
          "curry",
          "dark denim",
          "dark garnet",
          "dark grey",
          "dark navy",
          "dark oliv",
          "darkblue",
          "denim",
          "ebony",
          "ecru",
          "floral",
          "fuchsia",
          "gold",
          "green",
          "grey",
          "habana",
          "hibiscus",
          "ivory",
          "jade",
          "kanel",
          "khaki",
          "magenta",
          "mahagoni",
          "mango",
          "mint",
          "mocca",
          "nature",
          "navy",
          "ocher",
          "olive",
          "opal",
          "orange",
          "pallid",
          "petrol",
          "pink",
          "purple",
          "red",
          "silver",
          "stained",
          "striped",
          "terracotta",
          "turquoise",
          "white",
          "yellow"
         ],
         "xaxis": "x",
         "y": [
          41,
          14,
          5,
          122,
          1742,
          10,
          10,
          35,
          257,
          1199,
          709,
          9,
          4,
          407,
          19,
          192,
          618,
          1484,
          13460,
          179,
          8316,
          486,
          6475,
          9,
          43,
          25,
          59,
          6,
          133,
          4,
          11,
          6,
          248,
          569,
          11,
          32,
          21,
          31,
          60,
          1562,
          11,
          235,
          57,
          93,
          37,
          3865,
          6700,
          14,
          159,
          37,
          46,
          31,
          340,
          543,
          92,
          62,
          126,
          1376,
          660,
          238,
          1877,
          1631,
          1,
          748,
          248,
          2527,
          801,
          3129,
          5483,
          113,
          1243,
          84,
          7,
          733,
          2779,
          254
         ],
         "yaxis": "y"
        }
       ],
       "layout": {
        "legend": {
         "title": {
          "text": "variable"
         },
         "tracegroupgap": 0
        },
        "margin": {
         "t": 60
        },
        "template": {
         "data": {
          "bar": [
           {
            "error_x": {
             "color": "#2a3f5f"
            },
            "error_y": {
             "color": "#2a3f5f"
            },
            "marker": {
             "line": {
              "color": "#E5ECF6",
              "width": 0.5
             },
             "pattern": {
              "fillmode": "overlay",
              "size": 10,
              "solidity": 0.2
             }
            },
            "type": "bar"
           }
          ],
          "barpolar": [
           {
            "marker": {
             "line": {
              "color": "#E5ECF6",
              "width": 0.5
             },
             "pattern": {
              "fillmode": "overlay",
              "size": 10,
              "solidity": 0.2
             }
            },
            "type": "barpolar"
           }
          ],
          "carpet": [
           {
            "aaxis": {
             "endlinecolor": "#2a3f5f",
             "gridcolor": "white",
             "linecolor": "white",
             "minorgridcolor": "white",
             "startlinecolor": "#2a3f5f"
            },
            "baxis": {
             "endlinecolor": "#2a3f5f",
             "gridcolor": "white",
             "linecolor": "white",
             "minorgridcolor": "white",
             "startlinecolor": "#2a3f5f"
            },
            "type": "carpet"
           }
          ],
          "choropleth": [
           {
            "colorbar": {
             "outlinewidth": 0,
             "ticks": ""
            },
            "type": "choropleth"
           }
          ],
          "contour": [
           {
            "colorbar": {
             "outlinewidth": 0,
             "ticks": ""
            },
            "colorscale": [
             [
              0,
              "#0d0887"
             ],
             [
              0.1111111111111111,
              "#46039f"
             ],
             [
              0.2222222222222222,
              "#7201a8"
             ],
             [
              0.3333333333333333,
              "#9c179e"
             ],
             [
              0.4444444444444444,
              "#bd3786"
             ],
             [
              0.5555555555555556,
              "#d8576b"
             ],
             [
              0.6666666666666666,
              "#ed7953"
             ],
             [
              0.7777777777777778,
              "#fb9f3a"
             ],
             [
              0.8888888888888888,
              "#fdca26"
             ],
             [
              1,
              "#f0f921"
             ]
            ],
            "type": "contour"
           }
          ],
          "contourcarpet": [
           {
            "colorbar": {
             "outlinewidth": 0,
             "ticks": ""
            },
            "type": "contourcarpet"
           }
          ],
          "heatmap": [
           {
            "colorbar": {
             "outlinewidth": 0,
             "ticks": ""
            },
            "colorscale": [
             [
              0,
              "#0d0887"
             ],
             [
              0.1111111111111111,
              "#46039f"
             ],
             [
              0.2222222222222222,
              "#7201a8"
             ],
             [
              0.3333333333333333,
              "#9c179e"
             ],
             [
              0.4444444444444444,
              "#bd3786"
             ],
             [
              0.5555555555555556,
              "#d8576b"
             ],
             [
              0.6666666666666666,
              "#ed7953"
             ],
             [
              0.7777777777777778,
              "#fb9f3a"
             ],
             [
              0.8888888888888888,
              "#fdca26"
             ],
             [
              1,
              "#f0f921"
             ]
            ],
            "type": "heatmap"
           }
          ],
          "heatmapgl": [
           {
            "colorbar": {
             "outlinewidth": 0,
             "ticks": ""
            },
            "colorscale": [
             [
              0,
              "#0d0887"
             ],
             [
              0.1111111111111111,
              "#46039f"
             ],
             [
              0.2222222222222222,
              "#7201a8"
             ],
             [
              0.3333333333333333,
              "#9c179e"
             ],
             [
              0.4444444444444444,
              "#bd3786"
             ],
             [
              0.5555555555555556,
              "#d8576b"
             ],
             [
              0.6666666666666666,
              "#ed7953"
             ],
             [
              0.7777777777777778,
              "#fb9f3a"
             ],
             [
              0.8888888888888888,
              "#fdca26"
             ],
             [
              1,
              "#f0f921"
             ]
            ],
            "type": "heatmapgl"
           }
          ],
          "histogram": [
           {
            "marker": {
             "pattern": {
              "fillmode": "overlay",
              "size": 10,
              "solidity": 0.2
             }
            },
            "type": "histogram"
           }
          ],
          "histogram2d": [
           {
            "colorbar": {
             "outlinewidth": 0,
             "ticks": ""
            },
            "colorscale": [
             [
              0,
              "#0d0887"
             ],
             [
              0.1111111111111111,
              "#46039f"
             ],
             [
              0.2222222222222222,
              "#7201a8"
             ],
             [
              0.3333333333333333,
              "#9c179e"
             ],
             [
              0.4444444444444444,
              "#bd3786"
             ],
             [
              0.5555555555555556,
              "#d8576b"
             ],
             [
              0.6666666666666666,
              "#ed7953"
             ],
             [
              0.7777777777777778,
              "#fb9f3a"
             ],
             [
              0.8888888888888888,
              "#fdca26"
             ],
             [
              1,
              "#f0f921"
             ]
            ],
            "type": "histogram2d"
           }
          ],
          "histogram2dcontour": [
           {
            "colorbar": {
             "outlinewidth": 0,
             "ticks": ""
            },
            "colorscale": [
             [
              0,
              "#0d0887"
             ],
             [
              0.1111111111111111,
              "#46039f"
             ],
             [
              0.2222222222222222,
              "#7201a8"
             ],
             [
              0.3333333333333333,
              "#9c179e"
             ],
             [
              0.4444444444444444,
              "#bd3786"
             ],
             [
              0.5555555555555556,
              "#d8576b"
             ],
             [
              0.6666666666666666,
              "#ed7953"
             ],
             [
              0.7777777777777778,
              "#fb9f3a"
             ],
             [
              0.8888888888888888,
              "#fdca26"
             ],
             [
              1,
              "#f0f921"
             ]
            ],
            "type": "histogram2dcontour"
           }
          ],
          "mesh3d": [
           {
            "colorbar": {
             "outlinewidth": 0,
             "ticks": ""
            },
            "type": "mesh3d"
           }
          ],
          "parcoords": [
           {
            "line": {
             "colorbar": {
              "outlinewidth": 0,
              "ticks": ""
             }
            },
            "type": "parcoords"
           }
          ],
          "pie": [
           {
            "automargin": true,
            "type": "pie"
           }
          ],
          "scatter": [
           {
            "fillpattern": {
             "fillmode": "overlay",
             "size": 10,
             "solidity": 0.2
            },
            "type": "scatter"
           }
          ],
          "scatter3d": [
           {
            "line": {
             "colorbar": {
              "outlinewidth": 0,
              "ticks": ""
             }
            },
            "marker": {
             "colorbar": {
              "outlinewidth": 0,
              "ticks": ""
             }
            },
            "type": "scatter3d"
           }
          ],
          "scattercarpet": [
           {
            "marker": {
             "colorbar": {
              "outlinewidth": 0,
              "ticks": ""
             }
            },
            "type": "scattercarpet"
           }
          ],
          "scattergeo": [
           {
            "marker": {
             "colorbar": {
              "outlinewidth": 0,
              "ticks": ""
             }
            },
            "type": "scattergeo"
           }
          ],
          "scattergl": [
           {
            "marker": {
             "colorbar": {
              "outlinewidth": 0,
              "ticks": ""
             }
            },
            "type": "scattergl"
           }
          ],
          "scattermapbox": [
           {
            "marker": {
             "colorbar": {
              "outlinewidth": 0,
              "ticks": ""
             }
            },
            "type": "scattermapbox"
           }
          ],
          "scatterpolar": [
           {
            "marker": {
             "colorbar": {
              "outlinewidth": 0,
              "ticks": ""
             }
            },
            "type": "scatterpolar"
           }
          ],
          "scatterpolargl": [
           {
            "marker": {
             "colorbar": {
              "outlinewidth": 0,
              "ticks": ""
             }
            },
            "type": "scatterpolargl"
           }
          ],
          "scatterternary": [
           {
            "marker": {
             "colorbar": {
              "outlinewidth": 0,
              "ticks": ""
             }
            },
            "type": "scatterternary"
           }
          ],
          "surface": [
           {
            "colorbar": {
             "outlinewidth": 0,
             "ticks": ""
            },
            "colorscale": [
             [
              0,
              "#0d0887"
             ],
             [
              0.1111111111111111,
              "#46039f"
             ],
             [
              0.2222222222222222,
              "#7201a8"
             ],
             [
              0.3333333333333333,
              "#9c179e"
             ],
             [
              0.4444444444444444,
              "#bd3786"
             ],
             [
              0.5555555555555556,
              "#d8576b"
             ],
             [
              0.6666666666666666,
              "#ed7953"
             ],
             [
              0.7777777777777778,
              "#fb9f3a"
             ],
             [
              0.8888888888888888,
              "#fdca26"
             ],
             [
              1,
              "#f0f921"
             ]
            ],
            "type": "surface"
           }
          ],
          "table": [
           {
            "cells": {
             "fill": {
              "color": "#EBF0F8"
             },
             "line": {
              "color": "white"
             }
            },
            "header": {
             "fill": {
              "color": "#C8D4E3"
             },
             "line": {
              "color": "white"
             }
            },
            "type": "table"
           }
          ]
         },
         "layout": {
          "annotationdefaults": {
           "arrowcolor": "#2a3f5f",
           "arrowhead": 0,
           "arrowwidth": 1
          },
          "autotypenumbers": "strict",
          "coloraxis": {
           "colorbar": {
            "outlinewidth": 0,
            "ticks": ""
           }
          },
          "colorscale": {
           "diverging": [
            [
             0,
             "#8e0152"
            ],
            [
             0.1,
             "#c51b7d"
            ],
            [
             0.2,
             "#de77ae"
            ],
            [
             0.3,
             "#f1b6da"
            ],
            [
             0.4,
             "#fde0ef"
            ],
            [
             0.5,
             "#f7f7f7"
            ],
            [
             0.6,
             "#e6f5d0"
            ],
            [
             0.7,
             "#b8e186"
            ],
            [
             0.8,
             "#7fbc41"
            ],
            [
             0.9,
             "#4d9221"
            ],
            [
             1,
             "#276419"
            ]
           ],
           "sequential": [
            [
             0,
             "#0d0887"
            ],
            [
             0.1111111111111111,
             "#46039f"
            ],
            [
             0.2222222222222222,
             "#7201a8"
            ],
            [
             0.3333333333333333,
             "#9c179e"
            ],
            [
             0.4444444444444444,
             "#bd3786"
            ],
            [
             0.5555555555555556,
             "#d8576b"
            ],
            [
             0.6666666666666666,
             "#ed7953"
            ],
            [
             0.7777777777777778,
             "#fb9f3a"
            ],
            [
             0.8888888888888888,
             "#fdca26"
            ],
            [
             1,
             "#f0f921"
            ]
           ],
           "sequentialminus": [
            [
             0,
             "#0d0887"
            ],
            [
             0.1111111111111111,
             "#46039f"
            ],
            [
             0.2222222222222222,
             "#7201a8"
            ],
            [
             0.3333333333333333,
             "#9c179e"
            ],
            [
             0.4444444444444444,
             "#bd3786"
            ],
            [
             0.5555555555555556,
             "#d8576b"
            ],
            [
             0.6666666666666666,
             "#ed7953"
            ],
            [
             0.7777777777777778,
             "#fb9f3a"
            ],
            [
             0.8888888888888888,
             "#fdca26"
            ],
            [
             1,
             "#f0f921"
            ]
           ]
          },
          "colorway": [
           "#636efa",
           "#EF553B",
           "#00cc96",
           "#ab63fa",
           "#FFA15A",
           "#19d3f3",
           "#FF6692",
           "#B6E880",
           "#FF97FF",
           "#FECB52"
          ],
          "font": {
           "color": "#2a3f5f"
          },
          "geo": {
           "bgcolor": "white",
           "lakecolor": "white",
           "landcolor": "#E5ECF6",
           "showlakes": true,
           "showland": true,
           "subunitcolor": "white"
          },
          "hoverlabel": {
           "align": "left"
          },
          "hovermode": "closest",
          "mapbox": {
           "style": "light"
          },
          "paper_bgcolor": "white",
          "plot_bgcolor": "#E5ECF6",
          "polar": {
           "angularaxis": {
            "gridcolor": "white",
            "linecolor": "white",
            "ticks": ""
           },
           "bgcolor": "#E5ECF6",
           "radialaxis": {
            "gridcolor": "white",
            "linecolor": "white",
            "ticks": ""
           }
          },
          "scene": {
           "xaxis": {
            "backgroundcolor": "#E5ECF6",
            "gridcolor": "white",
            "gridwidth": 2,
            "linecolor": "white",
            "showbackground": true,
            "ticks": "",
            "zerolinecolor": "white"
           },
           "yaxis": {
            "backgroundcolor": "#E5ECF6",
            "gridcolor": "white",
            "gridwidth": 2,
            "linecolor": "white",
            "showbackground": true,
            "ticks": "",
            "zerolinecolor": "white"
           },
           "zaxis": {
            "backgroundcolor": "#E5ECF6",
            "gridcolor": "white",
            "gridwidth": 2,
            "linecolor": "white",
            "showbackground": true,
            "ticks": "",
            "zerolinecolor": "white"
           }
          },
          "shapedefaults": {
           "line": {
            "color": "#2a3f5f"
           }
          },
          "ternary": {
           "aaxis": {
            "gridcolor": "white",
            "linecolor": "white",
            "ticks": ""
           },
           "baxis": {
            "gridcolor": "white",
            "linecolor": "white",
            "ticks": ""
           },
           "bgcolor": "#E5ECF6",
           "caxis": {
            "gridcolor": "white",
            "linecolor": "white",
            "ticks": ""
           }
          },
          "title": {
           "x": 0.05
          },
          "xaxis": {
           "automargin": true,
           "gridcolor": "white",
           "linecolor": "white",
           "ticks": "",
           "title": {
            "standoff": 15
           },
           "zerolinecolor": "white",
           "zerolinewidth": 2
          },
          "yaxis": {
           "automargin": true,
           "gridcolor": "white",
           "linecolor": "white",
           "ticks": "",
           "title": {
            "standoff": 15
           },
           "zerolinecolor": "white",
           "zerolinewidth": 2
          }
         }
        },
        "xaxis": {
         "anchor": "y",
         "domain": [
          0,
          1
         ],
         "title": {
          "text": "index"
         }
        },
        "yaxis": {
         "anchor": "x",
         "domain": [
          0,
          1
         ],
         "title": {
          "text": "value"
         }
        }
       }
      }
     },
     "metadata": {},
     "output_type": "display_data"
    }
   ],
   "source": [
    "px.scatter(df.groupby(\"item_color\")[\"item_color\"].count())"
   ]
  },
  {
   "cell_type": "code",
   "execution_count": 97,
   "metadata": {},
   "outputs": [
    {
     "data": {
      "text/html": [
       "<div>\n",
       "<style scoped>\n",
       "    .dataframe tbody tr th:only-of-type {\n",
       "        vertical-align: middle;\n",
       "    }\n",
       "\n",
       "    .dataframe tbody tr th {\n",
       "        vertical-align: top;\n",
       "    }\n",
       "\n",
       "    .dataframe thead th {\n",
       "        text-align: right;\n",
       "    }\n",
       "</style>\n",
       "<table border=\"1\" class=\"dataframe\">\n",
       "  <thead>\n",
       "    <tr style=\"text-align: right;\">\n",
       "      <th></th>\n",
       "      <th>order_item_id</th>\n",
       "      <th>order_date</th>\n",
       "      <th>delivery_date</th>\n",
       "      <th>item_id</th>\n",
       "      <th>item_size</th>\n",
       "      <th>item_color</th>\n",
       "      <th>brand_id</th>\n",
       "      <th>item_price</th>\n",
       "      <th>user_id</th>\n",
       "      <th>user_title</th>\n",
       "      <th>user_dob</th>\n",
       "      <th>user_state</th>\n",
       "      <th>user_reg_date</th>\n",
       "      <th>return</th>\n",
       "      <th>age</th>\n",
       "    </tr>\n",
       "  </thead>\n",
       "  <tbody>\n",
       "    <tr>\n",
       "      <th>24</th>\n",
       "      <td>25</td>\n",
       "      <td>2016-06-23</td>\n",
       "      <td>2016-06-26</td>\n",
       "      <td>40</td>\n",
       "      <td>unsized</td>\n",
       "      <td>stained</td>\n",
       "      <td>27</td>\n",
       "      <td>5.5</td>\n",
       "      <td>9392</td>\n",
       "      <td>Mrs</td>\n",
       "      <td>1962-04-14</td>\n",
       "      <td>North Rhine-Westphalia</td>\n",
       "      <td>2016-03-24</td>\n",
       "      <td>1</td>\n",
       "      <td>54.0</td>\n",
       "    </tr>\n",
       "    <tr>\n",
       "      <th>40</th>\n",
       "      <td>41</td>\n",
       "      <td>2016-06-23</td>\n",
       "      <td>2016-06-26</td>\n",
       "      <td>515</td>\n",
       "      <td>unsized</td>\n",
       "      <td>grey</td>\n",
       "      <td>32</td>\n",
       "      <td>9.9</td>\n",
       "      <td>30826</td>\n",
       "      <td>Mrs</td>\n",
       "      <td>1964-04-27</td>\n",
       "      <td>Baden-Wuerttemberg</td>\n",
       "      <td>2015-02-17</td>\n",
       "      <td>1</td>\n",
       "      <td>52.0</td>\n",
       "    </tr>\n",
       "    <tr>\n",
       "      <th>148</th>\n",
       "      <td>149</td>\n",
       "      <td>2016-06-23</td>\n",
       "      <td>2016-06-26</td>\n",
       "      <td>821</td>\n",
       "      <td>unsized</td>\n",
       "      <td>brown</td>\n",
       "      <td>60</td>\n",
       "      <td>49.9</td>\n",
       "      <td>18281</td>\n",
       "      <td>Mrs</td>\n",
       "      <td>1974-10-24</td>\n",
       "      <td>Rhineland-Palatinate</td>\n",
       "      <td>2016-05-11</td>\n",
       "      <td>0</td>\n",
       "      <td>42.0</td>\n",
       "    </tr>\n",
       "    <tr>\n",
       "      <th>202</th>\n",
       "      <td>203</td>\n",
       "      <td>2016-06-23</td>\n",
       "      <td>2016-06-26</td>\n",
       "      <td>157</td>\n",
       "      <td>unsized</td>\n",
       "      <td>purple</td>\n",
       "      <td>32</td>\n",
       "      <td>0.0</td>\n",
       "      <td>12373</td>\n",
       "      <td>Mrs</td>\n",
       "      <td>1958-06-07</td>\n",
       "      <td>Lower Saxony</td>\n",
       "      <td>2015-02-26</td>\n",
       "      <td>0</td>\n",
       "      <td>58.0</td>\n",
       "    </tr>\n",
       "    <tr>\n",
       "      <th>216</th>\n",
       "      <td>217</td>\n",
       "      <td>2016-06-23</td>\n",
       "      <td>2016-06-26</td>\n",
       "      <td>157</td>\n",
       "      <td>unsized</td>\n",
       "      <td>purple</td>\n",
       "      <td>32</td>\n",
       "      <td>0.0</td>\n",
       "      <td>30852</td>\n",
       "      <td>Mrs</td>\n",
       "      <td>1969-03-30</td>\n",
       "      <td>Saxony</td>\n",
       "      <td>2015-06-21</td>\n",
       "      <td>1</td>\n",
       "      <td>47.0</td>\n",
       "    </tr>\n",
       "    <tr>\n",
       "      <th>...</th>\n",
       "      <td>...</td>\n",
       "      <td>...</td>\n",
       "      <td>...</td>\n",
       "      <td>...</td>\n",
       "      <td>...</td>\n",
       "      <td>...</td>\n",
       "      <td>...</td>\n",
       "      <td>...</td>\n",
       "      <td>...</td>\n",
       "      <td>...</td>\n",
       "      <td>...</td>\n",
       "      <td>...</td>\n",
       "      <td>...</td>\n",
       "      <td>...</td>\n",
       "      <td>...</td>\n",
       "    </tr>\n",
       "    <tr>\n",
       "      <th>74998</th>\n",
       "      <td>74999</td>\n",
       "      <td>2016-08-20</td>\n",
       "      <td>2016-08-21</td>\n",
       "      <td>2122</td>\n",
       "      <td>unsized</td>\n",
       "      <td>olive</td>\n",
       "      <td>60</td>\n",
       "      <td>59.9</td>\n",
       "      <td>43801</td>\n",
       "      <td>Mrs</td>\n",
       "      <td>1961-11-25</td>\n",
       "      <td>Mecklenburg-Western Pomerania</td>\n",
       "      <td>2016-08-21</td>\n",
       "      <td>1</td>\n",
       "      <td>55.0</td>\n",
       "    </tr>\n",
       "    <tr>\n",
       "      <th>74999</th>\n",
       "      <td>75000</td>\n",
       "      <td>2016-08-20</td>\n",
       "      <td>2016-08-21</td>\n",
       "      <td>2002</td>\n",
       "      <td>unsized</td>\n",
       "      <td>berry</td>\n",
       "      <td>41</td>\n",
       "      <td>59.9</td>\n",
       "      <td>43801</td>\n",
       "      <td>Mrs</td>\n",
       "      <td>1961-11-25</td>\n",
       "      <td>Mecklenburg-Western Pomerania</td>\n",
       "      <td>2016-08-21</td>\n",
       "      <td>1</td>\n",
       "      <td>55.0</td>\n",
       "    </tr>\n",
       "    <tr>\n",
       "      <th>75000</th>\n",
       "      <td>75001</td>\n",
       "      <td>2016-08-20</td>\n",
       "      <td>2016-08-21</td>\n",
       "      <td>2136</td>\n",
       "      <td>unsized</td>\n",
       "      <td>berry</td>\n",
       "      <td>41</td>\n",
       "      <td>29.9</td>\n",
       "      <td>43801</td>\n",
       "      <td>Mrs</td>\n",
       "      <td>1961-11-25</td>\n",
       "      <td>Mecklenburg-Western Pomerania</td>\n",
       "      <td>2016-08-21</td>\n",
       "      <td>1</td>\n",
       "      <td>55.0</td>\n",
       "    </tr>\n",
       "    <tr>\n",
       "      <th>75001</th>\n",
       "      <td>75002</td>\n",
       "      <td>2016-08-20</td>\n",
       "      <td>2016-08-21</td>\n",
       "      <td>2136</td>\n",
       "      <td>unsized</td>\n",
       "      <td>dark denim</td>\n",
       "      <td>41</td>\n",
       "      <td>29.9</td>\n",
       "      <td>43801</td>\n",
       "      <td>Mrs</td>\n",
       "      <td>1961-11-25</td>\n",
       "      <td>Mecklenburg-Western Pomerania</td>\n",
       "      <td>2016-08-21</td>\n",
       "      <td>1</td>\n",
       "      <td>55.0</td>\n",
       "    </tr>\n",
       "    <tr>\n",
       "      <th>75005</th>\n",
       "      <td>75006</td>\n",
       "      <td>2016-08-20</td>\n",
       "      <td>2016-09-07</td>\n",
       "      <td>1784</td>\n",
       "      <td>unsized</td>\n",
       "      <td>olive</td>\n",
       "      <td>41</td>\n",
       "      <td>19.9</td>\n",
       "      <td>43801</td>\n",
       "      <td>Mrs</td>\n",
       "      <td>1961-11-25</td>\n",
       "      <td>Mecklenburg-Western Pomerania</td>\n",
       "      <td>2016-08-21</td>\n",
       "      <td>0</td>\n",
       "      <td>55.0</td>\n",
       "    </tr>\n",
       "  </tbody>\n",
       "</table>\n",
       "<p>3654 rows × 15 columns</p>\n",
       "</div>"
      ],
      "text/plain": [
       "       order_item_id order_date delivery_date  item_id item_size  item_color  \\\n",
       "24                25 2016-06-23    2016-06-26       40   unsized     stained   \n",
       "40                41 2016-06-23    2016-06-26      515   unsized        grey   \n",
       "148              149 2016-06-23    2016-06-26      821   unsized       brown   \n",
       "202              203 2016-06-23    2016-06-26      157   unsized      purple   \n",
       "216              217 2016-06-23    2016-06-26      157   unsized      purple   \n",
       "...              ...        ...           ...      ...       ...         ...   \n",
       "74998          74999 2016-08-20    2016-08-21     2122   unsized       olive   \n",
       "74999          75000 2016-08-20    2016-08-21     2002   unsized       berry   \n",
       "75000          75001 2016-08-20    2016-08-21     2136   unsized       berry   \n",
       "75001          75002 2016-08-20    2016-08-21     2136   unsized  dark denim   \n",
       "75005          75006 2016-08-20    2016-09-07     1784   unsized       olive   \n",
       "\n",
       "       brand_id  item_price  user_id user_title   user_dob  \\\n",
       "24           27         5.5     9392        Mrs 1962-04-14   \n",
       "40           32         9.9    30826        Mrs 1964-04-27   \n",
       "148          60        49.9    18281        Mrs 1974-10-24   \n",
       "202          32         0.0    12373        Mrs 1958-06-07   \n",
       "216          32         0.0    30852        Mrs 1969-03-30   \n",
       "...         ...         ...      ...        ...        ...   \n",
       "74998        60        59.9    43801        Mrs 1961-11-25   \n",
       "74999        41        59.9    43801        Mrs 1961-11-25   \n",
       "75000        41        29.9    43801        Mrs 1961-11-25   \n",
       "75001        41        29.9    43801        Mrs 1961-11-25   \n",
       "75005        41        19.9    43801        Mrs 1961-11-25   \n",
       "\n",
       "                          user_state user_reg_date  return   age  \n",
       "24            North Rhine-Westphalia    2016-03-24       1  54.0  \n",
       "40                Baden-Wuerttemberg    2015-02-17       1  52.0  \n",
       "148             Rhineland-Palatinate    2016-05-11       0  42.0  \n",
       "202                     Lower Saxony    2015-02-26       0  58.0  \n",
       "216                           Saxony    2015-06-21       1  47.0  \n",
       "...                              ...           ...     ...   ...  \n",
       "74998  Mecklenburg-Western Pomerania    2016-08-21       1  55.0  \n",
       "74999  Mecklenburg-Western Pomerania    2016-08-21       1  55.0  \n",
       "75000  Mecklenburg-Western Pomerania    2016-08-21       1  55.0  \n",
       "75001  Mecklenburg-Western Pomerania    2016-08-21       1  55.0  \n",
       "75005  Mecklenburg-Western Pomerania    2016-08-21       0  55.0  \n",
       "\n",
       "[3654 rows x 15 columns]"
      ]
     },
     "execution_count": 97,
     "metadata": {},
     "output_type": "execute_result"
    }
   ],
   "source": [
    "df[df.item_size == \"unsized\"]"
   ]
  },
  {
   "cell_type": "code",
   "execution_count": 107,
   "metadata": {},
   "outputs": [
    {
     "data": {
      "text/plain": [
       "order_item_id    41\n",
       "order_date       41\n",
       "delivery_date    40\n",
       "item_id          41\n",
       "item_size        41\n",
       "item_color       41\n",
       "brand_id         41\n",
       "item_price       41\n",
       "user_id          41\n",
       "user_title       41\n",
       "user_dob         38\n",
       "user_state       41\n",
       "user_reg_date    41\n",
       "return           41\n",
       "age              38\n",
       "dtype: int64"
      ]
     },
     "execution_count": 107,
     "metadata": {},
     "output_type": "execute_result"
    }
   ],
   "source": [
    "df[df.item_color == \"?\"].count()"
   ]
  },
  {
   "cell_type": "markdown",
   "metadata": {},
   "source": [
    "Würde ich entfernen"
   ]
  },
  {
   "cell_type": "code",
   "execution_count": 108,
   "metadata": {},
   "outputs": [],
   "source": [
    "df.loc[df.item_color == \"brwon\",\"item_color\"] = \"brown\""
   ]
  },
  {
   "cell_type": "markdown",
   "metadata": {},
   "source": [
    "In brown einfach umändern"
   ]
  },
  {
   "cell_type": "code",
   "execution_count": 105,
   "metadata": {},
   "outputs": [
    {
     "data": {
      "text/plain": [
       "array(['green', 'blue', 'brwon', 'red', 'ancient', 'purple', 'white',\n",
       "       'copper coin', 'brown', 'black', 'beige', 'silver', 'grey',\n",
       "       'amethyst', 'aviator', 'mocca', 'navy', 'terracotta', 'gold',\n",
       "       'basalt', 'khaki', 'habana', 'pink', 'opal', 'anthracite',\n",
       "       'petrol'], dtype=object)"
      ]
     },
     "execution_count": 105,
     "metadata": {},
     "output_type": "execute_result"
    }
   ],
   "source": [
    "df[df.brand_id== 15].item_color.unique()"
   ]
  },
  {
   "cell_type": "code",
   "execution_count": 5,
   "metadata": {},
   "outputs": [
    {
     "data": {
      "text/html": [
       "<div>\n",
       "<style scoped>\n",
       "    .dataframe tbody tr th:only-of-type {\n",
       "        vertical-align: middle;\n",
       "    }\n",
       "\n",
       "    .dataframe tbody tr th {\n",
       "        vertical-align: top;\n",
       "    }\n",
       "\n",
       "    .dataframe thead th {\n",
       "        text-align: right;\n",
       "    }\n",
       "</style>\n",
       "<table border=\"1\" class=\"dataframe\">\n",
       "  <thead>\n",
       "    <tr style=\"text-align: right;\">\n",
       "      <th></th>\n",
       "      <th>order_item_id</th>\n",
       "      <th>item_id</th>\n",
       "      <th>brand_id</th>\n",
       "      <th>item_price</th>\n",
       "      <th>user_id</th>\n",
       "      <th>return</th>\n",
       "    </tr>\n",
       "  </thead>\n",
       "  <tbody>\n",
       "    <tr>\n",
       "      <th>count</th>\n",
       "      <td>75007.000000</td>\n",
       "      <td>75007.000000</td>\n",
       "      <td>75007.000000</td>\n",
       "      <td>75007.000000</td>\n",
       "      <td>75007.000000</td>\n",
       "      <td>75007.000000</td>\n",
       "    </tr>\n",
       "    <tr>\n",
       "      <th>mean</th>\n",
       "      <td>37504.000000</td>\n",
       "      <td>784.831949</td>\n",
       "      <td>28.834362</td>\n",
       "      <td>60.662926</td>\n",
       "      <td>25740.186623</td>\n",
       "      <td>0.450105</td>\n",
       "    </tr>\n",
       "    <tr>\n",
       "      <th>std</th>\n",
       "      <td>21652.800158</td>\n",
       "      <td>679.962960</td>\n",
       "      <td>26.808145</td>\n",
       "      <td>44.723474</td>\n",
       "      <td>12947.166520</td>\n",
       "      <td>0.497508</td>\n",
       "    </tr>\n",
       "    <tr>\n",
       "      <th>min</th>\n",
       "      <td>1.000000</td>\n",
       "      <td>1.000000</td>\n",
       "      <td>1.000000</td>\n",
       "      <td>0.000000</td>\n",
       "      <td>9.000000</td>\n",
       "      <td>0.000000</td>\n",
       "    </tr>\n",
       "    <tr>\n",
       "      <th>25%</th>\n",
       "      <td>18752.500000</td>\n",
       "      <td>176.000000</td>\n",
       "      <td>5.000000</td>\n",
       "      <td>29.900000</td>\n",
       "      <td>14674.000000</td>\n",
       "      <td>0.000000</td>\n",
       "    </tr>\n",
       "    <tr>\n",
       "      <th>50%</th>\n",
       "      <td>37504.000000</td>\n",
       "      <td>479.000000</td>\n",
       "      <td>24.000000</td>\n",
       "      <td>49.900000</td>\n",
       "      <td>30486.000000</td>\n",
       "      <td>0.000000</td>\n",
       "    </tr>\n",
       "    <tr>\n",
       "      <th>75%</th>\n",
       "      <td>56255.500000</td>\n",
       "      <td>1517.000000</td>\n",
       "      <td>43.000000</td>\n",
       "      <td>74.900000</td>\n",
       "      <td>36479.000000</td>\n",
       "      <td>1.000000</td>\n",
       "    </tr>\n",
       "    <tr>\n",
       "      <th>max</th>\n",
       "      <td>75007.000000</td>\n",
       "      <td>2224.000000</td>\n",
       "      <td>137.000000</td>\n",
       "      <td>999.000000</td>\n",
       "      <td>43801.000000</td>\n",
       "      <td>1.000000</td>\n",
       "    </tr>\n",
       "  </tbody>\n",
       "</table>\n",
       "</div>"
      ],
      "text/plain": [
       "       order_item_id       item_id      brand_id    item_price       user_id  \\\n",
       "count   75007.000000  75007.000000  75007.000000  75007.000000  75007.000000   \n",
       "mean    37504.000000    784.831949     28.834362     60.662926  25740.186623   \n",
       "std     21652.800158    679.962960     26.808145     44.723474  12947.166520   \n",
       "min         1.000000      1.000000      1.000000      0.000000      9.000000   \n",
       "25%     18752.500000    176.000000      5.000000     29.900000  14674.000000   \n",
       "50%     37504.000000    479.000000     24.000000     49.900000  30486.000000   \n",
       "75%     56255.500000   1517.000000     43.000000     74.900000  36479.000000   \n",
       "max     75007.000000   2224.000000    137.000000    999.000000  43801.000000   \n",
       "\n",
       "             return  \n",
       "count  75007.000000  \n",
       "mean       0.450105  \n",
       "std        0.497508  \n",
       "min        0.000000  \n",
       "25%        0.000000  \n",
       "50%        0.000000  \n",
       "75%        1.000000  \n",
       "max        1.000000  "
      ]
     },
     "execution_count": 5,
     "metadata": {},
     "output_type": "execute_result"
    }
   ],
   "source": [
    "df.describe()"
   ]
  },
  {
   "cell_type": "code",
   "execution_count": 65,
   "metadata": {},
   "outputs": [],
   "source": [
    "li = df[df.item_price == 999].item_id.unique().tolist()"
   ]
  },
  {
   "cell_type": "markdown",
   "metadata": {},
   "source": [
    "Random Forest, Gradient Boosting, logisteische Regression, support vector machines"
   ]
  },
  {
   "cell_type": "markdown",
   "metadata": {},
   "source": [
    "Testdaten impiziert einbauen "
   ]
  },
  {
   "cell_type": "code",
   "execution_count": 6,
   "metadata": {},
   "outputs": [
    {
     "data": {
      "text/html": [
       "<div>\n",
       "<style scoped>\n",
       "    .dataframe tbody tr th:only-of-type {\n",
       "        vertical-align: middle;\n",
       "    }\n",
       "\n",
       "    .dataframe tbody tr th {\n",
       "        vertical-align: top;\n",
       "    }\n",
       "\n",
       "    .dataframe thead th {\n",
       "        text-align: right;\n",
       "    }\n",
       "</style>\n",
       "<table border=\"1\" class=\"dataframe\">\n",
       "  <thead>\n",
       "    <tr style=\"text-align: right;\">\n",
       "      <th></th>\n",
       "      <th>order_item_id</th>\n",
       "      <th>order_date</th>\n",
       "      <th>delivery_date</th>\n",
       "      <th>item_id</th>\n",
       "      <th>item_size</th>\n",
       "      <th>item_color</th>\n",
       "      <th>brand_id</th>\n",
       "      <th>item_price</th>\n",
       "      <th>user_id</th>\n",
       "      <th>user_title</th>\n",
       "      <th>user_dob</th>\n",
       "      <th>user_state</th>\n",
       "      <th>user_reg_date</th>\n",
       "      <th>return</th>\n",
       "      <th>age</th>\n",
       "    </tr>\n",
       "  </thead>\n",
       "  <tbody>\n",
       "    <tr>\n",
       "      <th>11</th>\n",
       "      <td>12</td>\n",
       "      <td>2016-06-22</td>\n",
       "      <td>2016-06-27</td>\n",
       "      <td>212</td>\n",
       "      <td>l</td>\n",
       "      <td>grey</td>\n",
       "      <td>5</td>\n",
       "      <td>39.9</td>\n",
       "      <td>30824</td>\n",
       "      <td>Mrs</td>\n",
       "      <td>NaT</td>\n",
       "      <td>Lower Saxony</td>\n",
       "      <td>2016-06-23</td>\n",
       "      <td>0</td>\n",
       "      <td>NaN</td>\n",
       "    </tr>\n",
       "    <tr>\n",
       "      <th>12</th>\n",
       "      <td>13</td>\n",
       "      <td>2016-06-22</td>\n",
       "      <td>2016-06-27</td>\n",
       "      <td>378</td>\n",
       "      <td>l</td>\n",
       "      <td>black</td>\n",
       "      <td>5</td>\n",
       "      <td>59.9</td>\n",
       "      <td>30824</td>\n",
       "      <td>Mrs</td>\n",
       "      <td>NaT</td>\n",
       "      <td>Lower Saxony</td>\n",
       "      <td>2016-06-23</td>\n",
       "      <td>0</td>\n",
       "      <td>NaN</td>\n",
       "    </tr>\n",
       "    <tr>\n",
       "      <th>13</th>\n",
       "      <td>14</td>\n",
       "      <td>2016-06-22</td>\n",
       "      <td>2016-06-27</td>\n",
       "      <td>222</td>\n",
       "      <td>l</td>\n",
       "      <td>black</td>\n",
       "      <td>3</td>\n",
       "      <td>29.9</td>\n",
       "      <td>30824</td>\n",
       "      <td>Mrs</td>\n",
       "      <td>NaT</td>\n",
       "      <td>Lower Saxony</td>\n",
       "      <td>2016-06-23</td>\n",
       "      <td>0</td>\n",
       "      <td>NaN</td>\n",
       "    </tr>\n",
       "    <tr>\n",
       "      <th>41</th>\n",
       "      <td>42</td>\n",
       "      <td>2016-06-23</td>\n",
       "      <td>2016-06-26</td>\n",
       "      <td>394</td>\n",
       "      <td>40</td>\n",
       "      <td>grey</td>\n",
       "      <td>44</td>\n",
       "      <td>105.0</td>\n",
       "      <td>30827</td>\n",
       "      <td>Mrs</td>\n",
       "      <td>NaT</td>\n",
       "      <td>Hamburg</td>\n",
       "      <td>2016-02-09</td>\n",
       "      <td>1</td>\n",
       "      <td>NaN</td>\n",
       "    </tr>\n",
       "    <tr>\n",
       "      <th>42</th>\n",
       "      <td>43</td>\n",
       "      <td>2016-06-23</td>\n",
       "      <td>2016-06-26</td>\n",
       "      <td>394</td>\n",
       "      <td>40</td>\n",
       "      <td>black</td>\n",
       "      <td>44</td>\n",
       "      <td>90.0</td>\n",
       "      <td>30827</td>\n",
       "      <td>Mrs</td>\n",
       "      <td>NaT</td>\n",
       "      <td>Hamburg</td>\n",
       "      <td>2016-02-09</td>\n",
       "      <td>1</td>\n",
       "      <td>NaN</td>\n",
       "    </tr>\n",
       "    <tr>\n",
       "      <th>...</th>\n",
       "      <td>...</td>\n",
       "      <td>...</td>\n",
       "      <td>...</td>\n",
       "      <td>...</td>\n",
       "      <td>...</td>\n",
       "      <td>...</td>\n",
       "      <td>...</td>\n",
       "      <td>...</td>\n",
       "      <td>...</td>\n",
       "      <td>...</td>\n",
       "      <td>...</td>\n",
       "      <td>...</td>\n",
       "      <td>...</td>\n",
       "      <td>...</td>\n",
       "      <td>...</td>\n",
       "    </tr>\n",
       "    <tr>\n",
       "      <th>74959</th>\n",
       "      <td>74960</td>\n",
       "      <td>2016-08-20</td>\n",
       "      <td>2016-08-23</td>\n",
       "      <td>1512</td>\n",
       "      <td>l</td>\n",
       "      <td>purple</td>\n",
       "      <td>46</td>\n",
       "      <td>29.9</td>\n",
       "      <td>43797</td>\n",
       "      <td>Mrs</td>\n",
       "      <td>NaT</td>\n",
       "      <td>North Rhine-Westphalia</td>\n",
       "      <td>2016-08-21</td>\n",
       "      <td>1</td>\n",
       "      <td>NaN</td>\n",
       "    </tr>\n",
       "    <tr>\n",
       "      <th>74960</th>\n",
       "      <td>74961</td>\n",
       "      <td>2016-08-20</td>\n",
       "      <td>2016-08-23</td>\n",
       "      <td>1412</td>\n",
       "      <td>38</td>\n",
       "      <td>blue</td>\n",
       "      <td>54</td>\n",
       "      <td>119.9</td>\n",
       "      <td>43797</td>\n",
       "      <td>Mrs</td>\n",
       "      <td>NaT</td>\n",
       "      <td>North Rhine-Westphalia</td>\n",
       "      <td>2016-08-21</td>\n",
       "      <td>1</td>\n",
       "      <td>NaN</td>\n",
       "    </tr>\n",
       "    <tr>\n",
       "      <th>74961</th>\n",
       "      <td>74962</td>\n",
       "      <td>2016-08-20</td>\n",
       "      <td>2016-08-23</td>\n",
       "      <td>1607</td>\n",
       "      <td>l</td>\n",
       "      <td>stained</td>\n",
       "      <td>29</td>\n",
       "      <td>59.9</td>\n",
       "      <td>43797</td>\n",
       "      <td>Mrs</td>\n",
       "      <td>NaT</td>\n",
       "      <td>North Rhine-Westphalia</td>\n",
       "      <td>2016-08-21</td>\n",
       "      <td>1</td>\n",
       "      <td>NaN</td>\n",
       "    </tr>\n",
       "    <tr>\n",
       "      <th>74962</th>\n",
       "      <td>74963</td>\n",
       "      <td>2016-08-20</td>\n",
       "      <td>2016-08-23</td>\n",
       "      <td>1471</td>\n",
       "      <td>46</td>\n",
       "      <td>blue</td>\n",
       "      <td>113</td>\n",
       "      <td>69.9</td>\n",
       "      <td>43797</td>\n",
       "      <td>Mrs</td>\n",
       "      <td>NaT</td>\n",
       "      <td>North Rhine-Westphalia</td>\n",
       "      <td>2016-08-21</td>\n",
       "      <td>0</td>\n",
       "      <td>NaN</td>\n",
       "    </tr>\n",
       "    <tr>\n",
       "      <th>74963</th>\n",
       "      <td>74964</td>\n",
       "      <td>2016-08-20</td>\n",
       "      <td>2016-08-23</td>\n",
       "      <td>498</td>\n",
       "      <td>xl</td>\n",
       "      <td>green</td>\n",
       "      <td>11</td>\n",
       "      <td>49.9</td>\n",
       "      <td>43797</td>\n",
       "      <td>Mrs</td>\n",
       "      <td>NaT</td>\n",
       "      <td>North Rhine-Westphalia</td>\n",
       "      <td>2016-08-21</td>\n",
       "      <td>1</td>\n",
       "      <td>NaN</td>\n",
       "    </tr>\n",
       "  </tbody>\n",
       "</table>\n",
       "<p>6374 rows × 15 columns</p>\n",
       "</div>"
      ],
      "text/plain": [
       "       order_item_id order_date delivery_date  item_id item_size item_color  \\\n",
       "11                12 2016-06-22    2016-06-27      212         l       grey   \n",
       "12                13 2016-06-22    2016-06-27      378         l      black   \n",
       "13                14 2016-06-22    2016-06-27      222         l      black   \n",
       "41                42 2016-06-23    2016-06-26      394        40       grey   \n",
       "42                43 2016-06-23    2016-06-26      394        40      black   \n",
       "...              ...        ...           ...      ...       ...        ...   \n",
       "74959          74960 2016-08-20    2016-08-23     1512         l     purple   \n",
       "74960          74961 2016-08-20    2016-08-23     1412        38       blue   \n",
       "74961          74962 2016-08-20    2016-08-23     1607         l    stained   \n",
       "74962          74963 2016-08-20    2016-08-23     1471        46       blue   \n",
       "74963          74964 2016-08-20    2016-08-23      498        xl      green   \n",
       "\n",
       "       brand_id  item_price  user_id user_title user_dob  \\\n",
       "11            5        39.9    30824        Mrs      NaT   \n",
       "12            5        59.9    30824        Mrs      NaT   \n",
       "13            3        29.9    30824        Mrs      NaT   \n",
       "41           44       105.0    30827        Mrs      NaT   \n",
       "42           44        90.0    30827        Mrs      NaT   \n",
       "...         ...         ...      ...        ...      ...   \n",
       "74959        46        29.9    43797        Mrs      NaT   \n",
       "74960        54       119.9    43797        Mrs      NaT   \n",
       "74961        29        59.9    43797        Mrs      NaT   \n",
       "74962       113        69.9    43797        Mrs      NaT   \n",
       "74963        11        49.9    43797        Mrs      NaT   \n",
       "\n",
       "                   user_state user_reg_date  return  age  \n",
       "11               Lower Saxony    2016-06-23       0  NaN  \n",
       "12               Lower Saxony    2016-06-23       0  NaN  \n",
       "13               Lower Saxony    2016-06-23       0  NaN  \n",
       "41                    Hamburg    2016-02-09       1  NaN  \n",
       "42                    Hamburg    2016-02-09       1  NaN  \n",
       "...                       ...           ...     ...  ...  \n",
       "74959  North Rhine-Westphalia    2016-08-21       1  NaN  \n",
       "74960  North Rhine-Westphalia    2016-08-21       1  NaN  \n",
       "74961  North Rhine-Westphalia    2016-08-21       1  NaN  \n",
       "74962  North Rhine-Westphalia    2016-08-21       0  NaN  \n",
       "74963  North Rhine-Westphalia    2016-08-21       1  NaN  \n",
       "\n",
       "[6374 rows x 15 columns]"
      ]
     },
     "execution_count": 6,
     "metadata": {},
     "output_type": "execute_result"
    }
   ],
   "source": [
    "df[df.user_dob.isnull()]#[\"item_id\"].nunique()"
   ]
  },
  {
   "cell_type": "markdown",
   "metadata": {},
   "source": [
    "problem size"
   ]
  },
  {
   "cell_type": "code",
   "execution_count": 7,
   "metadata": {},
   "outputs": [
    {
     "data": {
      "text/plain": [
       "array(['38', '152', 'xxl', '41', '50', 'l', '48', 'xl', '42', '43', '9',\n",
       "       '8+', 'unsized', 'm', 's', '40', '40+', '6+', '10', '8', '7', '44',\n",
       "       '37', '39', '36', '4+', '21', '18', '7+', '20', '5+', '46', '6',\n",
       "       '19', '4', '5', '35', '31', '38+', '29', '34', '3', '30', '45',\n",
       "       '22', '24', '41+', '39+', '23', '140', '116', '26', '9+', '3632',\n",
       "       '4032', '10+', '1', '36+', '11', '28', '11+', '12', '25', '37+',\n",
       "       '128', '176', 'xs', '42+', '3432', '164', '52', '104', '33', '32',\n",
       "       '14', 'xxxl', '27', '13', '56', '3+', '47', '54', '3332', '46+',\n",
       "       '2', '80', '45+', '90', '3832', '3634', '44+', '49', '43+', '2+',\n",
       "       '100', '3132', '58', '4034'], dtype=object)"
      ]
     },
     "execution_count": 7,
     "metadata": {},
     "output_type": "execute_result"
    }
   ],
   "source": [
    "df.item_size.unique()"
   ]
  }
 ],
 "metadata": {
  "kernelspec": {
   "display_name": "Python 3.10.8 64-bit (microsoft store)",
   "language": "python",
   "name": "python3"
  },
  "language_info": {
   "codemirror_mode": {
    "name": "ipython",
    "version": 3
   },
   "file_extension": ".py",
   "mimetype": "text/x-python",
   "name": "python",
   "nbconvert_exporter": "python",
   "pygments_lexer": "ipython3",
   "version": "3.10.8"
  },
  "orig_nbformat": 4,
  "vscode": {
   "interpreter": {
    "hash": "f057ee858b85cb61ebf4db329176c41c101b87ce182c0543c232437d49c5b088"
   }
  }
 },
 "nbformat": 4,
 "nbformat_minor": 2
}
