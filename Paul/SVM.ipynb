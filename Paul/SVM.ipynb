{
 "cells": [
  {
   "cell_type": "code",
   "execution_count": 12,
   "metadata": {},
   "outputs": [],
   "source": [
    "import numpy as np\n",
    "from sklearn.pipeline import make_pipeline\n",
    "from sklearn.preprocessing import StandardScaler\n",
    "from sklearn.svm import SVC\n",
    "import pandas as pd\n",
    "from sklearn.model_selection import train_test_split\n"
   ]
  },
  {
   "cell_type": "code",
   "execution_count": 3,
   "metadata": {},
   "outputs": [],
   "source": [
    "import pandas as pd\n",
    "df = pd.read_csv(\"retouren.csv\")"
   ]
  },
  {
   "cell_type": "code",
   "execution_count": 4,
   "metadata": {},
   "outputs": [],
   "source": [
    "df[\"user_dob\"] = pd.to_datetime(df.user_dob)\n",
    "df[\"user_reg_date\"] = pd.to_datetime(df.user_reg_date)\n",
    "df[\"order_date\"] = pd.to_datetime(df.order_date)\n",
    "df[\"delivery_date\"] = pd.to_datetime(df.delivery_date)"
   ]
  },
  {
   "cell_type": "code",
   "execution_count": 5,
   "metadata": {},
   "outputs": [],
   "source": [
    "df = df.drop(df[df.item_price == 999].index)\n",
    "df = df.drop(df[df.delivery_date < df.order_date].index)\n",
    "df = df.drop(df[df.item_color == \"?\"].index)"
   ]
  },
  {
   "cell_type": "code",
   "execution_count": 6,
   "metadata": {},
   "outputs": [],
   "source": [
    "df.loc[df.item_color == \"brwon\",\"item_color\"] = \"brown\"\n",
    "df.loc[df.item_color == \"blau\",\"item_color\"] = \"blue\"\n",
    "df.loc[df.item_color == \"dark oliv\",\"item_color\"] = \"dark olive\""
   ]
  },
  {
   "cell_type": "code",
   "execution_count": 7,
   "metadata": {},
   "outputs": [],
   "source": [
    "df[\"age\"] = df.order_date.dt.year - df.user_dob.dt.year -((df.order_date.dt.date)<(df.user_dob.dt.date))\n",
    "df[\"acc_age\"] = df.order_date - df.user_reg_date \n",
    "df[\"acc_age\"] = df.acc_age.dt.days"
   ]
  },
  {
   "cell_type": "code",
   "execution_count": 8,
   "metadata": {},
   "outputs": [],
   "source": [
    "df_mark = df.groupby([\"item_id\",\"item_size\",\"item_color\"]).agg(maxprice=(\"item_price\",\"max\")).reset_index()\n",
    "df = pd.merge(df,df_mark)\n",
    "df[\"markdown\"] = 0\n",
    "df.loc[df.item_price < df.maxprice,\"markdown\"] = 1"
   ]
  },
  {
   "cell_type": "code",
   "execution_count": 9,
   "metadata": {},
   "outputs": [],
   "source": [
    "df.drop(df[df.delivery_date.isna()].index, inplace=True)"
   ]
  },
  {
   "cell_type": "code",
   "execution_count": 13,
   "metadata": {},
   "outputs": [],
   "source": [
    "#Trainingsdaten\n",
    "X = df[[\"item_id\",\"item_size\",\"item_color\",\"user_id\",\"age\",\"markdown\"]]\n",
    "y = df[\"return\"]\n",
    "X_train, X_test, y_train, y_test = train_test_split(X, y, test_size=0.2, random_state=0)\n"
   ]
  },
  {
   "cell_type": "code",
   "execution_count": 14,
   "metadata": {},
   "outputs": [
    {
     "data": {
      "text/html": [
       "<div>\n",
       "<style scoped>\n",
       "    .dataframe tbody tr th:only-of-type {\n",
       "        vertical-align: middle;\n",
       "    }\n",
       "\n",
       "    .dataframe tbody tr th {\n",
       "        vertical-align: top;\n",
       "    }\n",
       "\n",
       "    .dataframe thead th {\n",
       "        text-align: right;\n",
       "    }\n",
       "</style>\n",
       "<table border=\"1\" class=\"dataframe\">\n",
       "  <thead>\n",
       "    <tr style=\"text-align: right;\">\n",
       "      <th></th>\n",
       "      <th>item_id</th>\n",
       "      <th>item_size</th>\n",
       "      <th>item_color</th>\n",
       "      <th>user_id</th>\n",
       "      <th>age</th>\n",
       "      <th>markdown</th>\n",
       "    </tr>\n",
       "  </thead>\n",
       "  <tbody>\n",
       "    <tr>\n",
       "      <th>5061</th>\n",
       "      <td>114</td>\n",
       "      <td>39</td>\n",
       "      <td>black</td>\n",
       "      <td>41363</td>\n",
       "      <td>39.0</td>\n",
       "      <td>1</td>\n",
       "    </tr>\n",
       "    <tr>\n",
       "      <th>52884</th>\n",
       "      <td>1687</td>\n",
       "      <td>xxl</td>\n",
       "      <td>aquamarine</td>\n",
       "      <td>40378</td>\n",
       "      <td>49.0</td>\n",
       "      <td>0</td>\n",
       "    </tr>\n",
       "    <tr>\n",
       "      <th>59665</th>\n",
       "      <td>1552</td>\n",
       "      <td>xl</td>\n",
       "      <td>red</td>\n",
       "      <td>22100</td>\n",
       "      <td>48.0</td>\n",
       "      <td>0</td>\n",
       "    </tr>\n",
       "    <tr>\n",
       "      <th>45698</th>\n",
       "      <td>1359</td>\n",
       "      <td>27</td>\n",
       "      <td>brown</td>\n",
       "      <td>34058</td>\n",
       "      <td>48.0</td>\n",
       "      <td>0</td>\n",
       "    </tr>\n",
       "    <tr>\n",
       "      <th>63563</th>\n",
       "      <td>1958</td>\n",
       "      <td>m</td>\n",
       "      <td>green</td>\n",
       "      <td>40844</td>\n",
       "      <td>42.0</td>\n",
       "      <td>0</td>\n",
       "    </tr>\n",
       "    <tr>\n",
       "      <th>...</th>\n",
       "      <td>...</td>\n",
       "      <td>...</td>\n",
       "      <td>...</td>\n",
       "      <td>...</td>\n",
       "      <td>...</td>\n",
       "      <td>...</td>\n",
       "    </tr>\n",
       "    <tr>\n",
       "      <th>48711</th>\n",
       "      <td>1550</td>\n",
       "      <td>xl</td>\n",
       "      <td>berry</td>\n",
       "      <td>6301</td>\n",
       "      <td>45.0</td>\n",
       "      <td>0</td>\n",
       "    </tr>\n",
       "    <tr>\n",
       "      <th>24679</th>\n",
       "      <td>328</td>\n",
       "      <td>m</td>\n",
       "      <td>purple</td>\n",
       "      <td>22407</td>\n",
       "      <td>50.0</td>\n",
       "      <td>0</td>\n",
       "    </tr>\n",
       "    <tr>\n",
       "      <th>52790</th>\n",
       "      <td>1636</td>\n",
       "      <td>48</td>\n",
       "      <td>blue</td>\n",
       "      <td>23933</td>\n",
       "      <td>57.0</td>\n",
       "      <td>0</td>\n",
       "    </tr>\n",
       "    <tr>\n",
       "      <th>49357</th>\n",
       "      <td>1569</td>\n",
       "      <td>xl</td>\n",
       "      <td>grey</td>\n",
       "      <td>20074</td>\n",
       "      <td>51.0</td>\n",
       "      <td>0</td>\n",
       "    </tr>\n",
       "    <tr>\n",
       "      <th>50349</th>\n",
       "      <td>1532</td>\n",
       "      <td>l</td>\n",
       "      <td>green</td>\n",
       "      <td>17674</td>\n",
       "      <td>51.0</td>\n",
       "      <td>1</td>\n",
       "    </tr>\n",
       "  </tbody>\n",
       "</table>\n",
       "<p>52888 rows × 6 columns</p>\n",
       "</div>"
      ],
      "text/plain": [
       "       item_id item_size  item_color  user_id   age  markdown\n",
       "5061       114        39       black    41363  39.0         1\n",
       "52884     1687       xxl  aquamarine    40378  49.0         0\n",
       "59665     1552        xl         red    22100  48.0         0\n",
       "45698     1359        27       brown    34058  48.0         0\n",
       "63563     1958         m       green    40844  42.0         0\n",
       "...        ...       ...         ...      ...   ...       ...\n",
       "48711     1550        xl       berry     6301  45.0         0\n",
       "24679      328         m      purple    22407  50.0         0\n",
       "52790     1636        48        blue    23933  57.0         0\n",
       "49357     1569        xl        grey    20074  51.0         0\n",
       "50349     1532         l       green    17674  51.0         1\n",
       "\n",
       "[52888 rows x 6 columns]"
      ]
     },
     "execution_count": 14,
     "metadata": {},
     "output_type": "execute_result"
    }
   ],
   "source": [
    "X_train"
   ]
  }
 ],
 "metadata": {
  "kernelspec": {
   "display_name": "Python 3.10.8 64-bit (microsoft store)",
   "language": "python",
   "name": "python3"
  },
  "language_info": {
   "codemirror_mode": {
    "name": "ipython",
    "version": 3
   },
   "file_extension": ".py",
   "mimetype": "text/x-python",
   "name": "python",
   "nbconvert_exporter": "python",
   "pygments_lexer": "ipython3",
   "version": "3.10.8"
  },
  "orig_nbformat": 4,
  "vscode": {
   "interpreter": {
    "hash": "f057ee858b85cb61ebf4db329176c41c101b87ce182c0543c232437d49c5b088"
   }
  }
 },
 "nbformat": 4,
 "nbformat_minor": 2
}
