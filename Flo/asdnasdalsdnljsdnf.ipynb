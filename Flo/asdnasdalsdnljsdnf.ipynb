{
 "cells": [
  {
   "cell_type": "code",
   "execution_count": 1,
   "metadata": {},
   "outputs": [],
   "source": [
    "import pandas as pd"
   ]
  },
  {
   "cell_type": "code",
   "execution_count": 2,
   "metadata": {},
   "outputs": [],
   "source": [
    "df = pd.read_csv(\"retouren.csv\")"
   ]
  },
  {
   "cell_type": "markdown",
   "metadata": {},
   "source": [
    "**1 Data Cleaning**"
   ]
  },
  {
   "cell_type": "code",
   "execution_count": 5,
   "metadata": {},
   "outputs": [
    {
     "data": {
      "text/html": [
       "<div>\n",
       "<style scoped>\n",
       "    .dataframe tbody tr th:only-of-type {\n",
       "        vertical-align: middle;\n",
       "    }\n",
       "\n",
       "    .dataframe tbody tr th {\n",
       "        vertical-align: top;\n",
       "    }\n",
       "\n",
       "    .dataframe thead th {\n",
       "        text-align: right;\n",
       "    }\n",
       "</style>\n",
       "<table border=\"1\" class=\"dataframe\">\n",
       "  <thead>\n",
       "    <tr style=\"text-align: right;\">\n",
       "      <th></th>\n",
       "      <th>order_item_id</th>\n",
       "      <th>item_id</th>\n",
       "      <th>brand_id</th>\n",
       "      <th>item_price</th>\n",
       "      <th>user_id</th>\n",
       "      <th>return</th>\n",
       "    </tr>\n",
       "  </thead>\n",
       "  <tbody>\n",
       "    <tr>\n",
       "      <th>count</th>\n",
       "      <td>75007.0</td>\n",
       "      <td>75007.0</td>\n",
       "      <td>75007.0</td>\n",
       "      <td>75007.0</td>\n",
       "      <td>75007.0</td>\n",
       "      <td>75007.0</td>\n",
       "    </tr>\n",
       "    <tr>\n",
       "      <th>mean</th>\n",
       "      <td>37504.0</td>\n",
       "      <td>784.8</td>\n",
       "      <td>28.8</td>\n",
       "      <td>60.7</td>\n",
       "      <td>25740.2</td>\n",
       "      <td>0.5</td>\n",
       "    </tr>\n",
       "    <tr>\n",
       "      <th>std</th>\n",
       "      <td>21652.8</td>\n",
       "      <td>680.0</td>\n",
       "      <td>26.8</td>\n",
       "      <td>44.7</td>\n",
       "      <td>12947.2</td>\n",
       "      <td>0.5</td>\n",
       "    </tr>\n",
       "    <tr>\n",
       "      <th>min</th>\n",
       "      <td>1.0</td>\n",
       "      <td>1.0</td>\n",
       "      <td>1.0</td>\n",
       "      <td>0.0</td>\n",
       "      <td>9.0</td>\n",
       "      <td>0.0</td>\n",
       "    </tr>\n",
       "    <tr>\n",
       "      <th>25%</th>\n",
       "      <td>18752.5</td>\n",
       "      <td>176.0</td>\n",
       "      <td>5.0</td>\n",
       "      <td>29.9</td>\n",
       "      <td>14674.0</td>\n",
       "      <td>0.0</td>\n",
       "    </tr>\n",
       "    <tr>\n",
       "      <th>50%</th>\n",
       "      <td>37504.0</td>\n",
       "      <td>479.0</td>\n",
       "      <td>24.0</td>\n",
       "      <td>49.9</td>\n",
       "      <td>30486.0</td>\n",
       "      <td>0.0</td>\n",
       "    </tr>\n",
       "    <tr>\n",
       "      <th>75%</th>\n",
       "      <td>56255.5</td>\n",
       "      <td>1517.0</td>\n",
       "      <td>43.0</td>\n",
       "      <td>74.9</td>\n",
       "      <td>36479.0</td>\n",
       "      <td>1.0</td>\n",
       "    </tr>\n",
       "    <tr>\n",
       "      <th>max</th>\n",
       "      <td>75007.0</td>\n",
       "      <td>2224.0</td>\n",
       "      <td>137.0</td>\n",
       "      <td>999.0</td>\n",
       "      <td>43801.0</td>\n",
       "      <td>1.0</td>\n",
       "    </tr>\n",
       "  </tbody>\n",
       "</table>\n",
       "</div>"
      ],
      "text/plain": [
       "       order_item_id  item_id  brand_id  item_price  user_id   return\n",
       "count        75007.0  75007.0   75007.0     75007.0  75007.0  75007.0\n",
       "mean         37504.0    784.8      28.8        60.7  25740.2      0.5\n",
       "std          21652.8    680.0      26.8        44.7  12947.2      0.5\n",
       "min              1.0      1.0       1.0         0.0      9.0      0.0\n",
       "25%          18752.5    176.0       5.0        29.9  14674.0      0.0\n",
       "50%          37504.0    479.0      24.0        49.9  30486.0      0.0\n",
       "75%          56255.5   1517.0      43.0        74.9  36479.0      1.0\n",
       "max          75007.0   2224.0     137.0       999.0  43801.0      1.0"
      ]
     },
     "execution_count": 5,
     "metadata": {},
     "output_type": "execute_result"
    }
   ],
   "source": [
    "df.describe().round(1)"
   ]
  },
  {
   "cell_type": "code",
   "execution_count": 11,
   "metadata": {},
   "outputs": [
    {
     "data": {
      "text/plain": [
       "array([ 157,   62,  312,  553,  807, 1014,  239, 1436, 1725, 1904, 1951,\n",
       "       1472, 2025, 2103, 2121, 2199, 2213])"
      ]
     },
     "execution_count": 11,
     "metadata": {},
     "output_type": "execute_result"
    }
   ],
   "source": [
    "df[df.item_price == 0].item_id.unique()"
   ]
  }
 ],
 "metadata": {
  "kernelspec": {
   "display_name": "Python 3.9.7 64-bit",
   "language": "python",
   "name": "python3"
  },
  "language_info": {
   "codemirror_mode": {
    "name": "ipython",
    "version": 3
   },
   "file_extension": ".py",
   "mimetype": "text/x-python",
   "name": "python",
   "nbconvert_exporter": "python",
   "pygments_lexer": "ipython3",
   "version": "3.9.7"
  },
  "orig_nbformat": 4,
  "vscode": {
   "interpreter": {
    "hash": "aee8b7b246df8f9039afb4144a1f6fd8d2ca17a180786b69acc140d282b71a49"
   }
  }
 },
 "nbformat": 4,
 "nbformat_minor": 2
}
