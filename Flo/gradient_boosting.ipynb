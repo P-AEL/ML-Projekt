{
 "cells": [
  {
   "cell_type": "code",
   "execution_count": 3,
   "metadata": {},
   "outputs": [],
   "source": [
    "import pandas as pd\n",
    "import numpy as np\n",
    "from sklearn.model_selection import train_test_split, KFold, GridSearchCV, cross_val_score\n",
    "from sklearn import tree\n",
    "from sklearn.metrics import accuracy_score, recall_score, precision_score, ConfusionMatrixDisplay, RocCurveDisplay\n",
    "from sklearn.tree import DecisionTreeClassifier, plot_tree\n",
    "from sklearn.ensemble import GradientBoostingClassifier\n",
    "from sklearn.ensemble import HistGradientBoostingClassifier"
   ]
  },
  {
   "cell_type": "code",
   "execution_count": 4,
   "metadata": {},
   "outputs": [],
   "source": [
    "df = pd.read_csv(\"retouren.csv\")"
   ]
  },
  {
   "cell_type": "markdown",
   "metadata": {},
   "source": [
    "# Data Cleaning"
   ]
  },
  {
   "cell_type": "code",
   "execution_count": 5,
   "metadata": {},
   "outputs": [],
   "source": [
    "df[\"user_dob\"] = pd.to_datetime(df.user_dob)\n",
    "df[\"user_reg_date\"] = pd.to_datetime(df.user_reg_date)\n",
    "df[\"order_date\"] = pd.to_datetime(df.order_date)\n",
    "df[\"delivery_date\"] = pd.to_datetime(df.delivery_date)\n",
    "\n",
    "df[\"age\"] = df.order_date.dt.year - df.user_dob.dt.year -((df.order_date.dt.date)<(df.user_dob.dt.date))\n",
    "df = df.drop(df[df.item_price == 999].index)\n",
    "df = df.drop(df[df.delivery_date < df.order_date].index)\n",
    "\n",
    "df.loc[df.item_color == \"brwon\",\"item_color\"] = \"brown\"\n",
    "df.loc[df.item_color == \"blau\",\"item_color\"] = \"blue\"\n",
    "df.loc[df.item_color == \"dark oliv\",\"item_color\"] = \"dark olive\"\n",
    "\n",
    "df = df.drop(df[df.item_color == \"?\"].index)\n",
    "\n",
    "df[\"acc_age\"] = df.order_date - df.user_reg_date \n",
    "df[\"acc_age\"] = df.acc_age.dt.days\n",
    "\n",
    "df_mark = df.groupby([\"item_id\",\"item_size\",\"item_color\"]).agg(maxprice=(\"item_price\",\"max\")).reset_index()\n",
    "df = pd.merge(df,df_mark)\n",
    "df[\"markdown\"] = 0\n",
    "df.loc[df.item_price < df.maxprice,\"markdown\"] = 1\n",
    "df.drop(df[df.delivery_date.isna()].index, inplace=True)"
   ]
  },
  {
   "cell_type": "code",
   "execution_count": null,
   "metadata": {},
   "outputs": [],
   "source": [
    "df1 = df.copy()"
   ]
  },
  {
   "cell_type": "code",
   "execution_count": null,
   "metadata": {},
   "outputs": [],
   "source": [
    "df1.sort_values('order_date', inplace=True)\n",
    "\n",
    "# Generate order ID and order size\n",
    "order_id_generator = df1.groupby(['order_date', 'user_id'], sort= False).size().reset_index(name='order_size')\n",
    "order_id_generator['order_id'] = order_id_generator.index\n",
    "df1 = pd.merge(df,order_id_generator,on=['user_id', 'order_date'], how='left')"
   ]
  },
  {
   "cell_type": "markdown",
   "metadata": {},
   "source": [
    "**Item Order Count**"
   ]
  },
  {
   "cell_type": "code",
   "execution_count": null,
   "metadata": {},
   "outputs": [],
   "source": [
    "df_order = df1.groupby([\"order_id\", \"item_id\"]).agg(color= (\"item_color\", \"unique\"), size= (\"item_size\", \"unique\"), color_count= (\"item_color\", \"count\"), size_count= (\"item_size\", \"count\"), returned= (\"return\", \"mean\")).reset_index()"
   ]
  },
  {
   "cell_type": "code",
   "execution_count": null,
   "metadata": {},
   "outputs": [],
   "source": [
    "df_order"
   ]
  },
  {
   "cell_type": "markdown",
   "metadata": {},
   "source": [
    "**Order_id_generator**"
   ]
  },
  {
   "cell_type": "code",
   "execution_count": 7,
   "metadata": {},
   "outputs": [],
   "source": [
    "order_id_generator = df.groupby(['order_date', 'user_id'], sort= False).size().reset_index(name='order_size')\n",
    "order_id_generator['order_id'] = order_id_generator.index\n",
    "df = pd.merge(df,order_id_generator,on=['user_id', 'order_date'], how='left')"
   ]
  },
  {
   "cell_type": "markdown",
   "metadata": {},
   "source": [
    "**Order_id**"
   ]
  },
  {
   "cell_type": "code",
   "execution_count": 8,
   "metadata": {},
   "outputs": [
    {
     "name": "stderr",
     "output_type": "stream",
     "text": [
      "/var/folders/f6/gs3z1yx9005b5dmpnd_z3t3m0000gn/T/ipykernel_79245/2376606678.py:4: SettingWithCopyWarning:\n",
      "\n",
      "\n",
      "A value is trying to be set on a copy of a slice from a DataFrame\n",
      "\n",
      "See the caveats in the documentation: https://pandas.pydata.org/pandas-docs/stable/user_guide/indexing.html#returning-a-view-versus-a-copy\n",
      "\n"
     ]
    }
   ],
   "source": [
    "df_order = df.groupby([\"order_id\", \"item_id\"]).agg(color= (\"item_color\", \"unique\"), size= (\"item_size\", \"unique\"), color_count= (\"item_color\", \"count\"), size_count= (\"item_size\", \"count\"), returned= (\"return\", \"mean\")).reset_index()\n",
    "df_order1 = df_order[(df_order.color_count >1) | (df_order.size_count >1)]\n",
    "#df_order1.drop(df_order1.loc[df_order1.returned == 0].index, inplace= True)\n",
    "df_order1.drop([\"color\",\"size\",\"color_count\",\"size_count\"], axis=1,inplace=True)\n",
    "df = pd.merge(df,df_order1,on=[\"order_id\",\"item_id\"],how=\"left\")"
   ]
  },
  {
   "cell_type": "markdown",
   "metadata": {},
   "source": [
    "**Age_bins**"
   ]
  },
  {
   "cell_type": "code",
   "execution_count": 9,
   "metadata": {},
   "outputs": [],
   "source": [
    "df.loc[df.age > 100, \"age\"] = df.loc[df.age > 100, \"age\"] - 100\n",
    "bins=[0,10,20,30,40,50,60,70,80,90,100]\n",
    "df[\"age\"] = pd.cut(df.age,bins=bins)"
   ]
  },
  {
   "cell_type": "markdown",
   "metadata": {},
   "source": [
    "**Return Ratio**"
   ]
  },
  {
   "cell_type": "code",
   "execution_count": 10,
   "metadata": {},
   "outputs": [],
   "source": [
    "df_return_ratio = df.groupby(\"item_id\").agg(returned = (\"return\", \"sum\"), item_order= (\"return\", \"count\")).reset_index()"
   ]
  },
  {
   "cell_type": "code",
   "execution_count": 11,
   "metadata": {},
   "outputs": [],
   "source": [
    "df_return_ratio[\"not_returned\"] = df_return_ratio.item_order - df_return_ratio.returned\n",
    "df_return_ratio[\"return_ratio\"] = df_return_ratio.returned / df_return_ratio.item_order"
   ]
  },
  {
   "cell_type": "code",
   "execution_count": 12,
   "metadata": {},
   "outputs": [],
   "source": [
    "df_return_ratio.drop([\"returned\",\"item_order\",\"not_returned\"],axis=1,inplace=True)"
   ]
  },
  {
   "cell_type": "code",
   "execution_count": 13,
   "metadata": {},
   "outputs": [],
   "source": [
    "df = pd.merge(df,df_return_ratio,on=\"item_id\",how=\"left\")"
   ]
  },
  {
   "cell_type": "code",
   "execution_count": null,
   "metadata": {},
   "outputs": [],
   "source": [
    "df"
   ]
  },
  {
   "cell_type": "markdown",
   "metadata": {},
   "source": [
    "# Testdaten"
   ]
  },
  {
   "cell_type": "code",
   "execution_count": 14,
   "metadata": {},
   "outputs": [],
   "source": [
    "df_grad = df.copy()"
   ]
  },
  {
   "cell_type": "code",
   "execution_count": 15,
   "metadata": {},
   "outputs": [],
   "source": [
    "df_grad = df_grad[df_grad.age.isna() == False]"
   ]
  },
  {
   "cell_type": "code",
   "execution_count": 16,
   "metadata": {},
   "outputs": [],
   "source": [
    "X = pd.get_dummies(df_grad[[\"item_id\",\"item_size\", \"item_color\",\t\"brand_id\",\t\"item_price\",\t\"user_id\",\t\"user_title\",\t\"user_state\",\t\"age\",\t\"acc_age\",\t\"markdown\", \"return_ratio\"]], dummy_na= True)\n",
    "y = df_grad[\"return\"]"
   ]
  },
  {
   "cell_type": "code",
   "execution_count": 17,
   "metadata": {},
   "outputs": [],
   "source": [
    "X_train, X_test, y_train, y_test = train_test_split(X, y, test_size=0.2, random_state=0)"
   ]
  },
  {
   "cell_type": "markdown",
   "metadata": {},
   "source": [
    "# DecisionTreeClassifier "
   ]
  },
  {
   "cell_type": "code",
   "execution_count": null,
   "metadata": {},
   "outputs": [],
   "source": [
    "dtc = DecisionTreeClassifier(max_depth= 1, min_samples_split=2)\n",
    "dtc.fit(X_train, y_train)\n",
    "\n",
    "y_pred_train = dtc.predict(X_train)\n",
    "y_pred_test = dtc.predict(X_test)\n",
    "\n",
    "print(f\"{'Accuracy Train':17} {accuracy_score(y_train, y_pred_train):10.5f}, {'Accuracy Test':17} {accuracy_score(y_test, y_pred_test):10.5f}\")\n",
    "print(f\"{'Recall Train':17} {recall_score(y_train, y_pred_train):10.5f}, {'Recall Test':17} {recall_score(y_test, y_pred_test):10.5f}\")\n",
    "print(f\"{'Precision Train':17} {precision_score(y_train, y_pred_train):10.5f}, {'Precision Test':17} {precision_score(y_test, y_pred_test):10.5f}\")\n",
    "\n",
    "nodes = plot_tree(dtc, rounded=True, filled=True, fontsize=14, class_names=[\"not returned\", \"returned\"], feature_names=X_train.columns)"
   ]
  },
  {
   "cell_type": "markdown",
   "metadata": {},
   "source": [
    "# Baselinemodell mit Crossvalidation durch Kfold (Code aus dem Internet)"
   ]
  },
  {
   "cell_type": "code",
   "execution_count": 18,
   "metadata": {},
   "outputs": [
    {
     "name": "stdout",
     "output_type": "stream",
     "text": [
      "1 0.6241551427024572\n",
      "2 0.6241551427024572\n",
      "3 0.6241551427024572\n",
      "4 0.6244238444866863\n",
      "5 0.6240723657131537\n",
      "6 0.6252916258908763\n",
      "7 0.6237005374718839\n",
      "8 0.6212210491888392\n",
      "9 0.6201258840447534\n"
     ]
    }
   ],
   "source": [
    "crossvalidation = KFold(n_splits= 10, shuffle= True, random_state= 1)\n",
    "for depth in range (1,10):\n",
    " tree_classifier = tree.DecisionTreeClassifier(max_depth = depth, random_state= 1)\n",
    " if tree_classifier.fit(X_train, y_train).tree_.max_depth < depth:\n",
    "  break\n",
    " score = np.mean(cross_val_score(tree_classifier, X_train, y_train, scoring= \"accuracy\", cv= crossvalidation, n_jobs= 1))\n",
    " print(depth, score)"
   ]
  },
  {
   "cell_type": "markdown",
   "metadata": {},
   "source": [
    "# Mit Code aus Ü8 und aus dem Internet: Baseline Modell"
   ]
  },
  {
   "cell_type": "code",
   "execution_count": 19,
   "metadata": {},
   "outputs": [],
   "source": [
    "min_samples = [2, 10, 20, 50, 100]\n",
    "kf = KFold(n_splits= 10, shuffle= True, random_state= 1)\n",
    "best_mean_score = 0\n",
    "best_combination = dict(max_depth= None, min_samples= 2)\n",
    "\n",
    "for depth in range(1,19):\n",
    " for min_sample in min_samples:\n",
    "  scores = []\n",
    "  classifier = DecisionTreeClassifier(max_depth= depth, min_samples_split= min_sample, random_state= 0)\n",
    "  if classifier.fit(X_train, y_train).tree_.max_depth < depth:\n",
    "   break\n",
    "  score = np.mean(cross_val_score(classifier, X_train, y_train, scoring= \"accuracy\", cv= kf, n_jobs= 1))\n",
    "  scores.append(score)\n",
    "\n",
    "  mean_score = np.mean(np.array(scores))\n",
    " if mean_score > best_mean_score:\n",
    "  best_combination[\"max_depth\"] = depth\n",
    "  best_combination[\"min_samples\"] = min_sample\n",
    "  best_mean_score = mean_score"
   ]
  },
  {
   "cell_type": "code",
   "execution_count": 20,
   "metadata": {},
   "outputs": [
    {
     "name": "stdout",
     "output_type": "stream",
     "text": [
      "Best Mean_score: 0.6252089769930609, Best Max_depth: 6, Best Min_samples_split: 100\n"
     ]
    }
   ],
   "source": [
    "print(f\"Best Mean_score: {best_mean_score}, Best Max_depth: {best_combination['max_depth']}, Best Min_samples_split: {best_combination['min_samples']}\")"
   ]
  },
  {
   "cell_type": "code",
   "execution_count": 21,
   "metadata": {},
   "outputs": [
    {
     "name": "stdout",
     "output_type": "stream",
     "text": [
      "Accuracy Train       0.63339, Accuracy Test        0.62526\n",
      "Recall Train         0.67436, Recall Test          0.66372\n",
      "Precision Train      0.62886, Precision Test       0.62108\n"
     ]
    }
   ],
   "source": [
    "best_dtc = DecisionTreeClassifier(max_depth= best_combination[\"max_depth\"], min_samples_split= best_combination[\"min_samples\"], random_state= 0)\n",
    "best_dtc.fit(X_train, y_train)\n",
    "\n",
    "y_pred_train_best_dtc = best_dtc.predict(X_train)\n",
    "y_pred_test_best_dtc = best_dtc.predict(X_test)\n",
    "\n",
    "print(f\"{'Accuracy Train':17} {accuracy_score(y_train, y_pred_train_best_dtc):10.5f}, {'Accuracy Test':17} {accuracy_score(y_test,y_pred_test_best_dtc):10.5f}\")\n",
    "print(f\"{'Recall Train':17} {recall_score(y_train, y_pred_train_best_dtc):10.5f}, {'Recall Test':17} {recall_score(y_test,y_pred_test_best_dtc):10.5f}\")\n",
    "print(f\"{'Precision Train':17} {precision_score(y_train, y_pred_train_best_dtc):10.5f}, {'Precision Test':17} {precision_score(y_test,y_pred_test_best_dtc):10.5f}\")\n"
   ]
  },
  {
   "cell_type": "markdown",
   "metadata": {},
   "source": [
    "# GradientBoostingClassifier"
   ]
  },
  {
   "cell_type": "code",
   "execution_count": null,
   "metadata": {},
   "outputs": [],
   "source": [
    "clf = GradientBoostingClassifier(n_estimators= 100, learning_rate= 1, max_depth= 8, random_state= 0)\n",
    "clf.fit(X_train, y_train)\n",
    "clf.score(X_test, y_test)"
   ]
  },
  {
   "cell_type": "markdown",
   "metadata": {},
   "source": [
    "**Rechenzeit zu lange (bei ca. 80min abgebrochen)**"
   ]
  },
  {
   "cell_type": "code",
   "execution_count": null,
   "metadata": {},
   "outputs": [],
   "source": [
    "gs_crossvalidation = GridSearchCV(\n",
    " estimator= GradientBoostingClassifier(),\n",
    " param_grid= dict(n_estimators= [100, 500, 1000, 2000], learning_rate= [0.0001, 0.001, 0.01, 0.1], max_depth= [1, 3, 5, 7], subsample= [0.25, 0.5, 0.75, 1], random_state= [0]),\n",
    " scoring= \"accuracy\",\n",
    " n_jobs= 1,\n",
    " cv= kf\n",
    " ).fit(X_train, y_train)\n",
    "print(f\"Best parameters: {gs_crossvalidation.best_params_}, best score: {gs_crossvalidation.best_score_}\")"
   ]
  },
  {
   "cell_type": "code",
   "execution_count": 22,
   "metadata": {},
   "outputs": [
    {
     "name": "stdout",
     "output_type": "stream",
     "text": [
      "Best parameters: {'learning_rate': 0.1, 'max_depth': 5, 'max_iter': 100, 'random_state': 1}, best score: 0.6332263299739207\n"
     ]
    }
   ],
   "source": [
    "gs_crossvalidation1 = GridSearchCV(\n",
    " estimator= HistGradientBoostingClassifier(),\n",
    " param_grid= dict(max_iter= [100], learning_rate= [0.001, 0.01, 0.1], max_depth= [1, 3, 5], random_state= [1]),\n",
    " scoring= \"accuracy\",\n",
    " n_jobs= 1,\n",
    " cv= kf\n",
    " ).fit(X_train, y_train)\n",
    "print(f\"Best parameters: {gs_crossvalidation1.best_params_}, best score: {gs_crossvalidation1.best_score_}\")"
   ]
  },
  {
   "cell_type": "code",
   "execution_count": 23,
   "metadata": {},
   "outputs": [
    {
     "data": {
      "text/plain": [
       "0.6332263299739207"
      ]
     },
     "execution_count": 23,
     "metadata": {},
     "output_type": "execute_result"
    }
   ],
   "source": [
    "best_gbc = HistGradientBoostingClassifier(max_iter= 100, max_depth= 5, random_state= 1, learning_rate= 0.1).fit(X_train, y_train)\n",
    "score = np.mean(cross_val_score(best_gbc, X_train, y_train, scoring= \"accuracy\", cv= kf, n_jobs=1))\n",
    "score"
   ]
  },
  {
   "cell_type": "code",
   "execution_count": 24,
   "metadata": {},
   "outputs": [
    {
     "name": "stdout",
     "output_type": "stream",
     "text": [
      "Accuracy Train       0.65147, Accuracy Test        0.62848\n",
      "Recall Train         0.67970, Recall Test          0.65800\n",
      "Precision Train      0.64897, Precision Test       0.62617\n"
     ]
    }
   ],
   "source": [
    "y_pred_train_best_gbc = best_gbc.predict(X_train)\n",
    "y_pred_test_best_gbc = best_gbc.predict(X_test)\n",
    "\n",
    "print(f\"{'Accuracy Train':17} {accuracy_score(y_train, y_pred_train_best_gbc):10.5f}, {'Accuracy Test':17} {accuracy_score(y_test,y_pred_test_best_gbc):10.5f}\")\n",
    "print(f\"{'Recall Train':17} {recall_score(y_train, y_pred_train_best_gbc):10.5f}, {'Recall Test':17} {recall_score(y_test,y_pred_test_best_gbc):10.5f}\")\n",
    "print(f\"{'Precision Train':17} {precision_score(y_train, y_pred_train_best_gbc):10.5f}, {'Precision Test':17} {precision_score(y_test,y_pred_test_best_gbc):10.5f}\")"
   ]
  },
  {
   "cell_type": "markdown",
   "metadata": {},
   "source": [
    "# Aufgabe 5 NOCH ANPASSEN !"
   ]
  },
  {
   "cell_type": "code",
   "execution_count": null,
   "metadata": {},
   "outputs": [],
   "source": [
    "y_pred_test_best_gbc, y_test"
   ]
  },
  {
   "cell_type": "code",
   "execution_count": null,
   "metadata": {},
   "outputs": [],
   "source": [
    "X_test[\"return1\"] = y_pred_test_best_gbc\n",
    "X_test[\"return_true\"] = y_test\n",
    "X_test[\"idk\"] = X_test.return1 == X_test.return_true\n",
    "df_aufgabe6 = X_test[X_test.return1 == 1]\n",
    "df_aufgabe6[\"sum\"] = 0\n",
    "df_aufgabe6.loc[df_aufgabe6.idk == True,\"sum\"]  = 3.5\n",
    "df_aufgabe6.loc[df_aufgabe6.idk == False,\"sum\"] = df_aufgabe6.item_price*(-0.1)*0.5\n",
    "df_aufgabe6[\"sum\"].sum()"
   ]
  },
  {
   "cell_type": "code",
   "execution_count": null,
   "metadata": {},
   "outputs": [],
   "source": [
    "def calc_afg6(y_pred_test, y_test):\n",
    " X_test[\"return1\"] = y_pred_test\n",
    " X_test[\"return_true\"] = y_test\n",
    " X_test[\"idk\"] = X_test.return1 == X_test.return_true\n",
    " df_aufgabe6 = X_test[X_test.return1 == 1]\n",
    " df_aufgabe6[\"sum\"] = 0\n",
    " df_aufgabe6.loc[df_aufgabe6.idk == True,\"sum\"]  = 3.5\n",
    " df_aufgabe6.loc[df_aufgabe6.idk == False,\"sum\"] = df_aufgabe6.item_price*(-0.1)*0.5\n",
    " return df_aufgabe6[\"sum\"].sum()"
   ]
  },
  {
   "cell_type": "code",
   "execution_count": null,
   "metadata": {},
   "outputs": [],
   "source": [
    "calc_afg6(y_pred_test= y_pred_test_best_gbc, y_test= y_test)"
   ]
  },
  {
   "cell_type": "markdown",
   "metadata": {},
   "source": [
    "# Confusion Matrix"
   ]
  },
  {
   "cell_type": "code",
   "execution_count": 1,
   "metadata": {},
   "outputs": [],
   "source": [
    "def plot_confusion_matrix(y_test, y_pred, normalize):\n",
    " # normalize = (\"true\", \"false\") as a string\n",
    " ConfusionMatrixDisplay.from_predictions(y_test, y_pred, cmap= \"Greens\", colorbar= False, normalize= normalize)"
   ]
  },
  {
   "cell_type": "code",
   "execution_count": 2,
   "metadata": {},
   "outputs": [
    {
     "ename": "NameError",
     "evalue": "name 'y_test' is not defined",
     "output_type": "error",
     "traceback": [
      "\u001b[0;31m---------------------------------------------------------------------------\u001b[0m",
      "\u001b[0;31mNameError\u001b[0m                                 Traceback (most recent call last)",
      "\u001b[1;32m/Users/florian/Documents/GitHub/3 Semester/projects/ML-project-1/Flo/gradient_boosting.ipynb Zelle 49\u001b[0m in \u001b[0;36m<cell line: 1>\u001b[0;34m()\u001b[0m\n\u001b[0;32m----> <a href='vscode-notebook-cell:/Users/florian/Documents/GitHub/3%20Semester/projects/ML-project-1/Flo/gradient_boosting.ipynb#Y110sZmlsZQ%3D%3D?line=0'>1</a>\u001b[0m plot_confusion_matrix(y_test, y_pred_test_best_gbc, \u001b[39m\"\u001b[39m\u001b[39mtrue\u001b[39m\u001b[39m\"\u001b[39m)\n",
      "\u001b[0;31mNameError\u001b[0m: name 'y_test' is not defined"
     ]
    }
   ],
   "source": [
    "plot_confusion_matrix(y_test, y_pred_test_best_gbc, \"true\")"
   ]
  },
  {
   "cell_type": "code",
   "execution_count": 403,
   "metadata": {},
   "outputs": [
    {
     "data": {
      "text/plain": [
       "<sklearn.metrics._plot.confusion_matrix.ConfusionMatrixDisplay at 0x7f9dcf7e64f0>"
      ]
     },
     "execution_count": 403,
     "metadata": {},
     "output_type": "execute_result"
    },
    {
     "data": {
      "image/png": "[encoded data removed]",
      "text/plain": [
       "<Figure size 432x288 with 1 Axes>"
      ]
     },
     "metadata": {
      "needs_background": "light"
     },
     "output_type": "display_data"
    }
   ],
   "source": [
    "ConfusionMatrixDisplay.from_predictions(y_test, y_pred_test_best_gbc, cmap= \"Greens\", colorbar= False, normalize= \"true\")"
   ]
  },
  {
   "cell_type": "code",
   "execution_count": 405,
   "metadata": {},
   "outputs": [
    {
     "data": {
      "image/png": "[encoded data removed]",
      "text/plain": [
       "<Figure size 432x432 with 1 Axes>"
      ]
     },
     "metadata": {
      "needs_background": "light"
     },
     "output_type": "display_data"
    }
   ],
   "source": [
    "from sklearn.metrics import confusion_matrix, accuracy_score, plot_confusion_matrix\n",
    "from mlxtend.plotting import plot_confusion_matrix\n",
    "import matplotlib.pyplot as plt\n",
    "\n",
    "cm_hgb = confusion_matrix(y_test, y_pred_test_best_gbc)\n",
    "fig, ax = plot_confusion_matrix(conf_mat=cm_hgb, figsize=(6, 6), cmap=plt.cm.Greens)\n",
    "plt.xlabel('Predictions', fontsize=18)\n",
    "plt.ylabel('Actuals', fontsize=18)\n",
    "plt.title('Confusion Matrix', fontsize=18)\n",
    "plt.show()"
   ]
  },
  {
   "cell_type": "code",
   "execution_count": null,
   "metadata": {},
   "outputs": [],
   "source": [
    "pd.crosstab(y_test, y_pred_test_best_gbc, rownames= [\"True\"], colnames= [\"Predicted\"], margins= True)"
   ]
  },
  {
   "cell_type": "code",
   "execution_count": null,
   "metadata": {},
   "outputs": [],
   "source": [
    "import plotly.graph_objects as go"
   ]
  },
  {
   "cell_type": "code",
   "execution_count": null,
   "metadata": {},
   "outputs": [],
   "source": [
    "def plot_confusion_matrix2(y_true, y_pred, title):\n",
    " cm = confusion_matrix(y_true, y_pred)\n",
    " fig = go.Figure(\n",
    "    go.Heatmap(\n",
    "        z= cm[::-1],\n",
    "        y= [\"1\", \"0\"],\n",
    "        x= [\"0\", \"1\"],\n",
    "        hoverongaps= False,\n",
    "        colorscale= \"Greens\",\n",
    "    ),\n",
    "    layout= dict(\n",
    "        legend_title_text= \"ahjksbdhasbdhas\",\n",
    "        height= 400,\n",
    "        width= 700,\n",
    "        title= dict(text= f\"<b>{title}</b>\", xanchor= \"center\", yanchor= \"top\", y=0.85, x=0.5, font_size= 20),\n",
    "        xaxis= dict(title= \"<b>Predictions</b>\"),\n",
    "        yaxis= dict(title= \"<b>Actuals</b>\"),\n",
    "        annotations= [\n",
    "            dict(x= 0, y= 0, font= dict(color= \"black\"), text= f\"{cm[1, 0]}\", showarrow= False),\n",
    "            dict(x= 0, y= 1, font= dict(color= \"black\"), text= f\"{cm[0, 0]}\", showarrow= False),\n",
    "            dict(x= 1, y= 0, font= dict(color= \"black\"), text= f\"{cm[1, 1]}\", showarrow= False),\n",
    "            dict(x= 1, y= 1, font= dict(color= \"black\"), text= f\"{cm[0, 1]}\", showarrow= False),\n",
    "        ]\n",
    "    )\n",
    " )\n",
    " fig.show()"
   ]
  },
  {
   "cell_type": "code",
   "execution_count": 401,
   "metadata": {},
   "outputs": [
    {
     "data": {
      "application/vnd.plotly.v1+json": {
       "config": {
        "plotlyServerURL": "https://plot.ly"
       },
       "data": [
        {
         "colorscale": [
          [
           0,
           "rgb(247,252,245)"
          ],
          [
           0.125,
           "rgb(229,245,224)"
          ],
          [
           0.25,
           "rgb(199,233,192)"
          ],
          [
           0.375,
           "rgb(161,217,155)"
          ],
          [
           0.5,
           "rgb(116,196,118)"
          ],
          [
           0.625,
           "rgb(65,171,93)"
          ],
          [
           0.75,
           "rgb(35,139,69)"
          ],
          [
           0.875,
           "rgb(0,109,44)"
          ],
          [
           1,
           "rgb(0,68,27)"
          ]
         ],
         "hoverongaps": false,
         "type": "heatmap",
         "x": [
          "0",
          "1"
         ],
         "y": [
          "1",
          "0"
         ],
         "z": [
          [
           2092,
           4025
          ],
          [
           3579,
           2403
          ]
         ]
        }
       ],
       "layout": {
        "annotations": [
         {
          "font": {
           "color": "black"
          },
          "showarrow": false,
          "text": "2092",
          "x": 0,
          "y": 0
         },
         {
          "font": {
           "color": "black"
          },
          "showarrow": false,
          "text": "3579",
          "x": 0,
          "y": 1
         },
         {
          "font": {
           "color": "black"
          },
          "showarrow": false,
          "text": "4025",
          "x": 1,
          "y": 0
         },
         {
          "font": {
           "color": "black"
          },
          "showarrow": false,
          "text": "2403",
          "x": 1,
          "y": 1
         }
        ],
        "height": 400,
        "legend": {
         "title": {
          "text": "ahjksbdhasbdhas"
         }
        },
        "template": {
         "data": {
          "bar": [
           {
            "error_x": {
             "color": "#2a3f5f"
            },
            "error_y": {
             "color": "#2a3f5f"
            },
            "marker": {
             "line": {
              "color": "#E5ECF6",
              "width": 0.5
             },
             "pattern": {
              "fillmode": "overlay",
              "size": 10,
              "solidity": 0.2
             }
            },
            "type": "bar"
           }
          ],
          "barpolar": [
           {
            "marker": {
             "line": {
              "color": "#E5ECF6",
              "width": 0.5
             },
             "pattern": {
              "fillmode": "overlay",
              "size": 10,
              "solidity": 0.2
             }
            },
            "type": "barpolar"
           }
          ],
          "carpet": [
           {
            "aaxis": {
             "endlinecolor": "#2a3f5f",
             "gridcolor": "white",
             "linecolor": "white",
             "minorgridcolor": "white",
             "startlinecolor": "#2a3f5f"
            },
            "baxis": {
             "endlinecolor": "#2a3f5f",
             "gridcolor": "white",
             "linecolor": "white",
             "minorgridcolor": "white",
             "startlinecolor": "#2a3f5f"
            },
            "type": "carpet"
           }
          ],
          "choropleth": [
           {
            "colorbar": {
             "outlinewidth": 0,
             "ticks": ""
            },
            "type": "choropleth"
           }
          ],
          "contour": [
           {
            "colorbar": {
             "outlinewidth": 0,
             "ticks": ""
            },
            "colorscale": [
             [
              0,
              "#0d0887"
             ],
             [
              0.1111111111111111,
              "#46039f"
             ],
             [
              0.2222222222222222,
              "#7201a8"
             ],
             [
              0.3333333333333333,
              "#9c179e"
             ],
             [
              0.4444444444444444,
              "#bd3786"
             ],
             [
              0.5555555555555556,
              "#d8576b"
             ],
             [
              0.6666666666666666,
              "#ed7953"
             ],
             [
              0.7777777777777778,
              "#fb9f3a"
             ],
             [
              0.8888888888888888,
              "#fdca26"
             ],
             [
              1,
              "#f0f921"
             ]
            ],
            "type": "contour"
           }
          ],
          "contourcarpet": [
           {
            "colorbar": {
             "outlinewidth": 0,
             "ticks": ""
            },
            "type": "contourcarpet"
           }
          ],
          "heatmap": [
           {
            "colorbar": {
             "outlinewidth": 0,
             "ticks": ""
            },
            "colorscale": [
             [
              0,
              "#0d0887"
             ],
             [
              0.1111111111111111,
              "#46039f"
             ],
             [
              0.2222222222222222,
              "#7201a8"
             ],
             [
              0.3333333333333333,
              "#9c179e"
             ],
             [
              0.4444444444444444,
              "#bd3786"
             ],
             [
              0.5555555555555556,
              "#d8576b"
             ],
             [
              0.6666666666666666,
              "#ed7953"
             ],
             [
              0.7777777777777778,
              "#fb9f3a"
             ],
             [
              0.8888888888888888,
              "#fdca26"
             ],
             [
              1,
              "#f0f921"
             ]
            ],
            "type": "heatmap"
           }
          ],
          "heatmapgl": [
           {
            "colorbar": {
             "outlinewidth": 0,
             "ticks": ""
            },
            "colorscale": [
             [
              0,
              "#0d0887"
             ],
             [
              0.1111111111111111,
              "#46039f"
             ],
             [
              0.2222222222222222,
              "#7201a8"
             ],
             [
              0.3333333333333333,
              "#9c179e"
             ],
             [
              0.4444444444444444,
              "#bd3786"
             ],
             [
              0.5555555555555556,
              "#d8576b"
             ],
             [
              0.6666666666666666,
              "#ed7953"
             ],
             [
              0.7777777777777778,
              "#fb9f3a"
             ],
             [
              0.8888888888888888,
              "#fdca26"
             ],
             [
              1,
              "#f0f921"
             ]
            ],
            "type": "heatmapgl"
           }
          ],
          "histogram": [
           {
            "marker": {
             "pattern": {
              "fillmode": "overlay",
              "size": 10,
              "solidity": 0.2
             }
            },
            "type": "histogram"
           }
          ],
          "histogram2d": [
           {
            "colorbar": {
             "outlinewidth": 0,
             "ticks": ""
            },
            "colorscale": [
             [
              0,
              "#0d0887"
             ],
             [
              0.1111111111111111,
              "#46039f"
             ],
             [
              0.2222222222222222,
              "#7201a8"
             ],
             [
              0.3333333333333333,
              "#9c179e"
             ],
             [
              0.4444444444444444,
              "#bd3786"
             ],
             [
              0.5555555555555556,
              "#d8576b"
             ],
             [
              0.6666666666666666,
              "#ed7953"
             ],
             [
              0.7777777777777778,
              "#fb9f3a"
             ],
             [
              0.8888888888888888,
              "#fdca26"
             ],
             [
              1,
              "#f0f921"
             ]
            ],
            "type": "histogram2d"
           }
          ],
          "histogram2dcontour": [
           {
            "colorbar": {
             "outlinewidth": 0,
             "ticks": ""
            },
            "colorscale": [
             [
              0,
              "#0d0887"
             ],
             [
              0.1111111111111111,
              "#46039f"
             ],
             [
              0.2222222222222222,
              "#7201a8"
             ],
             [
              0.3333333333333333,
              "#9c179e"
             ],
             [
              0.4444444444444444,
              "#bd3786"
             ],
             [
              0.5555555555555556,
              "#d8576b"
             ],
             [
              0.6666666666666666,
              "#ed7953"
             ],
             [
              0.7777777777777778,
              "#fb9f3a"
             ],
             [
              0.8888888888888888,
              "#fdca26"
             ],
             [
              1,
              "#f0f921"
             ]
            ],
            "type": "histogram2dcontour"
           }
          ],
          "mesh3d": [
           {
            "colorbar": {
             "outlinewidth": 0,
             "ticks": ""
            },
            "type": "mesh3d"
           }
          ],
          "parcoords": [
           {
            "line": {
             "colorbar": {
              "outlinewidth": 0,
              "ticks": ""
             }
            },
            "type": "parcoords"
           }
          ],
          "pie": [
           {
            "automargin": true,
            "type": "pie"
           }
          ],
          "scatter": [
           {
            "fillpattern": {
             "fillmode": "overlay",
             "size": 10,
             "solidity": 0.2
            },
            "type": "scatter"
           }
          ],
          "scatter3d": [
           {
            "line": {
             "colorbar": {
              "outlinewidth": 0,
              "ticks": ""
             }
            },
            "marker": {
             "colorbar": {
              "outlinewidth": 0,
              "ticks": ""
             }
            },
            "type": "scatter3d"
           }
          ],
          "scattercarpet": [
           {
            "marker": {
             "colorbar": {
              "outlinewidth": 0,
              "ticks": ""
             }
            },
            "type": "scattercarpet"
           }
          ],
          "scattergeo": [
           {
            "marker": {
             "colorbar": {
              "outlinewidth": 0,
              "ticks": ""
             }
            },
            "type": "scattergeo"
           }
          ],
          "scattergl": [
           {
            "marker": {
             "colorbar": {
              "outlinewidth": 0,
              "ticks": ""
             }
            },
            "type": "scattergl"
           }
          ],
          "scattermapbox": [
           {
            "marker": {
             "colorbar": {
              "outlinewidth": 0,
              "ticks": ""
             }
            },
            "type": "scattermapbox"
           }
          ],
          "scatterpolar": [
           {
            "marker": {
             "colorbar": {
              "outlinewidth": 0,
              "ticks": ""
             }
            },
            "type": "scatterpolar"
           }
          ],
          "scatterpolargl": [
           {
            "marker": {
             "colorbar": {
              "outlinewidth": 0,
              "ticks": ""
             }
            },
            "type": "scatterpolargl"
           }
          ],
          "scatterternary": [
           {
            "marker": {
             "colorbar": {
              "outlinewidth": 0,
              "ticks": ""
             }
            },
            "type": "scatterternary"
           }
          ],
          "surface": [
           {
            "colorbar": {
             "outlinewidth": 0,
             "ticks": ""
            },
            "colorscale": [
             [
              0,
              "#0d0887"
             ],
             [
              0.1111111111111111,
              "#46039f"
             ],
             [
              0.2222222222222222,
              "#7201a8"
             ],
             [
              0.3333333333333333,
              "#9c179e"
             ],
             [
              0.4444444444444444,
              "#bd3786"
             ],
             [
              0.5555555555555556,
              "#d8576b"
             ],
             [
              0.6666666666666666,
              "#ed7953"
             ],
             [
              0.7777777777777778,
              "#fb9f3a"
             ],
             [
              0.8888888888888888,
              "#fdca26"
             ],
             [
              1,
              "#f0f921"
             ]
            ],
            "type": "surface"
           }
          ],
          "table": [
           {
            "cells": {
             "fill": {
              "color": "#EBF0F8"
             },
             "line": {
              "color": "white"
             }
            },
            "header": {
             "fill": {
              "color": "#C8D4E3"
             },
             "line": {
              "color": "white"
             }
            },
            "type": "table"
           }
          ]
         },
         "layout": {
          "annotationdefaults": {
           "arrowcolor": "#2a3f5f",
           "arrowhead": 0,
           "arrowwidth": 1
          },
          "autotypenumbers": "strict",
          "coloraxis": {
           "colorbar": {
            "outlinewidth": 0,
            "ticks": ""
           }
          },
          "colorscale": {
           "diverging": [
            [
             0,
             "#8e0152"
            ],
            [
             0.1,
             "#c51b7d"
            ],
            [
             0.2,
             "#de77ae"
            ],
            [
             0.3,
             "#f1b6da"
            ],
            [
             0.4,
             "#fde0ef"
            ],
            [
             0.5,
             "#f7f7f7"
            ],
            [
             0.6,
             "#e6f5d0"
            ],
            [
             0.7,
             "#b8e186"
            ],
            [
             0.8,
             "#7fbc41"
            ],
            [
             0.9,
             "#4d9221"
            ],
            [
             1,
             "#276419"
            ]
           ],
           "sequential": [
            [
             0,
             "#0d0887"
            ],
            [
             0.1111111111111111,
             "#46039f"
            ],
            [
             0.2222222222222222,
             "#7201a8"
            ],
            [
             0.3333333333333333,
             "#9c179e"
            ],
            [
             0.4444444444444444,
             "#bd3786"
            ],
            [
             0.5555555555555556,
             "#d8576b"
            ],
            [
             0.6666666666666666,
             "#ed7953"
            ],
            [
             0.7777777777777778,
             "#fb9f3a"
            ],
            [
             0.8888888888888888,
             "#fdca26"
            ],
            [
             1,
             "#f0f921"
            ]
           ],
           "sequentialminus": [
            [
             0,
             "#0d0887"
            ],
            [
             0.1111111111111111,
             "#46039f"
            ],
            [
             0.2222222222222222,
             "#7201a8"
            ],
            [
             0.3333333333333333,
             "#9c179e"
            ],
            [
             0.4444444444444444,
             "#bd3786"
            ],
            [
             0.5555555555555556,
             "#d8576b"
            ],
            [
             0.6666666666666666,
             "#ed7953"
            ],
            [
             0.7777777777777778,
             "#fb9f3a"
            ],
            [
             0.8888888888888888,
             "#fdca26"
            ],
            [
             1,
             "#f0f921"
            ]
           ]
          },
          "colorway": [
           "#636efa",
           "#EF553B",
           "#00cc96",
           "#ab63fa",
           "#FFA15A",
           "#19d3f3",
           "#FF6692",
           "#B6E880",
           "#FF97FF",
           "#FECB52"
          ],
          "font": {
           "color": "#2a3f5f"
          },
          "geo": {
           "bgcolor": "white",
           "lakecolor": "white",
           "landcolor": "#E5ECF6",
           "showlakes": true,
           "showland": true,
           "subunitcolor": "white"
          },
          "hoverlabel": {
           "align": "left"
          },
          "hovermode": "closest",
          "mapbox": {
           "style": "light"
          },
          "paper_bgcolor": "white",
          "plot_bgcolor": "#E5ECF6",
          "polar": {
           "angularaxis": {
            "gridcolor": "white",
            "linecolor": "white",
            "ticks": ""
           },
           "bgcolor": "#E5ECF6",
           "radialaxis": {
            "gridcolor": "white",
            "linecolor": "white",
            "ticks": ""
           }
          },
          "scene": {
           "xaxis": {
            "backgroundcolor": "#E5ECF6",
            "gridcolor": "white",
            "gridwidth": 2,
            "linecolor": "white",
            "showbackground": true,
            "ticks": "",
            "zerolinecolor": "white"
           },
           "yaxis": {
            "backgroundcolor": "#E5ECF6",
            "gridcolor": "white",
            "gridwidth": 2,
            "linecolor": "white",
            "showbackground": true,
            "ticks": "",
            "zerolinecolor": "white"
           },
           "zaxis": {
            "backgroundcolor": "#E5ECF6",
            "gridcolor": "white",
            "gridwidth": 2,
            "linecolor": "white",
            "showbackground": true,
            "ticks": "",
            "zerolinecolor": "white"
           }
          },
          "shapedefaults": {
           "line": {
            "color": "#2a3f5f"
           }
          },
          "ternary": {
           "aaxis": {
            "gridcolor": "white",
            "linecolor": "white",
            "ticks": ""
           },
           "baxis": {
            "gridcolor": "white",
            "linecolor": "white",
            "ticks": ""
           },
           "bgcolor": "#E5ECF6",
           "caxis": {
            "gridcolor": "white",
            "linecolor": "white",
            "ticks": ""
           }
          },
          "title": {
           "x": 0.05
          },
          "xaxis": {
           "automargin": true,
           "gridcolor": "white",
           "linecolor": "white",
           "ticks": "",
           "title": {
            "standoff": 15
           },
           "zerolinecolor": "white",
           "zerolinewidth": 2
          },
          "yaxis": {
           "automargin": true,
           "gridcolor": "white",
           "linecolor": "white",
           "ticks": "",
           "title": {
            "standoff": 15
           },
           "zerolinecolor": "white",
           "zerolinewidth": 2
          }
         }
        },
        "title": {
         "font": {
          "size": 20
         },
         "text": "<b>Confusion Matrix</b>",
         "x": 0.5,
         "xanchor": "center",
         "y": 0.85,
         "yanchor": "top"
        },
        "width": 700,
        "xaxis": {
         "title": {
          "text": "<b>Predictions</b>"
         }
        },
        "yaxis": {
         "title": {
          "text": "<b>Actuals</b>"
         }
        }
       }
      }
     },
     "metadata": {},
     "output_type": "display_data"
    }
   ],
   "source": [
    "plot_confusion_matrix2(y_test, y_pred_test_best_gbc, \"Confusion Matrix\")"
   ]
  },
  {
   "cell_type": "markdown",
   "metadata": {},
   "source": [
    "# ROC Kurve"
   ]
  },
  {
   "cell_type": "code",
   "execution_count": 404,
   "metadata": {},
   "outputs": [
    {
     "data": {
      "text/plain": [
       "<sklearn.metrics._plot.roc_curve.RocCurveDisplay at 0x7f9dcfd34460>"
      ]
     },
     "execution_count": 404,
     "metadata": {},
     "output_type": "execute_result"
    },
    {
     "data": {
      "image/png": "[encoded data removed]",
      "text/plain": [
       "<Figure size 432x288 with 1 Axes>"
      ]
     },
     "metadata": {
      "needs_background": "light"
     },
     "output_type": "display_data"
    }
   ],
   "source": [
    "RocCurveDisplay.from_predictions(y_test, y_pred_test_best_gbc)"
   ]
  },
  {
   "cell_type": "code",
   "execution_count": 40,
   "metadata": {},
   "outputs": [
    {
     "data": {
      "text/plain": [
       "<matplotlib.legend.Legend at 0x7f8bd6245700>"
      ]
     },
     "execution_count": 40,
     "metadata": {},
     "output_type": "execute_result"
    },
    {
     "data": {
      "image/png": "[encoded data removed]",
      "text/plain": [
       "<Figure size 1440x720 with 1 Axes>"
      ]
     },
     "metadata": {
      "needs_background": "light"
     },
     "output_type": "display_data"
    }
   ],
   "source": [
    "from sklearn.metrics import roc_curve, roc_auc_score\n",
    "import matplotlib.pyplot as plt\n",
    "\n",
    "\n",
    "fpr_dt, tpr_dt, thresholds_dt = roc_curve(y_test, best_dtc.predict_proba(X_test)[:,1])\n",
    "fpr_lr, tpr_lr, thresholds_lr = roc_curve(y_test, best_gbc.predict_proba(X_test)[:,1])\n",
    "\n",
    "auc_score_gbc = roc_auc_score(y_test, y_pred_test_best_gbc)\n",
    "\n",
    "plt.figure(figsize= (20,10))\n",
    "plt.step(x=fpr_dt, y=tpr_dt, label=\"Decision Tree\")\n",
    "plt.step(x=fpr_lr, y=tpr_lr, label=\"GradientBoostingClassifier\")\n",
    "plt.legend()"
   ]
  },
  {
   "cell_type": "code",
   "execution_count": 104,
   "metadata": {},
   "outputs": [],
   "source": [
    "def plot_roc_curve12(X_test, y_test, y_predict):\n",
    " plt.figure(figsize= (20,10))\n",
    " \n",
    " for model in y_predict:\n",
    "    fpr, tpr, thr = roc_curve(y_test, model[0].predict_proba(X_test)[:,1])\n",
    "    auc = roc_auc_score(y_test, model[1])\n",
    "    plt.step(x=fpr, y=tpr, label=f\"{model[2]} (AUC = {auc.round(2)})\")\n",
    " plt.legend()"
   ]
  },
  {
   "cell_type": "code",
   "execution_count": 105,
   "metadata": {},
   "outputs": [
    {
     "data": {
      "image/png": "[encoded data removed]",
      "text/plain": [
       "<Figure size 1440x720 with 1 Axes>"
      ]
     },
     "metadata": {
      "needs_background": "light"
     },
     "output_type": "display_data"
    }
   ],
   "source": [
    "plot_roc_curve12(y_test= y_test, y_predict= [[best_gbc, y_pred_test_best_gbc, \"GBC\"], [best_dtc, y_pred_test_best_dtc, \"DTC\"]], X_test= X_test)"
   ]
  }
 ],
 "metadata": {
  "kernelspec": {
   "display_name": "Python 3.9.7 64-bit",
   "language": "python",
   "name": "python3"
  },
  "language_info": {
   "codemirror_mode": {
    "name": "ipython",
    "version": 3
   },
   "file_extension": ".py",
   "mimetype": "text/x-python",
   "name": "python",
   "nbconvert_exporter": "python",
   "pygments_lexer": "ipython3",
   "version": "3.9.7"
  },
  "orig_nbformat": 4,
  "vscode": {
   "interpreter": {
    "hash": "aee8b7b246df8f9039afb4144a1f6fd8d2ca17a180786b69acc140d282b71a49"
   }
  }
 },
 "nbformat": 4,
 "nbformat_minor": 2
}
