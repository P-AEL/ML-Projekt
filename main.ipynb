{
 "cells": [
  {
   "cell_type": "markdown",
   "metadata": {},
   "source": [
    "# Semesterprojekt: Retourenvorhersage\n",
    "Data Mining & Grundlagen Maschinelles Lernen 1, Wintersemester 2022/23"
   ]
  },
  {
   "attachments": {},
   "cell_type": "markdown",
   "metadata": {},
   "source": [
    "**Gruppe:**\n",
    "\n",
    "|Paul|Antonio|Tim|Flo|\n",
    "|---|---|---|---|\n",
    "|hopa1029|coan1014|ehti1011|klfl1012|\n",
    "80001|80327|80055|79679|"
   ]
  },
  {
   "cell_type": "markdown",
   "metadata": {},
   "source": [
    "**Gliederung:**\n",
    "1. Data Cleaning, Feature Engineering und Funktionen\n",
    "   - 1.1 Data Cleaning\n",
    "  \n",
    "   - 1.2 Featrue Engineering\n",
    "  \n",
    "   - 1.3 Funktionen\n",
    "   \n",
    "2. Klassifikaitonsmodelle mit Hyperparameteroptimierung:\n",
    "   - 2.1 Logistische Regression \n",
    "  \n",
    "   - 2.2 Decision Tree Classifier\n",
    "     - 2.2.1 Random Forest \n",
    "      \n",
    "     - 2.2.2 Gradient Boosting   \n",
    "   \n",
    "  \n",
    "   - 2.3 Super Vector Machine\n",
    "\n",
    "                  \n",
    "3. Evaluation mit ROC Plot \n",
    "\n",
    "4. Aufgabe 5"
   ]
  },
  {
   "cell_type": "markdown",
   "metadata": {},
   "source": [
    "**Imports:**"
   ]
  },
  {
   "cell_type": "code",
   "execution_count": 50,
   "metadata": {},
   "outputs": [],
   "source": [
    "\n",
    "import pandas as pd\n",
    "import numpy as np\n",
    "from sklearn.model_selection import train_test_split, KFold, GridSearchCV, cross_val_score\n",
    "from sklearn import tree\n",
    "from sklearn.metrics import accuracy_score, recall_score, precision_score, ConfusionMatrixDisplay, RocCurveDisplay, confusion_matrix, roc_auc_score, roc_curve\n",
    "from sklearn.tree import DecisionTreeClassifier, plot_tree\n",
    "from sklearn.ensemble import GradientBoostingClassifier\n",
    "from sklearn.ensemble import HistGradientBoostingClassifier\n",
    "from sklearn.pipeline import make_pipeline\n",
    "from sklearn.preprocessing import StandardScaler\n",
    "from sklearn.svm import LinearSVC\n",
    "from sklearn.calibration import CalibratedClassifierCV\n",
    "from sklearn.datasets import make_classification\n",
    "from sklearn.preprocessing import OneHotEncoder\n",
    "import plotly.graph_objects as go\n",
    "import matplotlib.pyplot as plt\n",
    "from sklearn.ensemble import RandomForestClassifier"
   ]
  },
  {
   "cell_type": "markdown",
   "metadata": {},
   "source": [
    "**Original Datensatz:**"
   ]
  },
  {
   "cell_type": "markdown",
   "metadata": {},
   "source": [
    "Der Datensatz beschreibt 75,007 bestellte Artikel, von denen bekannt ist, ob sie zurückge\n",
    "sendet wurden oder nicht.  \n",
    "Für einen bestellten Artikel (1 Zeile) existieren folgende Felder in den Daten:\n",
    "\n",
    "- order_item_id: ID des bestellten Artikels\n",
    "- order_date: Datum der Bestellung\n",
    "- delivery_date: Lieferdatum des Artikels\n",
    "- item_id: ID des Artikels\n",
    "- item_size: Größe des Artikels\n",
    "- item_color: Farbe des Artikels\n",
    "- brand_id: Hersteller ID\n",
    "- item_price: Preis des Artikels\n",
    "- user_id: ID des Nutzers\n",
    "- user_title: Titel des Nutzers\n",
    "- user_dob: Geburtsdatum des Nutzers\n",
    "- user_state: Bundesland, in dem der Nutzer wohnt\n",
    "- user_reg_date: Datum, an dem sich der Nutzer registriert hat\n",
    "- return: Wurde der Artikel zurückgeschickt (1) oder nicht (0)"
   ]
  },
  {
   "cell_type": "code",
   "execution_count": 49,
   "metadata": {},
   "outputs": [],
   "source": [
    "df = pd.read_csv(\"retouren.csv\")"
   ]
  },
  {
   "cell_type": "code",
   "execution_count": 23,
   "metadata": {},
   "outputs": [
    {
     "data": {
      "text/html": [
       "<div>\n",
       "<style scoped>\n",
       "    .dataframe tbody tr th:only-of-type {\n",
       "        vertical-align: middle;\n",
       "    }\n",
       "\n",
       "    .dataframe tbody tr th {\n",
       "        vertical-align: top;\n",
       "    }\n",
       "\n",
       "    .dataframe thead th {\n",
       "        text-align: right;\n",
       "    }\n",
       "</style>\n",
       "<table border=\"1\" class=\"dataframe\">\n",
       "  <thead>\n",
       "    <tr style=\"text-align: right;\">\n",
       "      <th></th>\n",
       "      <th>order_item_id</th>\n",
       "      <th>order_date</th>\n",
       "      <th>delivery_date</th>\n",
       "      <th>item_id</th>\n",
       "      <th>item_size</th>\n",
       "      <th>item_color</th>\n",
       "      <th>brand_id</th>\n",
       "      <th>item_price</th>\n",
       "      <th>user_id</th>\n",
       "      <th>user_title</th>\n",
       "      <th>user_dob</th>\n",
       "      <th>user_state</th>\n",
       "      <th>user_reg_date</th>\n",
       "      <th>return</th>\n",
       "    </tr>\n",
       "  </thead>\n",
       "  <tbody>\n",
       "    <tr>\n",
       "      <th>0</th>\n",
       "      <td>1</td>\n",
       "      <td>2016-06-22</td>\n",
       "      <td>2016-06-27</td>\n",
       "      <td>643</td>\n",
       "      <td>38</td>\n",
       "      <td>navy</td>\n",
       "      <td>30</td>\n",
       "      <td>49.90</td>\n",
       "      <td>30822</td>\n",
       "      <td>Mrs</td>\n",
       "      <td>1969-04-17</td>\n",
       "      <td>Saxony</td>\n",
       "      <td>2016-06-23</td>\n",
       "      <td>0</td>\n",
       "    </tr>\n",
       "    <tr>\n",
       "      <th>1</th>\n",
       "      <td>2</td>\n",
       "      <td>2016-06-22</td>\n",
       "      <td>NaN</td>\n",
       "      <td>337</td>\n",
       "      <td>152</td>\n",
       "      <td>grey</td>\n",
       "      <td>30</td>\n",
       "      <td>19.95</td>\n",
       "      <td>30822</td>\n",
       "      <td>Mrs</td>\n",
       "      <td>1969-04-17</td>\n",
       "      <td>Saxony</td>\n",
       "      <td>2016-06-23</td>\n",
       "      <td>0</td>\n",
       "    </tr>\n",
       "    <tr>\n",
       "      <th>2</th>\n",
       "      <td>3</td>\n",
       "      <td>2016-06-22</td>\n",
       "      <td>2016-06-27</td>\n",
       "      <td>270</td>\n",
       "      <td>xxl</td>\n",
       "      <td>grey</td>\n",
       "      <td>49</td>\n",
       "      <td>79.90</td>\n",
       "      <td>30823</td>\n",
       "      <td>Mrs</td>\n",
       "      <td>1970-04-22</td>\n",
       "      <td>Baden-Wuerttemberg</td>\n",
       "      <td>2015-03-15</td>\n",
       "      <td>1</td>\n",
       "    </tr>\n",
       "    <tr>\n",
       "      <th>3</th>\n",
       "      <td>4</td>\n",
       "      <td>2016-06-22</td>\n",
       "      <td>2016-06-27</td>\n",
       "      <td>142</td>\n",
       "      <td>xxl</td>\n",
       "      <td>grey</td>\n",
       "      <td>49</td>\n",
       "      <td>99.90</td>\n",
       "      <td>30823</td>\n",
       "      <td>Mrs</td>\n",
       "      <td>1970-04-22</td>\n",
       "      <td>Baden-Wuerttemberg</td>\n",
       "      <td>2015-03-15</td>\n",
       "      <td>0</td>\n",
       "    </tr>\n",
       "    <tr>\n",
       "      <th>4</th>\n",
       "      <td>5</td>\n",
       "      <td>2016-06-22</td>\n",
       "      <td>2016-06-27</td>\n",
       "      <td>561</td>\n",
       "      <td>xxl</td>\n",
       "      <td>grey</td>\n",
       "      <td>3</td>\n",
       "      <td>14.90</td>\n",
       "      <td>30823</td>\n",
       "      <td>Mrs</td>\n",
       "      <td>1970-04-22</td>\n",
       "      <td>Baden-Wuerttemberg</td>\n",
       "      <td>2015-03-15</td>\n",
       "      <td>1</td>\n",
       "    </tr>\n",
       "  </tbody>\n",
       "</table>\n",
       "</div>"
      ],
      "text/plain": [
       "   order_item_id  order_date delivery_date  item_id item_size item_color  \\\n",
       "0              1  2016-06-22    2016-06-27      643        38       navy   \n",
       "1              2  2016-06-22           NaN      337       152       grey   \n",
       "2              3  2016-06-22    2016-06-27      270       xxl       grey   \n",
       "3              4  2016-06-22    2016-06-27      142       xxl       grey   \n",
       "4              5  2016-06-22    2016-06-27      561       xxl       grey   \n",
       "\n",
       "   brand_id  item_price  user_id user_title    user_dob          user_state  \\\n",
       "0        30       49.90    30822        Mrs  1969-04-17              Saxony   \n",
       "1        30       19.95    30822        Mrs  1969-04-17              Saxony   \n",
       "2        49       79.90    30823        Mrs  1970-04-22  Baden-Wuerttemberg   \n",
       "3        49       99.90    30823        Mrs  1970-04-22  Baden-Wuerttemberg   \n",
       "4         3       14.90    30823        Mrs  1970-04-22  Baden-Wuerttemberg   \n",
       "\n",
       "  user_reg_date  return  \n",
       "0    2016-06-23       0  \n",
       "1    2016-06-23       0  \n",
       "2    2015-03-15       1  \n",
       "3    2015-03-15       0  \n",
       "4    2015-03-15       1  "
      ]
     },
     "execution_count": 23,
     "metadata": {},
     "output_type": "execute_result"
    }
   ],
   "source": [
    "df.head()"
   ]
  },
  {
   "cell_type": "markdown",
   "metadata": {},
   "source": [
    "## 1. Data Cleaning, Feature Engineering und Funktionen"
   ]
  },
  {
   "cell_type": "markdown",
   "metadata": {},
   "source": [
    "### 1.1 Data Cleaning"
   ]
  },
  {
   "cell_type": "markdown",
   "metadata": {},
   "source": [
    "**Löschen und Beheben von Datenfehlern und Inkonsistenten im Datensatz**"
   ]
  },
  {
   "cell_type": "code",
   "execution_count": 51,
   "metadata": {},
   "outputs": [],
   "source": [
    "# Data Cleaning:\n",
    "\n",
    "# Anpassen der Datentypen\n",
    "df[\"user_dob\"] = pd.to_datetime(df.user_dob)\n",
    "df[\"user_reg_date\"] = pd.to_datetime(df.user_reg_date)\n",
    "df[\"order_date\"] = pd.to_datetime(df.order_date)\n",
    "df[\"delivery_date\"] = pd.to_datetime(df.delivery_date)\n",
    "\n",
    "# Löschen der Datensätze mit Preis von 999\n",
    "df = df.drop(df[df.item_price == 999].index)\n",
    "\n",
    "# Löschen der Datensätze wo das Lieferdatum kleiner dem Bestelldatum\n",
    "df = df.drop(df[df.delivery_date < df.order_date].index)\n",
    "\n",
    "# Anpassen der Dateninkonsistenzen bei item_color\n",
    "df = df.drop(df[df.item_color == \"?\"].index)\n",
    "df.loc[df.item_color == \"brwon\",\"item_color\"] = \"brown\"\n",
    "df.loc[df.item_color == \"blau\",\"item_color\"] = \"blue\"\n",
    "df.loc[df.item_color == \"dark oliv\",\"item_color\"] = \"dark olive\"\n",
    "\n",
    "# Löschen der Datensätze ohne delivery_date\n",
    "df.drop(df[df.delivery_date.isna()].index, inplace=True)"
   ]
  },
  {
   "cell_type": "markdown",
   "metadata": {},
   "source": [
    "### 1.2 Feature Engineering"
   ]
  },
  {
   "attachments": {},
   "cell_type": "markdown",
   "metadata": {},
   "source": [
    "**Datensatz mit neuen Features:**\n",
    "\n",
    "Der Datensatz wurde für die Modelle um folgenden Features erweitert:\n",
    "\n",
    "- age: Alter der User zum Zeitpunkt der Bestellung, Differenz zwischen order_date und user_dob\n",
    "- acc_age: Accountalter des Nutzers zum Zeitpunkt der Bestellung, (-) wenn nach der Bestellung regisrtiert\n",
    "- maxprice: Der Maximalpreis eines Produktes\n",
    "- markdown: Ist der Artikel im Vergleich zu maxprice vergünstig (1) oder nicht (0) \n",
    "- order_id: ID einer Bestellung\n",
    "- order_size: Größe einer Bestellung\n",
    "- return_ratio: Relative Häufigkeit wie oft eine Item zurückgegeben wurde in der Historie der Bestellungen, Wert zwischen 0 und 1\n",
    "- user_return_raitio: RElative Häufigkeit wie oft ein User in der Historie ein Item zurückgegeben hat, Wert zwischen 0 und 1\n",
    "- nth_order_of_user: Die wie vielte Bestellung eines Users\n",
    "- item_id_>1_in_order: Anzahl der Item ID`s in einer Bestellung, falls diese mehrere hat\n",
    "- item_id_ordered_previously. Gibt an ob ein Item ebenfalls in der vorherigen Bestellung ist (unter der Annahme das ein User nur einmal am Tag bestellt)"
   ]
  },
  {
   "cell_type": "markdown",
   "metadata": {},
   "source": [
    "Annahme : Ein Kunde bestellt nur einmal pro Tag "
   ]
  },
  {
   "cell_type": "code",
   "execution_count": 56,
   "metadata": {},
   "outputs": [],
   "source": [
    "# Feature Engineering:\n",
    "\n",
    "# age\n",
    "df[\"age\"] = df.order_date.dt.year - df.user_dob.dt.year -((df.order_date.dt.date)<(df.user_dob.dt.date))\n",
    "\n",
    "# age bins\n",
    "df.loc[df.age > 100, \"age\"] = df.loc[df.age > 100, \"age\"] - 100\n",
    "bins=[0,10,20,30,40,50,60,70,80,90,100]\n",
    "df[\"age\"] = pd.cut(df.age,bins=bins)\n",
    "\n",
    "# acc_age\n",
    "df[\"acc_age\"] = df.order_date - df.user_reg_date \n",
    "df[\"acc_age\"] = df.acc_age.dt.days\n",
    "\n",
    "# maxprice and markdown\n",
    "df_mark = df.groupby([\"item_id\",\"item_size\",\"item_color\"]).agg(maxprice=(\"item_price\",\"max\")).reset_index()\n",
    "df = pd.merge(df,df_mark)\n",
    "df[\"markdown\"] = 0\n",
    "df.loc[df.item_price < df.maxprice,\"markdown\"] = 1\n",
    "\n",
    "# order_id und order_size\n",
    "order_id_generator = df.groupby(['order_date', 'user_id'], sort= False).size().reset_index(name='order_size')\n",
    "order_id_generator['order_id'] = order_id_generator.index\n",
    "df = pd.merge(df,order_id_generator,on=['user_id', 'order_date'], how='left')\n",
    "\n",
    "# return_ratio \n",
    "df_return_ratio = df.groupby(\"item_id\").agg(returned = (\"return\", \"sum\"), item_order= (\"return\", \"count\")).reset_index()\n",
    "df_return_ratio[\"not_returned\"] = df_return_ratio.item_order - df_return_ratio.returned\n",
    "df_return_ratio[\"return_ratio\"] = df_return_ratio.returned / df_return_ratio.item_order\n",
    "df_return_ratio.drop([\"returned\",\"item_order\",\"not_returned\"],axis=1,inplace=True)\n",
    "df = pd.merge(df,df_return_ratio,on=\"item_id\",how=\"left\")\n",
    "\n",
    "# user_return_ratio\n",
    "df_user_return = df.groupby(\"user_id\").agg(user_return= (\"return\", \"sum\"), user_orders= (\"return\", \"count\")).reset_index()\n",
    "df_user_return[\"user_return_ratio\"] = df_user_return.user_return / df_user_return.user_orders\n",
    "df_user_return.drop([\"user_return\", \"user_orders\"], axis=1, inplace= True)\n",
    "df = pd.merge(df, df_user_return, on= \"user_id\", how= \"left\")\n",
    "\n",
    "# nth_order_of_user\n",
    "df_nth_order_of_user = df.groupby(['user_id', 'order_id'], as_index=False).size().drop('size', axis=1)\n",
    "df_nth_order_of_user['nth_order_of_user'] = df_nth_order_of_user.groupby(['user_id']).cumcount()+1\n",
    "df = pd.merge(df,df_nth_order_of_user,on=['user_id', 'order_id'], how='left')\n",
    "\n",
    "# item_id_>1_in_order\n",
    "item_counts_in_order = df.groupby(['order_id', 'item_id'], as_index=False).size()\n",
    "item_counts_in_order['item_id_>1_in_order'] = item_counts_in_order['size'] > 1\n",
    "df = pd.merge(df,item_counts_in_order[['order_id', 'item_id', 'item_id_>1_in_order']],on=['order_id', 'item_id'], how='left')\n",
    "\n",
    "# item_id_ordered_previously\n",
    "df['item_id_ordered_previously'] = False\n",
    "for index, row in df.iterrows():\n",
    "    item_id = row['item_id']\n",
    "    order_id = row['order_id']\n",
    "    user_id = row['user_id']\n",
    "    for i2, prev_row in df[df.user_id == user_id].iterrows():\n",
    "        if prev_row['order_id'] == order_id: \n",
    "            break\n",
    "        if prev_row['item_id'] == item_id: \n",
    "            df.loc[index, 'item_id_ordered_previously'] = True\n",
    "            break"
   ]
  },
  {
   "cell_type": "markdown",
   "metadata": {},
   "source": [
    "OneHotEncoding"
   ]
  },
  {
   "cell_type": "code",
   "execution_count": 5,
   "metadata": {},
   "outputs": [],
   "source": [
    "enc = OneHotEncoder(handle_unknown='ignore',sparse = False) \n",
    "df_1 = enc.fit_transform(df[[ \"item_color\",\t\"user_title\",\t\"user_state\", \"age\", \"item_size\",\"item_id_>1_in_order\" ]])\n",
    "e = enc.categories_\n",
    "a = []\n",
    "for i in range(6):\n",
    "    a = np.append(a,e[i])\n",
    "a = [str(i) for i in a]\n",
    "df_1 = pd.DataFrame(df_1,columns=a)\n",
    "df = pd.concat([df,df_1],axis=1)\n",
    "df.drop([ \"item_color\",\t\"user_title\",\t\"user_state\", \"age\", \"item_size\",\"item_id_>1_in_order\" ],axis=1,inplace=True)"
   ]
  },
  {
   "cell_type": "code",
   "execution_count": 28,
   "metadata": {},
   "outputs": [
    {
     "data": {
      "text/plain": [
       "Index(['order_item_id', 'order_date', 'delivery_date', 'item_id', 'brand_id',\n",
       "       'item_price', 'user_id', 'user_dob', 'user_reg_date', 'return',\n",
       "       ...\n",
       "       'l', 'm', 's', 'unsized', 'xl', 'xs', 'xxl', 'xxxl', 'False', 'True'],\n",
       "      dtype='object', length=222)"
      ]
     },
     "execution_count": 28,
     "metadata": {},
     "output_type": "execute_result"
    }
   ],
   "source": [
    "df.columns"
   ]
  },
  {
   "cell_type": "code",
   "execution_count": 29,
   "metadata": {},
   "outputs": [
    {
     "data": {
      "text/html": [
       "<div>\n",
       "<style scoped>\n",
       "    .dataframe tbody tr th:only-of-type {\n",
       "        vertical-align: middle;\n",
       "    }\n",
       "\n",
       "    .dataframe tbody tr th {\n",
       "        vertical-align: top;\n",
       "    }\n",
       "\n",
       "    .dataframe thead th {\n",
       "        text-align: right;\n",
       "    }\n",
       "</style>\n",
       "<table border=\"1\" class=\"dataframe\">\n",
       "  <thead>\n",
       "    <tr style=\"text-align: right;\">\n",
       "      <th></th>\n",
       "      <th>order_item_id</th>\n",
       "      <th>order_date</th>\n",
       "      <th>delivery_date</th>\n",
       "      <th>item_id</th>\n",
       "      <th>brand_id</th>\n",
       "      <th>item_price</th>\n",
       "      <th>user_id</th>\n",
       "      <th>user_dob</th>\n",
       "      <th>user_reg_date</th>\n",
       "      <th>return</th>\n",
       "      <th>...</th>\n",
       "      <th>l</th>\n",
       "      <th>m</th>\n",
       "      <th>s</th>\n",
       "      <th>unsized</th>\n",
       "      <th>xl</th>\n",
       "      <th>xs</th>\n",
       "      <th>xxl</th>\n",
       "      <th>xxxl</th>\n",
       "      <th>False</th>\n",
       "      <th>True</th>\n",
       "    </tr>\n",
       "  </thead>\n",
       "  <tbody>\n",
       "    <tr>\n",
       "      <th>0</th>\n",
       "      <td>1</td>\n",
       "      <td>2016-06-22</td>\n",
       "      <td>2016-06-27</td>\n",
       "      <td>643</td>\n",
       "      <td>30</td>\n",
       "      <td>49.9</td>\n",
       "      <td>30822</td>\n",
       "      <td>1969-04-17</td>\n",
       "      <td>2016-06-23</td>\n",
       "      <td>0</td>\n",
       "      <td>...</td>\n",
       "      <td>0.0</td>\n",
       "      <td>0.0</td>\n",
       "      <td>0.0</td>\n",
       "      <td>0.0</td>\n",
       "      <td>0.0</td>\n",
       "      <td>0.0</td>\n",
       "      <td>0.0</td>\n",
       "      <td>0.0</td>\n",
       "      <td>1.0</td>\n",
       "      <td>0.0</td>\n",
       "    </tr>\n",
       "    <tr>\n",
       "      <th>1</th>\n",
       "      <td>763</td>\n",
       "      <td>2016-06-24</td>\n",
       "      <td>2016-06-26</td>\n",
       "      <td>643</td>\n",
       "      <td>30</td>\n",
       "      <td>49.9</td>\n",
       "      <td>29306</td>\n",
       "      <td>1973-06-17</td>\n",
       "      <td>2016-06-17</td>\n",
       "      <td>0</td>\n",
       "      <td>...</td>\n",
       "      <td>0.0</td>\n",
       "      <td>0.0</td>\n",
       "      <td>0.0</td>\n",
       "      <td>0.0</td>\n",
       "      <td>0.0</td>\n",
       "      <td>0.0</td>\n",
       "      <td>0.0</td>\n",
       "      <td>0.0</td>\n",
       "      <td>1.0</td>\n",
       "      <td>0.0</td>\n",
       "    </tr>\n",
       "    <tr>\n",
       "      <th>2</th>\n",
       "      <td>3</td>\n",
       "      <td>2016-06-22</td>\n",
       "      <td>2016-06-27</td>\n",
       "      <td>270</td>\n",
       "      <td>49</td>\n",
       "      <td>79.9</td>\n",
       "      <td>30823</td>\n",
       "      <td>1970-04-22</td>\n",
       "      <td>2015-03-15</td>\n",
       "      <td>1</td>\n",
       "      <td>...</td>\n",
       "      <td>0.0</td>\n",
       "      <td>0.0</td>\n",
       "      <td>0.0</td>\n",
       "      <td>0.0</td>\n",
       "      <td>0.0</td>\n",
       "      <td>0.0</td>\n",
       "      <td>1.0</td>\n",
       "      <td>0.0</td>\n",
       "      <td>1.0</td>\n",
       "      <td>0.0</td>\n",
       "    </tr>\n",
       "    <tr>\n",
       "      <th>3</th>\n",
       "      <td>522</td>\n",
       "      <td>2016-06-23</td>\n",
       "      <td>2016-06-26</td>\n",
       "      <td>270</td>\n",
       "      <td>49</td>\n",
       "      <td>79.9</td>\n",
       "      <td>11260</td>\n",
       "      <td>1950-11-21</td>\n",
       "      <td>2015-04-24</td>\n",
       "      <td>0</td>\n",
       "      <td>...</td>\n",
       "      <td>0.0</td>\n",
       "      <td>0.0</td>\n",
       "      <td>0.0</td>\n",
       "      <td>0.0</td>\n",
       "      <td>0.0</td>\n",
       "      <td>0.0</td>\n",
       "      <td>1.0</td>\n",
       "      <td>0.0</td>\n",
       "      <td>1.0</td>\n",
       "      <td>0.0</td>\n",
       "    </tr>\n",
       "    <tr>\n",
       "      <th>4</th>\n",
       "      <td>25884</td>\n",
       "      <td>2016-07-03</td>\n",
       "      <td>2016-07-04</td>\n",
       "      <td>270</td>\n",
       "      <td>49</td>\n",
       "      <td>79.9</td>\n",
       "      <td>1283</td>\n",
       "      <td>1967-01-12</td>\n",
       "      <td>2015-09-15</td>\n",
       "      <td>1</td>\n",
       "      <td>...</td>\n",
       "      <td>0.0</td>\n",
       "      <td>0.0</td>\n",
       "      <td>0.0</td>\n",
       "      <td>0.0</td>\n",
       "      <td>0.0</td>\n",
       "      <td>0.0</td>\n",
       "      <td>1.0</td>\n",
       "      <td>0.0</td>\n",
       "      <td>1.0</td>\n",
       "      <td>0.0</td>\n",
       "    </tr>\n",
       "  </tbody>\n",
       "</table>\n",
       "<p>5 rows × 222 columns</p>\n",
       "</div>"
      ],
      "text/plain": [
       "   order_item_id order_date delivery_date  item_id  brand_id  item_price  \\\n",
       "0              1 2016-06-22    2016-06-27      643        30        49.9   \n",
       "1            763 2016-06-24    2016-06-26      643        30        49.9   \n",
       "2              3 2016-06-22    2016-06-27      270        49        79.9   \n",
       "3            522 2016-06-23    2016-06-26      270        49        79.9   \n",
       "4          25884 2016-07-03    2016-07-04      270        49        79.9   \n",
       "\n",
       "   user_id   user_dob user_reg_date  return  ...    l    m    s  unsized   xl  \\\n",
       "0    30822 1969-04-17    2016-06-23       0  ...  0.0  0.0  0.0      0.0  0.0   \n",
       "1    29306 1973-06-17    2016-06-17       0  ...  0.0  0.0  0.0      0.0  0.0   \n",
       "2    30823 1970-04-22    2015-03-15       1  ...  0.0  0.0  0.0      0.0  0.0   \n",
       "3    11260 1950-11-21    2015-04-24       0  ...  0.0  0.0  0.0      0.0  0.0   \n",
       "4     1283 1967-01-12    2015-09-15       1  ...  0.0  0.0  0.0      0.0  0.0   \n",
       "\n",
       "    xs  xxl  xxxl  False  True  \n",
       "0  0.0  0.0   0.0    1.0   0.0  \n",
       "1  0.0  0.0   0.0    1.0   0.0  \n",
       "2  0.0  1.0   0.0    1.0   0.0  \n",
       "3  0.0  1.0   0.0    1.0   0.0  \n",
       "4  0.0  1.0   0.0    1.0   0.0  \n",
       "\n",
       "[5 rows x 222 columns]"
      ]
     },
     "execution_count": 29,
     "metadata": {},
     "output_type": "execute_result"
    }
   ],
   "source": [
    "df.head()"
   ]
  },
  {
   "cell_type": "markdown",
   "metadata": {},
   "source": [
    "### 1.3 Funktionen "
   ]
  },
  {
   "attachments": {},
   "cell_type": "markdown",
   "metadata": {},
   "source": [
    "**Funktionen:**\n",
    "\n",
    "Folgende Funktionen wurden programmiert:\n",
    "- plot_cunfusion_matrix(): Plotten von Confusion Matrizen\n",
    "- plot_roc_curve(): Plotten von einem oder mehreren ROC-Diagrammen\n",
    "- print_evaluation(): Einheitliche Rückgabe von Accuracy-, Recall- und Precision-Score des verwendeten Modells\n",
    "- calc_model_cost(): Kalkuliert die Kosten die man sich durch das Modell sparen kann oder anfallen "
   ]
  },
  {
   "cell_type": "code",
   "execution_count": 6,
   "metadata": {},
   "outputs": [],
   "source": [
    "# Funktionen\n",
    "\n",
    "def plot_confusion_matrix(y_test, y_pred, color: str, colorbar: bool, normalize: str):\n",
    "    \"\"\"\n",
    "    plot_confusion_matrix plottet eine Confusion Martrix in From der vergebenen Parametern.\n",
    "\n",
    "    y_test (array): Label der Testdaten das es hervorzusagen gilt\n",
    "    y_pred (array): Labels das tatsächlich hervorgesagt wurden\n",
    "    color (str): Farbe der Confusion Matrix (Achtung!: nur ausgewählte Colorsets von sklearn/matplotlib)\n",
    "    colorbar (bool): Soll eine Colorbar als Legende angezeigt werden, ja (True) und nein (False) \n",
    "    normalize (str): Sollen die Häufigkeiten relativ angezeigt werden, ja \"true\" neine \"false\"  \n",
    "\n",
    "    \"\"\"\n",
    "    ConfusionMatrixDisplay.from_predictions(y_test, y_pred, cmap= color, colorbar= colorbar, normalize= normalize)\n",
    "\n",
    "\n",
    "def plot_roc_curve(X_test, y_test, y_predict):\n",
    "    \"\"\" \n",
    "    plot_roc_curve erstellt für eine oder mehrere Modelle aus den angegebenen Parametern ein ROC-Diagramm.\n",
    "\n",
    "    X_test (array): Features des Testdatensatzes\n",
    "    y_test (array): Label des Testdatensatzes\n",
    "    y_predict (array): Ein Array, mit einem oder mehreren Arrays drinnen, deren Values eine spezifische Reihenfolge besitzen: 1. Modell, 2. y_pred (tatsächliche hervorgesagte Labelwerte), 3. Titel/Anzeigename in der Graphik (str)    \n",
    "\n",
    "    Beispielaufruf: plot_roc_curve(X_test= X_test, y_test= y_test, y_predict= [[best_gbc, y_pred_test_best_gbc, \"GBC\"], [best_dtc, y_pred_test_best_dtc, \"DTC\"]])\n",
    "    \"\"\"\n",
    "    plt.figure(figsize= (20,10))\n",
    "    \n",
    "    for model in y_predict:\n",
    "        fpr, tpr, thr = roc_curve(y_test, model[0].predict_proba(X_test)[:,1])\n",
    "        auc = roc_auc_score(y_test, model[1])\n",
    "        plt.step(x=fpr, y=tpr, label=f\"{model[2]} (AUC = {auc.round(2)})\")\n",
    "\n",
    "    plt.legend()\n",
    "\n",
    "\n",
    "def print_evaluation(pipeline_or_model: str, X_train, X_test, y_train, y_test, y_train_pred, y_test_pred):\n",
    "    \"\"\" \n",
    "    print_evaluation gibt den Accuracy-, Recall- und Precision-Score des verwendeten Modells zurück.\n",
    "\n",
    "    pipeline_or_mode (str): Pipeline oder Modellname\n",
    "    X_train (array): Features des Trainingsdatensatzes\n",
    "    X_test (array): Features des Testdatensatzes\n",
    "    y_train (array): Label der Trainingsdaten das es hervorgzusagen gilt\n",
    "    y_test (array): Label der Testdaten das es hervorzusagen gilt\n",
    "    y_train_pred (array): Vorhergesagtes Label auf den Trainingsdaten\n",
    "    y_test_pred (array): Vorhergesagtes Labl auf den Testdaten\n",
    "    \"\"\"\n",
    "    accurary_train = accuracy_score(y_train, y_train_pred)\n",
    "    recall_train = recall_score(y_train, y_train_pred)\n",
    "    precision_train = precision_score(y_train, y_train_pred)\n",
    "\n",
    "    accurary_test = accuracy_score(y_test, y_test_pred)\n",
    "    recall_test = recall_score(y_test, y_test_pred)\n",
    "    precision_test = precision_score(y_test, y_test_pred)\n",
    "    \n",
    "    print(\n",
    "        f\"{pipeline_or_model} Evaluation:\\n\"\n",
    "        f\"{'':6} {'ACC':>10} | {'REC':>14} | {'PRE':>10} | {'rows':>8} | {'columns':>8}\\n\"\n",
    "        f\"{'Train':6} {accurary_train:10.5f} | {recall_train:14.5f} | {precision_train:10.5f} | {X_train.shape[0]:8} | {X_train.shape[1]:8}\\n\"\n",
    "        f\"{'Test':6} {accurary_test:10.5f} | {recall_test:14.5f} | {precision_test:10.5f} | {X_test.shape[0]:8} | {X_test.shape[1]:8}\\n\"\n",
    "    )\n",
    "\n",
    "\n",
    "def calc_model_cost(y_test,y_pred,X_test,Modelname: str):\n",
    "    \"\"\"\n",
    "    Die Funktion calc_model_cost gibt einen String mit zurück, der das bestimmete Modell nennt und ihren Wert angibt, den Sie auf den Testdaten erzielen würde.\n",
    "\n",
    "    y_test: label array der Testdaten\n",
    "    y_pred: die label die das entsprechende Modell auf den Testdaten(testfeatures) hervorgesagt hat\n",
    "    X_test: Features der Testdaten\n",
    "    Modelname: Name des Model als string\n",
    "    \"\"\"\n",
    "    df_aufgabe6 = X_test.copy()\n",
    "    Modelname = Modelname\n",
    "    df_aufgabe6[\"return_predict\"] = y_pred\n",
    "    df_aufgabe6[\"return_test\"] = y_test\n",
    "    df_aufgabe6[\"Abgleich\"] = df_aufgabe6.return_predict == df_aufgabe6.return_test\n",
    "    df_aufgabe6 = df_aufgabe6.drop(df_aufgabe6.loc[(df_aufgabe6.return_predict == 0)&(df_aufgabe6.Abgleich == True)].index)\n",
    "    df_aufgabe6[\"summe\"] = 0\n",
    "    df_aufgabe6.loc[df_aufgabe6.Abgleich == True,\"summe\"]  = 3.5 # Wir sagen dass wir bei richtige Vorhersage ein Plus von 3.5€ erreichen\n",
    "    df_aufgabe6.loc[(df_aufgabe6.Abgleich == False)&(df_aufgabe6.return_predict == 1),\"summe\"] = df_aufgabe6.item_price*(-0.1)*0.5 # bei fälschlicher Vorhersage einer Retoure gehen wir von einem Verlust von 50% des 10%tigen itemprice\n",
    "    df_aufgabe6.loc[(df_aufgabe6.Abgleich == False)&(df_aufgabe6.return_predict == 0),\"summe\"] = -7 # beim nicht erkennen einer Retoure gehen wir von einem Verlust von 7€ aus\n",
    "    print(f\"Das Modell {Modelname} würde auf den jetzigen Testdaten einen Bonus von {df_aufgabe6.summe.sum()} erschaffen\")"
   ]
  },
  {
   "cell_type": "markdown",
   "metadata": {},
   "source": [
    "## 2. Klassifikaitonsmodelle mit Hyperparameteroptimierung"
   ]
  },
  {
   "attachments": {},
   "cell_type": "markdown",
   "metadata": {},
   "source": [
    "### Trainings- und Testdaten"
   ]
  },
  {
   "attachments": {},
   "cell_type": "markdown",
   "metadata": {},
   "source": [
    "Hier Testdaten einfügen (falls keine Datenfehler):"
   ]
  },
  {
   "cell_type": "code",
   "execution_count": 7,
   "metadata": {},
   "outputs": [],
   "source": [
    "df_classifier = df.copy()\n",
    "\n",
    "# Festlegen von Featuren und Label\n",
    "X = df_classifier.drop([\"return\",\"order_date\",\"delivery_date\",\"user_dob\",\"user_reg_date\"], axis=1)\n",
    "y = df_classifier[\"return\"]\n",
    "\n",
    "# Aufteilung in Trainings- und Testdaten\n",
    "X_train, X_test, y_train, y_test = train_test_split(X, y, test_size=0.2, random_state=0)"
   ]
  },
  {
   "cell_type": "markdown",
   "metadata": {},
   "source": [
    "### 2.1 Logisitsche Regression"
   ]
  },
  {
   "cell_type": "code",
   "execution_count": null,
   "metadata": {},
   "outputs": [],
   "source": []
  },
  {
   "cell_type": "markdown",
   "metadata": {},
   "source": [
    "### 2.2 Decision Tree Classifier"
   ]
  },
  {
   "attachments": {},
   "cell_type": "markdown",
   "metadata": {},
   "source": [
    "#### Basismodell Decision Tree Classifier"
   ]
  },
  {
   "attachments": {},
   "cell_type": "markdown",
   "metadata": {},
   "source": [
    "Mittels einer 10-Fachen Kreuzvalidierung und Hyperparametertuning wird die beste Kombination aus Baumtiefe (max_depth) und minimaler Anzahl an benötigter Beispiele für einen Split (min_samples) gesucht:"
   ]
  },
  {
   "cell_type": "code",
   "execution_count": 8,
   "metadata": {},
   "outputs": [
    {
     "name": "stdout",
     "output_type": "stream",
     "text": [
      "Best Mean_score: 0.6241114025369927, Best Max_depth: 5, Best Min_samples_split: 100\n"
     ]
    }
   ],
   "source": [
    "min_samples = [2, 10, 20, 50, 100]\n",
    "kf = KFold(n_splits= 10, shuffle= True, random_state= 1)\n",
    "best_mean_score = 0\n",
    "best_combination = dict(max_depth= None, min_samples= 2)\n",
    "\n",
    "for depth in range(1,10):\n",
    " for min_sample in min_samples:\n",
    "  scores = []\n",
    "  classifier = DecisionTreeClassifier(max_depth= depth, min_samples_split= min_sample, random_state= 0)\n",
    "  if classifier.fit(X_train, y_train).tree_.max_depth < depth:\n",
    "   break\n",
    "  score = np.mean(cross_val_score(classifier, X_train, y_train, scoring= \"accuracy\", cv= kf, n_jobs= 1))\n",
    "  scores.append(score)\n",
    "\n",
    "  mean_score = np.mean(np.array(scores))\n",
    " if mean_score > best_mean_score:\n",
    "  best_combination[\"max_depth\"] = depth\n",
    "  best_combination[\"min_samples\"] = min_sample\n",
    "  best_mean_score = mean_score\n",
    "\n",
    "print(f\"Best Mean_score: {best_mean_score}, Best Max_depth: {best_combination['max_depth']}, Best Min_samples_split: {best_combination['min_samples']}\")"
   ]
  },
  {
   "attachments": {},
   "cell_type": "markdown",
   "metadata": {},
   "source": [
    "Auführen des Classifiers mit einer Baumtiefe von 5 und 100 Auteilungen "
   ]
  },
  {
   "cell_type": "code",
   "execution_count": 9,
   "metadata": {},
   "outputs": [],
   "source": [
    "best_dtc = DecisionTreeClassifier(max_depth= best_combination[\"max_depth\"], min_samples_split= best_combination[\"min_samples\"], random_state= 0)\n",
    "best_dtc.fit(X_train, y_train)\n",
    "\n",
    "y_pred_train_best_dtc = best_dtc.predict(X_train)\n",
    "y_pred_test_best_dtc = best_dtc.predict(X_test)"
   ]
  },
  {
   "cell_type": "code",
   "execution_count": 10,
   "metadata": {},
   "outputs": [
    {
     "name": "stdout",
     "output_type": "stream",
     "text": [
      "DecisionTreeClassifier Evaluation:\n",
      "              ACC |            REC |        PRE |     rows |  columns\n",
      "Train     0.62882 |        0.67056 |    0.62342 |    52888 |      214\n",
      "Test      0.62963 |        0.66861 |    0.62514 |    13222 |      214\n",
      "\n"
     ]
    }
   ],
   "source": [
    "print_evaluation(\"DecisionTreeClassifier\", X_train, X_test, y_train, y_test, y_pred_train_best_dtc, y_pred_test_best_dtc)"
   ]
  },
  {
   "cell_type": "markdown",
   "metadata": {},
   "source": [
    "#### 2.2.1 Random Forest"
   ]
  },
  {
   "cell_type": "markdown",
   "metadata": {},
   "source": [
    "Hyperparametersuche via Gridsearch.\n",
    "\n",
    "Code dauert sehr lange zum Ausführen, da hier keine optimierte Klasse genommen wurde"
   ]
  },
  {
   "cell_type": "code",
   "execution_count": null,
   "metadata": {},
   "outputs": [],
   "source": [
    "rf = RandomForestClassifier()\n",
    "\n",
    "parameters_rf = {\n",
    "    \"n_estimators\": [100, 150, 200, 300], \"max_depth\": [20, 30, 40],\n",
    "    'max_features': [25, 40, 50], 'bootstrap': [True, False], 'oob_score': [False, True],\n",
    "    'ccp_alpha': [0, 0.005, 0.01], 'criterion': ['gini', 'entropy']\n",
    "      }\n",
    "rf_gscv = GridSearchCV(rf, parameters_rf, cv=5,n_jobs=-1,verbose=3)\n",
    "rf_gscv.fit(X_train, y_train)"
   ]
  },
  {
   "cell_type": "markdown",
   "metadata": {},
   "source": [
    "Auführen des Classifiers mit den besten Hyperparamtern"
   ]
  },
  {
   "cell_type": "code",
   "execution_count": null,
   "metadata": {},
   "outputs": [],
   "source": [
    "rf = RandomForestClassifier(ccp_alpha = 0, n_estimators=400, criterion='entropy', max_depth=30, max_features=35)\n",
    "rf.fit(X=X_train, y=y_train)\n",
    "y_pred_train_best_rf = rf.predict(X_train)\n",
    "y_pred_test_best_rf = rf.predict(X_test)\n",
    "print_evaluation(\"RandomForest\", X_train, X_test, y_train, y_test, y_pred_train_best_rf, y_pred_test_best_rf)"
   ]
  },
  {
   "attachments": {},
   "cell_type": "markdown",
   "metadata": {},
   "source": [
    "#### 2.2.1 Gradient Boosting Classifier"
   ]
  },
  {
   "attachments": {},
   "cell_type": "markdown",
   "metadata": {},
   "source": [
    "Um die Parameterwerte zu finden, die die höchste Genauigkeit erzielen, wird auch hier die Kreuzvalidierungsmethode GridSearchCV verwendet:"
   ]
  },
  {
   "cell_type": "code",
   "execution_count": 32,
   "metadata": {},
   "outputs": [
    {
     "name": "stdout",
     "output_type": "stream",
     "text": [
      "Best parameters: {'learning_rate': 0.1, 'max_depth': 9, 'max_iter': 100, 'random_state': 1}, best score: 0.655025716319859\n"
     ]
    }
   ],
   "source": [
    "gs_crossvalidation1 = GridSearchCV(\n",
    " estimator= HistGradientBoostingClassifier(),\n",
    " param_grid= dict(max_iter= [100], learning_rate= [0.001, 0.01, 0.1], max_depth= [1,3,5,9], random_state= [1]),\n",
    " scoring= \"accuracy\",\n",
    " n_jobs= -1,\n",
    " cv= kf\n",
    " ).fit(X_train, y_train)\n",
    "print(f\"Best parameters: {gs_crossvalidation1.best_params_}, best score: {gs_crossvalidation1.best_score_}\")"
   ]
  },
  {
   "attachments": {},
   "cell_type": "markdown",
   "metadata": {},
   "source": [
    "Auführen des Classifiers mit den besten Hyperparamtern"
   ]
  },
  {
   "cell_type": "code",
   "execution_count": 33,
   "metadata": {},
   "outputs": [
    {
     "name": "stdout",
     "output_type": "stream",
     "text": [
      "GradientBoostingClassifier Evaluation:\n",
      "              ACC |            REC |        PRE |     rows |  columns\n",
      "Train     0.68664 |        0.68882 |    0.69039 |    52888 |      217\n",
      "Test      0.65671 |        0.65396 |    0.66278 |    13222 |      217\n",
      "\n"
     ]
    }
   ],
   "source": [
    "best_gbc = HistGradientBoostingClassifier(max_iter= 100, max_depth= 9, random_state= 1, learning_rate= 0.1).fit(X_train, y_train)\n",
    "\n",
    "y_pred_train_best_gbc = best_gbc.predict(X_train)\n",
    "y_pred_test_best_gbc = best_gbc.predict(X_test)\n",
    "\n",
    "print_evaluation(\"GradientBoostingClassifier\", X_train, X_test, y_train, y_test, y_pred_train_best_gbc, y_pred_test_best_gbc)"
   ]
  },
  {
   "cell_type": "markdown",
   "metadata": {},
   "source": [
    "### 2.3 Super Vector Machine"
   ]
  },
  {
   "cell_type": "markdown",
   "metadata": {},
   "source": [
    "Wir verwenden eine Pipeline damit alle unserer eingehenden Features erst normalisiert werden (erspart code).\n",
    "\n",
    "Wir verwenden nur ein lineares Kernel, da dieses eine extra Funktion besitzt die auf Zeilen über 1000 optimiert ist.\n",
    "Die anderen Kernels würden zu lange zum testen dauern.\n",
    "\n",
    "Die Hyperparameter optimierung läuft über Gridsearch mit 5-facher Crossvalidierung.\n",
    "Da wir nur des lineare Kernel behandeln optimieren wir nur den Regulasierungsparameter C"
   ]
  },
  {
   "cell_type": "code",
   "execution_count": 13,
   "metadata": {},
   "outputs": [
    {
     "name": "stdout",
     "output_type": "stream",
     "text": [
      "Best parameters: {'linearsvc__C': 0.1588421052631579}, best score: 0.627042093228648\n"
     ]
    }
   ],
   "source": [
    "pipe = make_pipeline(StandardScaler(),\n",
    "                     LinearSVC(tol=1e-5, dual=False, max_iter=10000)\n",
    "                     )\n",
    "param_grid = {\n",
    "    \"linearsvc__C\": np.linspace(0.001, 3, 20),\n",
    "}\n",
    "grid = GridSearchCV(pipe,param_grid,scoring=\"accuracy\",n_jobs=2,return_train_score=True)\n",
    "grid.fit(X_train,y_train)\n",
    "print(f\"Best parameters: {grid.best_params_}, best score: {grid.best_score_}\")"
   ]
  },
  {
   "cell_type": "markdown",
   "metadata": {},
   "source": [
    "Anschließend wird der Classifier mit dem optimierten Hyperparameter ausgeführt"
   ]
  },
  {
   "cell_type": "code",
   "execution_count": 14,
   "metadata": {},
   "outputs": [
    {
     "name": "stdout",
     "output_type": "stream",
     "text": [
      "LinearSVC Evaluation:\n",
      "              ACC |            REC |        PRE |     rows |  columns\n",
      "Train     0.63154 |        0.65668 |    0.62993 |    52888 |      214\n",
      "Test      0.63251 |        0.65246 |    0.63250 |    13222 |      214\n",
      "\n"
     ]
    }
   ],
   "source": [
    "pipe_best = make_pipeline(StandardScaler(),\n",
    "                     LinearSVC(tol=1e-5, dual=False, max_iter=10000, C=grid.best_params_['linearsvc__C'])\n",
    "                     )\n",
    "pipe_best.fit(X_train,y_train)\n",
    "y_pred_train_best_svc = pipe_best.predict(X_train)\n",
    "y_pred_test_best_svc = pipe_best.predict(X_test)\n",
    "\n",
    "print_evaluation(\"LinearSVC\", X_train, X_test, y_train, y_test, y_pred_train_best_svc, y_pred_test_best_svc)\n"
   ]
  },
  {
   "cell_type": "markdown",
   "metadata": {},
   "source": [
    "## 3. Evaluation mit ROC-Plot"
   ]
  },
  {
   "attachments": {},
   "cell_type": "markdown",
   "metadata": {},
   "source": [
    "Da die Methode LinearSVC keine Methode predictproba() hat nehmen wir einen Hilfclassifier namens CalibratedCalssifierCV.\n",
    "Dieser ermöglicht dann die funktion predictproba anhand der decision funktion von LinearSVC.\n",
    "Die accuracy Werte werden dadurch leicht schwächer, jedoch ist das für nur eine graphische Darstellung unserer Meinung nach vernachlässigbar"
   ]
  },
  {
   "cell_type": "code",
   "execution_count": 19,
   "metadata": {},
   "outputs": [],
   "source": [
    "clf = CalibratedClassifierCV(pipe_best,cv=\"prefit\")\n",
    "clf.fit(X_train,y_train)\n",
    "y_pred_test_best_clf = clf.predict(X_test)"
   ]
  },
  {
   "attachments": {},
   "cell_type": "markdown",
   "metadata": {},
   "source": [
    "**Für die Evaluation werden mittels eines ROC-Plost alle Klassifizierungsmodelle miteinander verglichen:**"
   ]
  },
  {
   "cell_type": "code",
   "execution_count": 23,
   "metadata": {},
   "outputs": [
    {
     "data": {
      "image/png": "[encoded data removed]",
      "text/plain": [
       "<Figure size 1440x720 with 1 Axes>"
      ]
     },
     "metadata": {
      "needs_background": "light"
     },
     "output_type": "display_data"
    }
   ],
   "source": [
    "plot_roc_curve(X_test, y_test, \n",
    " y_predict= [\n",
    "  [best_gbc, y_pred_test_best_gbc, \"GradientBoostingClassifier\"],\n",
    "  [best_dtc, y_pred_test_best_dtc, \"DecisionTreeClassifier\"],\n",
    "  [clf, y_pred_test_best_clf, \"LinearSVC\"],\n",
    "  [rf, y_pred_test_best_rf, \"RandomForest\"]\n",
    "  ]\n",
    " )"
   ]
  },
  {
   "cell_type": "markdown",
   "metadata": {},
   "source": [
    "## 4. Aufgabe 6"
   ]
  },
  {
   "attachments": {},
   "cell_type": "markdown",
   "metadata": {},
   "source": [
    "Die beschriebenen Kostenfälle in der Aufgabenstellung lassen sich zu einer Confusion-Matrix zusammenfassen: \n",
    "- Wahrer Wert return: y_test (erste spalte) und Vorhergesagter Wert: y_predict (erste Zeile) \n",
    "\n",
    "|           | y_test                       |                           | \n",
    "|-----------|------------------------------|---------------------------|\n",
    "| y_predict | 0                            | 1                         |\n",
    "| 1         | (-) 10% * 50% vom item_price | (+) von 3,5€ (50% von 7€) |\n",
    "| 0         | weder (+) noch (-)           | (-) 7€                    |"
   ]
  },
  {
   "attachments": {},
   "cell_type": "markdown",
   "metadata": {},
   "source": [
    "#### Logistische Regression"
   ]
  },
  {
   "cell_type": "code",
   "execution_count": 47,
   "metadata": {},
   "outputs": [],
   "source": [
    "# Logitscche Regression Afg6:"
   ]
  },
  {
   "attachments": {},
   "cell_type": "markdown",
   "metadata": {},
   "source": [
    "#### DecisionTreeClassifier"
   ]
  },
  {
   "cell_type": "code",
   "execution_count": 45,
   "metadata": {},
   "outputs": [
    {
     "name": "stdout",
     "output_type": "stream",
     "text": [
      "Das Modell DecisionTreeClassifier würde auf den jetzigen Testdaten einen Bonus von -10370.456000000002 erschaffen\n"
     ]
    },
    {
     "data": {
      "image/png": "[encoded data removed]",
      "text/plain": [
       "<Figure size 432x288 with 1 Axes>"
      ]
     },
     "metadata": {
      "needs_background": "light"
     },
     "output_type": "display_data"
    }
   ],
   "source": [
    "# DecisionTreeClassifier Afg6:\n",
    "plot_confusion_matrix(y_test, y_pred_test_best_dtc, color= \"Greens\", colorbar= False, normalize= \"true\")\n",
    "calc_model_cost(y_test,y_pred_test_best_dtc,X_test,\"DecisionTreeClassifier\")"
   ]
  },
  {
   "attachments": {},
   "cell_type": "markdown",
   "metadata": {},
   "source": [
    "#### GradientBoostingClassifier"
   ]
  },
  {
   "cell_type": "code",
   "execution_count": 44,
   "metadata": {},
   "outputs": [
    {
     "name": "stdout",
     "output_type": "stream",
     "text": [
      "Das Modell GradientBoostingClassifier würde auf den jetzigen Testdaten einen Bonus von -10192.848500000002 erschaffen\n"
     ]
    },
    {
     "data": {
      "image/png": "[encoded data removed]",
      "text/plain": [
       "<Figure size 432x288 with 1 Axes>"
      ]
     },
     "metadata": {
      "needs_background": "light"
     },
     "output_type": "display_data"
    }
   ],
   "source": [
    "# GradientBoosintgClassifier Afg6:\n",
    "plot_confusion_matrix(y_test, y_pred_test_best_gbc, color= \"Greens\", colorbar= False, normalize= \"true\")\n",
    "calc_model_cost(y_test,y_pred_test_best_gbc,X_test,\"GradientBoostingClassifier\")"
   ]
  },
  {
   "attachments": {},
   "cell_type": "markdown",
   "metadata": {},
   "source": [
    "#### Random Forest"
   ]
  },
  {
   "attachments": {},
   "cell_type": "markdown",
   "metadata": {},
   "source": [
    "#### Linear SVC "
   ]
  },
  {
   "cell_type": "code",
   "execution_count": 46,
   "metadata": {},
   "outputs": [
    {
     "ename": "NameError",
     "evalue": "name 'y_pred_test_best_svc' is not defined",
     "output_type": "error",
     "traceback": [
      "\u001b[0;31m---------------------------------------------------------------------------\u001b[0m",
      "\u001b[0;31mNameError\u001b[0m                                 Traceback (most recent call last)",
      "\u001b[1;32m/Users/florian/Documents/GitHub/3 Semester/projects/ML-project-1/main.ipynb Zelle 61\u001b[0m in \u001b[0;36m<cell line: 2>\u001b[0;34m()\u001b[0m\n\u001b[1;32m      <a href='vscode-notebook-cell:/Users/florian/Documents/GitHub/3%20Semester/projects/ML-project-1/main.ipynb#Y354sZmlsZQ%3D%3D?line=0'>1</a>\u001b[0m \u001b[39m# LinearSVC Afg6:\u001b[39;00m\n\u001b[0;32m----> <a href='vscode-notebook-cell:/Users/florian/Documents/GitHub/3%20Semester/projects/ML-project-1/main.ipynb#Y354sZmlsZQ%3D%3D?line=1'>2</a>\u001b[0m plot_confusion_matrix(y_test, y_pred_test_best_svc, color\u001b[39m=\u001b[39m \u001b[39m\"\u001b[39m\u001b[39mGreens\u001b[39m\u001b[39m\"\u001b[39m, colorbar\u001b[39m=\u001b[39m \u001b[39mFalse\u001b[39;00m, normalize\u001b[39m=\u001b[39m \u001b[39m\"\u001b[39m\u001b[39mtrue\u001b[39m\u001b[39m\"\u001b[39m)\n\u001b[1;32m      <a href='vscode-notebook-cell:/Users/florian/Documents/GitHub/3%20Semester/projects/ML-project-1/main.ipynb#Y354sZmlsZQ%3D%3D?line=2'>3</a>\u001b[0m calc_model_cost(y_test,y_pred_test_best_svc,X_test,\u001b[39m\"\u001b[39m\u001b[39mLinearSVC\u001b[39m\u001b[39m\"\u001b[39m)\n",
      "\u001b[0;31mNameError\u001b[0m: name 'y_pred_test_best_svc' is not defined"
     ]
    }
   ],
   "source": [
    "# LinearSVC Afg6:\n",
    "plot_confusion_matrix(y_test, y_pred_test_best_svc, color= \"Greens\", colorbar= False, normalize= \"true\")\n",
    "calc_model_cost(y_test,y_pred_test_best_svc,X_test,\"LinearSVC\")"
   ]
  },
  {
   "attachments": {},
   "cell_type": "markdown",
   "metadata": {},
   "source": [
    "#### **Kostenvergleich anhand Afg6:**\n",
    "\n",
    "| Modell                     | Kosten |\n",
    "|----------------------------|--------|\n",
    "| Logistische Regression     |        |\n",
    "| DecisionTreeClassifier     |        |\n",
    "| GradientBoostingClassifier |        |\n",
    "| Random Forest              |        |\n",
    "| LinearSVC                  |        |\n",
    "\n",
    "-> nach dem Kostenvergleich ist \"\"\" das beste Modell"
   ]
  }
 ],
 "metadata": {
  "kernelspec": {
   "display_name": "Python 3.10.9 64-bit (microsoft store)",
   "language": "python",
   "name": "python3"
  },
  "language_info": {
   "codemirror_mode": {
    "name": "ipython",
    "version": 3
   },
   "file_extension": ".py",
   "mimetype": "text/x-python",
   "name": "python",
   "nbconvert_exporter": "python",
   "pygments_lexer": "ipython3",
   "version": "3.10.9"
  },
  "orig_nbformat": 4,
  "vscode": {
   "interpreter": {
    "hash": "f057ee858b85cb61ebf4db329176c41c101b87ce182c0543c232437d49c5b088"
   }
  }
 },
 "nbformat": 4,
 "nbformat_minor": 2
}
