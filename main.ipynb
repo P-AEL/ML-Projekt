{
 "cells": [
  {
   "cell_type": "markdown",
   "metadata": {},
   "source": [
    "# Semesterprojekt: Retourenvorhersage\n",
    "Data Mining & Grundlagen Maschinelles Lernen 1, Wintersemester 2022/23"
   ]
  },
  {
   "attachments": {},
   "cell_type": "markdown",
   "metadata": {},
   "source": [
    "**Gruppe:**\n",
    "\n",
    "|Paul|Antonio|Tim|Flo|\n",
    "|---|---|---|---|\n",
    "|hopa1029|coan1014|ehti1011|klfl1012|\n",
    "80001|80327|80055|79679|"
   ]
  },
  {
   "attachments": {},
   "cell_type": "markdown",
   "metadata": {},
   "source": [
    "**Gliederung:**\n",
    "1. Data Cleaning, Feature Engineering und Funktionen\n",
    "   - 1.1 Data Cleaning\n",
    "  \n",
    "   - 1.2 Feature Engineering\n",
    "  \n",
    "   - 1.3 Funktionen\n",
    "   \n",
    "2. Klassifikationsmodelle mit Hyperparameteroptimierung:\n",
    "   - 2.1 Logistische Regression \n",
    "  \n",
    "   - 2.2 Decision Tree Classifier\n",
    "     - 2.2.1 Random Forests\n",
    "      \n",
    "     - 2.2.2 Gradient Boosting   \n",
    "   \n",
    "  \n",
    "   - 2.3 Super Vector Machine\n",
    "\n",
    "                  \n",
    "3. Evaluation mit ROC Plot \n",
    "\n",
    "4. Aufgabe 5"
   ]
  },
  {
   "cell_type": "markdown",
   "metadata": {},
   "source": [
    "**Imports:**"
   ]
  },
  {
   "cell_type": "code",
   "execution_count": 11,
   "metadata": {},
   "outputs": [],
   "source": [
    "\n",
    "import pandas as pd\n",
    "import numpy as np\n",
    "from sklearn.linear_model import LogisticRegressionCV, LogisticRegression\n",
    "from sklearn.model_selection import train_test_split, KFold, GridSearchCV, cross_val_score\n",
    "from sklearn import tree\n",
    "from sklearn.metrics import accuracy_score, recall_score, precision_score, ConfusionMatrixDisplay, RocCurveDisplay, confusion_matrix, roc_auc_score, roc_curve\n",
    "from sklearn.tree import DecisionTreeClassifier, plot_tree\n",
    "from sklearn.ensemble import GradientBoostingClassifier\n",
    "from sklearn.ensemble import HistGradientBoostingClassifier\n",
    "from sklearn.pipeline import make_pipeline\n",
    "from sklearn.preprocessing import StandardScaler\n",
    "from sklearn.svm import LinearSVC\n",
    "from sklearn.calibration import CalibratedClassifierCV\n",
    "from sklearn.datasets import make_classification\n",
    "from sklearn.preprocessing import OneHotEncoder\n",
    "import plotly.graph_objects as go\n",
    "import matplotlib.pyplot as plt\n",
    "from sklearn.ensemble import RandomForestClassifier"
   ]
  },
  {
   "cell_type": "markdown",
   "metadata": {},
   "source": [
    "**Original Datensatz:**"
   ]
  },
  {
   "attachments": {},
   "cell_type": "markdown",
   "metadata": {},
   "source": [
    "Der Datensatz beschreibt 75,007 bestellte Artikel, von denen bekannt ist, ob sie zurück\n",
    "gesendet wurden oder nicht.  \n",
    "Für einen bestellten Artikel (1 Zeile) existieren folgende Felder in den Daten:\n",
    "\n",
    "- order_item_id: ID des bestellten Artikels\n",
    "- order_date: Datum der Bestellung\n",
    "- delivery_date: Lieferdatum des Artikels\n",
    "- item_id: ID des Artikels\n",
    "- item_size: Größe des Artikels\n",
    "- item_color: Farbe des Artikels\n",
    "- brand_id: Hersteller ID\n",
    "- item_price: Preis des Artikels\n",
    "- user_id: ID des Nutzers\n",
    "- user_title: Titel des Nutzers\n",
    "- user_dob: Geburtsdatum des Nutzers\n",
    "- user_state: Bundesland, in dem der Nutzer wohnt\n",
    "- user_reg_date: Datum, an dem sich der Nutzer registriert hat\n",
    "- return: Wurde der Artikel zurückgeschickt (1) oder nicht (0)"
   ]
  },
  {
   "cell_type": "code",
   "execution_count": 12,
   "metadata": {},
   "outputs": [],
   "source": [
    "df = pd.read_csv(\"retouren.csv\")"
   ]
  },
  {
   "cell_type": "code",
   "execution_count": 23,
   "metadata": {},
   "outputs": [
    {
     "data": {
      "text/html": [
       "<div>\n",
       "<style scoped>\n",
       "    .dataframe tbody tr th:only-of-type {\n",
       "        vertical-align: middle;\n",
       "    }\n",
       "\n",
       "    .dataframe tbody tr th {\n",
       "        vertical-align: top;\n",
       "    }\n",
       "\n",
       "    .dataframe thead th {\n",
       "        text-align: right;\n",
       "    }\n",
       "</style>\n",
       "<table border=\"1\" class=\"dataframe\">\n",
       "  <thead>\n",
       "    <tr style=\"text-align: right;\">\n",
       "      <th></th>\n",
       "      <th>order_item_id</th>\n",
       "      <th>order_date</th>\n",
       "      <th>delivery_date</th>\n",
       "      <th>item_id</th>\n",
       "      <th>item_size</th>\n",
       "      <th>item_color</th>\n",
       "      <th>brand_id</th>\n",
       "      <th>item_price</th>\n",
       "      <th>user_id</th>\n",
       "      <th>user_title</th>\n",
       "      <th>user_dob</th>\n",
       "      <th>user_state</th>\n",
       "      <th>user_reg_date</th>\n",
       "      <th>return</th>\n",
       "    </tr>\n",
       "  </thead>\n",
       "  <tbody>\n",
       "    <tr>\n",
       "      <th>0</th>\n",
       "      <td>1</td>\n",
       "      <td>2016-06-22</td>\n",
       "      <td>2016-06-27</td>\n",
       "      <td>643</td>\n",
       "      <td>38</td>\n",
       "      <td>navy</td>\n",
       "      <td>30</td>\n",
       "      <td>49.90</td>\n",
       "      <td>30822</td>\n",
       "      <td>Mrs</td>\n",
       "      <td>1969-04-17</td>\n",
       "      <td>Saxony</td>\n",
       "      <td>2016-06-23</td>\n",
       "      <td>0</td>\n",
       "    </tr>\n",
       "    <tr>\n",
       "      <th>1</th>\n",
       "      <td>2</td>\n",
       "      <td>2016-06-22</td>\n",
       "      <td>NaN</td>\n",
       "      <td>337</td>\n",
       "      <td>152</td>\n",
       "      <td>grey</td>\n",
       "      <td>30</td>\n",
       "      <td>19.95</td>\n",
       "      <td>30822</td>\n",
       "      <td>Mrs</td>\n",
       "      <td>1969-04-17</td>\n",
       "      <td>Saxony</td>\n",
       "      <td>2016-06-23</td>\n",
       "      <td>0</td>\n",
       "    </tr>\n",
       "    <tr>\n",
       "      <th>2</th>\n",
       "      <td>3</td>\n",
       "      <td>2016-06-22</td>\n",
       "      <td>2016-06-27</td>\n",
       "      <td>270</td>\n",
       "      <td>xxl</td>\n",
       "      <td>grey</td>\n",
       "      <td>49</td>\n",
       "      <td>79.90</td>\n",
       "      <td>30823</td>\n",
       "      <td>Mrs</td>\n",
       "      <td>1970-04-22</td>\n",
       "      <td>Baden-Wuerttemberg</td>\n",
       "      <td>2015-03-15</td>\n",
       "      <td>1</td>\n",
       "    </tr>\n",
       "    <tr>\n",
       "      <th>3</th>\n",
       "      <td>4</td>\n",
       "      <td>2016-06-22</td>\n",
       "      <td>2016-06-27</td>\n",
       "      <td>142</td>\n",
       "      <td>xxl</td>\n",
       "      <td>grey</td>\n",
       "      <td>49</td>\n",
       "      <td>99.90</td>\n",
       "      <td>30823</td>\n",
       "      <td>Mrs</td>\n",
       "      <td>1970-04-22</td>\n",
       "      <td>Baden-Wuerttemberg</td>\n",
       "      <td>2015-03-15</td>\n",
       "      <td>0</td>\n",
       "    </tr>\n",
       "    <tr>\n",
       "      <th>4</th>\n",
       "      <td>5</td>\n",
       "      <td>2016-06-22</td>\n",
       "      <td>2016-06-27</td>\n",
       "      <td>561</td>\n",
       "      <td>xxl</td>\n",
       "      <td>grey</td>\n",
       "      <td>3</td>\n",
       "      <td>14.90</td>\n",
       "      <td>30823</td>\n",
       "      <td>Mrs</td>\n",
       "      <td>1970-04-22</td>\n",
       "      <td>Baden-Wuerttemberg</td>\n",
       "      <td>2015-03-15</td>\n",
       "      <td>1</td>\n",
       "    </tr>\n",
       "  </tbody>\n",
       "</table>\n",
       "</div>"
      ],
      "text/plain": [
       "   order_item_id  order_date delivery_date  item_id item_size item_color  \\\n",
       "0              1  2016-06-22    2016-06-27      643        38       navy   \n",
       "1              2  2016-06-22           NaN      337       152       grey   \n",
       "2              3  2016-06-22    2016-06-27      270       xxl       grey   \n",
       "3              4  2016-06-22    2016-06-27      142       xxl       grey   \n",
       "4              5  2016-06-22    2016-06-27      561       xxl       grey   \n",
       "\n",
       "   brand_id  item_price  user_id user_title    user_dob          user_state  \\\n",
       "0        30       49.90    30822        Mrs  1969-04-17              Saxony   \n",
       "1        30       19.95    30822        Mrs  1969-04-17              Saxony   \n",
       "2        49       79.90    30823        Mrs  1970-04-22  Baden-Wuerttemberg   \n",
       "3        49       99.90    30823        Mrs  1970-04-22  Baden-Wuerttemberg   \n",
       "4         3       14.90    30823        Mrs  1970-04-22  Baden-Wuerttemberg   \n",
       "\n",
       "  user_reg_date  return  \n",
       "0    2016-06-23       0  \n",
       "1    2016-06-23       0  \n",
       "2    2015-03-15       1  \n",
       "3    2015-03-15       0  \n",
       "4    2015-03-15       1  "
      ]
     },
     "execution_count": 23,
     "metadata": {},
     "output_type": "execute_result"
    }
   ],
   "source": [
    "df.head()"
   ]
  },
  {
   "cell_type": "markdown",
   "metadata": {},
   "source": [
    "## 1. Data Cleaning, Feature Engineering und Funktionen"
   ]
  },
  {
   "cell_type": "markdown",
   "metadata": {},
   "source": [
    "### 1.1 Data Cleaning"
   ]
  },
  {
   "attachments": {},
   "cell_type": "markdown",
   "metadata": {},
   "source": [
    "Neue Testdaten müssen diese Verarbeitungsschritte durchlaufen (Data Cleaning und Feature Engineering)"
   ]
  },
  {
   "attachments": {},
   "cell_type": "markdown",
   "metadata": {},
   "source": [
    "**Löschen und Beheben von Datenfehlern und Inkonsistenzen im Datensatz**"
   ]
  },
  {
   "cell_type": "code",
   "execution_count": 13,
   "metadata": {},
   "outputs": [],
   "source": [
    "# Data Cleaning:\n",
    "\n",
    "# Anpassen der Datentypen\n",
    "df[\"user_dob\"] = pd.to_datetime(df.user_dob)\n",
    "df[\"user_reg_date\"] = pd.to_datetime(df.user_reg_date)\n",
    "df[\"order_date\"] = pd.to_datetime(df.order_date)\n",
    "df[\"delivery_date\"] = pd.to_datetime(df.delivery_date)\n",
    "\n",
    "# Löschen der Datensätze mit Preis von 999\n",
    "df = df.drop(df[df.item_price == 999].index)\n",
    "\n",
    "# Löschen der Datenpunkte, an denen das Lieferdatum kleiner als das Bestelldatum ist\n",
    "df = df.drop(df[df.delivery_date < df.order_date].index)\n",
    "\n",
    "# Anpassen der Dateninkonsistenzen bei item_color\n",
    "df = df.drop(df[df.item_color == \"?\"].index)\n",
    "df.loc[df.item_color == \"brwon\",\"item_color\"] = \"brown\"\n",
    "df.loc[df.item_color == \"blau\",\"item_color\"] = \"blue\"\n",
    "df.loc[df.item_color == \"dark oliv\",\"item_color\"] = \"dark olive\"\n",
    "\n",
    "# Löschen der Datensätze ohne delivery_date\n",
    "df.drop(df[df.delivery_date.isna()].index, inplace=True)"
   ]
  },
  {
   "cell_type": "markdown",
   "metadata": {},
   "source": [
    "### 1.2 Feature Engineering"
   ]
  },
  {
   "attachments": {},
   "cell_type": "markdown",
   "metadata": {},
   "source": [
    "**Datensatz mit neuen Features:**\n",
    "\n",
    "Der Datensatz wurde für die Modelle um folgenden Features erweitert:\n",
    "\n",
    "- age: Alter der User zum Zeitpunkt der Bestellung, Differenz zwischen order_date und user_dob\n",
    "- acc_age: Accountalter des Nutzers zum Zeitpunkt der Bestellung, (-) wenn nach der Bestellung registriert\n",
    "- maxprice: Der Maximalpreis eines Produktes\n",
    "- markdown: Ist der Artikel im Vergleich zu maxprice vergünstig (1) oder nicht (0) \n",
    "- order_id: ID einer Bestellung (unter der Annahme das ein User nur einmal pro Tag bestellt)\n",
    "- order_size: Größe einer Bestellung\n",
    "- return_ratio: Relative Häufigkeit wie oft eine Item zurückgegeben wurde in der Historie der Bestellungen, Wert zwischen 0 und 1\n",
    "- user_return_raitio: Relative Häufigkeit wie oft ein User in der Historie ein Item zurückgegeben hat, Wert zwischen 0 und 1\n",
    "- nth_order_of_user: Die wie vielte Bestellung eines Users\n",
    "- item_id_>1_in_order: Gibt an, ob eine ItemID mehrfach in der gleichen Bestellung vorkommt\n",
    "- item_id_ordered_previously. Gibt an, ob ein Item in der Vergangenheit bereits von dem User bestellt wurde"
   ]
  },
  {
   "cell_type": "markdown",
   "metadata": {},
   "source": [
    "Annahme : Ein Kunde bestellt nur einmal pro Tag "
   ]
  },
  {
   "cell_type": "code",
   "execution_count": 14,
   "metadata": {},
   "outputs": [],
   "source": [
    "# Feature Engineering:\n",
    "\n",
    "# age\n",
    "df[\"age\"] = df.order_date.dt.year - df.user_dob.dt.year -((df.order_date.dt.date)<(df.user_dob.dt.date))\n",
    "\n",
    "# age bins\n",
    "df.loc[df.age > 100, \"age\"] = df.loc[df.age > 100, \"age\"] - 100\n",
    "bins=[0,10,20,30,40,50,60,70,80,90,100]\n",
    "df[\"age\"] = pd.cut(df.age,bins=bins)\n",
    "\n",
    "# acc_age\n",
    "df[\"acc_age\"] = df.order_date - df.user_reg_date \n",
    "df[\"acc_age\"] = df.acc_age.dt.days\n",
    "\n",
    "# maxprice and markdown\n",
    "df_mark = df.groupby([\"item_id\",\"item_size\",\"item_color\"]).agg(maxprice=(\"item_price\",\"max\")).reset_index()\n",
    "df = pd.merge(df,df_mark)\n",
    "df[\"markdown\"] = 0\n",
    "df.loc[df.item_price < df.maxprice,\"markdown\"] = 1\n",
    "\n",
    "# order_id und order_size\n",
    "order_id_generator = df.groupby(['order_date', 'user_id'], sort= False).size().reset_index(name='order_size')\n",
    "order_id_generator['order_id'] = order_id_generator.index\n",
    "df = pd.merge(df,order_id_generator,on=['user_id', 'order_date'], how='left')\n",
    "\n",
    "# return_ratio \n",
    "df_return_ratio = df.groupby(\"item_id\").agg(returned = (\"return\", \"sum\"), item_order= (\"return\", \"count\")).reset_index()\n",
    "df_return_ratio[\"not_returned\"] = df_return_ratio.item_order - df_return_ratio.returned\n",
    "df_return_ratio[\"return_ratio\"] = df_return_ratio.returned / df_return_ratio.item_order\n",
    "df_return_ratio.drop([\"returned\",\"item_order\",\"not_returned\"],axis=1,inplace=True)\n",
    "df = pd.merge(df,df_return_ratio,on=\"item_id\",how=\"left\")\n",
    "\n",
    "# user_return_ratio\n",
    "df_user_return = df.groupby(\"user_id\").agg(user_return= (\"return\", \"sum\"), user_orders= (\"return\", \"count\")).reset_index()\n",
    "df_user_return[\"user_return_ratio\"] = df_user_return.user_return / df_user_return.user_orders\n",
    "df_user_return.drop([\"user_return\", \"user_orders\"], axis=1, inplace= True)\n",
    "df = pd.merge(df, df_user_return, on= \"user_id\", how= \"left\")\n",
    "\n",
    "# nth_order_of_user\n",
    "df_nth_order_of_user = df.groupby(['user_id', 'order_id'], as_index=False).size().drop('size', axis=1)\n",
    "df_nth_order_of_user['nth_order_of_user'] = df_nth_order_of_user.groupby(['user_id']).cumcount()+1\n",
    "df = pd.merge(df,df_nth_order_of_user,on=['user_id', 'order_id'], how='left')\n",
    "\n",
    "# item_id_>1_in_order\n",
    "item_counts_in_order = df.groupby(['order_id', 'item_id'], as_index=False).size()\n",
    "item_counts_in_order['item_id_>1_in_order'] = item_counts_in_order['size'] > 1\n",
    "df = pd.merge(df,item_counts_in_order[['order_id', 'item_id', 'item_id_>1_in_order']],on=['order_id', 'item_id'], how='left')\n",
    "\n",
    "# item_id_ordered_previously\n",
    "df['item_id_ordered_previously'] = False\n",
    "for index, row in df.iterrows():\n",
    "    item_id = row['item_id']\n",
    "    order_id = row['order_id']\n",
    "    user_id = row['user_id']\n",
    "    for i2, prev_row in df[df.user_id == user_id].iterrows():\n",
    "        if prev_row['order_id'] == order_id: \n",
    "            break\n",
    "        if prev_row['item_id'] == item_id: \n",
    "            df.loc[index, 'item_id_ordered_previously'] = True\n",
    "            break"
   ]
  },
  {
   "cell_type": "markdown",
   "metadata": {},
   "source": [
    "OneHotEncoding"
   ]
  },
  {
   "cell_type": "code",
   "execution_count": 15,
   "metadata": {},
   "outputs": [],
   "source": [
    "enc = OneHotEncoder(handle_unknown='ignore',sparse = False) \n",
    "df_1 = enc.fit_transform(df[[ \"item_color\",\t\"user_title\",\t\"user_state\", \"age\", \"item_size\",\"item_id_>1_in_order\" ]])\n",
    "e = enc.categories_\n",
    "a = []\n",
    "for i in range(6):\n",
    "    a = np.append(a,e[i])\n",
    "a = [str(i) for i in a]\n",
    "df_1 = pd.DataFrame(df_1,columns=a)\n",
    "df = pd.concat([df,df_1],axis=1)\n",
    "df.drop([ \"item_color\",\t\"user_title\",\t\"user_state\", \"age\", \"item_size\",\"item_id_>1_in_order\" ],axis=1,inplace=True)"
   ]
  },
  {
   "cell_type": "code",
   "execution_count": 28,
   "metadata": {},
   "outputs": [
    {
     "data": {
      "text/plain": [
       "Index(['order_item_id', 'order_date', 'delivery_date', 'item_id', 'brand_id',\n",
       "       'item_price', 'user_id', 'user_dob', 'user_reg_date', 'return',\n",
       "       ...\n",
       "       'l', 'm', 's', 'unsized', 'xl', 'xs', 'xxl', 'xxxl', 'False', 'True'],\n",
       "      dtype='object', length=222)"
      ]
     },
     "execution_count": 28,
     "metadata": {},
     "output_type": "execute_result"
    }
   ],
   "source": [
    "df.columns"
   ]
  },
  {
   "cell_type": "code",
   "execution_count": 29,
   "metadata": {},
   "outputs": [
    {
     "data": {
      "text/html": [
       "<div>\n",
       "<style scoped>\n",
       "    .dataframe tbody tr th:only-of-type {\n",
       "        vertical-align: middle;\n",
       "    }\n",
       "\n",
       "    .dataframe tbody tr th {\n",
       "        vertical-align: top;\n",
       "    }\n",
       "\n",
       "    .dataframe thead th {\n",
       "        text-align: right;\n",
       "    }\n",
       "</style>\n",
       "<table border=\"1\" class=\"dataframe\">\n",
       "  <thead>\n",
       "    <tr style=\"text-align: right;\">\n",
       "      <th></th>\n",
       "      <th>order_item_id</th>\n",
       "      <th>order_date</th>\n",
       "      <th>delivery_date</th>\n",
       "      <th>item_id</th>\n",
       "      <th>brand_id</th>\n",
       "      <th>item_price</th>\n",
       "      <th>user_id</th>\n",
       "      <th>user_dob</th>\n",
       "      <th>user_reg_date</th>\n",
       "      <th>return</th>\n",
       "      <th>...</th>\n",
       "      <th>l</th>\n",
       "      <th>m</th>\n",
       "      <th>s</th>\n",
       "      <th>unsized</th>\n",
       "      <th>xl</th>\n",
       "      <th>xs</th>\n",
       "      <th>xxl</th>\n",
       "      <th>xxxl</th>\n",
       "      <th>False</th>\n",
       "      <th>True</th>\n",
       "    </tr>\n",
       "  </thead>\n",
       "  <tbody>\n",
       "    <tr>\n",
       "      <th>0</th>\n",
       "      <td>1</td>\n",
       "      <td>2016-06-22</td>\n",
       "      <td>2016-06-27</td>\n",
       "      <td>643</td>\n",
       "      <td>30</td>\n",
       "      <td>49.9</td>\n",
       "      <td>30822</td>\n",
       "      <td>1969-04-17</td>\n",
       "      <td>2016-06-23</td>\n",
       "      <td>0</td>\n",
       "      <td>...</td>\n",
       "      <td>0.0</td>\n",
       "      <td>0.0</td>\n",
       "      <td>0.0</td>\n",
       "      <td>0.0</td>\n",
       "      <td>0.0</td>\n",
       "      <td>0.0</td>\n",
       "      <td>0.0</td>\n",
       "      <td>0.0</td>\n",
       "      <td>1.0</td>\n",
       "      <td>0.0</td>\n",
       "    </tr>\n",
       "    <tr>\n",
       "      <th>1</th>\n",
       "      <td>763</td>\n",
       "      <td>2016-06-24</td>\n",
       "      <td>2016-06-26</td>\n",
       "      <td>643</td>\n",
       "      <td>30</td>\n",
       "      <td>49.9</td>\n",
       "      <td>29306</td>\n",
       "      <td>1973-06-17</td>\n",
       "      <td>2016-06-17</td>\n",
       "      <td>0</td>\n",
       "      <td>...</td>\n",
       "      <td>0.0</td>\n",
       "      <td>0.0</td>\n",
       "      <td>0.0</td>\n",
       "      <td>0.0</td>\n",
       "      <td>0.0</td>\n",
       "      <td>0.0</td>\n",
       "      <td>0.0</td>\n",
       "      <td>0.0</td>\n",
       "      <td>1.0</td>\n",
       "      <td>0.0</td>\n",
       "    </tr>\n",
       "    <tr>\n",
       "      <th>2</th>\n",
       "      <td>3</td>\n",
       "      <td>2016-06-22</td>\n",
       "      <td>2016-06-27</td>\n",
       "      <td>270</td>\n",
       "      <td>49</td>\n",
       "      <td>79.9</td>\n",
       "      <td>30823</td>\n",
       "      <td>1970-04-22</td>\n",
       "      <td>2015-03-15</td>\n",
       "      <td>1</td>\n",
       "      <td>...</td>\n",
       "      <td>0.0</td>\n",
       "      <td>0.0</td>\n",
       "      <td>0.0</td>\n",
       "      <td>0.0</td>\n",
       "      <td>0.0</td>\n",
       "      <td>0.0</td>\n",
       "      <td>1.0</td>\n",
       "      <td>0.0</td>\n",
       "      <td>1.0</td>\n",
       "      <td>0.0</td>\n",
       "    </tr>\n",
       "    <tr>\n",
       "      <th>3</th>\n",
       "      <td>522</td>\n",
       "      <td>2016-06-23</td>\n",
       "      <td>2016-06-26</td>\n",
       "      <td>270</td>\n",
       "      <td>49</td>\n",
       "      <td>79.9</td>\n",
       "      <td>11260</td>\n",
       "      <td>1950-11-21</td>\n",
       "      <td>2015-04-24</td>\n",
       "      <td>0</td>\n",
       "      <td>...</td>\n",
       "      <td>0.0</td>\n",
       "      <td>0.0</td>\n",
       "      <td>0.0</td>\n",
       "      <td>0.0</td>\n",
       "      <td>0.0</td>\n",
       "      <td>0.0</td>\n",
       "      <td>1.0</td>\n",
       "      <td>0.0</td>\n",
       "      <td>1.0</td>\n",
       "      <td>0.0</td>\n",
       "    </tr>\n",
       "    <tr>\n",
       "      <th>4</th>\n",
       "      <td>25884</td>\n",
       "      <td>2016-07-03</td>\n",
       "      <td>2016-07-04</td>\n",
       "      <td>270</td>\n",
       "      <td>49</td>\n",
       "      <td>79.9</td>\n",
       "      <td>1283</td>\n",
       "      <td>1967-01-12</td>\n",
       "      <td>2015-09-15</td>\n",
       "      <td>1</td>\n",
       "      <td>...</td>\n",
       "      <td>0.0</td>\n",
       "      <td>0.0</td>\n",
       "      <td>0.0</td>\n",
       "      <td>0.0</td>\n",
       "      <td>0.0</td>\n",
       "      <td>0.0</td>\n",
       "      <td>1.0</td>\n",
       "      <td>0.0</td>\n",
       "      <td>1.0</td>\n",
       "      <td>0.0</td>\n",
       "    </tr>\n",
       "  </tbody>\n",
       "</table>\n",
       "<p>5 rows × 222 columns</p>\n",
       "</div>"
      ],
      "text/plain": [
       "   order_item_id order_date delivery_date  item_id  brand_id  item_price  \\\n",
       "0              1 2016-06-22    2016-06-27      643        30        49.9   \n",
       "1            763 2016-06-24    2016-06-26      643        30        49.9   \n",
       "2              3 2016-06-22    2016-06-27      270        49        79.9   \n",
       "3            522 2016-06-23    2016-06-26      270        49        79.9   \n",
       "4          25884 2016-07-03    2016-07-04      270        49        79.9   \n",
       "\n",
       "   user_id   user_dob user_reg_date  return  ...    l    m    s  unsized   xl  \\\n",
       "0    30822 1969-04-17    2016-06-23       0  ...  0.0  0.0  0.0      0.0  0.0   \n",
       "1    29306 1973-06-17    2016-06-17       0  ...  0.0  0.0  0.0      0.0  0.0   \n",
       "2    30823 1970-04-22    2015-03-15       1  ...  0.0  0.0  0.0      0.0  0.0   \n",
       "3    11260 1950-11-21    2015-04-24       0  ...  0.0  0.0  0.0      0.0  0.0   \n",
       "4     1283 1967-01-12    2015-09-15       1  ...  0.0  0.0  0.0      0.0  0.0   \n",
       "\n",
       "    xs  xxl  xxxl  False  True  \n",
       "0  0.0  0.0   0.0    1.0   0.0  \n",
       "1  0.0  0.0   0.0    1.0   0.0  \n",
       "2  0.0  1.0   0.0    1.0   0.0  \n",
       "3  0.0  1.0   0.0    1.0   0.0  \n",
       "4  0.0  1.0   0.0    1.0   0.0  \n",
       "\n",
       "[5 rows x 222 columns]"
      ]
     },
     "execution_count": 29,
     "metadata": {},
     "output_type": "execute_result"
    }
   ],
   "source": [
    "df.head()"
   ]
  },
  {
   "cell_type": "markdown",
   "metadata": {},
   "source": [
    "### 1.3 Funktionen "
   ]
  },
  {
   "attachments": {},
   "cell_type": "markdown",
   "metadata": {},
   "source": [
    "**Funktionen:**\n",
    "\n",
    "Folgende Funktionen wurden programmiert:\n",
    "- plot_cunfusion_matrix(): Plotten von Confusion Matrizen\n",
    "- plot_roc_curve(): Plotten von einem oder mehreren ROC-Diagrammen\n",
    "- print_evaluation(): Einheitliche Rückgabe von Accuracy-, Recall- und Precision-Score des verwendeten Modells\n",
    "- calc_model_cost(): Kalkuliert die Kosten die man sich durch das Modell sparen kann oder anfallen "
   ]
  },
  {
   "cell_type": "code",
   "execution_count": 16,
   "metadata": {},
   "outputs": [],
   "source": [
    "# Funktionen\n",
    "\n",
    "def plot_confusion_matrix(y_test, y_pred, color: str, colorbar: bool, normalize: str):\n",
    "    \"\"\"\n",
    "    plot_confusion_matrix plottet eine Confusion Martrix in From der vergebenen Parametern.\n",
    "\n",
    "    y_test (array): Label der Testdaten das es hervorzusagen gilt\n",
    "    y_pred (array): Labels das tatsächlich hervorgesagt wurden\n",
    "    color (str): Farbe der Confusion Matrix (Achtung!: nur ausgewählte Colorsets von sklearn/matplotlib)\n",
    "    colorbar (bool): Soll eine Colorbar als Legende angezeigt werden, ja (True) und nein (False) \n",
    "    normalize (str): Sollen die Häufigkeiten relativ angezeigt werden, ja \"true\" neine \"false\"  \n",
    "\n",
    "    \"\"\"\n",
    "    ConfusionMatrixDisplay.from_predictions(y_test, y_pred, cmap= color, colorbar= colorbar, normalize= normalize)\n",
    "\n",
    "\n",
    "def plot_roc_curve(X_test, y_test, y_predict):\n",
    "    \"\"\" \n",
    "    plot_roc_curve erstellt für eine oder mehrere Modelle aus den angegebenen Parametern ein ROC-Diagramm.\n",
    "\n",
    "    X_test (array): Features des Testdatensatzes\n",
    "    y_test (array): Label des Testdatensatzes\n",
    "    y_predict (array): Ein Array, mit einem oder mehreren Arrays drinnen, deren Values eine spezifische Reihenfolge besitzen: 1. Modell, 2. y_pred (tatsächliche hervorgesagte Labelwerte), 3. Titel/Anzeigename in der Graphik (str)    \n",
    "\n",
    "    Beispielaufruf: plot_roc_curve(X_test= X_test, y_test= y_test, y_predict= [[best_gbc, y_pred_test_best_gbc, \"GBC\"], [best_dtc, y_pred_test_best_dtc, \"DTC\"]])\n",
    "    \"\"\"\n",
    "    plt.figure(figsize= (20,10))\n",
    "    \n",
    "    for model in y_predict:\n",
    "        fpr, tpr, thr = roc_curve(y_test, model[0].predict_proba(X_test)[:,1])\n",
    "        auc = roc_auc_score(y_test, model[1])\n",
    "        plt.step(x=fpr, y=tpr, label=f\"{model[2]} (AUC = {auc.round(2)})\")\n",
    "\n",
    "    plt.legend()\n",
    "\n",
    "\n",
    "def print_evaluation(pipeline_or_model: str, X_train, X_test, y_train, y_test, y_train_pred, y_test_pred):\n",
    "    \"\"\" \n",
    "    print_evaluation gibt den Accuracy-, Recall- und Precision-Score des verwendeten Modells zurück.\n",
    "\n",
    "    pipeline_or_mode (str): Pipeline oder Modellname\n",
    "    X_train (array): Features des Trainingsdatensatzes\n",
    "    X_test (array): Features des Testdatensatzes\n",
    "    y_train (array): Label der Trainingsdaten das es hervorgzusagen gilt\n",
    "    y_test (array): Label der Testdaten das es hervorzusagen gilt\n",
    "    y_train_pred (array): Vorhergesagtes Label auf den Trainingsdaten\n",
    "    y_test_pred (array): Vorhergesagtes Labl auf den Testdaten\n",
    "    \"\"\"\n",
    "    accurary_train = accuracy_score(y_train, y_train_pred)\n",
    "    recall_train = recall_score(y_train, y_train_pred)\n",
    "    precision_train = precision_score(y_train, y_train_pred)\n",
    "\n",
    "    accurary_test = accuracy_score(y_test, y_test_pred)\n",
    "    recall_test = recall_score(y_test, y_test_pred)\n",
    "    precision_test = precision_score(y_test, y_test_pred)\n",
    "    \n",
    "    print(\n",
    "        f\"{pipeline_or_model} Evaluation:\\n\"\n",
    "        f\"{'':6} {'ACC':>10} | {'REC':>14} | {'PRE':>10} | {'rows':>8} | {'columns':>8}\\n\"\n",
    "        f\"{'Train':6} {accurary_train:10.5f} | {recall_train:14.5f} | {precision_train:10.5f} | {X_train.shape[0]:8} | {X_train.shape[1]:8}\\n\"\n",
    "        f\"{'Test':6} {accurary_test:10.5f} | {recall_test:14.5f} | {precision_test:10.5f} | {X_test.shape[0]:8} | {X_test.shape[1]:8}\\n\"\n",
    "    )\n",
    "\n",
    "\n",
    "def calc_model_cost(y_test,y_pred,X_test,Modelname: str):\n",
    "    \"\"\"\n",
    "    Die Funktion calc_model_cost gibt einen String mit zurück, der das bestimmete Modell nennt und ihren Wert angibt, den Sie auf den Testdaten erzielen würde.\n",
    "\n",
    "    y_test: label array der Testdaten\n",
    "    y_pred: die label die das entsprechende Modell auf den Testdaten(testfeatures) hervorgesagt hat\n",
    "    X_test: Features der Testdaten\n",
    "    Modelname: Name des Model als string\n",
    "    \"\"\"\n",
    "    df_aufgabe6 = X_test.copy()\n",
    "    Modelname = Modelname\n",
    "    df_aufgabe6[\"return_predict\"] = y_pred\n",
    "    df_aufgabe6[\"return_test\"] = y_test\n",
    "    df_aufgabe6[\"Abgleich\"] = df_aufgabe6.return_predict == df_aufgabe6.return_test\n",
    "    df_aufgabe6 = df_aufgabe6.drop(df_aufgabe6.loc[(df_aufgabe6.return_predict == 0)&(df_aufgabe6.Abgleich == True)].index)\n",
    "    df_aufgabe6[\"summe\"] = 0\n",
    "    df_aufgabe6.loc[df_aufgabe6.Abgleich == True,\"summe\"]  = 3.5 # Wir sagen dass wir bei richtige Vorhersage ein Plus von 3.5€ erreichen\n",
    "    df_aufgabe6.loc[(df_aufgabe6.Abgleich == False)&(df_aufgabe6.return_predict == 1),\"summe\"] = df_aufgabe6.item_price*(-0.1)*0.5 # bei fälschlicher Vorhersage einer Retoure gehen wir von einem Verlust von 50% des 10%tigen itemprice\n",
    "    df_aufgabe6.loc[(df_aufgabe6.Abgleich == False)&(df_aufgabe6.return_predict == 0),\"summe\"] = -7 # beim nicht erkennen einer Retoure gehen wir von einem Verlust von 7€ aus\n",
    "    print(f\"Das Modell {Modelname} würde auf den jetzigen Testdaten einen Bonus von {df_aufgabe6.summe.sum().round(2)} erschaffen\")"
   ]
  },
  {
   "cell_type": "markdown",
   "metadata": {},
   "source": [
    "## 2. Klassifikaitonsmodelle mit Hyperparameteroptimierung"
   ]
  },
  {
   "attachments": {},
   "cell_type": "markdown",
   "metadata": {},
   "source": [
    "### Trainings- und Testdaten"
   ]
  },
  {
   "cell_type": "code",
   "execution_count": 17,
   "metadata": {},
   "outputs": [],
   "source": [
    "df_classifier = df.copy()\n",
    "\n",
    "# Festlegen von Featuren und Label\n",
    "X = df_classifier.drop([\"return\",\"order_date\",\"delivery_date\",\"user_dob\",\"user_reg_date\"], axis=1)\n",
    "y = df_classifier[\"return\"]\n",
    "\n",
    "# Aufteilung in Trainings- und Testdaten\n",
    "X_train, X_test, y_train, y_test = train_test_split(X, y, test_size=0.2, random_state=0)"
   ]
  },
  {
   "attachments": {},
   "cell_type": "markdown",
   "metadata": {},
   "source": [
    "### 2.1 Logistische Regression"
   ]
  },
  {
   "attachments": {},
   "cell_type": "markdown",
   "metadata": {},
   "source": [
    "Mit der Methode StandardScaler die Daten skalieren und auf ihre Einheitsvarianz bringen"
   ]
  },
  {
   "attachments": {},
   "cell_type": "markdown",
   "metadata": {},
   "source": [
    "Wir erzeugen eine Pipeline, um den Code für die Skalierung (Standarscaler) zu vereinfachen\n",
    "\n",
    "Hyperparametersuche mit einer 5-fachen Kreuzvalidierung durch GridSearchCV \n",
    "(Code dauert 1h)"
   ]
  },
  {
   "cell_type": "code",
   "execution_count": 18,
   "metadata": {},
   "outputs": [
    {
     "ename": "KeyboardInterrupt",
     "evalue": "",
     "output_type": "error",
     "traceback": [
      "\u001b[1;31m---------------------------------------------------------------------------\u001b[0m",
      "\u001b[1;31mKeyboardInterrupt\u001b[0m                         Traceback (most recent call last)",
      "\u001b[1;32mc:\\Users\\paulh\\Desktop\\ML-Projekt\\ML-Projekt\\main.ipynb Zelle 32\u001b[0m in \u001b[0;36m<cell line: 11>\u001b[1;34m()\u001b[0m\n\u001b[0;32m      <a href='vscode-notebook-cell:/c%3A/Users/paulh/Desktop/ML-Projekt/ML-Projekt/main.ipynb#Y421sZmlsZQ%3D%3D?line=3'>4</a>\u001b[0m param_grid_lo \u001b[39m=\u001b[39m {\n\u001b[0;32m      <a href='vscode-notebook-cell:/c%3A/Users/paulh/Desktop/ML-Projekt/ML-Projekt/main.ipynb#Y421sZmlsZQ%3D%3D?line=4'>5</a>\u001b[0m \u001b[39m\"\u001b[39m\u001b[39mlogisticregression__penalty\u001b[39m\u001b[39m\"\u001b[39m: [\u001b[39m\"\u001b[39m\u001b[39ml1\u001b[39m\u001b[39m\"\u001b[39m, \u001b[39m\"\u001b[39m\u001b[39ml2\u001b[39m\u001b[39m\"\u001b[39m, \u001b[39m\"\u001b[39m\u001b[39melasticnet\u001b[39m\u001b[39m\"\u001b[39m],\n\u001b[0;32m      <a href='vscode-notebook-cell:/c%3A/Users/paulh/Desktop/ML-Projekt/ML-Projekt/main.ipynb#Y421sZmlsZQ%3D%3D?line=5'>6</a>\u001b[0m \u001b[39m\"\u001b[39m\u001b[39mlogisticregression__C\u001b[39m\u001b[39m\"\u001b[39m: np\u001b[39m.\u001b[39mlinspace(\u001b[39m0.01\u001b[39m, \u001b[39m10\u001b[39m, \u001b[39m10\u001b[39m),\n\u001b[0;32m      <a href='vscode-notebook-cell:/c%3A/Users/paulh/Desktop/ML-Projekt/ML-Projekt/main.ipynb#Y421sZmlsZQ%3D%3D?line=6'>7</a>\u001b[0m \u001b[39m\"\u001b[39m\u001b[39mlogisticregression__solver\u001b[39m\u001b[39m\"\u001b[39m: [\u001b[39m\"\u001b[39m\u001b[39mlbfgs\u001b[39m\u001b[39m\"\u001b[39m, \u001b[39m\"\u001b[39m\u001b[39mliblinear\u001b[39m\u001b[39m\"\u001b[39m, \u001b[39m\"\u001b[39m\u001b[39mnewton-cg\u001b[39m\u001b[39m\"\u001b[39m, \u001b[39m\"\u001b[39m\u001b[39mnewton-cholesky\u001b[39m\u001b[39m\"\u001b[39m, \u001b[39m\"\u001b[39m\u001b[39msag\u001b[39m\u001b[39m\"\u001b[39m, \u001b[39m\"\u001b[39m\u001b[39msaga\u001b[39m\u001b[39m\"\u001b[39m]\n\u001b[0;32m      <a href='vscode-notebook-cell:/c%3A/Users/paulh/Desktop/ML-Projekt/ML-Projekt/main.ipynb#Y421sZmlsZQ%3D%3D?line=7'>8</a>\u001b[0m  \n\u001b[0;32m      <a href='vscode-notebook-cell:/c%3A/Users/paulh/Desktop/ML-Projekt/ML-Projekt/main.ipynb#Y421sZmlsZQ%3D%3D?line=8'>9</a>\u001b[0m }\n\u001b[0;32m     <a href='vscode-notebook-cell:/c%3A/Users/paulh/Desktop/ML-Projekt/ML-Projekt/main.ipynb#Y421sZmlsZQ%3D%3D?line=9'>10</a>\u001b[0m lrc \u001b[39m=\u001b[39m GridSearchCV(pipe_lo,param_grid_lo,scoring\u001b[39m=\u001b[39m\u001b[39m\"\u001b[39m\u001b[39maccuracy\u001b[39m\u001b[39m\"\u001b[39m,n_jobs\u001b[39m=\u001b[39m\u001b[39m2\u001b[39m)\n\u001b[1;32m---> <a href='vscode-notebook-cell:/c%3A/Users/paulh/Desktop/ML-Projekt/ML-Projekt/main.ipynb#Y421sZmlsZQ%3D%3D?line=10'>11</a>\u001b[0m lrc\u001b[39m.\u001b[39;49mfit(X_train,y_train)\n",
      "File \u001b[1;32m~\\AppData\\Local\\Packages\\PythonSoftwareFoundation.Python.3.10_qbz5n2kfra8p0\\LocalCache\\local-packages\\Python310\\site-packages\\sklearn\\model_selection\\_search.py:875\u001b[0m, in \u001b[0;36mBaseSearchCV.fit\u001b[1;34m(self, X, y, groups, **fit_params)\u001b[0m\n\u001b[0;32m    869\u001b[0m     results \u001b[39m=\u001b[39m \u001b[39mself\u001b[39m\u001b[39m.\u001b[39m_format_results(\n\u001b[0;32m    870\u001b[0m         all_candidate_params, n_splits, all_out, all_more_results\n\u001b[0;32m    871\u001b[0m     )\n\u001b[0;32m    873\u001b[0m     \u001b[39mreturn\u001b[39;00m results\n\u001b[1;32m--> 875\u001b[0m \u001b[39mself\u001b[39;49m\u001b[39m.\u001b[39;49m_run_search(evaluate_candidates)\n\u001b[0;32m    877\u001b[0m \u001b[39m# multimetric is determined here because in the case of a callable\u001b[39;00m\n\u001b[0;32m    878\u001b[0m \u001b[39m# self.scoring the return type is only known after calling\u001b[39;00m\n\u001b[0;32m    879\u001b[0m first_test_score \u001b[39m=\u001b[39m all_out[\u001b[39m0\u001b[39m][\u001b[39m\"\u001b[39m\u001b[39mtest_scores\u001b[39m\u001b[39m\"\u001b[39m]\n",
      "File \u001b[1;32m~\\AppData\\Local\\Packages\\PythonSoftwareFoundation.Python.3.10_qbz5n2kfra8p0\\LocalCache\\local-packages\\Python310\\site-packages\\sklearn\\model_selection\\_search.py:1375\u001b[0m, in \u001b[0;36mGridSearchCV._run_search\u001b[1;34m(self, evaluate_candidates)\u001b[0m\n\u001b[0;32m   1373\u001b[0m \u001b[39mdef\u001b[39;00m \u001b[39m_run_search\u001b[39m(\u001b[39mself\u001b[39m, evaluate_candidates):\n\u001b[0;32m   1374\u001b[0m     \u001b[39m\"\"\"Search all candidates in param_grid\"\"\"\u001b[39;00m\n\u001b[1;32m-> 1375\u001b[0m     evaluate_candidates(ParameterGrid(\u001b[39mself\u001b[39;49m\u001b[39m.\u001b[39;49mparam_grid))\n",
      "File \u001b[1;32m~\\AppData\\Local\\Packages\\PythonSoftwareFoundation.Python.3.10_qbz5n2kfra8p0\\LocalCache\\local-packages\\Python310\\site-packages\\sklearn\\model_selection\\_search.py:822\u001b[0m, in \u001b[0;36mBaseSearchCV.fit.<locals>.evaluate_candidates\u001b[1;34m(candidate_params, cv, more_results)\u001b[0m\n\u001b[0;32m    814\u001b[0m \u001b[39mif\u001b[39;00m \u001b[39mself\u001b[39m\u001b[39m.\u001b[39mverbose \u001b[39m>\u001b[39m \u001b[39m0\u001b[39m:\n\u001b[0;32m    815\u001b[0m     \u001b[39mprint\u001b[39m(\n\u001b[0;32m    816\u001b[0m         \u001b[39m\"\u001b[39m\u001b[39mFitting \u001b[39m\u001b[39m{0}\u001b[39;00m\u001b[39m folds for each of \u001b[39m\u001b[39m{1}\u001b[39;00m\u001b[39m candidates,\u001b[39m\u001b[39m\"\u001b[39m\n\u001b[0;32m    817\u001b[0m         \u001b[39m\"\u001b[39m\u001b[39m totalling \u001b[39m\u001b[39m{2}\u001b[39;00m\u001b[39m fits\u001b[39m\u001b[39m\"\u001b[39m\u001b[39m.\u001b[39mformat(\n\u001b[0;32m    818\u001b[0m             n_splits, n_candidates, n_candidates \u001b[39m*\u001b[39m n_splits\n\u001b[0;32m    819\u001b[0m         )\n\u001b[0;32m    820\u001b[0m     )\n\u001b[1;32m--> 822\u001b[0m out \u001b[39m=\u001b[39m parallel(\n\u001b[0;32m    823\u001b[0m     delayed(_fit_and_score)(\n\u001b[0;32m    824\u001b[0m         clone(base_estimator),\n\u001b[0;32m    825\u001b[0m         X,\n\u001b[0;32m    826\u001b[0m         y,\n\u001b[0;32m    827\u001b[0m         train\u001b[39m=\u001b[39;49mtrain,\n\u001b[0;32m    828\u001b[0m         test\u001b[39m=\u001b[39;49mtest,\n\u001b[0;32m    829\u001b[0m         parameters\u001b[39m=\u001b[39;49mparameters,\n\u001b[0;32m    830\u001b[0m         split_progress\u001b[39m=\u001b[39;49m(split_idx, n_splits),\n\u001b[0;32m    831\u001b[0m         candidate_progress\u001b[39m=\u001b[39;49m(cand_idx, n_candidates),\n\u001b[0;32m    832\u001b[0m         \u001b[39m*\u001b[39;49m\u001b[39m*\u001b[39;49mfit_and_score_kwargs,\n\u001b[0;32m    833\u001b[0m     )\n\u001b[0;32m    834\u001b[0m     \u001b[39mfor\u001b[39;49;00m (cand_idx, parameters), (split_idx, (train, test)) \u001b[39min\u001b[39;49;00m product(\n\u001b[0;32m    835\u001b[0m         \u001b[39menumerate\u001b[39;49m(candidate_params), \u001b[39menumerate\u001b[39;49m(cv\u001b[39m.\u001b[39;49msplit(X, y, groups))\n\u001b[0;32m    836\u001b[0m     )\n\u001b[0;32m    837\u001b[0m )\n\u001b[0;32m    839\u001b[0m \u001b[39mif\u001b[39;00m \u001b[39mlen\u001b[39m(out) \u001b[39m<\u001b[39m \u001b[39m1\u001b[39m:\n\u001b[0;32m    840\u001b[0m     \u001b[39mraise\u001b[39;00m \u001b[39mValueError\u001b[39;00m(\n\u001b[0;32m    841\u001b[0m         \u001b[39m\"\u001b[39m\u001b[39mNo fits were performed. \u001b[39m\u001b[39m\"\u001b[39m\n\u001b[0;32m    842\u001b[0m         \u001b[39m\"\u001b[39m\u001b[39mWas the CV iterator empty? \u001b[39m\u001b[39m\"\u001b[39m\n\u001b[0;32m    843\u001b[0m         \u001b[39m\"\u001b[39m\u001b[39mWere there no candidates?\u001b[39m\u001b[39m\"\u001b[39m\n\u001b[0;32m    844\u001b[0m     )\n",
      "File \u001b[1;32m~\\AppData\\Local\\Packages\\PythonSoftwareFoundation.Python.3.10_qbz5n2kfra8p0\\LocalCache\\local-packages\\Python310\\site-packages\\joblib\\parallel.py:1056\u001b[0m, in \u001b[0;36mParallel.__call__\u001b[1;34m(self, iterable)\u001b[0m\n\u001b[0;32m   1053\u001b[0m     \u001b[39mself\u001b[39m\u001b[39m.\u001b[39m_iterating \u001b[39m=\u001b[39m \u001b[39mFalse\u001b[39;00m\n\u001b[0;32m   1055\u001b[0m \u001b[39mwith\u001b[39;00m \u001b[39mself\u001b[39m\u001b[39m.\u001b[39m_backend\u001b[39m.\u001b[39mretrieval_context():\n\u001b[1;32m-> 1056\u001b[0m     \u001b[39mself\u001b[39;49m\u001b[39m.\u001b[39;49mretrieve()\n\u001b[0;32m   1057\u001b[0m \u001b[39m# Make sure that we get a last message telling us we are done\u001b[39;00m\n\u001b[0;32m   1058\u001b[0m elapsed_time \u001b[39m=\u001b[39m time\u001b[39m.\u001b[39mtime() \u001b[39m-\u001b[39m \u001b[39mself\u001b[39m\u001b[39m.\u001b[39m_start_time\n",
      "File \u001b[1;32m~\\AppData\\Local\\Packages\\PythonSoftwareFoundation.Python.3.10_qbz5n2kfra8p0\\LocalCache\\local-packages\\Python310\\site-packages\\joblib\\parallel.py:935\u001b[0m, in \u001b[0;36mParallel.retrieve\u001b[1;34m(self)\u001b[0m\n\u001b[0;32m    933\u001b[0m \u001b[39mtry\u001b[39;00m:\n\u001b[0;32m    934\u001b[0m     \u001b[39mif\u001b[39;00m \u001b[39mgetattr\u001b[39m(\u001b[39mself\u001b[39m\u001b[39m.\u001b[39m_backend, \u001b[39m'\u001b[39m\u001b[39msupports_timeout\u001b[39m\u001b[39m'\u001b[39m, \u001b[39mFalse\u001b[39;00m):\n\u001b[1;32m--> 935\u001b[0m         \u001b[39mself\u001b[39m\u001b[39m.\u001b[39m_output\u001b[39m.\u001b[39mextend(job\u001b[39m.\u001b[39;49mget(timeout\u001b[39m=\u001b[39;49m\u001b[39mself\u001b[39;49m\u001b[39m.\u001b[39;49mtimeout))\n\u001b[0;32m    936\u001b[0m     \u001b[39melse\u001b[39;00m:\n\u001b[0;32m    937\u001b[0m         \u001b[39mself\u001b[39m\u001b[39m.\u001b[39m_output\u001b[39m.\u001b[39mextend(job\u001b[39m.\u001b[39mget())\n",
      "File \u001b[1;32m~\\AppData\\Local\\Packages\\PythonSoftwareFoundation.Python.3.10_qbz5n2kfra8p0\\LocalCache\\local-packages\\Python310\\site-packages\\joblib\\_parallel_backends.py:542\u001b[0m, in \u001b[0;36mLokyBackend.wrap_future_result\u001b[1;34m(future, timeout)\u001b[0m\n\u001b[0;32m    539\u001b[0m \u001b[39m\"\"\"Wrapper for Future.result to implement the same behaviour as\u001b[39;00m\n\u001b[0;32m    540\u001b[0m \u001b[39mAsyncResults.get from multiprocessing.\"\"\"\u001b[39;00m\n\u001b[0;32m    541\u001b[0m \u001b[39mtry\u001b[39;00m:\n\u001b[1;32m--> 542\u001b[0m     \u001b[39mreturn\u001b[39;00m future\u001b[39m.\u001b[39;49mresult(timeout\u001b[39m=\u001b[39;49mtimeout)\n\u001b[0;32m    543\u001b[0m \u001b[39mexcept\u001b[39;00m CfTimeoutError \u001b[39mas\u001b[39;00m e:\n\u001b[0;32m    544\u001b[0m     \u001b[39mraise\u001b[39;00m \u001b[39mTimeoutError\u001b[39;00m \u001b[39mfrom\u001b[39;00m \u001b[39me\u001b[39;00m\n",
      "File \u001b[1;32mC:\\Program Files\\WindowsApps\\PythonSoftwareFoundation.Python.3.10_3.10.2544.0_x64__qbz5n2kfra8p0\\lib\\concurrent\\futures\\_base.py:453\u001b[0m, in \u001b[0;36mFuture.result\u001b[1;34m(self, timeout)\u001b[0m\n\u001b[0;32m    450\u001b[0m \u001b[39melif\u001b[39;00m \u001b[39mself\u001b[39m\u001b[39m.\u001b[39m_state \u001b[39m==\u001b[39m FINISHED:\n\u001b[0;32m    451\u001b[0m     \u001b[39mreturn\u001b[39;00m \u001b[39mself\u001b[39m\u001b[39m.\u001b[39m__get_result()\n\u001b[1;32m--> 453\u001b[0m \u001b[39mself\u001b[39;49m\u001b[39m.\u001b[39;49m_condition\u001b[39m.\u001b[39;49mwait(timeout)\n\u001b[0;32m    455\u001b[0m \u001b[39mif\u001b[39;00m \u001b[39mself\u001b[39m\u001b[39m.\u001b[39m_state \u001b[39min\u001b[39;00m [CANCELLED, CANCELLED_AND_NOTIFIED]:\n\u001b[0;32m    456\u001b[0m     \u001b[39mraise\u001b[39;00m CancelledError()\n",
      "File \u001b[1;32mC:\\Program Files\\WindowsApps\\PythonSoftwareFoundation.Python.3.10_3.10.2544.0_x64__qbz5n2kfra8p0\\lib\\threading.py:320\u001b[0m, in \u001b[0;36mCondition.wait\u001b[1;34m(self, timeout)\u001b[0m\n\u001b[0;32m    318\u001b[0m \u001b[39mtry\u001b[39;00m:    \u001b[39m# restore state no matter what (e.g., KeyboardInterrupt)\u001b[39;00m\n\u001b[0;32m    319\u001b[0m     \u001b[39mif\u001b[39;00m timeout \u001b[39mis\u001b[39;00m \u001b[39mNone\u001b[39;00m:\n\u001b[1;32m--> 320\u001b[0m         waiter\u001b[39m.\u001b[39;49macquire()\n\u001b[0;32m    321\u001b[0m         gotit \u001b[39m=\u001b[39m \u001b[39mTrue\u001b[39;00m\n\u001b[0;32m    322\u001b[0m     \u001b[39melse\u001b[39;00m:\n",
      "\u001b[1;31mKeyboardInterrupt\u001b[0m: "
     ]
    }
   ],
   "source": [
    "pipe_lo = make_pipeline(StandardScaler(),\n",
    "                     LogisticRegression(max_iter=500,dual=False)\n",
    "                     )\n",
    "param_grid_lo = {\n",
    "\"logisticregression__penalty\": [\"l1\", \"l2\", \"elasticnet\"],\n",
    "\"logisticregression__C\": np.linspace(0.01, 10, 10),\n",
    "\"logisticregression__solver\": [\"lbfgs\", \"liblinear\", \"newton-cg\", \"newton-cholesky\", \"sag\", \"saga\"]\n",
    " \n",
    "}\n",
    "lrc = GridSearchCV(pipe_lo,param_grid_lo,scoring=\"accuracy\",n_jobs=2)\n",
    "lrc.fit(X_train,y_train)"
   ]
  },
  {
   "cell_type": "code",
   "execution_count": 9,
   "metadata": {},
   "outputs": [
    {
     "name": "stdout",
     "output_type": "stream",
     "text": [
      "Best parameters: {'logisticregression__C': 0.01, 'logisticregression__penalty': 'l1', 'logisticregression__solver': 'liblinear'}, best score: 0.7801392709306052\n"
     ]
    }
   ],
   "source": [
    "print(f\"Best parameters: {lrc.best_params_}, best score: {lrc.best_score_}\")"
   ]
  },
  {
   "attachments": {},
   "cell_type": "markdown",
   "metadata": {},
   "source": [
    "Ausführen des Classifiers mit den besten Parametern"
   ]
  },
  {
   "cell_type": "code",
   "execution_count": 19,
   "metadata": {},
   "outputs": [
    {
     "name": "stdout",
     "output_type": "stream",
     "text": [
      "LogisticRegressionClassifier Evaluation:\n",
      "              ACC |            REC |        PRE |     rows |  columns\n",
      "Train     0.77825 |        0.80211 |    0.76902 |    52888 |      219\n",
      "Test      0.78059 |        0.79378 |    0.77716 |    13222 |      219\n",
      "\n"
     ]
    }
   ],
   "source": [
    "best_lrc = LogisticRegression(penalty= \"l1\", C= 0.01, solver= \"liblinear\", max_iter= 1000)\n",
    "best_lrc.fit(X_train, y_train)\n",
    "\n",
    "y_pred_train_best_lrc = best_lrc.predict(X_train)\n",
    "y_pred_test_best_lrc = best_lrc.predict(X_test)\n",
    "\n",
    "print_evaluation(\"LogisticRegressionClassifier\", X_train, X_test, y_train, y_test, y_pred_train_best_lrc, y_pred_test_best_lrc)"
   ]
  },
  {
   "cell_type": "markdown",
   "metadata": {},
   "source": [
    "### 2.2 Decision Tree Classifier"
   ]
  },
  {
   "attachments": {},
   "cell_type": "markdown",
   "metadata": {},
   "source": [
    "#### Basismodell Decision Tree Classifier"
   ]
  },
  {
   "attachments": {},
   "cell_type": "markdown",
   "metadata": {},
   "source": [
    "Mittels einer 10-Fachen Kreuzvalidierung und Hyperparametertuning wird die beste Kombination aus Baumtiefe (max_depth) und minimaler Anzahl an benötigter Beispiele für einen Split (min_samples) gesucht:"
   ]
  },
  {
   "cell_type": "code",
   "execution_count": 20,
   "metadata": {},
   "outputs": [
    {
     "name": "stdout",
     "output_type": "stream",
     "text": [
      "Best parameters: {'max_depth': 6, 'min_samples_split': 20, 'random_state': 0}, best score: 0.7752986638554771\n"
     ]
    }
   ],
   "source": [
    "g1s_crossvalidation = GridSearchCV(\n",
    " estimator= DecisionTreeClassifier(),\n",
    " param_grid= dict(min_samples_split= [2, 10, 20, 50, 100], max_depth= [1, 3, 6, 9], random_state= [0]),\n",
    " scoring= \"accuracy\",\n",
    " n_jobs= -1,\n",
    " cv= 10\n",
    " ).fit(X_train, y_train)\n",
    " \n",
    "print(f\"Best parameters: {g1s_crossvalidation.best_params_}, best score: {g1s_crossvalidation.best_score_}\")"
   ]
  },
  {
   "attachments": {},
   "cell_type": "markdown",
   "metadata": {},
   "source": [
    "Auführen des Classifiers mit einer Baumtiefe von 6 und 20 Auteilungen "
   ]
  },
  {
   "cell_type": "code",
   "execution_count": 21,
   "metadata": {},
   "outputs": [
    {
     "name": "stdout",
     "output_type": "stream",
     "text": [
      "DecisionTreeClassifier Evaluation:\n",
      "              ACC |            REC |        PRE |     rows |  columns\n",
      "Train     0.77857 |        0.82441 |    0.75843 |    52888 |      219\n",
      "Test      0.78271 |        0.82130 |    0.76597 |    13222 |      219\n",
      "\n"
     ]
    }
   ],
   "source": [
    "best_dtc = DecisionTreeClassifier(max_depth= 6, min_samples_split= 20, random_state= 0)\n",
    "best_dtc.fit(X_train, y_train)\n",
    "\n",
    "y_pred_train_best_dtc = best_dtc.predict(X_train)\n",
    "y_pred_test_best_dtc = best_dtc.predict(X_test)\n",
    "\n",
    "print_evaluation(\"DecisionTreeClassifier\", X_train, X_test, y_train, y_test, y_pred_train_best_dtc, y_pred_test_best_dtc)"
   ]
  },
  {
   "cell_type": "markdown",
   "metadata": {},
   "source": [
    "#### 2.2.1 Random Forest"
   ]
  },
  {
   "cell_type": "markdown",
   "metadata": {},
   "source": [
    "Hyperparametersuche via Gridsearch.\n",
    "\n",
    "Code dauert sehr lange zum Ausführen, da hier keine optimierte Klasse genommen wurde"
   ]
  },
  {
   "cell_type": "code",
   "execution_count": null,
   "metadata": {},
   "outputs": [],
   "source": [
    "rfc = RandomForestClassifier()\n",
    "\n",
    "parameters_rfc = {\n",
    "    \"n_estimators\": [100, 150, 200, 300], \"max_depth\": [20, 30, 40],\n",
    "    'max_features': [25, 40, 50], 'bootstrap': [True, False], 'oob_score': [False, True],\n",
    "    'ccp_alpha': [0, 0.005, 0.01], 'criterion': ['gini', 'entropy']\n",
    "      }\n",
    "rfc_gscv = GridSearchCV(rfc, parameters_rfc, cv=5,n_jobs=-1,verbose=3)\n",
    "rfc_gscv.fit(X_train, y_train)"
   ]
  },
  {
   "attachments": {},
   "cell_type": "markdown",
   "metadata": {},
   "source": [
    "Auführen des Classifiers mit den besten Hyperparmetern"
   ]
  },
  {
   "cell_type": "code",
   "execution_count": 22,
   "metadata": {},
   "outputs": [
    {
     "name": "stdout",
     "output_type": "stream",
     "text": [
      "RandomForest Evaluation:\n",
      "              ACC |            REC |        PRE |     rows |  columns\n",
      "Train     0.99991 |        1.00000 |    0.99981 |    52888 |      219\n",
      "Test      0.76229 |        0.77897 |    0.75778 |    13222 |      219\n",
      "\n"
     ]
    }
   ],
   "source": [
    "rfc = RandomForestClassifier(ccp_alpha = 0, n_estimators=400, criterion='entropy', max_depth=30, max_features=35)\n",
    "rfc.fit(X=X_train, y=y_train)\n",
    "y_pred_train_best_rfc = rfc.predict(X_train)\n",
    "y_pred_test_best_rfc = rfc.predict(X_test)\n",
    "\n",
    "print_evaluation(\"RandomForest\", X_train, X_test, y_train, y_test, y_pred_train_best_rfc, y_pred_test_best_rfc)"
   ]
  },
  {
   "attachments": {},
   "cell_type": "markdown",
   "metadata": {},
   "source": [
    "#### 2.2.1 Gradient Boosting Classifier"
   ]
  },
  {
   "attachments": {},
   "cell_type": "markdown",
   "metadata": {},
   "source": [
    "Um die Parameterwerte zu finden, die die höchste Genauigkeit erzielen, wird auch hier die Kreuzvalidierungsmethode GridSearchCV verwendet:"
   ]
  },
  {
   "cell_type": "code",
   "execution_count": 24,
   "metadata": {},
   "outputs": [
    {
     "name": "stdout",
     "output_type": "stream",
     "text": [
      "Best parameters: {'learning_rate': 0.1, 'max_depth': 5, 'max_iter': 100, 'random_state': 1}, best score: 0.7802716443297728\n"
     ]
    }
   ],
   "source": [
    "gs_crossvalidation = GridSearchCV(\n",
    " estimator= HistGradientBoostingClassifier(),\n",
    " param_grid= dict(max_iter= [100], learning_rate= [0.001, 0.01, 0.1], max_depth= [1,3,5,9], random_state= [1]),\n",
    " scoring= \"accuracy\",\n",
    " n_jobs= -1,\n",
    " ).fit(X_train, y_train)\n",
    " \n",
    "print(f\"Best parameters: {gs_crossvalidation.best_params_}, best score: {gs_crossvalidation.best_score_}\")"
   ]
  },
  {
   "attachments": {},
   "cell_type": "markdown",
   "metadata": {},
   "source": [
    "Auführen des Classifiers mit den besten Hyperparametern"
   ]
  },
  {
   "cell_type": "code",
   "execution_count": 25,
   "metadata": {},
   "outputs": [
    {
     "name": "stdout",
     "output_type": "stream",
     "text": [
      "GradientBoostingClassifier Evaluation:\n",
      "              ACC |            REC |        PRE |     rows |  columns\n",
      "Train     0.79181 |        0.83230 |    0.77309 |    52888 |      219\n",
      "Test      0.78604 |        0.81801 |    0.77238 |    13222 |      219\n",
      "\n"
     ]
    }
   ],
   "source": [
    "best_gbc = HistGradientBoostingClassifier(max_iter= 100, max_depth= 9, random_state= 1, learning_rate= 0.1).fit(X_train, y_train)\n",
    "\n",
    "y_pred_train_best_gbc = best_gbc.predict(X_train)\n",
    "y_pred_test_best_gbc = best_gbc.predict(X_test)\n",
    "\n",
    "print_evaluation(\"GradientBoostingClassifier\", X_train, X_test, y_train, y_test, y_pred_train_best_gbc, y_pred_test_best_gbc)"
   ]
  },
  {
   "cell_type": "markdown",
   "metadata": {},
   "source": [
    "### 2.3 Super Vector Machine"
   ]
  },
  {
   "attachments": {},
   "cell_type": "markdown",
   "metadata": {},
   "source": [
    "Wir verwenden eine Pipeline damit alle unserer eingehenden Features erst normalisiert werden (erspart code).\n",
    "\n",
    "Wir verwenden nur ein lineares Kernel, da dieses eine extra Funktion besitzt die auf Zeilen über 1000 optimiert ist.\n",
    "Die anderen Kernels würden zu lange zum Testen dauern.\n",
    "\n",
    "Die Hyperparameter optimierung läuft über Gridsearch mit 5-facher Kreuzvalidierung.\n",
    "Da wir nur des lineare Kernel behandeln optimieren wir nur den Regulasierungsparameter C"
   ]
  },
  {
   "cell_type": "code",
   "execution_count": 26,
   "metadata": {},
   "outputs": [
    {
     "name": "stdout",
     "output_type": "stream",
     "text": [
      "Best parameters: {'linearsvc__C': 0.1588421052631579}, best score: 0.7797989616092295\n"
     ]
    }
   ],
   "source": [
    "pipe = make_pipeline(StandardScaler(),\n",
    "                     LinearSVC(tol=1e-5, dual=False, max_iter=10000)\n",
    "                     )\n",
    "param_grid = {\n",
    "    \"linearsvc__C\": np.linspace(0.001, 3, 20),\n",
    "}\n",
    "grid = GridSearchCV(pipe,param_grid,scoring=\"accuracy\",n_jobs=2,return_train_score=True)\n",
    "grid.fit(X_train,y_train)\n",
    "print(f\"Best parameters: {grid.best_params_}, best score: {grid.best_score_}\")"
   ]
  },
  {
   "cell_type": "markdown",
   "metadata": {},
   "source": [
    "Anschließend wird der Classifier mit dem optimierten Hyperparameter ausgeführt"
   ]
  },
  {
   "cell_type": "code",
   "execution_count": 27,
   "metadata": {},
   "outputs": [
    {
     "name": "stdout",
     "output_type": "stream",
     "text": [
      "LinearSVC Evaluation:\n",
      "              ACC |            REC |        PRE |     rows |  columns\n",
      "Train     0.78180 |        0.80630 |    0.77204 |    52888 |      219\n",
      "Test      0.78188 |        0.79423 |    0.77885 |    13222 |      219\n",
      "\n"
     ]
    }
   ],
   "source": [
    "pipe_best = make_pipeline(StandardScaler(),\n",
    "                     LinearSVC(tol=1e-5, dual=False, max_iter=10000, C=grid.best_params_['linearsvc__C'])\n",
    "                     )\n",
    "pipe_best.fit(X_train,y_train)\n",
    "y_pred_train_best_svc = pipe_best.predict(X_train)\n",
    "y_pred_test_best_svc = pipe_best.predict(X_test)\n",
    "\n",
    "print_evaluation(\"LinearSVC\", X_train, X_test, y_train, y_test, y_pred_train_best_svc, y_pred_test_best_svc)\n"
   ]
  },
  {
   "cell_type": "markdown",
   "metadata": {},
   "source": [
    "## 3. Evaluation mit ROC-Plot"
   ]
  },
  {
   "attachments": {},
   "cell_type": "markdown",
   "metadata": {},
   "source": [
    "Da die Methode LinearSVC keine Methode predictproba() hat nehmen wir einen Hilfclassifier namens CalibratedCalssifierCV.\n",
    "Dieser ermöglicht dann die funktion predictproba anhand der decision funktion von LinearSVC.\n",
    "Die accuracy Werte werden dadurch leicht schwächer, jedoch ist das für nur eine graphische Darstellung unserer Meinung nach vernachlässigbar"
   ]
  },
  {
   "cell_type": "code",
   "execution_count": 28,
   "metadata": {},
   "outputs": [],
   "source": [
    "clf = CalibratedClassifierCV(pipe_best,cv=\"prefit\")\n",
    "clf.fit(X_train,y_train)\n",
    "y_pred_test_best_clf = clf.predict(X_test)"
   ]
  },
  {
   "attachments": {},
   "cell_type": "markdown",
   "metadata": {},
   "source": [
    "**Für die Evaluation werden mittels eines ROC-Plost alle Klassifizierungsmodelle miteinander verglichen:**"
   ]
  },
  {
   "cell_type": "code",
   "execution_count": 29,
   "metadata": {},
   "outputs": [
    {
     "data": {
      "image/png": "[encoded data removed]",
      "text/plain": [
       "<Figure size 1440x720 with 1 Axes>"
      ]
     },
     "metadata": {
      "needs_background": "light"
     },
     "output_type": "display_data"
    }
   ],
   "source": [
    "plot_roc_curve(X_test, y_test, \n",
    " y_predict= [\n",
    "  [best_gbc, y_pred_test_best_gbc, \"GradientBoostingClassifier\"],\n",
    "  [best_dtc, y_pred_test_best_dtc, \"DecisionTreeClassifier\"],\n",
    "  [clf, y_pred_test_best_clf, \"LinearSVC\"],\n",
    "  [rfc, y_pred_test_best_rfc, \"RandomForest\"],\n",
    "  [best_lrc, y_pred_test_best_lrc, \"LogisticRegression\"]\n",
    "  ]\n",
    " )"
   ]
  },
  {
   "attachments": {},
   "cell_type": "markdown",
   "metadata": {},
   "source": [
    "- Alle Modelle liegen nicht nahe der Diagonale -> kein Zufallsprozess\n",
    "- RandomForest overfitted auf den Trainingsdaten und deswegen schneidet dieser schlechter ab\n",
    "- Modell DecisionTreeClassifier bei weniger Aufwand besser "
   ]
  },
  {
   "cell_type": "markdown",
   "metadata": {},
   "source": [
    "## 4. Aufgabe 6"
   ]
  },
  {
   "attachments": {},
   "cell_type": "markdown",
   "metadata": {},
   "source": [
    "Die beschriebenen Kostenfälle in der Aufgabenstellung lassen sich zu einer Confusion-Matrix zusammenfassen: \n",
    "- Wahrer Wert return: y_test (erste spalte) und Vorhergesagter Wert: y_predict (erste Zeile) \n",
    "\n",
    "|           | y_test                       |                           | \n",
    "|-----------|------------------------------|---------------------------|\n",
    "| y_predict | 0                            | 1                         |\n",
    "| 1         | (-) 10% * 50% vom item_price | (+) von 3,5€ (50% von 7€) |\n",
    "| 0         | weder (+) noch (-)           | (-) 7€                    |"
   ]
  },
  {
   "attachments": {},
   "cell_type": "markdown",
   "metadata": {},
   "source": [
    "#### Logistische Regression"
   ]
  },
  {
   "cell_type": "code",
   "execution_count": 30,
   "metadata": {},
   "outputs": [
    {
     "name": "stdout",
     "output_type": "stream",
     "text": [
      "Das Modell LogisticRegression würde auf den jetzigen Testdaten einen Bonus von 3936.78 erschaffen\n"
     ]
    },
    {
     "data": {
      "image/png": "[encoded data removed]",
      "text/plain": [
       "<Figure size 432x288 with 1 Axes>"
      ]
     },
     "metadata": {
      "needs_background": "light"
     },
     "output_type": "display_data"
    }
   ],
   "source": [
    "# Logistische Regression Afg6:\n",
    "plot_confusion_matrix(y_test, y_pred_test_best_lrc, color= \"Greens\", colorbar= False, normalize= \"true\")\n",
    "calc_model_cost(y_test,y_pred_test_best_lrc,X_test,\"LogisticRegression\")"
   ]
  },
  {
   "attachments": {},
   "cell_type": "markdown",
   "metadata": {},
   "source": [
    "#### DecisionTreeClassifier"
   ]
  },
  {
   "cell_type": "code",
   "execution_count": 31,
   "metadata": {},
   "outputs": [
    {
     "name": "stdout",
     "output_type": "stream",
     "text": [
      "Das Modell DecisionTreeClassifier würde auf den jetzigen Testdaten einen Bonus von 5239.27 erschaffen\n"
     ]
    },
    {
     "data": {
      "image/png": "[encoded data removed]",
      "text/plain": [
       "<Figure size 432x288 with 1 Axes>"
      ]
     },
     "metadata": {
      "needs_background": "light"
     },
     "output_type": "display_data"
    }
   ],
   "source": [
    "# DecisionTreeClassifier Afg6:\n",
    "plot_confusion_matrix(y_test, y_pred_test_best_dtc, color= \"Greens\", colorbar= False, normalize= \"true\")\n",
    "calc_model_cost(y_test,y_pred_test_best_dtc,X_test,\"DecisionTreeClassifier\")"
   ]
  },
  {
   "attachments": {},
   "cell_type": "markdown",
   "metadata": {},
   "source": [
    "#### GradientBoostingClassifier"
   ]
  },
  {
   "cell_type": "code",
   "execution_count": 32,
   "metadata": {},
   "outputs": [
    {
     "name": "stdout",
     "output_type": "stream",
     "text": [
      "Das Modell GradientBoostingClassifier würde auf den jetzigen Testdaten einen Bonus von 5171.8 erschaffen\n"
     ]
    },
    {
     "data": {
      "image/png": "[encoded data removed]",
      "text/plain": [
       "<Figure size 432x288 with 1 Axes>"
      ]
     },
     "metadata": {
      "needs_background": "light"
     },
     "output_type": "display_data"
    }
   ],
   "source": [
    "# GradientBoosintgClassifier Afg6:\n",
    "plot_confusion_matrix(y_test, y_pred_test_best_gbc, color= \"Greens\", colorbar= False, normalize= \"true\")\n",
    "calc_model_cost(y_test,y_pred_test_best_gbc,X_test,\"GradientBoostingClassifier\")"
   ]
  },
  {
   "attachments": {},
   "cell_type": "markdown",
   "metadata": {},
   "source": [
    "#### Random Forest"
   ]
  },
  {
   "cell_type": "code",
   "execution_count": 33,
   "metadata": {},
   "outputs": [
    {
     "name": "stdout",
     "output_type": "stream",
     "text": [
      "Das Modell RandomForest würde auf den jetzigen Testdaten einen Bonus von 2263.43 erschaffen\n"
     ]
    },
    {
     "data": {
      "image/png": "[encoded data removed]",
      "text/plain": [
       "<Figure size 432x288 with 1 Axes>"
      ]
     },
     "metadata": {
      "needs_background": "light"
     },
     "output_type": "display_data"
    }
   ],
   "source": [
    "# RandomForest Afg6:\n",
    "plot_confusion_matrix(y_test, y_pred_test_best_rfc, color= \"Greens\", colorbar= False, normalize= \"true\")\n",
    "calc_model_cost(y_test,y_pred_test_best_rfc,X_test,\"RandomForest\")"
   ]
  },
  {
   "attachments": {},
   "cell_type": "markdown",
   "metadata": {},
   "source": [
    "#### Linear SVC "
   ]
  },
  {
   "cell_type": "code",
   "execution_count": 34,
   "metadata": {},
   "outputs": [
    {
     "name": "stdout",
     "output_type": "stream",
     "text": [
      "Das Modell LinearSVC würde auf den jetzigen Testdaten einen Bonus von 4012.89 erschaffen\n"
     ]
    },
    {
     "data": {
      "image/png": "[encoded data removed]",
      "text/plain": [
       "<Figure size 432x288 with 1 Axes>"
      ]
     },
     "metadata": {
      "needs_background": "light"
     },
     "output_type": "display_data"
    }
   ],
   "source": [
    "# LinearSVC Afg6:\n",
    "plot_confusion_matrix(y_test, y_pred_test_best_svc, color= \"Greens\", colorbar= False, normalize= \"true\")\n",
    "calc_model_cost(y_test,y_pred_test_best_svc,X_test,\"LinearSVC\")"
   ]
  },
  {
   "attachments": {},
   "cell_type": "markdown",
   "metadata": {},
   "source": [
    "#### **Kostenvergleich anhand Afg6:**\n",
    "\n",
    "| Modell                     | Kosten |\n",
    "|----------------------------|--------|\n",
    "| Logistische Regression     |  3915.78      |\n",
    "| DecisionTreeClassifier     |     5239.27   |\n",
    "| GradientBoostingClassifier |   5171.8     |\n",
    "| Random Forest              |    2263.43    |\n",
    "| LinearSVC                  |    4012.89    |\n",
    "\n",
    "-> nach dem Kostenvergleich ist DecisionTreeClassifier das beste Modell"
   ]
  }
 ],
 "metadata": {
  "kernelspec": {
   "display_name": "Python 3.10.9 64-bit (microsoft store)",
   "language": "python",
   "name": "python3"
  },
  "language_info": {
   "codemirror_mode": {
    "name": "ipython",
    "version": 3
   },
   "file_extension": ".py",
   "mimetype": "text/x-python",
   "name": "python",
   "nbconvert_exporter": "python",
   "pygments_lexer": "ipython3",
   "version": "3.10.9"
  },
  "orig_nbformat": 4,
  "vscode": {
   "interpreter": {
    "hash": "f057ee858b85cb61ebf4db329176c41c101b87ce182c0543c232437d49c5b088"
   }
  }
 },
 "nbformat": 4,
 "nbformat_minor": 2
}
