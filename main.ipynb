{
 "cells": [
  {
   "cell_type": "markdown",
   "metadata": {},
   "source": [
    "# Semesterprojekt: Retourenvorhersage\n",
    "Data Mining & Grundlagen Maschinelles Lernen 1, Wintersemester 2022/23"
   ]
  },
  {
   "cell_type": "markdown",
   "metadata": {},
   "source": [
    "**Gruppe:**\n",
    "\n",
    "|Paul|Antonio|Tim|Flo|\n",
    "|---|---|---|---|\n",
    "|hopa1029|coan1014|ehti1011|klfl1012|\n",
    "80001|       |80055|79679|"
   ]
  },
  {
   "cell_type": "markdown",
   "metadata": {},
   "source": [
    "**Gliederung:**\n",
    "1. Data Cleaning, Feature Engineering und Funktionen\n",
    "   - 1.1 Data Cleaning\n",
    "  \n",
    "   - 1.2 Featrue Engineering\n",
    "  \n",
    "   - 1.3 Funktionen\n",
    "   \n",
    "2. Klassifikaitonsmodelle mit Hyperparameteroptimierung:\n",
    "   - 2.1 Logistische Regression \n",
    "  \n",
    "   - 2.2 Random Forest\n",
    "  \n",
    "   - 2.3 Gradient Boosting\n",
    "\n",
    "   - 2.4 Super Vector Machine\n",
    "\n",
    "                  \n",
    "3. Evaluation mit ROC Plot \n",
    "\n",
    "4. Aufgabe 5"
   ]
  },
  {
   "cell_type": "markdown",
   "metadata": {},
   "source": [
    "**Datensatz und Import:** \n",
    "\n",
    "Der Datensatz beschreibt 75,007 bestellte Artikel, von denen bekannt ist, ob sie zurückge\n",
    "sendet wurden oder nicht.  \n",
    "Für einen bestellten Artikel (1 Zeile) existieren folgende Felder in den Daten:\n",
    "\n",
    "- order_item_id: ID des bestellten Artikels\n",
    "- order_date: Datum der Bestellung\n",
    "- delivery_date: Lieferdatum des Artikels\n",
    "- item_id: ID des Artikels\n",
    "- item_size: Größe des Artikels\n",
    "- item_color: Farbe des Artikels\n",
    "- brand_id: Hersteller ID\n",
    "- item_price: Preis des Artikels\n",
    "- user_id: ID des Nutzers\n",
    "- user_title: Titel des Nutzers\n",
    "- user_dob: Geburtsdatum des Nutzers\n",
    "- user_state: Bundesland, in dem der Nutzer wohnt\n",
    "- user_reg_date: Datum, an dem sich der Nutzer registriert hat\n",
    "- return: Wurde der Artikel zurückgeschickt (1) oder nicht (0)"
   ]
  },
  {
   "cell_type": "code",
   "execution_count": 1,
   "metadata": {},
   "outputs": [],
   "source": [
    "import pandas as pd\n",
    "df = pd.read_csv(\"retouren.csv\")"
   ]
  },
  {
   "cell_type": "code",
   "execution_count": 2,
   "metadata": {},
   "outputs": [
    {
     "data": {
      "text/html": [
       "<div>\n",
       "<style scoped>\n",
       "    .dataframe tbody tr th:only-of-type {\n",
       "        vertical-align: middle;\n",
       "    }\n",
       "\n",
       "    .dataframe tbody tr th {\n",
       "        vertical-align: top;\n",
       "    }\n",
       "\n",
       "    .dataframe thead th {\n",
       "        text-align: right;\n",
       "    }\n",
       "</style>\n",
       "<table border=\"1\" class=\"dataframe\">\n",
       "  <thead>\n",
       "    <tr style=\"text-align: right;\">\n",
       "      <th></th>\n",
       "      <th>order_item_id</th>\n",
       "      <th>order_date</th>\n",
       "      <th>delivery_date</th>\n",
       "      <th>item_id</th>\n",
       "      <th>item_size</th>\n",
       "      <th>item_color</th>\n",
       "      <th>brand_id</th>\n",
       "      <th>item_price</th>\n",
       "      <th>user_id</th>\n",
       "      <th>user_title</th>\n",
       "      <th>user_dob</th>\n",
       "      <th>user_state</th>\n",
       "      <th>user_reg_date</th>\n",
       "      <th>return</th>\n",
       "    </tr>\n",
       "  </thead>\n",
       "  <tbody>\n",
       "    <tr>\n",
       "      <th>0</th>\n",
       "      <td>1</td>\n",
       "      <td>2016-06-22</td>\n",
       "      <td>2016-06-27</td>\n",
       "      <td>643</td>\n",
       "      <td>38</td>\n",
       "      <td>navy</td>\n",
       "      <td>30</td>\n",
       "      <td>49.90</td>\n",
       "      <td>30822</td>\n",
       "      <td>Mrs</td>\n",
       "      <td>1969-04-17</td>\n",
       "      <td>Saxony</td>\n",
       "      <td>2016-06-23</td>\n",
       "      <td>0</td>\n",
       "    </tr>\n",
       "    <tr>\n",
       "      <th>1</th>\n",
       "      <td>2</td>\n",
       "      <td>2016-06-22</td>\n",
       "      <td>NaN</td>\n",
       "      <td>337</td>\n",
       "      <td>152</td>\n",
       "      <td>grey</td>\n",
       "      <td>30</td>\n",
       "      <td>19.95</td>\n",
       "      <td>30822</td>\n",
       "      <td>Mrs</td>\n",
       "      <td>1969-04-17</td>\n",
       "      <td>Saxony</td>\n",
       "      <td>2016-06-23</td>\n",
       "      <td>0</td>\n",
       "    </tr>\n",
       "    <tr>\n",
       "      <th>2</th>\n",
       "      <td>3</td>\n",
       "      <td>2016-06-22</td>\n",
       "      <td>2016-06-27</td>\n",
       "      <td>270</td>\n",
       "      <td>xxl</td>\n",
       "      <td>grey</td>\n",
       "      <td>49</td>\n",
       "      <td>79.90</td>\n",
       "      <td>30823</td>\n",
       "      <td>Mrs</td>\n",
       "      <td>1970-04-22</td>\n",
       "      <td>Baden-Wuerttemberg</td>\n",
       "      <td>2015-03-15</td>\n",
       "      <td>1</td>\n",
       "    </tr>\n",
       "    <tr>\n",
       "      <th>3</th>\n",
       "      <td>4</td>\n",
       "      <td>2016-06-22</td>\n",
       "      <td>2016-06-27</td>\n",
       "      <td>142</td>\n",
       "      <td>xxl</td>\n",
       "      <td>grey</td>\n",
       "      <td>49</td>\n",
       "      <td>99.90</td>\n",
       "      <td>30823</td>\n",
       "      <td>Mrs</td>\n",
       "      <td>1970-04-22</td>\n",
       "      <td>Baden-Wuerttemberg</td>\n",
       "      <td>2015-03-15</td>\n",
       "      <td>0</td>\n",
       "    </tr>\n",
       "    <tr>\n",
       "      <th>4</th>\n",
       "      <td>5</td>\n",
       "      <td>2016-06-22</td>\n",
       "      <td>2016-06-27</td>\n",
       "      <td>561</td>\n",
       "      <td>xxl</td>\n",
       "      <td>grey</td>\n",
       "      <td>3</td>\n",
       "      <td>14.90</td>\n",
       "      <td>30823</td>\n",
       "      <td>Mrs</td>\n",
       "      <td>1970-04-22</td>\n",
       "      <td>Baden-Wuerttemberg</td>\n",
       "      <td>2015-03-15</td>\n",
       "      <td>1</td>\n",
       "    </tr>\n",
       "  </tbody>\n",
       "</table>\n",
       "</div>"
      ],
      "text/plain": [
       "   order_item_id  order_date delivery_date  item_id item_size item_color  \\\n",
       "0              1  2016-06-22    2016-06-27      643        38       navy   \n",
       "1              2  2016-06-22           NaN      337       152       grey   \n",
       "2              3  2016-06-22    2016-06-27      270       xxl       grey   \n",
       "3              4  2016-06-22    2016-06-27      142       xxl       grey   \n",
       "4              5  2016-06-22    2016-06-27      561       xxl       grey   \n",
       "\n",
       "   brand_id  item_price  user_id user_title    user_dob          user_state  \\\n",
       "0        30       49.90    30822        Mrs  1969-04-17              Saxony   \n",
       "1        30       19.95    30822        Mrs  1969-04-17              Saxony   \n",
       "2        49       79.90    30823        Mrs  1970-04-22  Baden-Wuerttemberg   \n",
       "3        49       99.90    30823        Mrs  1970-04-22  Baden-Wuerttemberg   \n",
       "4         3       14.90    30823        Mrs  1970-04-22  Baden-Wuerttemberg   \n",
       "\n",
       "  user_reg_date  return  \n",
       "0    2016-06-23       0  \n",
       "1    2016-06-23       0  \n",
       "2    2015-03-15       1  \n",
       "3    2015-03-15       0  \n",
       "4    2015-03-15       1  "
      ]
     },
     "execution_count": 2,
     "metadata": {},
     "output_type": "execute_result"
    }
   ],
   "source": [
    "df.head()"
   ]
  },
  {
   "cell_type": "markdown",
   "metadata": {},
   "source": [
    "## 1. Data Cleaning, Feature Engineering und Funktionen"
   ]
  },
  {
   "cell_type": "markdown",
   "metadata": {},
   "source": [
    "### 1. Data Cleaning"
   ]
  },
  {
   "cell_type": "markdown",
   "metadata": {},
   "source": [
    "**Anpassen der Datentypen**"
   ]
  },
  {
   "cell_type": "code",
   "execution_count": 3,
   "metadata": {},
   "outputs": [],
   "source": [
    "df[\"user_dob\"] = pd.to_datetime(df.user_dob)\n",
    "df[\"user_reg_date\"] = pd.to_datetime(df.user_reg_date)\n",
    "df[\"order_date\"] = pd.to_datetime(df.order_date)\n",
    "df[\"delivery_date\"] = pd.to_datetime(df.delivery_date)"
   ]
  },
  {
   "cell_type": "markdown",
   "metadata": {},
   "source": [
    "**Löschen der Datensätze mit Preis von 999**"
   ]
  },
  {
   "cell_type": "code",
   "execution_count": 4,
   "metadata": {},
   "outputs": [],
   "source": [
    "df = df.drop(df[df.item_price == 999].index)"
   ]
  },
  {
   "cell_type": "markdown",
   "metadata": {},
   "source": [
    "**Löschen der Datensätze wo das Lieferdatum kleiner dem Bestelldatum**"
   ]
  },
  {
   "cell_type": "code",
   "execution_count": 5,
   "metadata": {},
   "outputs": [],
   "source": [
    "df = df.drop(df[df.delivery_date < df.order_date].index)"
   ]
  },
  {
   "cell_type": "markdown",
   "metadata": {},
   "source": [
    "**Anpassen der Dateninkonsistenzen bei item_color**"
   ]
  },
  {
   "cell_type": "code",
   "execution_count": 6,
   "metadata": {},
   "outputs": [],
   "source": [
    "df = df.drop(df[df.item_color == \"?\"].index)"
   ]
  },
  {
   "cell_type": "code",
   "execution_count": 7,
   "metadata": {},
   "outputs": [],
   "source": [
    "df.loc[df.item_color == \"brwon\",\"item_color\"] = \"brown\"\n",
    "df.loc[df.item_color == \"blau\",\"item_color\"] = \"blue\"\n",
    "df.loc[df.item_color == \"dark oliv\",\"item_color\"] = \"dark olive\""
   ]
  },
  {
   "cell_type": "markdown",
   "metadata": {},
   "source": [
    "**Löschen der Datensätze ohne delivery_date** "
   ]
  },
  {
   "cell_type": "code",
   "execution_count": 11,
   "metadata": {},
   "outputs": [],
   "source": [
    "df.drop(df[df.delivery_date.isna()].index, inplace=True)"
   ]
  },
  {
   "cell_type": "markdown",
   "metadata": {},
   "source": [
    "### 2.2 Feature Engineering"
   ]
  },
  {
   "cell_type": "markdown",
   "metadata": {},
   "source": [
    "**Datensatz mit neuen Features:**\n",
    "\n",
    "Der Datensatz wurde für die Modelle um folgenden Features erweitert:\n",
    "\n",
    "- age: Alter der User zum Zeitpunkt der Bestellung, Differenz zwischen order_date und user_dob\n",
    "- acc_age: Accountalter des Nutzers zum Zeitpunkt der Bestellung, (-) wenn nach der Bestellung regisrtiert\n",
    "- maxprice: Der Maximalpreis eines Produktes\n",
    "- markdown: Ist der Artikel vergünstig (1) oder nicht (0) "
   ]
  },
  {
   "cell_type": "code",
   "execution_count": 8,
   "metadata": {},
   "outputs": [],
   "source": [
    "df[\"age\"] = df.order_date.dt.year - df.user_dob.dt.year -((df.order_date.dt.date)<(df.user_dob.dt.date))"
   ]
  },
  {
   "cell_type": "code",
   "execution_count": 9,
   "metadata": {},
   "outputs": [],
   "source": [
    "df[\"acc_age\"] = df.order_date - df.user_reg_date \n",
    "df[\"acc_age\"] = df.acc_age.dt.days"
   ]
  },
  {
   "cell_type": "code",
   "execution_count": 10,
   "metadata": {},
   "outputs": [],
   "source": [
    "df_mark = df.groupby([\"item_id\",\"item_size\",\"item_color\"]).agg(maxprice=(\"item_price\",\"max\")).reset_index()\n",
    "df = pd.merge(df,df_mark)\n",
    "df[\"markdown\"] = 0\n",
    "df.loc[df.item_price < df.maxprice,\"markdown\"] = 1"
   ]
  },
  {
   "cell_type": "code",
   "execution_count": 1,
   "metadata": {},
   "outputs": [
    {
     "ename": "NameError",
     "evalue": "name 'df' is not defined",
     "output_type": "error",
     "traceback": [
      "\u001b[0;31m---------------------------------------------------------------------------\u001b[0m",
      "\u001b[0;31mNameError\u001b[0m                                 Traceback (most recent call last)",
      "\u001b[1;32m/Users/florian/Documents/GitHub/3 Semester/projects/ML-project-1/main.ipynb Zelle 25\u001b[0m in \u001b[0;36m<cell line: 1>\u001b[0;34m()\u001b[0m\n\u001b[0;32m----> <a href='vscode-notebook-cell:/Users/florian/Documents/GitHub/3%20Semester/projects/ML-project-1/main.ipynb#X51sZmlsZQ%3D%3D?line=0'>1</a>\u001b[0m df\u001b[39m.\u001b[39mhead()\n",
      "\u001b[0;31mNameError\u001b[0m: name 'df' is not defined"
     ]
    }
   ],
   "source": [
    "df.head()"
   ]
  },
  {
   "cell_type": "markdown",
   "metadata": {},
   "source": [
    "### 3. Funktionen "
   ]
  },
  {
   "cell_type": "code",
   "execution_count": null,
   "metadata": {},
   "outputs": [],
   "source": []
  },
  {
   "cell_type": "markdown",
   "metadata": {},
   "source": [
    "## 2. Klassifikaitonsmodelle mit Hyperparameteroptimierung"
   ]
  },
  {
   "cell_type": "markdown",
   "metadata": {},
   "source": [
    "### 2.1 Logisitsche Regression"
   ]
  },
  {
   "cell_type": "markdown",
   "metadata": {},
   "source": [
    "### 2.2 Random Forest"
   ]
  },
  {
   "cell_type": "markdown",
   "metadata": {},
   "source": [
    "### 2.3 Gradient Boosting"
   ]
  },
  {
   "cell_type": "markdown",
   "metadata": {},
   "source": [
    "### 2.4 Super Vector Machine"
   ]
  },
  {
   "cell_type": "markdown",
   "metadata": {},
   "source": [
    "## 3. Evaluation mit ROC Plot"
   ]
  },
  {
   "cell_type": "markdown",
   "metadata": {},
   "source": [
    "## 4. Aufgabe 5"
   ]
  }
 ],
 "metadata": {
  "kernelspec": {
   "display_name": "Python 3.9.7 64-bit",
   "language": "python",
   "name": "python3"
  },
  "language_info": {
   "codemirror_mode": {
    "name": "ipython",
    "version": 3
   },
   "file_extension": ".py",
   "mimetype": "text/x-python",
   "name": "python",
   "nbconvert_exporter": "python",
   "pygments_lexer": "ipython3",
   "version": "3.9.7"
  },
  "orig_nbformat": 4,
  "vscode": {
   "interpreter": {
    "hash": "aee8b7b246df8f9039afb4144a1f6fd8d2ca17a180786b69acc140d282b71a49"
   }
  }
 },
 "nbformat": 4,
 "nbformat_minor": 2
}
