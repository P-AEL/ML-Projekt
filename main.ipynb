{
 "cells": [
  {
   "cell_type": "markdown",
   "metadata": {},
   "source": [
    "# Semesterprojekt: Retourenvorhersage\n",
    "Data Mining & Grundlagen Maschinelles Lernen 1, Wintersemester 2022/23"
   ]
  },
  {
   "cell_type": "markdown",
   "metadata": {},
   "source": [
    "**Gruppe:**\n",
    "\n",
    "|Paul|Antonio|Tim|Flo|\n",
    "|---|---|---|---|\n",
    "|hopa1029|coan1014|ehti1011|klfl1012|\n",
    "80001|       |80055|79679|"
   ]
  },
  {
   "cell_type": "markdown",
   "metadata": {},
   "source": [
    "**Gliederung:**\n",
    "1. Data Cleaning, Feature Engineering und Funktionen\n",
    "   - 1.1 Data Cleaning\n",
    "  \n",
    "   - 1.2 Featrue Engineering\n",
    "  \n",
    "   - 1.3 Funktionen\n",
    "   \n",
    "2. Klassifikaitonsmodelle mit Hyperparameteroptimierung:\n",
    "   - 2.1 Logistische Regression \n",
    "  \n",
    "   - 2.2 Decision Tree Classifier\n",
    "     - 2.2.1 Random Forest \n",
    "      \n",
    "     - 2.2.2 Gradient Boosting   \n",
    "   \n",
    "  \n",
    "   - 2.3 Super Vector Machine\n",
    "\n",
    "                  \n",
    "3. Evaluation mit ROC Plot \n",
    "\n",
    "4. Aufgabe 5"
   ]
  },
  {
   "cell_type": "markdown",
   "metadata": {},
   "source": [
    "**Imports:**"
   ]
  },
  {
   "cell_type": "code",
   "execution_count": 2,
   "metadata": {},
   "outputs": [],
   "source": [
    "\n",
    "import pandas as pd\n",
    "import numpy as np\n",
    "from sklearn.model_selection import train_test_split, KFold, GridSearchCV, cross_val_score\n",
    "from sklearn import tree\n",
    "from sklearn.metrics import accuracy_score, recall_score, precision_score, ConfusionMatrixDisplay, RocCurveDisplay, confusion_matrix, roc_auc_score, roc_curve\n",
    "from sklearn.tree import DecisionTreeClassifier, plot_tree\n",
    "from sklearn.ensemble import GradientBoostingClassifier\n",
    "from sklearn.ensemble import HistGradientBoostingClassifier\n",
    "\n",
    "import matplotlib.pyplot as plt"
   ]
  },
  {
   "cell_type": "markdown",
   "metadata": {},
   "source": [
    "**Original Datensatz:**"
   ]
  },
  {
   "cell_type": "markdown",
   "metadata": {},
   "source": [
    "Der Datensatz beschreibt 75,007 bestellte Artikel, von denen bekannt ist, ob sie zurückge\n",
    "sendet wurden oder nicht.  \n",
    "Für einen bestellten Artikel (1 Zeile) existieren folgende Felder in den Daten:\n",
    "\n",
    "- order_item_id: ID des bestellten Artikels\n",
    "- order_date: Datum der Bestellung\n",
    "- delivery_date: Lieferdatum des Artikels\n",
    "- item_id: ID des Artikels\n",
    "- item_size: Größe des Artikels\n",
    "- item_color: Farbe des Artikels\n",
    "- brand_id: Hersteller ID\n",
    "- item_price: Preis des Artikels\n",
    "- user_id: ID des Nutzers\n",
    "- user_title: Titel des Nutzers\n",
    "- user_dob: Geburtsdatum des Nutzers\n",
    "- user_state: Bundesland, in dem der Nutzer wohnt\n",
    "- user_reg_date: Datum, an dem sich der Nutzer registriert hat\n",
    "- return: Wurde der Artikel zurückgeschickt (1) oder nicht (0)"
   ]
  },
  {
   "cell_type": "code",
   "execution_count": 19,
   "metadata": {},
   "outputs": [],
   "source": [
    "df = pd.read_csv(\"retouren.csv\")"
   ]
  },
  {
   "cell_type": "code",
   "execution_count": 23,
   "metadata": {},
   "outputs": [
    {
     "data": {
      "text/html": [
       "<div>\n",
       "<style scoped>\n",
       "    .dataframe tbody tr th:only-of-type {\n",
       "        vertical-align: middle;\n",
       "    }\n",
       "\n",
       "    .dataframe tbody tr th {\n",
       "        vertical-align: top;\n",
       "    }\n",
       "\n",
       "    .dataframe thead th {\n",
       "        text-align: right;\n",
       "    }\n",
       "</style>\n",
       "<table border=\"1\" class=\"dataframe\">\n",
       "  <thead>\n",
       "    <tr style=\"text-align: right;\">\n",
       "      <th></th>\n",
       "      <th>order_item_id</th>\n",
       "      <th>order_date</th>\n",
       "      <th>delivery_date</th>\n",
       "      <th>item_id</th>\n",
       "      <th>item_size</th>\n",
       "      <th>item_color</th>\n",
       "      <th>brand_id</th>\n",
       "      <th>item_price</th>\n",
       "      <th>user_id</th>\n",
       "      <th>user_title</th>\n",
       "      <th>user_dob</th>\n",
       "      <th>user_state</th>\n",
       "      <th>user_reg_date</th>\n",
       "      <th>return</th>\n",
       "    </tr>\n",
       "  </thead>\n",
       "  <tbody>\n",
       "    <tr>\n",
       "      <th>0</th>\n",
       "      <td>1</td>\n",
       "      <td>2016-06-22</td>\n",
       "      <td>2016-06-27</td>\n",
       "      <td>643</td>\n",
       "      <td>38</td>\n",
       "      <td>navy</td>\n",
       "      <td>30</td>\n",
       "      <td>49.90</td>\n",
       "      <td>30822</td>\n",
       "      <td>Mrs</td>\n",
       "      <td>1969-04-17</td>\n",
       "      <td>Saxony</td>\n",
       "      <td>2016-06-23</td>\n",
       "      <td>0</td>\n",
       "    </tr>\n",
       "    <tr>\n",
       "      <th>1</th>\n",
       "      <td>2</td>\n",
       "      <td>2016-06-22</td>\n",
       "      <td>NaN</td>\n",
       "      <td>337</td>\n",
       "      <td>152</td>\n",
       "      <td>grey</td>\n",
       "      <td>30</td>\n",
       "      <td>19.95</td>\n",
       "      <td>30822</td>\n",
       "      <td>Mrs</td>\n",
       "      <td>1969-04-17</td>\n",
       "      <td>Saxony</td>\n",
       "      <td>2016-06-23</td>\n",
       "      <td>0</td>\n",
       "    </tr>\n",
       "    <tr>\n",
       "      <th>2</th>\n",
       "      <td>3</td>\n",
       "      <td>2016-06-22</td>\n",
       "      <td>2016-06-27</td>\n",
       "      <td>270</td>\n",
       "      <td>xxl</td>\n",
       "      <td>grey</td>\n",
       "      <td>49</td>\n",
       "      <td>79.90</td>\n",
       "      <td>30823</td>\n",
       "      <td>Mrs</td>\n",
       "      <td>1970-04-22</td>\n",
       "      <td>Baden-Wuerttemberg</td>\n",
       "      <td>2015-03-15</td>\n",
       "      <td>1</td>\n",
       "    </tr>\n",
       "    <tr>\n",
       "      <th>3</th>\n",
       "      <td>4</td>\n",
       "      <td>2016-06-22</td>\n",
       "      <td>2016-06-27</td>\n",
       "      <td>142</td>\n",
       "      <td>xxl</td>\n",
       "      <td>grey</td>\n",
       "      <td>49</td>\n",
       "      <td>99.90</td>\n",
       "      <td>30823</td>\n",
       "      <td>Mrs</td>\n",
       "      <td>1970-04-22</td>\n",
       "      <td>Baden-Wuerttemberg</td>\n",
       "      <td>2015-03-15</td>\n",
       "      <td>0</td>\n",
       "    </tr>\n",
       "    <tr>\n",
       "      <th>4</th>\n",
       "      <td>5</td>\n",
       "      <td>2016-06-22</td>\n",
       "      <td>2016-06-27</td>\n",
       "      <td>561</td>\n",
       "      <td>xxl</td>\n",
       "      <td>grey</td>\n",
       "      <td>3</td>\n",
       "      <td>14.90</td>\n",
       "      <td>30823</td>\n",
       "      <td>Mrs</td>\n",
       "      <td>1970-04-22</td>\n",
       "      <td>Baden-Wuerttemberg</td>\n",
       "      <td>2015-03-15</td>\n",
       "      <td>1</td>\n",
       "    </tr>\n",
       "  </tbody>\n",
       "</table>\n",
       "</div>"
      ],
      "text/plain": [
       "   order_item_id  order_date delivery_date  item_id item_size item_color  \\\n",
       "0              1  2016-06-22    2016-06-27      643        38       navy   \n",
       "1              2  2016-06-22           NaN      337       152       grey   \n",
       "2              3  2016-06-22    2016-06-27      270       xxl       grey   \n",
       "3              4  2016-06-22    2016-06-27      142       xxl       grey   \n",
       "4              5  2016-06-22    2016-06-27      561       xxl       grey   \n",
       "\n",
       "   brand_id  item_price  user_id user_title    user_dob          user_state  \\\n",
       "0        30       49.90    30822        Mrs  1969-04-17              Saxony   \n",
       "1        30       19.95    30822        Mrs  1969-04-17              Saxony   \n",
       "2        49       79.90    30823        Mrs  1970-04-22  Baden-Wuerttemberg   \n",
       "3        49       99.90    30823        Mrs  1970-04-22  Baden-Wuerttemberg   \n",
       "4         3       14.90    30823        Mrs  1970-04-22  Baden-Wuerttemberg   \n",
       "\n",
       "  user_reg_date  return  \n",
       "0    2016-06-23       0  \n",
       "1    2016-06-23       0  \n",
       "2    2015-03-15       1  \n",
       "3    2015-03-15       0  \n",
       "4    2015-03-15       1  "
      ]
     },
     "execution_count": 23,
     "metadata": {},
     "output_type": "execute_result"
    }
   ],
   "source": [
    "df.head()"
   ]
  },
  {
   "cell_type": "markdown",
   "metadata": {},
   "source": [
    "## 1. Data Cleaning, Feature Engineering und Funktionen"
   ]
  },
  {
   "cell_type": "markdown",
   "metadata": {},
   "source": [
    "### 1.1 Data Cleaning"
   ]
  },
  {
   "cell_type": "markdown",
   "metadata": {},
   "source": [
    "**Löschen und Beheben von Datenfehlern und Inkonsistenten im Datensatz**"
   ]
  },
  {
   "cell_type": "code",
   "execution_count": 20,
   "metadata": {},
   "outputs": [],
   "source": [
    "# Data Cleaning:\n",
    "\n",
    "# Anpassen der Datentypen\n",
    "df[\"user_dob\"] = pd.to_datetime(df.user_dob)\n",
    "df[\"user_reg_date\"] = pd.to_datetime(df.user_reg_date)\n",
    "df[\"order_date\"] = pd.to_datetime(df.order_date)\n",
    "df[\"delivery_date\"] = pd.to_datetime(df.delivery_date)\n",
    "\n",
    "# Löschen der Datensätze mit Preis von 999\n",
    "df = df.drop(df[df.item_price == 999].index)\n",
    "\n",
    "# Löschen der Datensätze wo das Lieferdatum kleiner dem Bestelldatum\n",
    "df = df.drop(df[df.delivery_date < df.order_date].index)\n",
    "\n",
    "# Anpassen der Dateninkonsistenzen bei item_color\n",
    "df = df.drop(df[df.item_color == \"?\"].index)\n",
    "df.loc[df.item_color == \"brwon\",\"item_color\"] = \"brown\"\n",
    "df.loc[df.item_color == \"blau\",\"item_color\"] = \"blue\"\n",
    "df.loc[df.item_color == \"dark oliv\",\"item_color\"] = \"dark olive\"\n",
    "\n",
    "# Löschen der Datensätze ohne delivery_date\n",
    "df.drop(df[df.delivery_date.isna()].index, inplace=True)"
   ]
  },
  {
   "cell_type": "markdown",
   "metadata": {},
   "source": [
    "### 1.2 Feature Engineering"
   ]
  },
  {
   "cell_type": "markdown",
   "metadata": {},
   "source": [
    "**Datensatz mit neuen Features:**\n",
    "\n",
    "Der Datensatz wurde für die Modelle um folgenden Features erweitert:\n",
    "\n",
    "- age: Alter der User zum Zeitpunkt der Bestellung, Differenz zwischen order_date und user_dob\n",
    "- acc_age: Accountalter des Nutzers zum Zeitpunkt der Bestellung, (-) wenn nach der Bestellung regisrtiert\n",
    "- maxprice: Der Maximalpreis eines Produktes\n",
    "- markdown: Ist der Artikel im Vergleich zu maxprice vergünstig (1) oder nicht (0) \n",
    "- order_id: ID einer Bestellung\n",
    "- order_size: Größe einer Bestellung\n",
    "- return_ratio: Relative Häufigkeit wie oft eine Item zurückgegeben wurde in der Historie der Bestellungen, Wert zwischen 0 und 1\n",
    "- nth_order_of_user: Die wie vielte Bestellung eines Users\n",
    "- item_id_>1_in_order: Anzahl der Item ID`s in einer Bestellung, falls diese mehrere hat\n",
    "- \n",
    "- \n",
    "- \n",
    "- \n",
    "-  noch hinzufügen!:\n",
    "-  item_id_ordered_previously"
   ]
  },
  {
   "cell_type": "code",
   "execution_count": 21,
   "metadata": {},
   "outputs": [],
   "source": [
    "# Feature Engineering:\n",
    "\n",
    "# age\n",
    "df[\"age\"] = df.order_date.dt.year - df.user_dob.dt.year -((df.order_date.dt.date)<(df.user_dob.dt.date))\n",
    "\n",
    "# age bins\n",
    "df.loc[df.age > 100, \"age\"] = df.loc[df.age > 100, \"age\"] - 100\n",
    "bins=[0,10,20,30,40,50,60,70,80,90,100]\n",
    "df[\"age\"] = pd.cut(df.age,bins=bins)\n",
    "\n",
    "# acc_age\n",
    "df[\"acc_age\"] = df.order_date - df.user_reg_date \n",
    "df[\"acc_age\"] = df.acc_age.dt.days\n",
    "\n",
    "# maxprice and markdown\n",
    "df_mark = df.groupby([\"item_id\",\"item_size\",\"item_color\"]).agg(maxprice=(\"item_price\",\"max\")).reset_index()\n",
    "df = pd.merge(df,df_mark)\n",
    "df[\"markdown\"] = 0\n",
    "df.loc[df.item_price < df.maxprice,\"markdown\"] = 1\n",
    "\n",
    "# order_id und order_size\n",
    "order_id_generator = df.groupby(['order_date', 'user_id'], sort= False).size().reset_index(name='order_size')\n",
    "order_id_generator['order_id'] = order_id_generator.index\n",
    "df = pd.merge(df,order_id_generator,on=['user_id', 'order_date'], how='left')\n",
    "\n",
    "# return_ratio \n",
    "df_return_ratio = df.groupby(\"item_id\").agg(returned = (\"return\", \"sum\"), item_order= (\"return\", \"count\")).reset_index()\n",
    "df_return_ratio[\"not_returned\"] = df_return_ratio.item_order - df_return_ratio.returned\n",
    "df_return_ratio[\"return_ratio\"] = df_return_ratio.returned / df_return_ratio.item_order\n",
    "df_return_ratio.drop([\"returned\",\"item_order\",\"not_returned\"],axis=1,inplace=True)\n",
    "df = pd.merge(df,df_return_ratio,on=\"item_id\",how=\"left\")\n",
    "\n",
    "# nth_order_of_user\n",
    "df_nth_order_of_user = df.groupby(['user_id', 'order_id'], as_index=False).size().drop('size', axis=1)\n",
    "df_nth_order_of_user['nth_order_of_user'] = df_nth_order_of_user.groupby(['user_id']).cumcount()+1\n",
    "df = pd.merge(df,df_nth_order_of_user,on=['user_id', 'order_id'], how='left')\n",
    "\n",
    "# item_id_>1_in_order\n",
    "item_counts_in_order = df.groupby(['order_id', 'item_id'], as_index=False).size()\n",
    "item_counts_in_order['item_id_>1_in_order'] = item_counts_in_order['size'] > 1\n",
    "df = pd.merge(df,item_counts_in_order[['order_id', 'item_id', 'item_id_>1_in_order']],on=['order_id', 'item_id'], how='left')"
   ]
  },
  {
   "cell_type": "code",
   "execution_count": 26,
   "metadata": {},
   "outputs": [
    {
     "data": {
      "text/plain": [
       "Index(['order_item_id', 'order_date', 'delivery_date', 'item_id', 'item_size',\n",
       "       'item_color', 'brand_id', 'item_price', 'user_id', 'user_title',\n",
       "       'user_dob', 'user_state', 'user_reg_date', 'return', 'age', 'acc_age',\n",
       "       'maxprice', 'markdown', 'order_size', 'order_id', 'return_ratio',\n",
       "       'nth_order_of_user', 'item_id_>1_in_order'],\n",
       "      dtype='object')"
      ]
     },
     "execution_count": 26,
     "metadata": {},
     "output_type": "execute_result"
    }
   ],
   "source": [
    "df.columns"
   ]
  },
  {
   "cell_type": "code",
   "execution_count": 27,
   "metadata": {},
   "outputs": [
    {
     "data": {
      "text/html": [
       "<div>\n",
       "<style scoped>\n",
       "    .dataframe tbody tr th:only-of-type {\n",
       "        vertical-align: middle;\n",
       "    }\n",
       "\n",
       "    .dataframe tbody tr th {\n",
       "        vertical-align: top;\n",
       "    }\n",
       "\n",
       "    .dataframe thead th {\n",
       "        text-align: right;\n",
       "    }\n",
       "</style>\n",
       "<table border=\"1\" class=\"dataframe\">\n",
       "  <thead>\n",
       "    <tr style=\"text-align: right;\">\n",
       "      <th></th>\n",
       "      <th>order_item_id</th>\n",
       "      <th>order_date</th>\n",
       "      <th>delivery_date</th>\n",
       "      <th>item_id</th>\n",
       "      <th>item_size</th>\n",
       "      <th>item_color</th>\n",
       "      <th>brand_id</th>\n",
       "      <th>item_price</th>\n",
       "      <th>user_id</th>\n",
       "      <th>user_title</th>\n",
       "      <th>...</th>\n",
       "      <th>return</th>\n",
       "      <th>age</th>\n",
       "      <th>acc_age</th>\n",
       "      <th>maxprice</th>\n",
       "      <th>markdown</th>\n",
       "      <th>order_size</th>\n",
       "      <th>order_id</th>\n",
       "      <th>return_ratio</th>\n",
       "      <th>nth_order_of_user</th>\n",
       "      <th>item_id_&gt;1_in_order</th>\n",
       "    </tr>\n",
       "  </thead>\n",
       "  <tbody>\n",
       "    <tr>\n",
       "      <th>0</th>\n",
       "      <td>1</td>\n",
       "      <td>2016-06-22</td>\n",
       "      <td>2016-06-27</td>\n",
       "      <td>643</td>\n",
       "      <td>38</td>\n",
       "      <td>navy</td>\n",
       "      <td>30</td>\n",
       "      <td>49.9</td>\n",
       "      <td>30822</td>\n",
       "      <td>Mrs</td>\n",
       "      <td>...</td>\n",
       "      <td>0</td>\n",
       "      <td>47.0</td>\n",
       "      <td>-1</td>\n",
       "      <td>49.9</td>\n",
       "      <td>0</td>\n",
       "      <td>1</td>\n",
       "      <td>0</td>\n",
       "      <td>0.166667</td>\n",
       "      <td>1</td>\n",
       "      <td>False</td>\n",
       "    </tr>\n",
       "    <tr>\n",
       "      <th>1</th>\n",
       "      <td>763</td>\n",
       "      <td>2016-06-24</td>\n",
       "      <td>2016-06-26</td>\n",
       "      <td>643</td>\n",
       "      <td>38</td>\n",
       "      <td>navy</td>\n",
       "      <td>30</td>\n",
       "      <td>49.9</td>\n",
       "      <td>29306</td>\n",
       "      <td>Mrs</td>\n",
       "      <td>...</td>\n",
       "      <td>0</td>\n",
       "      <td>43.0</td>\n",
       "      <td>7</td>\n",
       "      <td>49.9</td>\n",
       "      <td>0</td>\n",
       "      <td>1</td>\n",
       "      <td>1</td>\n",
       "      <td>0.166667</td>\n",
       "      <td>1</td>\n",
       "      <td>False</td>\n",
       "    </tr>\n",
       "    <tr>\n",
       "      <th>2</th>\n",
       "      <td>3</td>\n",
       "      <td>2016-06-22</td>\n",
       "      <td>2016-06-27</td>\n",
       "      <td>270</td>\n",
       "      <td>xxl</td>\n",
       "      <td>grey</td>\n",
       "      <td>49</td>\n",
       "      <td>79.9</td>\n",
       "      <td>30823</td>\n",
       "      <td>Mrs</td>\n",
       "      <td>...</td>\n",
       "      <td>1</td>\n",
       "      <td>46.0</td>\n",
       "      <td>465</td>\n",
       "      <td>79.9</td>\n",
       "      <td>0</td>\n",
       "      <td>9</td>\n",
       "      <td>2</td>\n",
       "      <td>0.578125</td>\n",
       "      <td>1</td>\n",
       "      <td>False</td>\n",
       "    </tr>\n",
       "    <tr>\n",
       "      <th>3</th>\n",
       "      <td>522</td>\n",
       "      <td>2016-06-23</td>\n",
       "      <td>2016-06-26</td>\n",
       "      <td>270</td>\n",
       "      <td>xxl</td>\n",
       "      <td>grey</td>\n",
       "      <td>49</td>\n",
       "      <td>79.9</td>\n",
       "      <td>11260</td>\n",
       "      <td>Mrs</td>\n",
       "      <td>...</td>\n",
       "      <td>0</td>\n",
       "      <td>66.0</td>\n",
       "      <td>426</td>\n",
       "      <td>79.9</td>\n",
       "      <td>0</td>\n",
       "      <td>9</td>\n",
       "      <td>3</td>\n",
       "      <td>0.578125</td>\n",
       "      <td>1</td>\n",
       "      <td>False</td>\n",
       "    </tr>\n",
       "    <tr>\n",
       "      <th>4</th>\n",
       "      <td>25884</td>\n",
       "      <td>2016-07-03</td>\n",
       "      <td>2016-07-04</td>\n",
       "      <td>270</td>\n",
       "      <td>xxl</td>\n",
       "      <td>grey</td>\n",
       "      <td>49</td>\n",
       "      <td>79.9</td>\n",
       "      <td>1283</td>\n",
       "      <td>Mrs</td>\n",
       "      <td>...</td>\n",
       "      <td>1</td>\n",
       "      <td>49.0</td>\n",
       "      <td>292</td>\n",
       "      <td>79.9</td>\n",
       "      <td>0</td>\n",
       "      <td>3</td>\n",
       "      <td>4</td>\n",
       "      <td>0.578125</td>\n",
       "      <td>1</td>\n",
       "      <td>False</td>\n",
       "    </tr>\n",
       "  </tbody>\n",
       "</table>\n",
       "<p>5 rows × 23 columns</p>\n",
       "</div>"
      ],
      "text/plain": [
       "   order_item_id order_date delivery_date  item_id item_size item_color  \\\n",
       "0              1 2016-06-22    2016-06-27      643        38       navy   \n",
       "1            763 2016-06-24    2016-06-26      643        38       navy   \n",
       "2              3 2016-06-22    2016-06-27      270       xxl       grey   \n",
       "3            522 2016-06-23    2016-06-26      270       xxl       grey   \n",
       "4          25884 2016-07-03    2016-07-04      270       xxl       grey   \n",
       "\n",
       "   brand_id  item_price  user_id user_title  ... return   age acc_age  \\\n",
       "0        30        49.9    30822        Mrs  ...      0  47.0      -1   \n",
       "1        30        49.9    29306        Mrs  ...      0  43.0       7   \n",
       "2        49        79.9    30823        Mrs  ...      1  46.0     465   \n",
       "3        49        79.9    11260        Mrs  ...      0  66.0     426   \n",
       "4        49        79.9     1283        Mrs  ...      1  49.0     292   \n",
       "\n",
       "   maxprice  markdown  order_size  order_id  return_ratio  nth_order_of_user  \\\n",
       "0      49.9         0           1         0      0.166667                  1   \n",
       "1      49.9         0           1         1      0.166667                  1   \n",
       "2      79.9         0           9         2      0.578125                  1   \n",
       "3      79.9         0           9         3      0.578125                  1   \n",
       "4      79.9         0           3         4      0.578125                  1   \n",
       "\n",
       "   item_id_>1_in_order  \n",
       "0                False  \n",
       "1                False  \n",
       "2                False  \n",
       "3                False  \n",
       "4                False  \n",
       "\n",
       "[5 rows x 23 columns]"
      ]
     },
     "execution_count": 27,
     "metadata": {},
     "output_type": "execute_result"
    }
   ],
   "source": [
    "df.head()"
   ]
  },
  {
   "cell_type": "markdown",
   "metadata": {},
   "source": [
    "### 1.3 Funktionen "
   ]
  },
  {
   "cell_type": "markdown",
   "metadata": {},
   "source": [
    "**Funktionen:**\n",
    "\n",
    "Folgende Funktionen wurden programmiert:\n",
    "- plot_cunfusion_matrix(): Plotten von Confusion Matrizen\n",
    "- plot_roc_curve(): Plotten von einem oder mehreren ROC-Diagrammen\n",
    "- print_evaluation(): Einheitliche Rückgabe von Accuracy-, Recall- und Precision-Score des verwendeten Modells\n",
    "- calc_model_cost(): Kalkuliert die Kosten die man sich durch das Modell sparen kann oder anfallen. "
   ]
  },
  {
   "cell_type": "code",
   "execution_count": 22,
   "metadata": {},
   "outputs": [],
   "source": [
    "# Funktionen\n",
    "\n",
    "def plot_confusion_matrix(y_test, y_pred, color: str, colorbar: bool, normalize: str):\n",
    "    \"\"\"\n",
    "    plot_confusion_matrix plottet eine Confusion Martrix in From der vergebenen Parametern.\n",
    "\n",
    "    y_test (array): Label der Testdaten das es hervorzusagen gilt\n",
    "    y_pred (array): Labels das tatsächlich hervorgesagt wurden\n",
    "    color (str): Farbe der Confusion Matrix (Achtung!: nur ausgewählte Colorsets von sklearn/matplotlib)\n",
    "    colorbar (bool): Soll eine Colorbar als Legende angezeigt werden, ja (True) und nein (False) \n",
    "    normalize (str): Sollen die Häufigkeiten relativ angezeigt werden, ja \"true\" neine \"false\"  \n",
    "\n",
    "    \"\"\"\n",
    "    ConfusionMatrixDisplay.from_predictions(y_test, y_pred, cmap= color, colorbar= colorbar, normalize= normalize)\n",
    "\n",
    "\n",
    "def plot_roc_curve(X_test, y_test, y_predict):\n",
    "    \"\"\" \n",
    "    plot_roc_curve erstellt für eine oder mehrere Modelle aus den angegebenen Parametern ein ROC-Diagramm.\n",
    "\n",
    "    X_test (array): Features des Testdatensatzes\n",
    "    y_test (array): Label des Testdatensatzes\n",
    "    y_predict (array): Ein Array, mit einem oder mehreren Arrays drinnen, deren Values eine spezifische Reihenfolge besitzen: 1. Modell, 2. y_pred (tatsächliche hervorgesagte Labelwerte), 3. Titel/Anzeigename in der Graphik (str)    \n",
    "\n",
    "    Beispielaufruf: plot_roc_curve(X_test= X_test, y_test= y_test, y_predict= [[best_gbc, y_pred_test_best_gbc, \"GBC\"], [best_dtc, y_pred_test_best_dtc, \"DTC\"]])\n",
    "    \"\"\"\n",
    "    plt.figure(figsize= (20,10))\n",
    "    \n",
    "    for model in y_predict:\n",
    "        fpr, tpr, thr = roc_curve(y_test, model[0].predict_proba(X_test)[:,1])\n",
    "        auc = roc_auc_score(y_test, model[1])\n",
    "        plt.step(x=fpr, y=tpr, label=f\"{model[2]} (AUC = {auc.round(2)})\")\n",
    "\n",
    "    plt.legend()\n",
    "\n",
    "\n",
    "def print_evaluation(pipeline_or_model: str, X_train, X_test, y_train, y_test, y_train_pred, y_test_pred):\n",
    "    \"\"\" \n",
    "    print_evaluation gibt den Accuracy-, Recall- und Precision-Score des verwendeten Modells zurück.\n",
    "\n",
    "    pipeline_or_mode (str): Pipeline oder Modellname\n",
    "    X_train (array): Features des Trainingsdatensatzes\n",
    "    X_test (array): Features des Testdatensatzes\n",
    "    y_train (array): Label der Trainingsdaten das es hervorgzusagen gilt\n",
    "    y_test (array): Label der Testdaten das es hervorzusagen gilt\n",
    "    y_train_pred (array): Vorhergesagtes Label auf den Trainingsdaten\n",
    "    y_test_pred (array): Vorhergesagtes Labl auf den Testdaten\n",
    "    \"\"\"\n",
    "    accurary_train = accuracy_score(y_train, y_train_pred)\n",
    "    recall_train = recall_score(y_train, y_train_pred)\n",
    "    precision_train = precision_score(y_train, y_train_pred)\n",
    "\n",
    "    accurary_test = accuracy_score(y_test, y_test_pred)\n",
    "    recall_test = recall_score(y_test, y_test_pred)\n",
    "    precision_test = precision_score(y_test, y_test_pred)\n",
    "    \n",
    "    print(\n",
    "        f\"{pipeline_or_model} Evaluation:\\n\"\n",
    "        f\"{'':6} {'ACC':>10} | {'REC':>14} | {'PRE':>10} | {'rows':>8} | {'columns':>8}\\n\"\n",
    "        f\"{'Train':6} {accurary_train:10.5f} | {recall_train:14.5f} | {precision_train:10.5f} | {X_train.shape[0]:8} | {X_train.shape[1]:8}\\n\"\n",
    "        f\"{'Test':6} {accurary_test:10.5f} | {recall_test:14.5f} | {precision_test:10.5f} | {X_test.shape[0]:8} | {X_test.shape[1]:8}\\n\"\n",
    "    )\n",
    "\n",
    "\n",
    "def calc_model_cost(y_test,y_pred,X_test,Modelname: str):\n",
    "    \"\"\"\n",
    "    Die Funktion Aufgabe6 gibt einen String mit zurück, der das bestimmete Modell nennt und ihren Wert angibt, den Sie auf den Testdaten erzielen würde.\n",
    "\n",
    "    y_test: label array der Testdaten\n",
    "    y_pred: die label die das entsprechende Modell auf den Testdaten(testfeatures) hervorgesagt hat\n",
    "    X_test: Features der Testdaten\n",
    "    Modelname: Name des Model als string\n",
    "    \"\"\"\n",
    "    df_aufgabe6 = X_test.copy()\n",
    "    Modelname = Modelname\n",
    "    df_aufgabe6[\"return_predict\"] = y_pred\n",
    "    df_aufgabe6[\"return_test\"] = y_test\n",
    "    df_aufgabe6[\"Abgleich\"] = df_aufgabe6.return_predict == df_aufgabe6.return_test\n",
    "    df_aufgabe6 = df_aufgabe6.drop(df_aufgabe6.loc[(df_aufgabe6.return_predict == 0)&(df_aufgabe6.Abgleich == True)].index)\n",
    "    df_aufgabe6[\"summe\"] = 0\n",
    "    df_aufgabe6.loc[df_aufgabe6.Abgleich == True,\"summe\"]  = 3.5 # Wir sagen dass wir bei richtige Vorhersage ein Plus von 3.5€ erreichen\n",
    "    df_aufgabe6.loc[(df_aufgabe6.Abgleich == False)&(df_aufgabe6.return_predict == 1),\"summe\"] = df_aufgabe6.item_price*(-0.1)*0.5 # bei fälschlicher Vorhersage einer Retoure gehen wir von einem Verlust von 50% des 10%tigen itemprice\n",
    "    df_aufgabe6.loc[(df_aufgabe6.Abgleich == False)&(df_aufgabe6.return_predict == 0),\"summe\"] = -7 # beim nicht erkennen einer Retoure gehen wir von einem Verlust von 7€ aus\n",
    "    print(f\"Das Modell {Modelname} würde auf den jetzigen Testdaten einen Bonus von {df_aufgabe6.summe.sum()} erschaffen\")"
   ]
  },
  {
   "cell_type": "markdown",
   "metadata": {},
   "source": [
    "## 2. Klassifikaitonsmodelle mit Hyperparameteroptimierung"
   ]
  },
  {
   "attachments": {},
   "cell_type": "markdown",
   "metadata": {},
   "source": [
    "### Trainings- und Testdaten"
   ]
  },
  {
   "attachments": {},
   "cell_type": "markdown",
   "metadata": {},
   "source": [
    "Hier Testdaten einfügen (falls keine Datenfehler):"
   ]
  },
  {
   "cell_type": "code",
   "execution_count": 23,
   "metadata": {},
   "outputs": [],
   "source": [
    "df_classifier = df.copy()\n",
    "\n",
    "# Festlegen von Featuren und Label\n",
    "X = pd.get_dummies(df_classifier[[\"item_id\",\"item_size\", \"item_color\",\t\"brand_id\",\t\"item_price\",\t\"user_id\",\t\"user_title\",\t\"user_state\",\t\"age\",\t\"acc_age\",\t\"markdown\", \"return_ratio\"]], dummy_na= True)\n",
    "y = df_classifier[\"return\"]\n",
    "\n",
    "# Aufteilung in Trainings- und Testdaten\n",
    "X_train, X_test, y_train, y_test = train_test_split(X, y, test_size=0.2, random_state=0)"
   ]
  },
  {
   "cell_type": "markdown",
   "metadata": {},
   "source": [
    "### 2.1 Logisitsche Regression"
   ]
  },
  {
   "cell_type": "code",
   "execution_count": null,
   "metadata": {},
   "outputs": [],
   "source": []
  },
  {
   "cell_type": "markdown",
   "metadata": {},
   "source": [
    "### 2.2 Decision Tree Classifier"
   ]
  },
  {
   "attachments": {},
   "cell_type": "markdown",
   "metadata": {},
   "source": [
    "#### Basismodell Decision Tree Classifier"
   ]
  },
  {
   "attachments": {},
   "cell_type": "markdown",
   "metadata": {},
   "source": [
    "Mittels einer 10-Fachen Kreuzvalidierung und Hyperparametertuning wird die beste Kombination aus Baumtiefe (max_depth) und minimaler Anzahl an benötigter Beispiele für einen Split (min_samples) gesucht:"
   ]
  },
  {
   "cell_type": "code",
   "execution_count": 26,
   "metadata": {},
   "outputs": [
    {
     "name": "stdout",
     "output_type": "stream",
     "text": [
      "Best Mean_score: 0.6241114025369927, Best Max_depth: 5, Best Min_samples_split: 100\n"
     ]
    }
   ],
   "source": [
    "min_samples = [2, 10, 20, 50, 100]\n",
    "kf = KFold(n_splits= 10, shuffle= True, random_state= 1)\n",
    "best_mean_score = 0\n",
    "best_combination = dict(max_depth= None, min_samples= 2)\n",
    "\n",
    "for depth in range(1,19):\n",
    " for min_sample in min_samples:\n",
    "  scores = []\n",
    "  classifier = DecisionTreeClassifier(max_depth= depth, min_samples_split= min_sample, random_state= 0)\n",
    "  if classifier.fit(X_train, y_train).tree_.max_depth < depth:\n",
    "   break\n",
    "  score = np.mean(cross_val_score(classifier, X_train, y_train, scoring= \"accuracy\", cv= kf, n_jobs= 1))\n",
    "  scores.append(score)\n",
    "\n",
    "  mean_score = np.mean(np.array(scores))\n",
    " if mean_score > best_mean_score:\n",
    "  best_combination[\"max_depth\"] = depth\n",
    "  best_combination[\"min_samples\"] = min_sample\n",
    "  best_mean_score = mean_score\n",
    "\n",
    "print(f\"Best Mean_score: {best_mean_score}, Best Max_depth: {best_combination['max_depth']}, Best Min_samples_split: {best_combination['min_samples']}\")"
   ]
  },
  {
   "attachments": {},
   "cell_type": "markdown",
   "metadata": {},
   "source": [
    "Auführen des Classifiers mit einer Baumtiefe von 5 und 100 Auteilungen "
   ]
  },
  {
   "cell_type": "code",
   "execution_count": 27,
   "metadata": {},
   "outputs": [],
   "source": [
    "best_dtc = DecisionTreeClassifier(max_depth= best_combination[\"max_depth\"], min_samples_split= best_combination[\"min_samples\"], random_state= 0)\n",
    "best_dtc.fit(X_train, y_train)\n",
    "\n",
    "y_pred_train_best_dtc = best_dtc.predict(X_train)\n",
    "y_pred_test_best_dtc = best_dtc.predict(X_test)"
   ]
  },
  {
   "cell_type": "code",
   "execution_count": 28,
   "metadata": {},
   "outputs": [
    {
     "name": "stdout",
     "output_type": "stream",
     "text": [
      "DecisionTreeClassifier Evaluation:\n",
      "              ACC |            REC |        PRE |     rows |  columns\n",
      "Train     0.62882 |        0.67056 |    0.62342 |    52888 |      214\n",
      "Test      0.62963 |        0.66861 |    0.62514 |    13222 |      214\n",
      "\n"
     ]
    }
   ],
   "source": [
    "print_evaluation(\"DecisionTreeClassifier\", X_train, X_test, y_train, y_test, y_pred_train_best_dtc, y_pred_test_best_dtc)"
   ]
  },
  {
   "cell_type": "markdown",
   "metadata": {},
   "source": [
    "#### 2.2.1 Random Forest"
   ]
  },
  {
   "attachments": {},
   "cell_type": "markdown",
   "metadata": {},
   "source": [
    "#### 2.2.1 Gradient Boosting Classifier"
   ]
  },
  {
   "attachments": {},
   "cell_type": "markdown",
   "metadata": {},
   "source": [
    "Um die Parameterwerte zu finden, die die höchste Genauigkeit erzielen, wird die Kreuzvalidierungsmethode GridSearchCV verwendet:"
   ]
  },
  {
   "cell_type": "code",
   "execution_count": 29,
   "metadata": {},
   "outputs": [
    {
     "name": "stdout",
     "output_type": "stream",
     "text": [
      "Best parameters: {'learning_rate': 0.1, 'max_depth': 9, 'max_iter': 100, 'random_state': 1}, best score: 0.6328467455504517\n"
     ]
    }
   ],
   "source": [
    "gs_crossvalidation1 = GridSearchCV(\n",
    " estimator= HistGradientBoostingClassifier(),\n",
    " param_grid= dict(max_iter= [100], learning_rate= [0.001, 0.01, 0.1], max_depth= [1,3,5,9], random_state= [1]),\n",
    " scoring= \"accuracy\",\n",
    " n_jobs= -1,\n",
    " cv= kf\n",
    " ).fit(X_train, y_train)\n",
    "print(f\"Best parameters: {gs_crossvalidation1.best_params_}, best score: {gs_crossvalidation1.best_score_}\")"
   ]
  },
  {
   "attachments": {},
   "cell_type": "markdown",
   "metadata": {},
   "source": [
    "Anschließend wird Classifier mit den optimierten Hyperparametern ausgeführt"
   ]
  },
  {
   "cell_type": "code",
   "execution_count": 30,
   "metadata": {},
   "outputs": [
    {
     "name": "stdout",
     "output_type": "stream",
     "text": [
      "GradientBoostingClassifier Evaluation:\n",
      "              ACC |            REC |        PRE |     rows |  columns\n",
      "Train     0.65556 |        0.68096 |    0.65256 |    52888 |      214\n",
      "Test      0.63561 |        0.65725 |    0.63502 |    13222 |      214\n",
      "\n"
     ]
    }
   ],
   "source": [
    "best_gbc = HistGradientBoostingClassifier(max_iter= 100, max_depth= 9, random_state= 1, learning_rate= 0.1).fit(X_train, y_train)\n",
    "\n",
    "y_pred_train_best_gbc = best_gbc.predict(X_train)\n",
    "y_pred_test_best_gbc = best_gbc.predict(X_test)\n",
    "\n",
    "print_evaluation(\"GradientBoostingClassifier\", X_train, X_test, y_train, y_test, y_pred_train_best_gbc, y_pred_test_best_gbc)"
   ]
  },
  {
   "cell_type": "markdown",
   "metadata": {},
   "source": [
    "### 2.3 Super Vector Machine"
   ]
  },
  {
   "cell_type": "code",
   "execution_count": null,
   "metadata": {},
   "outputs": [],
   "source": []
  },
  {
   "cell_type": "markdown",
   "metadata": {},
   "source": [
    "## 3. Evaluation mit ROC-Plot"
   ]
  },
  {
   "attachments": {},
   "cell_type": "markdown",
   "metadata": {},
   "source": [
    "**Für die Evaluation werden mittels eines ROC-Plost alle Klassifizierungsmodelle miteinander verglichen:**"
   ]
  },
  {
   "cell_type": "code",
   "execution_count": 32,
   "metadata": {},
   "outputs": [
    {
     "data": {
      "image/png": "[encoded data removed]",
      "text/plain": [
       "<Figure size 1440x720 with 1 Axes>"
      ]
     },
     "metadata": {
      "needs_background": "light"
     },
     "output_type": "display_data"
    }
   ],
   "source": [
    "plot_roc_curve(X_test, y_test, \n",
    " y_predict= [\n",
    "  [best_gbc, y_pred_test_best_gbc, \"GradientBoostingClassifier\"],\n",
    "  [best_dtc, y_pred_test_best_dtc, \"DecisionTreeClassifier\"]\n",
    "  ]\n",
    " )"
   ]
  },
  {
   "cell_type": "markdown",
   "metadata": {},
   "source": [
    "## 4. Aufgabe 6"
   ]
  },
  {
   "cell_type": "code",
   "execution_count": null,
   "metadata": {},
   "outputs": [],
   "source": []
  }
 ],
 "metadata": {
  "kernelspec": {
   "display_name": "Python 3.9.7 64-bit",
   "language": "python",
   "name": "python3"
  },
  "language_info": {
   "codemirror_mode": {
    "name": "ipython",
    "version": 3
   },
   "file_extension": ".py",
   "mimetype": "text/x-python",
   "name": "python",
   "nbconvert_exporter": "python",
   "pygments_lexer": "ipython3",
   "version": "3.9.7"
  },
  "orig_nbformat": 4,
  "vscode": {
   "interpreter": {
    "hash": "aee8b7b246df8f9039afb4144a1f6fd8d2ca17a180786b69acc140d282b71a49"
   }
  }
 },
 "nbformat": 4,
 "nbformat_minor": 2
}
